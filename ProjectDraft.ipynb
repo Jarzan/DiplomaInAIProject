{
 "cells": [
  {
   "cell_type": "markdown",
   "metadata": {},
   "source": [
    "# Aalto Pro/Diploma in Artificial Intelligence: Project work\n",
    "\n",
    "# Recommendating Virtual Assistant for Sustainable Waste Management Onboard Cruise Ship\n",
    "\n",
    "## Background\n",
    "\n",
    "In this work, a dataproduct will be produced by using data science tools and machine learning (ML) algorithms that would help a cruise ship operator to plan the future waste management operations by a most sustainable and feasible way. The project work is done by constructing the ML-product by using real shipboard operational data and external web sources. The purpose is to create ML-system that would give a decent picture and prediction of the best option for the operations.\n",
    "\n",
    "The main goal is to produce a tool and by no means aiming for a product that would give a comprehensive picture of the whole situation. The work is done with Jupyter Lab and by using Anaconda Python package management system, meaning thatthe coding part will be done on Python language.\n",
    "\n",
    "There are two aspects in this work: Sustainability and feasibility. Evac Oy supplies integrated cleantech solutions, including e.g. waste management systems, to all types of ships. The sustainability is the key value for all major cruise ship owners. Not only because of regulations and guidelines, but because of acceptability of the cruise business as a whole. The sustainability part will be done as a prediction by using mass balance of recyclable materials and carbon balance derived from the balance. In addition to sustainability, the operations should preferably be as economical as possible. This part would be covered by market price data of recyclable materials as well as the carbon price.\n",
    "\n",
    "### Goals and risks\n",
    "\n",
    "The goal is to study how to extract usable data from the existing sources, clean and explore the data so that a usable predictive ML models could be produced and trained with new and fresh data in the future from the IoT-system. If this goal is achieved, it may be worth of considering to apply and further develop the extent of the work to an usable data science product.\n",
    "\n",
    "The IoT-system that would be used for the purpose is installed and connected to our recent new-build cruise ship project. The risk is that the availability of the data may delay. In that case, we need to somehow \"construct\" the data based on our best knowledge. I am planning to parse a part of the data from the web. The other risk is that the data cannot be parsed and cleaned properly due to complexity into a usable form. Third risk here may be that the available relevant data may not be sufficient for training of the constructed ML model.\n",
    "\n",
    "### Data Perspective\n",
    "\n",
    "There are both internal and external data sources here that would be used. The internal data source would be a dry and wet waste production data. That would be derived on a daily basis from the ship IoT-system in form of CSV-files. One CSV file for the dry waste production and one for the wet waste production. The external data would be historical trends of market values of recycled materials and value of carbon in terms of greenhouse gas emission abatement.\n",
    "\n",
    "Concerning the data availability, I have already contacted the ship owner for the waste data. As mentioned, the raw data would be in form of CSV-files. Some data wrangling with Pandas is needed as well as calculations for the deriving the actual values. The challenge for the shipboard data is the timing of the availability. We are working on that matter. In terms of market value information, some data is already gained. However, I would like to automize this activity as a continuous retrieval of the information. That wouldupdate the output signal of the ML-model each time the data would be available. The challenge here may be to find a data source that would produce a single value. For this project work purpose, we may need to use the source that is fairl easily available.\n",
    "\n"
   ]
  },
  {
   "cell_type": "markdown",
   "metadata": {},
   "source": [
    "# Data sources and methods\n",
    "\n",
    "## The work flow for the data science and producing the machine learning model\n",
    "\n",
    "The text will be added here. Before that, I will include below Scikitlearn-rehearsal:"
   ]
  },
  {
   "cell_type": "code",
   "execution_count": 2,
   "metadata": {},
   "outputs": [],
   "source": [
    "import numpy as np\n",
    "import pandas as pd\n",
    "import matplotlib.pyplot as plt"
   ]
  },
  {
   "cell_type": "code",
   "execution_count": 4,
   "metadata": {},
   "outputs": [
    {
     "data": {
      "text/html": [
       "<div>\n",
       "<style scoped>\n",
       "    .dataframe tbody tr th:only-of-type {\n",
       "        vertical-align: middle;\n",
       "    }\n",
       "\n",
       "    .dataframe tbody tr th {\n",
       "        vertical-align: top;\n",
       "    }\n",
       "\n",
       "    .dataframe thead th {\n",
       "        text-align: right;\n",
       "    }\n",
       "</style>\n",
       "<table border=\"1\" class=\"dataframe\">\n",
       "  <thead>\n",
       "    <tr style=\"text-align: right;\">\n",
       "      <th></th>\n",
       "      <th>sepal_length</th>\n",
       "      <th>sepal_width</th>\n",
       "      <th>petal_length</th>\n",
       "      <th>petal_width</th>\n",
       "      <th>species</th>\n",
       "    </tr>\n",
       "  </thead>\n",
       "  <tbody>\n",
       "    <tr>\n",
       "      <th>0</th>\n",
       "      <td>5.1</td>\n",
       "      <td>3.5</td>\n",
       "      <td>1.4</td>\n",
       "      <td>0.2</td>\n",
       "      <td>setosa</td>\n",
       "    </tr>\n",
       "    <tr>\n",
       "      <th>1</th>\n",
       "      <td>4.9</td>\n",
       "      <td>3.0</td>\n",
       "      <td>1.4</td>\n",
       "      <td>0.2</td>\n",
       "      <td>setosa</td>\n",
       "    </tr>\n",
       "    <tr>\n",
       "      <th>2</th>\n",
       "      <td>4.7</td>\n",
       "      <td>3.2</td>\n",
       "      <td>1.3</td>\n",
       "      <td>0.2</td>\n",
       "      <td>setosa</td>\n",
       "    </tr>\n",
       "    <tr>\n",
       "      <th>3</th>\n",
       "      <td>4.6</td>\n",
       "      <td>3.1</td>\n",
       "      <td>1.5</td>\n",
       "      <td>0.2</td>\n",
       "      <td>setosa</td>\n",
       "    </tr>\n",
       "    <tr>\n",
       "      <th>4</th>\n",
       "      <td>5.0</td>\n",
       "      <td>3.6</td>\n",
       "      <td>1.4</td>\n",
       "      <td>0.2</td>\n",
       "      <td>setosa</td>\n",
       "    </tr>\n",
       "    <tr>\n",
       "      <th>5</th>\n",
       "      <td>5.4</td>\n",
       "      <td>3.9</td>\n",
       "      <td>1.7</td>\n",
       "      <td>0.4</td>\n",
       "      <td>setosa</td>\n",
       "    </tr>\n",
       "    <tr>\n",
       "      <th>6</th>\n",
       "      <td>4.6</td>\n",
       "      <td>3.4</td>\n",
       "      <td>1.4</td>\n",
       "      <td>0.3</td>\n",
       "      <td>setosa</td>\n",
       "    </tr>\n",
       "    <tr>\n",
       "      <th>7</th>\n",
       "      <td>5.0</td>\n",
       "      <td>3.4</td>\n",
       "      <td>1.5</td>\n",
       "      <td>0.2</td>\n",
       "      <td>setosa</td>\n",
       "    </tr>\n",
       "  </tbody>\n",
       "</table>\n",
       "</div>"
      ],
      "text/plain": [
       "   sepal_length  sepal_width  petal_length  petal_width species\n",
       "0           5.1          3.5           1.4          0.2  setosa\n",
       "1           4.9          3.0           1.4          0.2  setosa\n",
       "2           4.7          3.2           1.3          0.2  setosa\n",
       "3           4.6          3.1           1.5          0.2  setosa\n",
       "4           5.0          3.6           1.4          0.2  setosa\n",
       "5           5.4          3.9           1.7          0.4  setosa\n",
       "6           4.6          3.4           1.4          0.3  setosa\n",
       "7           5.0          3.4           1.5          0.2  setosa"
      ]
     },
     "execution_count": 4,
     "metadata": {},
     "output_type": "execute_result"
    }
   ],
   "source": [
    "import seaborn as sns\n",
    "iris = sns.load_dataset('iris')\n",
    "iris.head(8)"
   ]
  },
  {
   "cell_type": "markdown",
   "metadata": {},
   "source": [
    "or:"
   ]
  },
  {
   "cell_type": "code",
   "execution_count": 7,
   "metadata": {},
   "outputs": [
    {
     "data": {
      "text/plain": [
       "sklearn.utils.Bunch"
      ]
     },
     "execution_count": 7,
     "metadata": {},
     "output_type": "execute_result"
    }
   ],
   "source": [
    "from sklearn.datasets import load_iris\n",
    "iris = load_iris()\n",
    "type(iris)"
   ]
  },
  {
   "cell_type": "code",
   "execution_count": 18,
   "metadata": {},
   "outputs": [],
   "source": [
    "FWW_flow = pd.read_csv('MunVene2/BORGEN_PUMP0.csv', delimiter=';')"
   ]
  },
  {
   "cell_type": "code",
   "execution_count": 19,
   "metadata": {},
   "outputs": [
    {
     "data": {
      "text/html": [
       "<div>\n",
       "<style scoped>\n",
       "    .dataframe tbody tr th:only-of-type {\n",
       "        vertical-align: middle;\n",
       "    }\n",
       "\n",
       "    .dataframe tbody tr th {\n",
       "        vertical-align: top;\n",
       "    }\n",
       "\n",
       "    .dataframe thead th {\n",
       "        text-align: right;\n",
       "    }\n",
       "</style>\n",
       "<table border=\"1\" class=\"dataframe\">\n",
       "  <thead>\n",
       "    <tr style=\"text-align: right;\">\n",
       "      <th></th>\n",
       "      <th>VarName</th>\n",
       "      <th>TimeString</th>\n",
       "      <th>VarValue</th>\n",
       "      <th>Validity</th>\n",
       "      <th>Time_ms</th>\n",
       "    </tr>\n",
       "  </thead>\n",
       "  <tbody>\n",
       "    <tr>\n",
       "      <th>0</th>\n",
       "      <td>BORGEN_PUMP_STATUS</td>\n",
       "      <td>20.02.2018 05:10:27</td>\n",
       "      <td>-5</td>\n",
       "      <td>1</td>\n",
       "      <td>43151215589,7106</td>\n",
       "    </tr>\n",
       "    <tr>\n",
       "      <th>1</th>\n",
       "      <td>BORGEN_PUMP_STATUS</td>\n",
       "      <td>20.02.2018 05:10:29</td>\n",
       "      <td>-5</td>\n",
       "      <td>1</td>\n",
       "      <td>43151215613,0903</td>\n",
       "    </tr>\n",
       "    <tr>\n",
       "      <th>2</th>\n",
       "      <td>BORGEN_PUMP_STATUS</td>\n",
       "      <td>20.02.2018 05:10:31</td>\n",
       "      <td>-5</td>\n",
       "      <td>1</td>\n",
       "      <td>43151215636,4931</td>\n",
       "    </tr>\n",
       "    <tr>\n",
       "      <th>3</th>\n",
       "      <td>BORGEN_PUMP_STATUS</td>\n",
       "      <td>20.02.2018 05:10:33</td>\n",
       "      <td>-5</td>\n",
       "      <td>1</td>\n",
       "      <td>43151215659,8843</td>\n",
       "    </tr>\n",
       "    <tr>\n",
       "      <th>4</th>\n",
       "      <td>BORGEN_PUMP_STATUS</td>\n",
       "      <td>20.02.2018 05:10:35</td>\n",
       "      <td>-5</td>\n",
       "      <td>1</td>\n",
       "      <td>43151215683,287</td>\n",
       "    </tr>\n",
       "    <tr>\n",
       "      <th>5</th>\n",
       "      <td>BORGEN_PUMP_STATUS</td>\n",
       "      <td>20.02.2018 05:10:37</td>\n",
       "      <td>-5</td>\n",
       "      <td>1</td>\n",
       "      <td>43151215706,6782</td>\n",
       "    </tr>\n",
       "    <tr>\n",
       "      <th>6</th>\n",
       "      <td>BORGEN_PUMP_STATUS</td>\n",
       "      <td>20.02.2018 05:10:39</td>\n",
       "      <td>-5</td>\n",
       "      <td>1</td>\n",
       "      <td>43151215730,0694</td>\n",
       "    </tr>\n",
       "    <tr>\n",
       "      <th>7</th>\n",
       "      <td>BORGEN_PUMP_STATUS</td>\n",
       "      <td>20.02.2018 05:10:41</td>\n",
       "      <td>-5</td>\n",
       "      <td>1</td>\n",
       "      <td>43151215753,4606</td>\n",
       "    </tr>\n",
       "  </tbody>\n",
       "</table>\n",
       "</div>"
      ],
      "text/plain": [
       "              VarName           TimeString  VarValue  Validity  \\\n",
       "0  BORGEN_PUMP_STATUS  20.02.2018 05:10:27        -5         1   \n",
       "1  BORGEN_PUMP_STATUS  20.02.2018 05:10:29        -5         1   \n",
       "2  BORGEN_PUMP_STATUS  20.02.2018 05:10:31        -5         1   \n",
       "3  BORGEN_PUMP_STATUS  20.02.2018 05:10:33        -5         1   \n",
       "4  BORGEN_PUMP_STATUS  20.02.2018 05:10:35        -5         1   \n",
       "5  BORGEN_PUMP_STATUS  20.02.2018 05:10:37        -5         1   \n",
       "6  BORGEN_PUMP_STATUS  20.02.2018 05:10:39        -5         1   \n",
       "7  BORGEN_PUMP_STATUS  20.02.2018 05:10:41        -5         1   \n",
       "\n",
       "            Time_ms  \n",
       "0  43151215589,7106  \n",
       "1  43151215613,0903  \n",
       "2  43151215636,4931  \n",
       "3  43151215659,8843  \n",
       "4   43151215683,287  \n",
       "5  43151215706,6782  \n",
       "6  43151215730,0694  \n",
       "7  43151215753,4606  "
      ]
     },
     "execution_count": 19,
     "metadata": {},
     "output_type": "execute_result"
    }
   ],
   "source": [
    "FWW_flow.head(8)"
   ]
  },
  {
   "cell_type": "code",
   "execution_count": 21,
   "metadata": {},
   "outputs": [
    {
     "data": {
      "text/plain": [
       "(401195, 5)"
      ]
     },
     "execution_count": 21,
     "metadata": {},
     "output_type": "execute_result"
    }
   ],
   "source": [
    "FWW_flow.shape"
   ]
  },
  {
   "cell_type": "code",
   "execution_count": null,
   "metadata": {},
   "outputs": [],
   "source": []
  }
 ],
 "metadata": {
  "kernelspec": {
   "display_name": "Python 3",
   "language": "python",
   "name": "python3"
  },
  "language_info": {
   "codemirror_mode": {
    "name": "ipython",
    "version": 3
   },
   "file_extension": ".py",
   "mimetype": "text/x-python",
   "name": "python",
   "nbconvert_exporter": "python",
   "pygments_lexer": "ipython3",
   "version": "3.7.1"
  }
 },
 "nbformat": 4,
 "nbformat_minor": 2
}
