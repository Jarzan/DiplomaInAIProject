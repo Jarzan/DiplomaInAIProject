{
 "cells": [
  {
   "cell_type": "markdown",
   "metadata": {},
   "source": [
    "How to read xlsx and import time object"
   ]
  },
  {
   "cell_type": "code",
   "execution_count": 1,
   "metadata": {},
   "outputs": [],
   "source": [
    "import pandas as pd\n",
    "import datetime"
   ]
  },
  {
   "cell_type": "code",
   "execution_count": 7,
   "metadata": {},
   "outputs": [
    {
     "name": "stdout",
     "output_type": "stream",
     "text": [
      "Index(['Timestamp', 'IW304__FW_Tank_A_LVL_Radar', 'IW306__FW_Tank_B_LVL_Radar',\n",
      "       'IW308__Bio_Sludge_LVL_Radar', 'IW310__Dried_BIOW_LVL_Radar'],\n",
      "      dtype='object')\n",
      "<class 'pandas.core.frame.DataFrame'>\n",
      "RangeIndex: 86411 entries, 0 to 86410\n",
      "Data columns (total 5 columns):\n",
      "Timestamp                      86411 non-null object\n",
      "IW304__FW_Tank_A_LVL_Radar     78742 non-null float64\n",
      "IW306__FW_Tank_B_LVL_Radar     46593 non-null float64\n",
      "IW308__Bio_Sludge_LVL_Radar    73274 non-null float64\n",
      "IW310__Dried_BIOW_LVL_Radar    78413 non-null float64\n",
      "dtypes: float64(4), object(1)\n",
      "memory usage: 3.3+ MB\n",
      "None\n"
     ]
    }
   ],
   "source": [
    "df = pd.read_excel('daily2019-05-05.xlsx')\n",
    "print(df.columns)\n",
    "print(df.info())"
   ]
  },
  {
   "cell_type": "code",
   "execution_count": 5,
   "metadata": {
    "scrolled": true
   },
   "outputs": [
    {
     "name": "stdout",
     "output_type": "stream",
     "text": [
      "2019-05-05T00:00:02.7300000Z\n"
     ]
    }
   ],
   "source": [
    "print(df.Timestamp[0])"
   ]
  },
  {
   "cell_type": "markdown",
   "metadata": {},
   "source": [
    "Tämä vaatinee string manipulointia"
   ]
  },
  {
   "cell_type": "code",
   "execution_count": 14,
   "metadata": {},
   "outputs": [
    {
     "name": "stdout",
     "output_type": "stream",
     "text": [
      "<class 'datetime.datetime'>\n",
      "2019-05-05 00:00:02.730000+00:00\n"
     ]
    }
   ],
   "source": [
    "one_dateTimeObject = datetime.datetime.strptime(df.Timestamp[0],'%Y-%m-%dT%H:%M:%S.%f0%z')\n",
    "print(type(one_dateTimeObject))\n",
    "print(one_dateTimeObject)"
   ]
  },
  {
   "cell_type": "code",
   "execution_count": 18,
   "metadata": {},
   "outputs": [
    {
     "data": {
      "text/plain": [
       "86407    2019-05-05T23:59:56.7410000Z\n",
       "86408    2019-05-05T23:59:57.7410000Z\n",
       "86409    2019-05-05T23:59:58.7410000Z\n",
       "86410    2019-05-05T23:59:59.7420000Z\n",
       "Name: Timestamp, dtype: object"
      ]
     },
     "execution_count": 18,
     "metadata": {},
     "output_type": "execute_result"
    }
   ],
   "source": [
    "df.Timestamp.tail(4)"
   ]
  },
  {
   "cell_type": "code",
   "execution_count": 20,
   "metadata": {},
   "outputs": [],
   "source": [
    "df['TimeOK'] = df.Timestamp.apply(lambda x: datetime.datetime.strptime(x, '%Y-%m-%dT%H:%M:%S.%f0%z'))"
   ]
  },
  {
   "cell_type": "code",
   "execution_count": 21,
   "metadata": {},
   "outputs": [
    {
     "data": {
      "text/plain": [
       "86407   2019-05-05 23:59:56.741000+00:00\n",
       "86408   2019-05-05 23:59:57.741000+00:00\n",
       "86409   2019-05-05 23:59:58.741000+00:00\n",
       "86410   2019-05-05 23:59:59.742000+00:00\n",
       "Name: TimeOK, dtype: datetime64[ns, UTC]"
      ]
     },
     "execution_count": 21,
     "metadata": {},
     "output_type": "execute_result"
    }
   ],
   "source": [
    "df.TimeOK.tail(4)"
   ]
  },
  {
   "cell_type": "code",
   "execution_count": null,
   "metadata": {},
   "outputs": [],
   "source": []
  }
 ],
 "metadata": {
  "kernelspec": {
   "display_name": "Python 3",
   "language": "python",
   "name": "python3"
  },
  "language_info": {
   "codemirror_mode": {
    "name": "ipython",
    "version": 3
   },
   "file_extension": ".py",
   "mimetype": "text/x-python",
   "name": "python",
   "nbconvert_exporter": "python",
   "pygments_lexer": "ipython3",
   "version": "3.7.1"
  }
 },
 "nbformat": 4,
 "nbformat_minor": 2
}
