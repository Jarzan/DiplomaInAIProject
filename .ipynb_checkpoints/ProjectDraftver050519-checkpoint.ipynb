{
 "cells": [
  {
   "cell_type": "markdown",
   "metadata": {},
   "source": [
    "# Aalto Pro/Diploma in Artificial Intelligence: Project work\n",
    "\n"
   ]
  },
  {
   "cell_type": "markdown",
   "metadata": {},
   "source": [
    "## Applying data science and machine learning in development of a tool for sustainable waste management onboard cruise ship\n",
    "\n",
    "### Abstract\n",
    "\n",
    "\n",
    "### Background\n",
    "\n",
    "In this work, a data product will be produced by using data science tools and machine learning (ML) algorithms that would help a cruise ship operator to plan ahead the future waste management operations by a most sustainable and feasible way.\n",
    "The project work is done by constructing the ML-product by using real shipboard operational data and external web sources. The purpose is to create ML-system that would give a decent picture and prediction of the best option for the operations.\n",
    "\n",
    "#### Cruise ship waste\n",
    "\n",
    "A cruise ship is a passenger ship used for pleasure voyages when the voyage itself, the ship's amenities, and sometimes the different destinations along the way (i.e., ports of call), form part of the passengers' experience [1]. Modern cruise ships can be considered as a combination of hotel, shopping center, amusement park, casino, spa and a center of all kind of restaurants with big galleys for preparation of all kind of meals. All these onboard activities produces high volumes of wastes that is around 2 to 3 times the amount produced by municipal centers per capita [2]. Especially, as all the meals (around 8 per each day) are prepared onboard the ship in the central galleys. Thereby, organic and nutrient loading of the waste, if discharged to the sea, is very high.\n",
    "\n",
    "The waste management system of a modern cruise ship is confined to ship machinery spaces. There are basically three type of solid waste produced onboard: Dry waste (DW), food waste (FW) and biosludge waste(BW). The DW is mainly solid packing materials from the provisions and unsorted waste from the cabins and restaurants. The FW is produced mainly from the food preparation from the gallies but also as a food rejects from bars, restaurants and crew messes of the ship. The BW is a biological surplus sludge from the ship wastewater treatment plant.\n",
    "\n",
    "The management and the discharge of the waste materials is strictly regulated by both international and national legislations and guidelines. International Maritime Organisation (IMO) [3] The discharge of garbage is strictly prohibited in all sea areas. The discharge of FW and BW is also strictly regulated and also prohibited in many special sea areas. In addition to this the storage silos for these waste materials is very limited and is sufficient only for couple of days.\n",
    "\n",
    "#### Motivation for the work\n",
    "\n",
    "Evac Oy supplies integrated cleantech solutions, including e.g. waste management systems, to all types of ships. The cruise ships are our biggest market segment and for past few years Evac has had more than 80 % of market share in waste systems. The sustainability is the key value for all major cruise ship owners. Not only because of regulations and guidelines, but because of acceptability of the cruise business as a whole. Basically, the cruise ships are operated by zero-discharge principle.\n",
    "\n",
    "The cruise ships are operated on a strictly defined itinerary and and in the given schedule. The shipboard waste management is not the main operation of the ship and should by not means affect the operation of a ship. On the other hand, volumetric production of the waste streams (DW, FW, BW) are not constant and are fairly unpredictable. As mentioned the onboard storage silos are very small in volume. For that reason, cruise ships are many times forced to store waste container in corridors and luggage storages. For the same reason, ships are frequently discharging high proportion of untreated FW and BW directly into the sea. This poses high risk for the reputation of the ship owners as well as for the whole cruise business.\n",
    "\n",
    "### Purpose and objective\n",
    "\n",
    "The purpose of this work is to carry out an exploratory analysis on the waste data produced from one of the ships of TUI Cruises to produce an insight of the dynamics of the waste production. From that knowledge a machine learning tool is trained and validated to predict the production of the waste streams. Ultimately, the project should produce a machine learning tool that will predict the production of the three streams and thereby help the operator to plan ahead the waste management operations of the ship.\n",
    "\n",
    "The goal is to study how to extract usable data from the existing sources, clean and explore the data so that a usable predictive ML models could be produced and trained with new and fresh data in the future from the IoT-system. When this goal is achieved, it may be worth of considering to apply and further develop the extent of the work to an usable data science product.\n",
    "\n",
    "\n",
    "## Materials and methods\n",
    "\n",
    "\n",
    "### Data sources\n",
    "\n",
    "#### Shipboard data\n",
    "\n",
    "There are both internal and external data sources that would be used. The internal data sources are the waste data produced from the ship IoT. In the first stage of data exploration, a set of readily produced CSV-files containing all the waste data from Mein Schiff 6 covering couple of days. The raw data set consists of:\n",
    "\n",
    "- volume as cubic meters (m3) of dry waste produced onboard cruise ship into a dry waste silo. The CSV file contains status information of the gate valves that needs to be converted into a volumetric values of waste production. This data is converted to kilograms (kg) of dry waste and eventually rate of production.\n",
    "\n",
    "- volume as cubic meters (m3) of food waste produced continuously onboard cruise ship into a food waste silo. There are two FW silos. The data is produced as filling %-level of the tanks. The data is converted into cumulative production of kilograms (kg) of food waste and eventually as rate of production\n",
    "\n",
    "- volume as cubic meters (m3) of biosludge produced continuously onboard cruise ship into a BW silo. The data is produced as filling %-level of the tanks. The data is converted into cumulative production of kilograms (kg) of BW and eventually as rate of production.\n",
    "\n",
    "In addition to the waste data, there is data of the waste management system including pumping information of the FW solids and liquid and data from waste incinerator units.\n",
    "\n",
    "The first set of data is produced from Mein Schiff 6. As said, the data of the waste production is first cleaned and plotted to understand the nature of the data. These data sets will be used as labeled data for prediction of future waste production trends. The first development and training of the ML-model is done with this data set.\n",
    "\n",
    "\n",
    "#### Operational data\n",
    "\n",
    "For predicting the future waste production, we need to understand the basic facts and activities affecting the waste production rate in order to select sensible and most influential features for our ML-model. First one need to ask that is the ML-model really needed to know the future waste production. Basically, the prediction model would not be needed if the the production rate is either constant or the pattern of production rate is well known.\n",
    "\n",
    "Is the production rate constant and/or is the production pattern know? To answer that question one need to know the variables affecting the waste production. The pattern of production is dependant mainly on:\n",
    "\n",
    "- Activity of passangers that is dependant on the time of a day: That would basically be solved with Pandas datetime-data type.\n",
    "\n",
    "- Amount of passangers onboard: Basically, it is safe to assume that the ship is always fully booked, that is the situation almost always for all cruise ships in real life. This may be thereby either neglected or use constant integer, i.e. known capacity of the ship derived from the web site of the ship by web scraping.\n",
    "\n",
    "- Proportion of passangers present onboard: Cruise ships visit the ports on a daily basis and most of the cruise ship customers disembark to the port of call. So, the relevant question affecting the waste production; is the ship in a port side or cruising in the sea conditions? This information can be derived from the web site of the ship by web scraping. The data type is boolean.\n",
    "\n",
    "- The amount of food waste is dependant on the meal time, meaning that two hours before and until the meal time the main galleys are fully operational. We can assume the meal times of a day based on our knowledge about the ship operation. The data type is boolean.\n",
    "\n",
    "- During staying in the turnaround port (i.e. home port). The waste production is higher because the whole ship is cleaned between 8:00 am and 01:00 pm. This increases substantially the amount of DW.This information can be derived from the web site of the ship by web scraping. The data type is boolean.\n",
    "\n",
    "As we can see, there is at least five most relevant attributes affecting the waste production rates. Thereby, one can safely conclude that the production rates aren't constant nor known. We can also conclude that the rates are not same throughout one day. Most likely the the production patterns are very ship-specific and cannot be generalised from single attribute. Therefore, the development of the predictive machine learning model is a relevant task.\n",
    "\n",
    "\n",
    "### Method for development of Predictive Machine Learning model\n",
    "\n",
    "\n",
    "Typical situation for creating a predictive model is that in a set of inputs (X) are readily available, but the output (Y) cannot be easily obtained [4]. The output can be predicted with an estimate of function describing the unknown relationship between X and Y. Basically, a model, that is an estimate of the relationship, is at first treated as a black box that would be called as hypothesis space, meaning all computationally reasonable relationships between X and Y.\n",
    "\n",
    "\n",
    "#### Definition of the setup for the machine learning task\n",
    "\n",
    "\n",
    "In this project, the high-level insight produced by the model is the production of the waste streams, DW, FW and BW, that will tell whether or not the storage capacities are sufficient. This will return recommendation of actions whether to treat the waste onboard, store in the silos or if the waste needs to be discharged to the sea. As an ultimate goal would be to combine the return value of sustainability in terms of environmental impact or feasibility information in terms of cash flow or cost from waste disposal.\n",
    "\n",
    "The inputs (X) as relevant features for the ML-model are the operational data described above. The labelled data as relevant higher-level insights are the known shipboard data described above. This data will be supplemented by additional data from the IoT-system onboard Mein Schiff 2, that will be live after 11th April 2019. This data will be also used for furter training of the model as well as for the validation of the model.\n",
    "\n",
    "The output (Y) predictions will be the predicted waste productions.\n",
    "\n",
    "\n",
    "#### Development of the ML-model\n",
    "\n",
    "\n",
    "The relevant question for development of the model is that is it possible to predict the waste production from the operational data listed above. The main prerequisite for development and training of predictive regression model is a feature space that is quantitative. However, as we can see our given feature space contains mainly categorical features with a boolean values.\n",
    "\n",
    "In this case, one proven technique is to use one-hot encoding, which effectively creates extra columns indicating the presence or absence of a category with a value of 1 or 0, respectively [5]. In this project that would simply mean, e.g. ships location is indicated as one category a sea condition as 1 (True) and portside as 0 (False). Also, the meal time is one category indicated as either 1 (True) and rest of the time as 0 (False).\n",
    "\n",
    "After preprosessing the features into useable feature space, the model is developed. The labelled data is joined with the another dataset. Basically, try to determine the extent to which the above listed operational data affect the volume of waste streams. A simple linear regression is performed to relate the operations and the labeled data.\n",
    "\n",
    "The linear regression functionality of the Scikit-Learn-package will be utilised for model development and training the model as well as for the validation of the model\n",
    "\n",
    "\n",
    "### Computational infrastructure, software product considerations\n",
    "\n",
    "The work is done with Jupyter Lab of Anaconda distribution package. The code will be written in Python meaning that all the usable Python libraries, incl. Pandas for data preparation, Matplotlib and Seaborn for visualisation of cleaned data and Scikit-Learn for model training and validation.\n",
    "\n",
    "The model development is the main goal of the project. As I have only basic level of programming knowledge, there is no guarantees that the work will be finalized as data product to be utilised by end-customer. The primary goal of the work is to learn the methods of data science and machine learning. If I get to the production stage with this work, the GUI would be developed PyQt-GUI-tool. Alternatively, a web application could be developed with Python Flask-package. As there is lot of real time data available, it would be preferable to have it running real time. For the employer company point of view, a software product would be the desired option. However, most of the efforts during these studies should be put to data management and the ML-model building. As long as there is no connection between a specific ship or the ship owner, there should not be any privacy issues. The model should basically be a tool for evaluating sustainability of human actions towards the nature. \n",
    "\n",
    "\n",
    "## Preliminary Conclusions \n",
    "\n",
    "Preliminary, it can be concluded that the data from the ship IoT-system is both dense and thereby noisy. The data sampling interval on 3 to 5 seconds is emphasising the underlying noise caused mainly by ship movement. Also, the data is derived mainly only as status information that causes multi-stage data transformation before one can make any meaningful visualisation of the data.\n",
    "\n",
    "Deriving the operational data by web scraping is a good rehearsal for practice of data hacking from the website. However, the reliability of the data is dependant on whether or not the data on the webpage is correct or not. This entails a risk for model development stage.\n",
    "\n",
    "The feature space contains mainly categorical data and needs preprocessing prior to model development. Also, it remains to be seen if this categorical feature space is applicable for training a reliable model.\n",
    "\n",
    "\n",
    "##  References:\n",
    "\n",
    "[1] https://en.wikipedia.org/wiki/Cruise_ship\n",
    "\n",
    "[2] Cruise ship waste management database. Evac Oy. 2019.\n",
    "\n",
    "[3] IMO Marpol Annex V, Resolution MEPC. 295(71).\n",
    "    http://www.imo.org/en/OurWork/Environment/PollutionPrevention/Garbage/Pages/Default.aspx\n",
    "\n",
    "[4] An Introduction to Statistical Learning with Applications in R. Gareth James, Daniela Witten, Trevor Hastie, Robert Tibshirani. 2017. eBook. Corrected at 8th printing.\n",
    "\n",
    "[5] Python Data Science Handbook. Essential Tools For Working With Data. Jake VanderPlas. 2017. 1st Edition. O'Reilly.\n",
    "\n"
   ]
  },
  {
   "cell_type": "markdown",
   "metadata": {},
   "source": [
    "## APPENDIX 1: Code of the project. Status 1st of April 2019"
   ]
  },
  {
   "cell_type": "code",
   "execution_count": 256,
   "metadata": {},
   "outputs": [],
   "source": [
    "import numpy as np\n",
    "import pandas as pd\n",
    "import matplotlib.pyplot as plt\n",
    "import seaborn as sns"
   ]
  },
  {
   "cell_type": "markdown",
   "metadata": {},
   "source": [
    "or:"
   ]
  },
  {
   "cell_type": "code",
   "execution_count": 257,
   "metadata": {},
   "outputs": [],
   "source": [
    "%matplotlib inline"
   ]
  },
  {
   "cell_type": "code",
   "execution_count": 258,
   "metadata": {},
   "outputs": [],
   "source": [
    "def LoadData(filename):# FILENAME ON INPUT-PARAMETRINÄ LOADDATA-FUNKTIOLLE. FILENAME ANNETAAN SIIS FUNKTIOTA KÄYTETTÄESSÄ.\n",
    "    \"\"\"\n",
    "    Load the csv reading the file with the filename given as a parameter.\n",
    "    Print the sample size m and the feature length n.\n",
    "\n",
    "    :input: String path to the file\n",
    "\n",
    "    :return: pandas dataframe of shape=(m, n, ty), the sample size m and the feature length n \n",
    "    and the data type ty. In this case no conversion to Numpy array    \n",
    "    \"\"\"\n",
    "\n",
    "    df = pd.read_csv(filename, delimiter=';')\n",
    "    #X = df.values # convert the data frame to numpy array\n",
    "    n = df.shape[1]        # second element of \"dimension\" is the number of cols\n",
    "    m = df.shape[0]        # first element of dimension is the number of rows\n",
    "    ty = type(df)\n",
    "    print('sample size m=',m)\n",
    "    print('feature length n=',n)\n",
    "    print('the data type is', ty)\n",
    "    return df, m, n, ty"
   ]
  },
  {
   "cell_type": "code",
   "execution_count": 259,
   "metadata": {},
   "outputs": [
    {
     "name": "stdout",
     "output_type": "stream",
     "text": [
      "sample size m= 402860\n",
      "feature length n= 5\n",
      "the data type is <class 'pandas.core.frame.DataFrame'>\n"
     ]
    }
   ],
   "source": [
    "FWAsource, m, n, ty, = LoadData('MS6/LEVEL_TANK_A0.csv')"
   ]
  },
  {
   "cell_type": "code",
   "execution_count": 260,
   "metadata": {},
   "outputs": [
    {
     "data": {
      "text/html": [
       "<div>\n",
       "<style scoped>\n",
       "    .dataframe tbody tr th:only-of-type {\n",
       "        vertical-align: middle;\n",
       "    }\n",
       "\n",
       "    .dataframe tbody tr th {\n",
       "        vertical-align: top;\n",
       "    }\n",
       "\n",
       "    .dataframe thead th {\n",
       "        text-align: right;\n",
       "    }\n",
       "</style>\n",
       "<table border=\"1\" class=\"dataframe\">\n",
       "  <thead>\n",
       "    <tr style=\"text-align: right;\">\n",
       "      <th></th>\n",
       "      <th>VarName</th>\n",
       "      <th>TimeString</th>\n",
       "      <th>VarValue</th>\n",
       "      <th>Validity</th>\n",
       "      <th>Time_ms</th>\n",
       "    </tr>\n",
       "  </thead>\n",
       "  <tbody>\n",
       "    <tr>\n",
       "      <th>0</th>\n",
       "      <td>FOODWASTE_TANK_A_LEVEL_TREND</td>\n",
       "      <td>25.02.2018 16:07:23</td>\n",
       "      <td>47</td>\n",
       "      <td>1</td>\n",
       "      <td>43156671788,5185</td>\n",
       "    </tr>\n",
       "    <tr>\n",
       "      <th>1</th>\n",
       "      <td>HARSLEV_PUMP_1_1PM_1_STATUS</td>\n",
       "      <td>25.02.2018 16:07:25</td>\n",
       "      <td>20</td>\n",
       "      <td>1</td>\n",
       "      <td>43156671811,9097</td>\n",
       "    </tr>\n",
       "    <tr>\n",
       "      <th>2</th>\n",
       "      <td>THREEWAY_VALVE_1_1PV4_STATUS</td>\n",
       "      <td>25.02.2018 16:07:25</td>\n",
       "      <td>5</td>\n",
       "      <td>1</td>\n",
       "      <td>43156671811,9097</td>\n",
       "    </tr>\n",
       "    <tr>\n",
       "      <th>3</th>\n",
       "      <td>HARSLEV_PUMP_1_1PM_1_STATUS</td>\n",
       "      <td>25.02.2018 16:07:27</td>\n",
       "      <td>20</td>\n",
       "      <td>1</td>\n",
       "      <td>43156671835,2894</td>\n",
       "    </tr>\n",
       "    <tr>\n",
       "      <th>4</th>\n",
       "      <td>THREEWAY_VALVE_1_1PV4_STATUS</td>\n",
       "      <td>25.02.2018 16:07:27</td>\n",
       "      <td>5</td>\n",
       "      <td>1</td>\n",
       "      <td>43156671835,2894</td>\n",
       "    </tr>\n",
       "  </tbody>\n",
       "</table>\n",
       "</div>"
      ],
      "text/plain": [
       "                        VarName           TimeString  VarValue  Validity  \\\n",
       "0  FOODWASTE_TANK_A_LEVEL_TREND  25.02.2018 16:07:23        47         1   \n",
       "1   HARSLEV_PUMP_1_1PM_1_STATUS  25.02.2018 16:07:25        20         1   \n",
       "2  THREEWAY_VALVE_1_1PV4_STATUS  25.02.2018 16:07:25         5         1   \n",
       "3   HARSLEV_PUMP_1_1PM_1_STATUS  25.02.2018 16:07:27        20         1   \n",
       "4  THREEWAY_VALVE_1_1PV4_STATUS  25.02.2018 16:07:27         5         1   \n",
       "\n",
       "            Time_ms  \n",
       "0  43156671788,5185  \n",
       "1  43156671811,9097  \n",
       "2  43156671811,9097  \n",
       "3  43156671835,2894  \n",
       "4  43156671835,2894  "
      ]
     },
     "execution_count": 260,
     "metadata": {},
     "output_type": "execute_result"
    }
   ],
   "source": [
    "FWAsource.head()"
   ]
  },
  {
   "cell_type": "code",
   "execution_count": 261,
   "metadata": {},
   "outputs": [
    {
     "name": "stdout",
     "output_type": "stream",
     "text": [
      "sample size m= 402860\n",
      "feature length n= 5\n",
      "the data type is <class 'pandas.core.frame.DataFrame'>\n"
     ]
    }
   ],
   "source": [
    "FWBsource, m, n, ty, = LoadData('MS6/LEVEL_TANK_B0.csv')"
   ]
  },
  {
   "cell_type": "code",
   "execution_count": 262,
   "metadata": {},
   "outputs": [
    {
     "data": {
      "text/html": [
       "<div>\n",
       "<style scoped>\n",
       "    .dataframe tbody tr th:only-of-type {\n",
       "        vertical-align: middle;\n",
       "    }\n",
       "\n",
       "    .dataframe tbody tr th {\n",
       "        vertical-align: top;\n",
       "    }\n",
       "\n",
       "    .dataframe thead th {\n",
       "        text-align: right;\n",
       "    }\n",
       "</style>\n",
       "<table border=\"1\" class=\"dataframe\">\n",
       "  <thead>\n",
       "    <tr style=\"text-align: right;\">\n",
       "      <th></th>\n",
       "      <th>VarName</th>\n",
       "      <th>TimeString</th>\n",
       "      <th>VarValue</th>\n",
       "      <th>Validity</th>\n",
       "      <th>Time_ms</th>\n",
       "    </tr>\n",
       "  </thead>\n",
       "  <tbody>\n",
       "    <tr>\n",
       "      <th>402855</th>\n",
       "      <td>HARSLEV_PUMP_1_2PM_1_STATUS</td>\n",
       "      <td>01.03.2018 14:19:30</td>\n",
       "      <td>20</td>\n",
       "      <td>1</td>\n",
       "      <td>43160596875,2315</td>\n",
       "    </tr>\n",
       "    <tr>\n",
       "      <th>402856</th>\n",
       "      <td>THREEWAY_VALVE_1_2PV4_STATUS</td>\n",
       "      <td>01.03.2018 14:19:30</td>\n",
       "      <td>5</td>\n",
       "      <td>1</td>\n",
       "      <td>43160596875,2315</td>\n",
       "    </tr>\n",
       "    <tr>\n",
       "      <th>402857</th>\n",
       "      <td>FOODWASTE_TANK_B_LEVEL_TREND</td>\n",
       "      <td>01.03.2018 14:19:31</td>\n",
       "      <td>21</td>\n",
       "      <td>1</td>\n",
       "      <td>43160596886,9329</td>\n",
       "    </tr>\n",
       "    <tr>\n",
       "      <th>402858</th>\n",
       "      <td>HARSLEV_PUMP_1_2PM_1_STATUS</td>\n",
       "      <td>01.03.2018 14:19:32</td>\n",
       "      <td>20</td>\n",
       "      <td>1</td>\n",
       "      <td>43160596898,6343</td>\n",
       "    </tr>\n",
       "    <tr>\n",
       "      <th>402859</th>\n",
       "      <td>THREEWAY_VALVE_1_2PV4_STATUS</td>\n",
       "      <td>01.03.2018 14:19:32</td>\n",
       "      <td>5</td>\n",
       "      <td>1</td>\n",
       "      <td>43160596898,6343</td>\n",
       "    </tr>\n",
       "  </tbody>\n",
       "</table>\n",
       "</div>"
      ],
      "text/plain": [
       "                             VarName           TimeString  VarValue  Validity  \\\n",
       "402855   HARSLEV_PUMP_1_2PM_1_STATUS  01.03.2018 14:19:30        20         1   \n",
       "402856  THREEWAY_VALVE_1_2PV4_STATUS  01.03.2018 14:19:30         5         1   \n",
       "402857  FOODWASTE_TANK_B_LEVEL_TREND  01.03.2018 14:19:31        21         1   \n",
       "402858   HARSLEV_PUMP_1_2PM_1_STATUS  01.03.2018 14:19:32        20         1   \n",
       "402859  THREEWAY_VALVE_1_2PV4_STATUS  01.03.2018 14:19:32         5         1   \n",
       "\n",
       "                 Time_ms  \n",
       "402855  43160596875,2315  \n",
       "402856  43160596875,2315  \n",
       "402857  43160596886,9329  \n",
       "402858  43160596898,6343  \n",
       "402859  43160596898,6343  "
      ]
     },
     "execution_count": 262,
     "metadata": {},
     "output_type": "execute_result"
    }
   ],
   "source": [
    "FWBsource.tail()"
   ]
  },
  {
   "cell_type": "code",
   "execution_count": 263,
   "metadata": {},
   "outputs": [
    {
     "name": "stdout",
     "output_type": "stream",
     "text": [
      "sample size m= 400952\n",
      "feature length n= 5\n",
      "the data type is <class 'pandas.core.frame.DataFrame'>\n"
     ]
    }
   ],
   "source": [
    "BWsource, m, n, ty, = LoadData('MS6/LEVEL_BIOSLUDGETANK0.csv')"
   ]
  },
  {
   "cell_type": "code",
   "execution_count": 264,
   "metadata": {},
   "outputs": [
    {
     "data": {
      "text/html": [
       "<div>\n",
       "<style scoped>\n",
       "    .dataframe tbody tr th:only-of-type {\n",
       "        vertical-align: middle;\n",
       "    }\n",
       "\n",
       "    .dataframe tbody tr th {\n",
       "        vertical-align: top;\n",
       "    }\n",
       "\n",
       "    .dataframe thead th {\n",
       "        text-align: right;\n",
       "    }\n",
       "</style>\n",
       "<table border=\"1\" class=\"dataframe\">\n",
       "  <thead>\n",
       "    <tr style=\"text-align: right;\">\n",
       "      <th></th>\n",
       "      <th>VarName</th>\n",
       "      <th>TimeString</th>\n",
       "      <th>VarValue</th>\n",
       "      <th>Validity</th>\n",
       "      <th>Time_ms</th>\n",
       "    </tr>\n",
       "  </thead>\n",
       "  <tbody>\n",
       "    <tr>\n",
       "      <th>0</th>\n",
       "      <td>BIO_SLUDGE_MIXING_STATUS</td>\n",
       "      <td>17.02.2018 21:03:26</td>\n",
       "      <td>0</td>\n",
       "      <td>1</td>\n",
       "      <td>43148877388,0556</td>\n",
       "    </tr>\n",
       "    <tr>\n",
       "      <th>1</th>\n",
       "      <td>BIO_SLUDGE_TANK_LEVEL_TREND</td>\n",
       "      <td>17.02.2018 21:03:26</td>\n",
       "      <td>19</td>\n",
       "      <td>1</td>\n",
       "      <td>43148877388,0556</td>\n",
       "    </tr>\n",
       "    <tr>\n",
       "      <th>2</th>\n",
       "      <td>BIO_SLUDGE_MIXING_STATUS</td>\n",
       "      <td>17.02.2018 21:03:31</td>\n",
       "      <td>0</td>\n",
       "      <td>1</td>\n",
       "      <td>43148877446,5162</td>\n",
       "    </tr>\n",
       "    <tr>\n",
       "      <th>3</th>\n",
       "      <td>BIO_SLUDGE_TANK_LEVEL_TREND</td>\n",
       "      <td>17.02.2018 21:03:31</td>\n",
       "      <td>19</td>\n",
       "      <td>1</td>\n",
       "      <td>43148877446,5162</td>\n",
       "    </tr>\n",
       "    <tr>\n",
       "      <th>4</th>\n",
       "      <td>BIO_SLUDGE_MIXING_STATUS</td>\n",
       "      <td>17.02.2018 21:03:36</td>\n",
       "      <td>0</td>\n",
       "      <td>1</td>\n",
       "      <td>43148877505</td>\n",
       "    </tr>\n",
       "  </tbody>\n",
       "</table>\n",
       "</div>"
      ],
      "text/plain": [
       "                       VarName           TimeString  VarValue  Validity  \\\n",
       "0     BIO_SLUDGE_MIXING_STATUS  17.02.2018 21:03:26         0         1   \n",
       "1  BIO_SLUDGE_TANK_LEVEL_TREND  17.02.2018 21:03:26        19         1   \n",
       "2     BIO_SLUDGE_MIXING_STATUS  17.02.2018 21:03:31         0         1   \n",
       "3  BIO_SLUDGE_TANK_LEVEL_TREND  17.02.2018 21:03:31        19         1   \n",
       "4     BIO_SLUDGE_MIXING_STATUS  17.02.2018 21:03:36         0         1   \n",
       "\n",
       "            Time_ms  \n",
       "0  43148877388,0556  \n",
       "1  43148877388,0556  \n",
       "2  43148877446,5162  \n",
       "3  43148877446,5162  \n",
       "4       43148877505  "
      ]
     },
     "execution_count": 264,
     "metadata": {},
     "output_type": "execute_result"
    }
   ],
   "source": [
    "BWsource.head()"
   ]
  },
  {
   "cell_type": "code",
   "execution_count": 265,
   "metadata": {},
   "outputs": [
    {
     "name": "stdout",
     "output_type": "stream",
     "text": [
      "sample size m= 500000\n",
      "feature length n= 5\n",
      "the data type is <class 'pandas.core.frame.DataFrame'>\n"
     ]
    }
   ],
   "source": [
    "DWsource, m, n, ty, = LoadData('MS6/Inc_1_datalog_functions0.csv')"
   ]
  },
  {
   "cell_type": "code",
   "execution_count": 266,
   "metadata": {},
   "outputs": [
    {
     "data": {
      "text/html": [
       "<div>\n",
       "<style scoped>\n",
       "    .dataframe tbody tr th:only-of-type {\n",
       "        vertical-align: middle;\n",
       "    }\n",
       "\n",
       "    .dataframe tbody tr th {\n",
       "        vertical-align: top;\n",
       "    }\n",
       "\n",
       "    .dataframe thead th {\n",
       "        text-align: right;\n",
       "    }\n",
       "</style>\n",
       "<table border=\"1\" class=\"dataframe\">\n",
       "  <thead>\n",
       "    <tr style=\"text-align: right;\">\n",
       "      <th></th>\n",
       "      <th>VarName</th>\n",
       "      <th>TimeString</th>\n",
       "      <th>VarValue</th>\n",
       "      <th>Validity</th>\n",
       "      <th>Time_ms</th>\n",
       "    </tr>\n",
       "  </thead>\n",
       "  <tbody>\n",
       "    <tr>\n",
       "      <th>0</th>\n",
       "      <td>inc_1_primary_burner_status</td>\n",
       "      <td>17.02.2018 21:03:15</td>\n",
       "      <td>0</td>\n",
       "      <td>1</td>\n",
       "      <td>43148877259,4097</td>\n",
       "    </tr>\n",
       "    <tr>\n",
       "      <th>1</th>\n",
       "      <td>inc_1_secondary_burner_status</td>\n",
       "      <td>17.02.2018 21:03:15</td>\n",
       "      <td>-20</td>\n",
       "      <td>1</td>\n",
       "      <td>43148877259,4097</td>\n",
       "    </tr>\n",
       "    <tr>\n",
       "      <th>2</th>\n",
       "      <td>inc_1_lower_feeding_gate_status</td>\n",
       "      <td>17.02.2018 21:03:15</td>\n",
       "      <td>-10</td>\n",
       "      <td>1</td>\n",
       "      <td>43148877259,4097</td>\n",
       "    </tr>\n",
       "    <tr>\n",
       "      <th>3</th>\n",
       "      <td>inc_1_medical_flap_status</td>\n",
       "      <td>17.02.2018 21:03:15</td>\n",
       "      <td>-5</td>\n",
       "      <td>1</td>\n",
       "      <td>43148877259,4097</td>\n",
       "    </tr>\n",
       "    <tr>\n",
       "      <th>4</th>\n",
       "      <td>inc_1_primary_burner_status</td>\n",
       "      <td>17.02.2018 21:03:16</td>\n",
       "      <td>0</td>\n",
       "      <td>1</td>\n",
       "      <td>43148877271,0995</td>\n",
       "    </tr>\n",
       "  </tbody>\n",
       "</table>\n",
       "</div>"
      ],
      "text/plain": [
       "                           VarName           TimeString  VarValue  Validity  \\\n",
       "0      inc_1_primary_burner_status  17.02.2018 21:03:15         0         1   \n",
       "1    inc_1_secondary_burner_status  17.02.2018 21:03:15       -20         1   \n",
       "2  inc_1_lower_feeding_gate_status  17.02.2018 21:03:15       -10         1   \n",
       "3        inc_1_medical_flap_status  17.02.2018 21:03:15        -5         1   \n",
       "4      inc_1_primary_burner_status  17.02.2018 21:03:16         0         1   \n",
       "\n",
       "            Time_ms  \n",
       "0  43148877259,4097  \n",
       "1  43148877259,4097  \n",
       "2  43148877259,4097  \n",
       "3  43148877259,4097  \n",
       "4  43148877271,0995  "
      ]
     },
     "execution_count": 266,
     "metadata": {},
     "output_type": "execute_result"
    }
   ],
   "source": [
    "DWsource.head() # Contains waste burning data. Not useable for waste flow prediction."
   ]
  },
  {
   "cell_type": "code",
   "execution_count": 267,
   "metadata": {},
   "outputs": [
    {
     "name": "stdout",
     "output_type": "stream",
     "text": [
      "sample size m= 500000\n",
      "feature length n= 5\n",
      "the data type is <class 'pandas.core.frame.DataFrame'>\n"
     ]
    }
   ],
   "source": [
    "IncVar, m, n, ty, = LoadData('MS6/Inc_1_datalog_var1.csv')"
   ]
  },
  {
   "cell_type": "code",
   "execution_count": 268,
   "metadata": {},
   "outputs": [
    {
     "data": {
      "text/html": [
       "<div>\n",
       "<style scoped>\n",
       "    .dataframe tbody tr th:only-of-type {\n",
       "        vertical-align: middle;\n",
       "    }\n",
       "\n",
       "    .dataframe tbody tr th {\n",
       "        vertical-align: top;\n",
       "    }\n",
       "\n",
       "    .dataframe thead th {\n",
       "        text-align: right;\n",
       "    }\n",
       "</style>\n",
       "<table border=\"1\" class=\"dataframe\">\n",
       "  <thead>\n",
       "    <tr style=\"text-align: right;\">\n",
       "      <th></th>\n",
       "      <th>VarName</th>\n",
       "      <th>TimeString</th>\n",
       "      <th>VarValue</th>\n",
       "      <th>Validity</th>\n",
       "      <th>Time_ms</th>\n",
       "    </tr>\n",
       "  </thead>\n",
       "  <tbody>\n",
       "    <tr>\n",
       "      <th>0</th>\n",
       "      <td>inc_1_primary_chamber_temperature</td>\n",
       "      <td>07.01.2018 22:57:15</td>\n",
       "      <td>930</td>\n",
       "      <td>1</td>\n",
       "      <td>43107956427,9745</td>\n",
       "    </tr>\n",
       "    <tr>\n",
       "      <th>1</th>\n",
       "      <td>inc_1_secondary_chamber_temperature</td>\n",
       "      <td>07.01.2018 22:57:15</td>\n",
       "      <td>856</td>\n",
       "      <td>1</td>\n",
       "      <td>43107956427,9861</td>\n",
       "    </tr>\n",
       "    <tr>\n",
       "      <th>2</th>\n",
       "      <td>inc_1_fluegas_temperature</td>\n",
       "      <td>07.01.2018 22:57:15</td>\n",
       "      <td>222</td>\n",
       "      <td>1</td>\n",
       "      <td>43107956427,9861</td>\n",
       "    </tr>\n",
       "    <tr>\n",
       "      <th>3</th>\n",
       "      <td>inc_1_underpressure</td>\n",
       "      <td>07.01.2018 22:57:15</td>\n",
       "      <td>20</td>\n",
       "      <td>1</td>\n",
       "      <td>43107956427,9861</td>\n",
       "    </tr>\n",
       "    <tr>\n",
       "      <th>4</th>\n",
       "      <td>inc_1_primary_chamber_temperature</td>\n",
       "      <td>07.01.2018 22:57:20</td>\n",
       "      <td>931</td>\n",
       "      <td>1</td>\n",
       "      <td>43107956486,4583</td>\n",
       "    </tr>\n",
       "  </tbody>\n",
       "</table>\n",
       "</div>"
      ],
      "text/plain": [
       "                               VarName           TimeString  VarValue  \\\n",
       "0    inc_1_primary_chamber_temperature  07.01.2018 22:57:15       930   \n",
       "1  inc_1_secondary_chamber_temperature  07.01.2018 22:57:15       856   \n",
       "2            inc_1_fluegas_temperature  07.01.2018 22:57:15       222   \n",
       "3                  inc_1_underpressure  07.01.2018 22:57:15        20   \n",
       "4    inc_1_primary_chamber_temperature  07.01.2018 22:57:20       931   \n",
       "\n",
       "   Validity           Time_ms  \n",
       "0         1  43107956427,9745  \n",
       "1         1  43107956427,9861  \n",
       "2         1  43107956427,9861  \n",
       "3         1  43107956427,9861  \n",
       "4         1  43107956486,4583  "
      ]
     },
     "execution_count": 268,
     "metadata": {},
     "output_type": "execute_result"
    }
   ],
   "source": [
    "IncVar.head() # Contains waste burning data. Not useable for waste flow prediction."
   ]
  },
  {
   "cell_type": "code",
   "execution_count": 269,
   "metadata": {},
   "outputs": [],
   "source": [
    "def Datetime(df):# PANDAS DF ON INPUT-PARAMETRINÄ FUNKTIOLLE. DF:N NIMI ANNETAAN SIIS FUNKTIOTA KÄYTETTÄESSÄ.\n",
    "    \"\"\"\n",
    "    Converts the str-type TimeString into more useful Pandas DateTime form.\n",
    "    \n",
    "    Prints the head of the DataFrame after conversion and the data type of the DateTime column.\n",
    "\n",
    "    :input: Name of the dataframe and the TimeString column of the DF in question.\n",
    "\n",
    "    :return: pandas dataframe with the DateTime and its data type.    \n",
    "    \"\"\"\n",
    "\n",
    "    df['DateTime'] = pd.to_datetime(df.TimeString, format = '%d.%m.%Y %H:%M:%S')\n",
    "    dty = type(df.DateTime)    # Returns datatype\n",
    "    print(df.head())\n",
    "    print('The time data type is now: ',dty)\n",
    "    return df, dty"
   ]
  },
  {
   "cell_type": "code",
   "execution_count": null,
   "metadata": {},
   "outputs": [],
   "source": [
    "Datetime(DWsource)"
   ]
  },
  {
   "cell_type": "code",
   "execution_count": null,
   "metadata": {},
   "outputs": [],
   "source": [
    "Datetime(BWsource)"
   ]
  },
  {
   "cell_type": "code",
   "execution_count": null,
   "metadata": {},
   "outputs": [],
   "source": [
    "Datetime(FWAsource)"
   ]
  },
  {
   "cell_type": "code",
   "execution_count": null,
   "metadata": {},
   "outputs": [],
   "source": [
    "Datetime(FWBsource)"
   ]
  },
  {
   "cell_type": "code",
   "execution_count": null,
   "metadata": {},
   "outputs": [],
   "source": []
  },
  {
   "cell_type": "code",
   "execution_count": 274,
   "metadata": {},
   "outputs": [
    {
     "data": {
      "text/html": [
       "<div>\n",
       "<style scoped>\n",
       "    .dataframe tbody tr th:only-of-type {\n",
       "        vertical-align: middle;\n",
       "    }\n",
       "\n",
       "    .dataframe tbody tr th {\n",
       "        vertical-align: top;\n",
       "    }\n",
       "\n",
       "    .dataframe thead th {\n",
       "        text-align: right;\n",
       "    }\n",
       "</style>\n",
       "<table border=\"1\" class=\"dataframe\">\n",
       "  <thead>\n",
       "    <tr style=\"text-align: right;\">\n",
       "      <th></th>\n",
       "      <th>VarName</th>\n",
       "      <th>TimeString</th>\n",
       "      <th>VarValue</th>\n",
       "      <th>Validity</th>\n",
       "      <th>Time_ms</th>\n",
       "      <th>DateTime</th>\n",
       "    </tr>\n",
       "  </thead>\n",
       "  <tbody>\n",
       "    <tr>\n",
       "      <th>0</th>\n",
       "      <td>inc_1_primary_burner_status</td>\n",
       "      <td>17.02.2018 21:03:15</td>\n",
       "      <td>0</td>\n",
       "      <td>1</td>\n",
       "      <td>43148877259,4097</td>\n",
       "      <td>2018-02-17 21:03:15</td>\n",
       "    </tr>\n",
       "    <tr>\n",
       "      <th>1</th>\n",
       "      <td>inc_1_secondary_burner_status</td>\n",
       "      <td>17.02.2018 21:03:15</td>\n",
       "      <td>-20</td>\n",
       "      <td>1</td>\n",
       "      <td>43148877259,4097</td>\n",
       "      <td>2018-02-17 21:03:15</td>\n",
       "    </tr>\n",
       "    <tr>\n",
       "      <th>2</th>\n",
       "      <td>inc_1_lower_feeding_gate_status</td>\n",
       "      <td>17.02.2018 21:03:15</td>\n",
       "      <td>-10</td>\n",
       "      <td>1</td>\n",
       "      <td>43148877259,4097</td>\n",
       "      <td>2018-02-17 21:03:15</td>\n",
       "    </tr>\n",
       "    <tr>\n",
       "      <th>3</th>\n",
       "      <td>inc_1_medical_flap_status</td>\n",
       "      <td>17.02.2018 21:03:15</td>\n",
       "      <td>-5</td>\n",
       "      <td>1</td>\n",
       "      <td>43148877259,4097</td>\n",
       "      <td>2018-02-17 21:03:15</td>\n",
       "    </tr>\n",
       "    <tr>\n",
       "      <th>4</th>\n",
       "      <td>inc_1_primary_burner_status</td>\n",
       "      <td>17.02.2018 21:03:16</td>\n",
       "      <td>0</td>\n",
       "      <td>1</td>\n",
       "      <td>43148877271,0995</td>\n",
       "      <td>2018-02-17 21:03:16</td>\n",
       "    </tr>\n",
       "  </tbody>\n",
       "</table>\n",
       "</div>"
      ],
      "text/plain": [
       "                           VarName           TimeString  VarValue  Validity  \\\n",
       "0      inc_1_primary_burner_status  17.02.2018 21:03:15         0         1   \n",
       "1    inc_1_secondary_burner_status  17.02.2018 21:03:15       -20         1   \n",
       "2  inc_1_lower_feeding_gate_status  17.02.2018 21:03:15       -10         1   \n",
       "3        inc_1_medical_flap_status  17.02.2018 21:03:15        -5         1   \n",
       "4      inc_1_primary_burner_status  17.02.2018 21:03:16         0         1   \n",
       "\n",
       "            Time_ms            DateTime  \n",
       "0  43148877259,4097 2018-02-17 21:03:15  \n",
       "1  43148877259,4097 2018-02-17 21:03:15  \n",
       "2  43148877259,4097 2018-02-17 21:03:15  \n",
       "3  43148877259,4097 2018-02-17 21:03:15  \n",
       "4  43148877271,0995 2018-02-17 21:03:16  "
      ]
     },
     "execution_count": 274,
     "metadata": {},
     "output_type": "execute_result"
    }
   ],
   "source": [
    "DWsource.head()"
   ]
  },
  {
   "cell_type": "code",
   "execution_count": 275,
   "metadata": {},
   "outputs": [
    {
     "data": {
      "text/html": [
       "<div>\n",
       "<style scoped>\n",
       "    .dataframe tbody tr th:only-of-type {\n",
       "        vertical-align: middle;\n",
       "    }\n",
       "\n",
       "    .dataframe tbody tr th {\n",
       "        vertical-align: top;\n",
       "    }\n",
       "\n",
       "    .dataframe thead th {\n",
       "        text-align: right;\n",
       "    }\n",
       "</style>\n",
       "<table border=\"1\" class=\"dataframe\">\n",
       "  <thead>\n",
       "    <tr style=\"text-align: right;\">\n",
       "      <th></th>\n",
       "      <th>VarName</th>\n",
       "      <th>TimeString</th>\n",
       "      <th>VarValue</th>\n",
       "      <th>Validity</th>\n",
       "      <th>Time_ms</th>\n",
       "      <th>DateTime</th>\n",
       "    </tr>\n",
       "  </thead>\n",
       "  <tbody>\n",
       "    <tr>\n",
       "      <th>0</th>\n",
       "      <td>FOODWASTE_TANK_A_LEVEL_TREND</td>\n",
       "      <td>25.02.2018 16:07:23</td>\n",
       "      <td>47</td>\n",
       "      <td>1</td>\n",
       "      <td>43156671788,5185</td>\n",
       "      <td>2018-02-25 16:07:23</td>\n",
       "    </tr>\n",
       "    <tr>\n",
       "      <th>1</th>\n",
       "      <td>HARSLEV_PUMP_1_1PM_1_STATUS</td>\n",
       "      <td>25.02.2018 16:07:25</td>\n",
       "      <td>20</td>\n",
       "      <td>1</td>\n",
       "      <td>43156671811,9097</td>\n",
       "      <td>2018-02-25 16:07:25</td>\n",
       "    </tr>\n",
       "    <tr>\n",
       "      <th>2</th>\n",
       "      <td>THREEWAY_VALVE_1_1PV4_STATUS</td>\n",
       "      <td>25.02.2018 16:07:25</td>\n",
       "      <td>5</td>\n",
       "      <td>1</td>\n",
       "      <td>43156671811,9097</td>\n",
       "      <td>2018-02-25 16:07:25</td>\n",
       "    </tr>\n",
       "    <tr>\n",
       "      <th>3</th>\n",
       "      <td>HARSLEV_PUMP_1_1PM_1_STATUS</td>\n",
       "      <td>25.02.2018 16:07:27</td>\n",
       "      <td>20</td>\n",
       "      <td>1</td>\n",
       "      <td>43156671835,2894</td>\n",
       "      <td>2018-02-25 16:07:27</td>\n",
       "    </tr>\n",
       "    <tr>\n",
       "      <th>4</th>\n",
       "      <td>THREEWAY_VALVE_1_1PV4_STATUS</td>\n",
       "      <td>25.02.2018 16:07:27</td>\n",
       "      <td>5</td>\n",
       "      <td>1</td>\n",
       "      <td>43156671835,2894</td>\n",
       "      <td>2018-02-25 16:07:27</td>\n",
       "    </tr>\n",
       "  </tbody>\n",
       "</table>\n",
       "</div>"
      ],
      "text/plain": [
       "                        VarName           TimeString  VarValue  Validity  \\\n",
       "0  FOODWASTE_TANK_A_LEVEL_TREND  25.02.2018 16:07:23        47         1   \n",
       "1   HARSLEV_PUMP_1_1PM_1_STATUS  25.02.2018 16:07:25        20         1   \n",
       "2  THREEWAY_VALVE_1_1PV4_STATUS  25.02.2018 16:07:25         5         1   \n",
       "3   HARSLEV_PUMP_1_1PM_1_STATUS  25.02.2018 16:07:27        20         1   \n",
       "4  THREEWAY_VALVE_1_1PV4_STATUS  25.02.2018 16:07:27         5         1   \n",
       "\n",
       "            Time_ms            DateTime  \n",
       "0  43156671788,5185 2018-02-25 16:07:23  \n",
       "1  43156671811,9097 2018-02-25 16:07:25  \n",
       "2  43156671811,9097 2018-02-25 16:07:25  \n",
       "3  43156671835,2894 2018-02-25 16:07:27  \n",
       "4  43156671835,2894 2018-02-25 16:07:27  "
      ]
     },
     "execution_count": 275,
     "metadata": {},
     "output_type": "execute_result"
    }
   ],
   "source": [
    "FWAsource.head()"
   ]
  },
  {
   "cell_type": "code",
   "execution_count": 276,
   "metadata": {},
   "outputs": [
    {
     "data": {
      "text/html": [
       "<div>\n",
       "<style scoped>\n",
       "    .dataframe tbody tr th:only-of-type {\n",
       "        vertical-align: middle;\n",
       "    }\n",
       "\n",
       "    .dataframe tbody tr th {\n",
       "        vertical-align: top;\n",
       "    }\n",
       "\n",
       "    .dataframe thead th {\n",
       "        text-align: right;\n",
       "    }\n",
       "</style>\n",
       "<table border=\"1\" class=\"dataframe\">\n",
       "  <thead>\n",
       "    <tr style=\"text-align: right;\">\n",
       "      <th></th>\n",
       "      <th>VarName</th>\n",
       "      <th>TimeString</th>\n",
       "      <th>VarValue</th>\n",
       "      <th>Validity</th>\n",
       "      <th>Time_ms</th>\n",
       "      <th>DateTime</th>\n",
       "    </tr>\n",
       "  </thead>\n",
       "  <tbody>\n",
       "    <tr>\n",
       "      <th>0</th>\n",
       "      <td>FOODWASTE_TANK_B_LEVEL_TREND</td>\n",
       "      <td>25.02.2018 16:07:23</td>\n",
       "      <td>14</td>\n",
       "      <td>1</td>\n",
       "      <td>43156671788,5185</td>\n",
       "      <td>2018-02-25 16:07:23</td>\n",
       "    </tr>\n",
       "    <tr>\n",
       "      <th>1</th>\n",
       "      <td>HARSLEV_PUMP_1_2PM_1_STATUS</td>\n",
       "      <td>25.02.2018 16:07:25</td>\n",
       "      <td>20</td>\n",
       "      <td>1</td>\n",
       "      <td>43156671811,9097</td>\n",
       "      <td>2018-02-25 16:07:25</td>\n",
       "    </tr>\n",
       "    <tr>\n",
       "      <th>2</th>\n",
       "      <td>THREEWAY_VALVE_1_2PV4_STATUS</td>\n",
       "      <td>25.02.2018 16:07:25</td>\n",
       "      <td>5</td>\n",
       "      <td>1</td>\n",
       "      <td>43156671811,9097</td>\n",
       "      <td>2018-02-25 16:07:25</td>\n",
       "    </tr>\n",
       "    <tr>\n",
       "      <th>3</th>\n",
       "      <td>HARSLEV_PUMP_1_2PM_1_STATUS</td>\n",
       "      <td>25.02.2018 16:07:27</td>\n",
       "      <td>20</td>\n",
       "      <td>1</td>\n",
       "      <td>43156671835,2894</td>\n",
       "      <td>2018-02-25 16:07:27</td>\n",
       "    </tr>\n",
       "    <tr>\n",
       "      <th>4</th>\n",
       "      <td>THREEWAY_VALVE_1_2PV4_STATUS</td>\n",
       "      <td>25.02.2018 16:07:27</td>\n",
       "      <td>5</td>\n",
       "      <td>1</td>\n",
       "      <td>43156671835,3009</td>\n",
       "      <td>2018-02-25 16:07:27</td>\n",
       "    </tr>\n",
       "  </tbody>\n",
       "</table>\n",
       "</div>"
      ],
      "text/plain": [
       "                        VarName           TimeString  VarValue  Validity  \\\n",
       "0  FOODWASTE_TANK_B_LEVEL_TREND  25.02.2018 16:07:23        14         1   \n",
       "1   HARSLEV_PUMP_1_2PM_1_STATUS  25.02.2018 16:07:25        20         1   \n",
       "2  THREEWAY_VALVE_1_2PV4_STATUS  25.02.2018 16:07:25         5         1   \n",
       "3   HARSLEV_PUMP_1_2PM_1_STATUS  25.02.2018 16:07:27        20         1   \n",
       "4  THREEWAY_VALVE_1_2PV4_STATUS  25.02.2018 16:07:27         5         1   \n",
       "\n",
       "            Time_ms            DateTime  \n",
       "0  43156671788,5185 2018-02-25 16:07:23  \n",
       "1  43156671811,9097 2018-02-25 16:07:25  \n",
       "2  43156671811,9097 2018-02-25 16:07:25  \n",
       "3  43156671835,2894 2018-02-25 16:07:27  \n",
       "4  43156671835,3009 2018-02-25 16:07:27  "
      ]
     },
     "execution_count": 276,
     "metadata": {},
     "output_type": "execute_result"
    }
   ],
   "source": [
    "FWBsource.head()"
   ]
  },
  {
   "cell_type": "code",
   "execution_count": 277,
   "metadata": {},
   "outputs": [
    {
     "data": {
      "text/html": [
       "<div>\n",
       "<style scoped>\n",
       "    .dataframe tbody tr th:only-of-type {\n",
       "        vertical-align: middle;\n",
       "    }\n",
       "\n",
       "    .dataframe tbody tr th {\n",
       "        vertical-align: top;\n",
       "    }\n",
       "\n",
       "    .dataframe thead th {\n",
       "        text-align: right;\n",
       "    }\n",
       "</style>\n",
       "<table border=\"1\" class=\"dataframe\">\n",
       "  <thead>\n",
       "    <tr style=\"text-align: right;\">\n",
       "      <th></th>\n",
       "      <th>VarName</th>\n",
       "      <th>TimeString</th>\n",
       "      <th>VarValue</th>\n",
       "      <th>Validity</th>\n",
       "      <th>Time_ms</th>\n",
       "      <th>DateTime</th>\n",
       "    </tr>\n",
       "  </thead>\n",
       "  <tbody>\n",
       "    <tr>\n",
       "      <th>0</th>\n",
       "      <td>BIO_SLUDGE_MIXING_STATUS</td>\n",
       "      <td>17.02.2018 21:03:26</td>\n",
       "      <td>0</td>\n",
       "      <td>1</td>\n",
       "      <td>43148877388,0556</td>\n",
       "      <td>2018-02-17 21:03:26</td>\n",
       "    </tr>\n",
       "    <tr>\n",
       "      <th>1</th>\n",
       "      <td>BIO_SLUDGE_TANK_LEVEL_TREND</td>\n",
       "      <td>17.02.2018 21:03:26</td>\n",
       "      <td>19</td>\n",
       "      <td>1</td>\n",
       "      <td>43148877388,0556</td>\n",
       "      <td>2018-02-17 21:03:26</td>\n",
       "    </tr>\n",
       "    <tr>\n",
       "      <th>2</th>\n",
       "      <td>BIO_SLUDGE_MIXING_STATUS</td>\n",
       "      <td>17.02.2018 21:03:31</td>\n",
       "      <td>0</td>\n",
       "      <td>1</td>\n",
       "      <td>43148877446,5162</td>\n",
       "      <td>2018-02-17 21:03:31</td>\n",
       "    </tr>\n",
       "    <tr>\n",
       "      <th>3</th>\n",
       "      <td>BIO_SLUDGE_TANK_LEVEL_TREND</td>\n",
       "      <td>17.02.2018 21:03:31</td>\n",
       "      <td>19</td>\n",
       "      <td>1</td>\n",
       "      <td>43148877446,5162</td>\n",
       "      <td>2018-02-17 21:03:31</td>\n",
       "    </tr>\n",
       "    <tr>\n",
       "      <th>4</th>\n",
       "      <td>BIO_SLUDGE_MIXING_STATUS</td>\n",
       "      <td>17.02.2018 21:03:36</td>\n",
       "      <td>0</td>\n",
       "      <td>1</td>\n",
       "      <td>43148877505</td>\n",
       "      <td>2018-02-17 21:03:36</td>\n",
       "    </tr>\n",
       "  </tbody>\n",
       "</table>\n",
       "</div>"
      ],
      "text/plain": [
       "                       VarName           TimeString  VarValue  Validity  \\\n",
       "0     BIO_SLUDGE_MIXING_STATUS  17.02.2018 21:03:26         0         1   \n",
       "1  BIO_SLUDGE_TANK_LEVEL_TREND  17.02.2018 21:03:26        19         1   \n",
       "2     BIO_SLUDGE_MIXING_STATUS  17.02.2018 21:03:31         0         1   \n",
       "3  BIO_SLUDGE_TANK_LEVEL_TREND  17.02.2018 21:03:31        19         1   \n",
       "4     BIO_SLUDGE_MIXING_STATUS  17.02.2018 21:03:36         0         1   \n",
       "\n",
       "            Time_ms            DateTime  \n",
       "0  43148877388,0556 2018-02-17 21:03:26  \n",
       "1  43148877388,0556 2018-02-17 21:03:26  \n",
       "2  43148877446,5162 2018-02-17 21:03:31  \n",
       "3  43148877446,5162 2018-02-17 21:03:31  \n",
       "4       43148877505 2018-02-17 21:03:36  "
      ]
     },
     "execution_count": 277,
     "metadata": {},
     "output_type": "execute_result"
    }
   ],
   "source": [
    "BWsource.head()"
   ]
  },
  {
   "cell_type": "code",
   "execution_count": 278,
   "metadata": {},
   "outputs": [],
   "source": [
    "def Filtvar(df, col):\n",
    "    \"\"\"\n",
    "    Picks up the rows with desired variables\n",
    "\n",
    "    :input: Name of the dataframe and the desired variable in quotes ('').\n",
    "\n",
    "    :return: pandas dataframe with only the desired variable in the VarName-column.\n",
    "    In addition, returns the dimensions of the new filtered DataFrame.\n",
    "    \"\"\"\n",
    "\n",
    "    df = df[df.VarName == col]\n",
    "    n = df.shape[1]        # second element of \"dimension\" is the number of cols\n",
    "    m = df.shape[0]        # first element of dimension is the number of rows\n",
    "    \n",
    "    print('sample size m=',m)\n",
    "    print('feature length n=',n)\n",
    "\n",
    "    return df, m, n"
   ]
  },
  {
   "cell_type": "code",
   "execution_count": 279,
   "metadata": {},
   "outputs": [
    {
     "name": "stdout",
     "output_type": "stream",
     "text": [
      "sample size m= 125000\n",
      "feature length n= 6\n"
     ]
    }
   ],
   "source": [
    "DWtest, m, n, = Filtvar(DWsource, 'inc_1_lower_feeding_gate_status')"
   ]
  },
  {
   "cell_type": "code",
   "execution_count": 280,
   "metadata": {},
   "outputs": [
    {
     "data": {
      "text/html": [
       "<div>\n",
       "<style scoped>\n",
       "    .dataframe tbody tr th:only-of-type {\n",
       "        vertical-align: middle;\n",
       "    }\n",
       "\n",
       "    .dataframe tbody tr th {\n",
       "        vertical-align: top;\n",
       "    }\n",
       "\n",
       "    .dataframe thead th {\n",
       "        text-align: right;\n",
       "    }\n",
       "</style>\n",
       "<table border=\"1\" class=\"dataframe\">\n",
       "  <thead>\n",
       "    <tr style=\"text-align: right;\">\n",
       "      <th></th>\n",
       "      <th>VarName</th>\n",
       "      <th>TimeString</th>\n",
       "      <th>VarValue</th>\n",
       "      <th>Validity</th>\n",
       "      <th>Time_ms</th>\n",
       "      <th>DateTime</th>\n",
       "    </tr>\n",
       "  </thead>\n",
       "  <tbody>\n",
       "    <tr>\n",
       "      <th>2</th>\n",
       "      <td>inc_1_lower_feeding_gate_status</td>\n",
       "      <td>17.02.2018 21:03:15</td>\n",
       "      <td>-10</td>\n",
       "      <td>1</td>\n",
       "      <td>43148877259,4097</td>\n",
       "      <td>2018-02-17 21:03:15</td>\n",
       "    </tr>\n",
       "    <tr>\n",
       "      <th>6</th>\n",
       "      <td>inc_1_lower_feeding_gate_status</td>\n",
       "      <td>17.02.2018 21:03:16</td>\n",
       "      <td>-10</td>\n",
       "      <td>1</td>\n",
       "      <td>43148877271,0995</td>\n",
       "      <td>2018-02-17 21:03:16</td>\n",
       "    </tr>\n",
       "    <tr>\n",
       "      <th>10</th>\n",
       "      <td>inc_1_lower_feeding_gate_status</td>\n",
       "      <td>17.02.2018 21:03:17</td>\n",
       "      <td>-10</td>\n",
       "      <td>1</td>\n",
       "      <td>43148877282,8125</td>\n",
       "      <td>2018-02-17 21:03:17</td>\n",
       "    </tr>\n",
       "    <tr>\n",
       "      <th>14</th>\n",
       "      <td>inc_1_lower_feeding_gate_status</td>\n",
       "      <td>17.02.2018 21:03:18</td>\n",
       "      <td>-10</td>\n",
       "      <td>1</td>\n",
       "      <td>43148877294,5023</td>\n",
       "      <td>2018-02-17 21:03:18</td>\n",
       "    </tr>\n",
       "    <tr>\n",
       "      <th>18</th>\n",
       "      <td>inc_1_lower_feeding_gate_status</td>\n",
       "      <td>17.02.2018 21:03:19</td>\n",
       "      <td>-10</td>\n",
       "      <td>1</td>\n",
       "      <td>43148877306,2037</td>\n",
       "      <td>2018-02-17 21:03:19</td>\n",
       "    </tr>\n",
       "  </tbody>\n",
       "</table>\n",
       "</div>"
      ],
      "text/plain": [
       "                            VarName           TimeString  VarValue  Validity  \\\n",
       "2   inc_1_lower_feeding_gate_status  17.02.2018 21:03:15       -10         1   \n",
       "6   inc_1_lower_feeding_gate_status  17.02.2018 21:03:16       -10         1   \n",
       "10  inc_1_lower_feeding_gate_status  17.02.2018 21:03:17       -10         1   \n",
       "14  inc_1_lower_feeding_gate_status  17.02.2018 21:03:18       -10         1   \n",
       "18  inc_1_lower_feeding_gate_status  17.02.2018 21:03:19       -10         1   \n",
       "\n",
       "             Time_ms            DateTime  \n",
       "2   43148877259,4097 2018-02-17 21:03:15  \n",
       "6   43148877271,0995 2018-02-17 21:03:16  \n",
       "10  43148877282,8125 2018-02-17 21:03:17  \n",
       "14  43148877294,5023 2018-02-17 21:03:18  \n",
       "18  43148877306,2037 2018-02-17 21:03:19  "
      ]
     },
     "execution_count": 280,
     "metadata": {},
     "output_type": "execute_result"
    }
   ],
   "source": [
    "DWtest.head()"
   ]
  },
  {
   "cell_type": "code",
   "execution_count": 281,
   "metadata": {},
   "outputs": [
    {
     "data": {
      "text/plain": [
       "-10    119122\n",
       " 0       5384\n",
       " 10       494\n",
       "Name: VarValue, dtype: int64"
      ]
     },
     "execution_count": 281,
     "metadata": {},
     "output_type": "execute_result"
    }
   ],
   "source": [
    "DWtest.VarValue.value_counts()"
   ]
  },
  {
   "cell_type": "code",
   "execution_count": 282,
   "metadata": {},
   "outputs": [
    {
     "data": {
      "text/plain": [
       "[<matplotlib.lines.Line2D at 0x1a479d8b38>]"
      ]
     },
     "execution_count": 282,
     "metadata": {},
     "output_type": "execute_result"
    },
    {
     "data": {
      "image/png": "[encoded data removed]",
      "text/plain": [
       "<Figure size 432x288 with 1 Axes>"
      ]
     },
     "metadata": {
      "needs_background": "light"
     },
     "output_type": "display_data"
    }
   ],
   "source": [
    "plt.plot(DWtest.DateTime, DWtest.VarValue)# Shows only time for waste burning. Data not applicable for prediction."
   ]
  },
  {
   "cell_type": "code",
   "execution_count": 283,
   "metadata": {},
   "outputs": [
    {
     "name": "stdout",
     "output_type": "stream",
     "text": [
      "sample size m= 67144\n",
      "feature length n= 6\n"
     ]
    }
   ],
   "source": [
    "FWA, m, n, = Filtvar(FWAsource, 'FOODWASTE_TANK_A_LEVEL_TREND')"
   ]
  },
  {
   "cell_type": "code",
   "execution_count": 316,
   "metadata": {},
   "outputs": [
    {
     "data": {
      "text/html": [
       "<div>\n",
       "<style scoped>\n",
       "    .dataframe tbody tr th:only-of-type {\n",
       "        vertical-align: middle;\n",
       "    }\n",
       "\n",
       "    .dataframe tbody tr th {\n",
       "        vertical-align: top;\n",
       "    }\n",
       "\n",
       "    .dataframe thead th {\n",
       "        text-align: right;\n",
       "    }\n",
       "</style>\n",
       "<table border=\"1\" class=\"dataframe\">\n",
       "  <thead>\n",
       "    <tr style=\"text-align: right;\">\n",
       "      <th></th>\n",
       "      <th>VarName</th>\n",
       "      <th>TimeString</th>\n",
       "      <th>VarValue</th>\n",
       "      <th>Validity</th>\n",
       "      <th>Time_ms</th>\n",
       "      <th>DateTime</th>\n",
       "      <th>Diff</th>\n",
       "      <th>incrVsum</th>\n",
       "      <th>lhFlow</th>\n",
       "    </tr>\n",
       "  </thead>\n",
       "  <tbody>\n",
       "    <tr>\n",
       "      <th>4325</th>\n",
       "      <td>FOODWASTE_TANK_A_LEVEL_TREND</td>\n",
       "      <td>25.02.2018 17:08:04</td>\n",
       "      <td>50</td>\n",
       "      <td>1</td>\n",
       "      <td>43156713934,7454</td>\n",
       "      <td>2018-02-25 17:08:04</td>\n",
       "      <td>0.0</td>\n",
       "      <td>0.3</td>\n",
       "      <td>300.0</td>\n",
       "    </tr>\n",
       "    <tr>\n",
       "      <th>4332</th>\n",
       "      <td>FOODWASTE_TANK_A_LEVEL_TREND</td>\n",
       "      <td>25.02.2018 17:08:09</td>\n",
       "      <td>50</td>\n",
       "      <td>1</td>\n",
       "      <td>43156713993,2176</td>\n",
       "      <td>2018-02-25 17:08:09</td>\n",
       "      <td>0.0</td>\n",
       "      <td>0.3</td>\n",
       "      <td>300.0</td>\n",
       "    </tr>\n",
       "    <tr>\n",
       "      <th>4337</th>\n",
       "      <td>FOODWASTE_TANK_A_LEVEL_TREND</td>\n",
       "      <td>25.02.2018 17:08:14</td>\n",
       "      <td>50</td>\n",
       "      <td>1</td>\n",
       "      <td>43156714051,6782</td>\n",
       "      <td>2018-02-25 17:08:14</td>\n",
       "      <td>0.0</td>\n",
       "      <td>0.3</td>\n",
       "      <td>300.0</td>\n",
       "    </tr>\n",
       "    <tr>\n",
       "      <th>4344</th>\n",
       "      <td>FOODWASTE_TANK_A_LEVEL_TREND</td>\n",
       "      <td>25.02.2018 17:08:19</td>\n",
       "      <td>50</td>\n",
       "      <td>1</td>\n",
       "      <td>43156714110,1505</td>\n",
       "      <td>2018-02-25 17:08:19</td>\n",
       "      <td>0.0</td>\n",
       "      <td>0.3</td>\n",
       "      <td>300.0</td>\n",
       "    </tr>\n",
       "    <tr>\n",
       "      <th>4349</th>\n",
       "      <td>FOODWASTE_TANK_A_LEVEL_TREND</td>\n",
       "      <td>25.02.2018 17:08:24</td>\n",
       "      <td>50</td>\n",
       "      <td>1</td>\n",
       "      <td>43156714168,6227</td>\n",
       "      <td>2018-02-25 17:08:24</td>\n",
       "      <td>0.0</td>\n",
       "      <td>0.3</td>\n",
       "      <td>300.0</td>\n",
       "    </tr>\n",
       "  </tbody>\n",
       "</table>\n",
       "</div>"
      ],
      "text/plain": [
       "                           VarName           TimeString  VarValue  Validity  \\\n",
       "4325  FOODWASTE_TANK_A_LEVEL_TREND  25.02.2018 17:08:04        50         1   \n",
       "4332  FOODWASTE_TANK_A_LEVEL_TREND  25.02.2018 17:08:09        50         1   \n",
       "4337  FOODWASTE_TANK_A_LEVEL_TREND  25.02.2018 17:08:14        50         1   \n",
       "4344  FOODWASTE_TANK_A_LEVEL_TREND  25.02.2018 17:08:19        50         1   \n",
       "4349  FOODWASTE_TANK_A_LEVEL_TREND  25.02.2018 17:08:24        50         1   \n",
       "\n",
       "               Time_ms            DateTime  Diff  incrVsum  lhFlow  \n",
       "4325  43156713934,7454 2018-02-25 17:08:04   0.0       0.3   300.0  \n",
       "4332  43156713993,2176 2018-02-25 17:08:09   0.0       0.3   300.0  \n",
       "4337  43156714051,6782 2018-02-25 17:08:14   0.0       0.3   300.0  \n",
       "4344  43156714110,1505 2018-02-25 17:08:19   0.0       0.3   300.0  \n",
       "4349  43156714168,6227 2018-02-25 17:08:24   0.0       0.3   300.0  "
      ]
     },
     "execution_count": 316,
     "metadata": {},
     "output_type": "execute_result"
    }
   ],
   "source": [
    "FWA.head()"
   ]
  },
  {
   "cell_type": "code",
   "execution_count": 317,
   "metadata": {},
   "outputs": [
    {
     "data": {
      "text/html": [
       "<div>\n",
       "<style scoped>\n",
       "    .dataframe tbody tr th:only-of-type {\n",
       "        vertical-align: middle;\n",
       "    }\n",
       "\n",
       "    .dataframe tbody tr th {\n",
       "        vertical-align: top;\n",
       "    }\n",
       "\n",
       "    .dataframe thead th {\n",
       "        text-align: right;\n",
       "    }\n",
       "</style>\n",
       "<table border=\"1\" class=\"dataframe\">\n",
       "  <thead>\n",
       "    <tr style=\"text-align: right;\">\n",
       "      <th></th>\n",
       "      <th>VarName</th>\n",
       "      <th>TimeString</th>\n",
       "      <th>VarValue</th>\n",
       "      <th>Validity</th>\n",
       "      <th>Time_ms</th>\n",
       "      <th>DateTime</th>\n",
       "      <th>Diff</th>\n",
       "      <th>incrVsum</th>\n",
       "      <th>lhFlow</th>\n",
       "    </tr>\n",
       "  </thead>\n",
       "  <tbody>\n",
       "    <tr>\n",
       "      <th>402833</th>\n",
       "      <td>FOODWASTE_TANK_A_LEVEL_TREND</td>\n",
       "      <td>01.03.2018 14:19:11</td>\n",
       "      <td>35</td>\n",
       "      <td>1</td>\n",
       "      <td>43160596653,0324</td>\n",
       "      <td>2018-03-01 14:19:11</td>\n",
       "      <td>1.0</td>\n",
       "      <td>62.60</td>\n",
       "      <td>1400.0</td>\n",
       "    </tr>\n",
       "    <tr>\n",
       "      <th>402840</th>\n",
       "      <td>FOODWASTE_TANK_A_LEVEL_TREND</td>\n",
       "      <td>01.03.2018 14:19:16</td>\n",
       "      <td>34</td>\n",
       "      <td>1</td>\n",
       "      <td>43160596711,5046</td>\n",
       "      <td>2018-03-01 14:19:16</td>\n",
       "      <td>-1.0</td>\n",
       "      <td>62.55</td>\n",
       "      <td>1350.0</td>\n",
       "    </tr>\n",
       "    <tr>\n",
       "      <th>402845</th>\n",
       "      <td>FOODWASTE_TANK_A_LEVEL_TREND</td>\n",
       "      <td>01.03.2018 14:19:21</td>\n",
       "      <td>35</td>\n",
       "      <td>1</td>\n",
       "      <td>43160596769,9884</td>\n",
       "      <td>2018-03-01 14:19:21</td>\n",
       "      <td>1.0</td>\n",
       "      <td>62.60</td>\n",
       "      <td>1450.0</td>\n",
       "    </tr>\n",
       "    <tr>\n",
       "      <th>402852</th>\n",
       "      <td>FOODWASTE_TANK_A_LEVEL_TREND</td>\n",
       "      <td>01.03.2018 14:19:26</td>\n",
       "      <td>34</td>\n",
       "      <td>1</td>\n",
       "      <td>43160596828,4606</td>\n",
       "      <td>2018-03-01 14:19:26</td>\n",
       "      <td>-1.0</td>\n",
       "      <td>62.55</td>\n",
       "      <td>1450.0</td>\n",
       "    </tr>\n",
       "    <tr>\n",
       "      <th>402857</th>\n",
       "      <td>FOODWASTE_TANK_A_LEVEL_TREND</td>\n",
       "      <td>01.03.2018 14:19:31</td>\n",
       "      <td>33</td>\n",
       "      <td>1</td>\n",
       "      <td>43160596886,9329</td>\n",
       "      <td>2018-03-01 14:19:31</td>\n",
       "      <td>-1.0</td>\n",
       "      <td>62.50</td>\n",
       "      <td>1450.0</td>\n",
       "    </tr>\n",
       "  </tbody>\n",
       "</table>\n",
       "</div>"
      ],
      "text/plain": [
       "                             VarName           TimeString  VarValue  Validity  \\\n",
       "402833  FOODWASTE_TANK_A_LEVEL_TREND  01.03.2018 14:19:11        35         1   \n",
       "402840  FOODWASTE_TANK_A_LEVEL_TREND  01.03.2018 14:19:16        34         1   \n",
       "402845  FOODWASTE_TANK_A_LEVEL_TREND  01.03.2018 14:19:21        35         1   \n",
       "402852  FOODWASTE_TANK_A_LEVEL_TREND  01.03.2018 14:19:26        34         1   \n",
       "402857  FOODWASTE_TANK_A_LEVEL_TREND  01.03.2018 14:19:31        33         1   \n",
       "\n",
       "                 Time_ms            DateTime  Diff  incrVsum  lhFlow  \n",
       "402833  43160596653,0324 2018-03-01 14:19:11   1.0     62.60  1400.0  \n",
       "402840  43160596711,5046 2018-03-01 14:19:16  -1.0     62.55  1350.0  \n",
       "402845  43160596769,9884 2018-03-01 14:19:21   1.0     62.60  1450.0  \n",
       "402852  43160596828,4606 2018-03-01 14:19:26  -1.0     62.55  1450.0  \n",
       "402857  43160596886,9329 2018-03-01 14:19:31  -1.0     62.50  1450.0  "
      ]
     },
     "execution_count": 317,
     "metadata": {},
     "output_type": "execute_result"
    }
   ],
   "source": [
    "FWA.tail()"
   ]
  },
  {
   "cell_type": "code",
   "execution_count": 285,
   "metadata": {},
   "outputs": [
    {
     "data": {
      "text/plain": [
       "[<matplotlib.lines.Line2D at 0x1a585c5cc0>]"
      ]
     },
     "execution_count": 285,
     "metadata": {},
     "output_type": "execute_result"
    },
    {
     "data": {
      "image/png": "[encoded data removed]",
      "text/plain": [
       "<Figure size 432x288 with 1 Axes>"
      ]
     },
     "metadata": {
      "needs_background": "light"
     },
     "output_type": "display_data"
    }
   ],
   "source": [
    "plt.plot(FWA.DateTime, FWA.VarValue) # Discharge pumping can be seen in the plot"
   ]
  },
  {
   "cell_type": "code",
   "execution_count": 286,
   "metadata": {},
   "outputs": [
    {
     "name": "stdout",
     "output_type": "stream",
     "text": [
      "sample size m= 67144\n",
      "feature length n= 6\n"
     ]
    }
   ],
   "source": [
    "FWB, m, n, = Filtvar(FWBsource, 'FOODWASTE_TANK_B_LEVEL_TREND')"
   ]
  },
  {
   "cell_type": "code",
   "execution_count": 318,
   "metadata": {},
   "outputs": [
    {
     "data": {
      "text/html": [
       "<div>\n",
       "<style scoped>\n",
       "    .dataframe tbody tr th:only-of-type {\n",
       "        vertical-align: middle;\n",
       "    }\n",
       "\n",
       "    .dataframe tbody tr th {\n",
       "        vertical-align: top;\n",
       "    }\n",
       "\n",
       "    .dataframe thead th {\n",
       "        text-align: right;\n",
       "    }\n",
       "</style>\n",
       "<table border=\"1\" class=\"dataframe\">\n",
       "  <thead>\n",
       "    <tr style=\"text-align: right;\">\n",
       "      <th></th>\n",
       "      <th>VarName</th>\n",
       "      <th>TimeString</th>\n",
       "      <th>VarValue</th>\n",
       "      <th>Validity</th>\n",
       "      <th>Time_ms</th>\n",
       "      <th>DateTime</th>\n",
       "      <th>Diff</th>\n",
       "      <th>incrVsum</th>\n",
       "      <th>lhFlow</th>\n",
       "    </tr>\n",
       "  </thead>\n",
       "  <tbody>\n",
       "    <tr>\n",
       "      <th>4325</th>\n",
       "      <td>FOODWASTE_TANK_B_LEVEL_TREND</td>\n",
       "      <td>25.02.2018 17:08:04</td>\n",
       "      <td>18</td>\n",
       "      <td>1</td>\n",
       "      <td>43156713934,7454</td>\n",
       "      <td>2018-02-25 17:08:04</td>\n",
       "      <td>0.0</td>\n",
       "      <td>0.3</td>\n",
       "      <td>300.0</td>\n",
       "    </tr>\n",
       "    <tr>\n",
       "      <th>4332</th>\n",
       "      <td>FOODWASTE_TANK_B_LEVEL_TREND</td>\n",
       "      <td>25.02.2018 17:08:09</td>\n",
       "      <td>18</td>\n",
       "      <td>1</td>\n",
       "      <td>43156713993,2176</td>\n",
       "      <td>2018-02-25 17:08:09</td>\n",
       "      <td>0.0</td>\n",
       "      <td>0.3</td>\n",
       "      <td>250.0</td>\n",
       "    </tr>\n",
       "    <tr>\n",
       "      <th>4337</th>\n",
       "      <td>FOODWASTE_TANK_B_LEVEL_TREND</td>\n",
       "      <td>25.02.2018 17:08:14</td>\n",
       "      <td>18</td>\n",
       "      <td>1</td>\n",
       "      <td>43156714051,6782</td>\n",
       "      <td>2018-02-25 17:08:14</td>\n",
       "      <td>0.0</td>\n",
       "      <td>0.3</td>\n",
       "      <td>300.0</td>\n",
       "    </tr>\n",
       "    <tr>\n",
       "      <th>4344</th>\n",
       "      <td>FOODWASTE_TANK_B_LEVEL_TREND</td>\n",
       "      <td>25.02.2018 17:08:19</td>\n",
       "      <td>18</td>\n",
       "      <td>1</td>\n",
       "      <td>43156714110,1505</td>\n",
       "      <td>2018-02-25 17:08:19</td>\n",
       "      <td>0.0</td>\n",
       "      <td>0.3</td>\n",
       "      <td>250.0</td>\n",
       "    </tr>\n",
       "    <tr>\n",
       "      <th>4349</th>\n",
       "      <td>FOODWASTE_TANK_B_LEVEL_TREND</td>\n",
       "      <td>25.02.2018 17:08:24</td>\n",
       "      <td>18</td>\n",
       "      <td>1</td>\n",
       "      <td>43156714168,6227</td>\n",
       "      <td>2018-02-25 17:08:24</td>\n",
       "      <td>0.0</td>\n",
       "      <td>0.3</td>\n",
       "      <td>300.0</td>\n",
       "    </tr>\n",
       "  </tbody>\n",
       "</table>\n",
       "</div>"
      ],
      "text/plain": [
       "                           VarName           TimeString  VarValue  Validity  \\\n",
       "4325  FOODWASTE_TANK_B_LEVEL_TREND  25.02.2018 17:08:04        18         1   \n",
       "4332  FOODWASTE_TANK_B_LEVEL_TREND  25.02.2018 17:08:09        18         1   \n",
       "4337  FOODWASTE_TANK_B_LEVEL_TREND  25.02.2018 17:08:14        18         1   \n",
       "4344  FOODWASTE_TANK_B_LEVEL_TREND  25.02.2018 17:08:19        18         1   \n",
       "4349  FOODWASTE_TANK_B_LEVEL_TREND  25.02.2018 17:08:24        18         1   \n",
       "\n",
       "               Time_ms            DateTime  Diff  incrVsum  lhFlow  \n",
       "4325  43156713934,7454 2018-02-25 17:08:04   0.0       0.3   300.0  \n",
       "4332  43156713993,2176 2018-02-25 17:08:09   0.0       0.3   250.0  \n",
       "4337  43156714051,6782 2018-02-25 17:08:14   0.0       0.3   300.0  \n",
       "4344  43156714110,1505 2018-02-25 17:08:19   0.0       0.3   250.0  \n",
       "4349  43156714168,6227 2018-02-25 17:08:24   0.0       0.3   300.0  "
      ]
     },
     "execution_count": 318,
     "metadata": {},
     "output_type": "execute_result"
    }
   ],
   "source": [
    "FWB.head()"
   ]
  },
  {
   "cell_type": "code",
   "execution_count": 319,
   "metadata": {},
   "outputs": [
    {
     "data": {
      "text/html": [
       "<div>\n",
       "<style scoped>\n",
       "    .dataframe tbody tr th:only-of-type {\n",
       "        vertical-align: middle;\n",
       "    }\n",
       "\n",
       "    .dataframe tbody tr th {\n",
       "        vertical-align: top;\n",
       "    }\n",
       "\n",
       "    .dataframe thead th {\n",
       "        text-align: right;\n",
       "    }\n",
       "</style>\n",
       "<table border=\"1\" class=\"dataframe\">\n",
       "  <thead>\n",
       "    <tr style=\"text-align: right;\">\n",
       "      <th></th>\n",
       "      <th>VarName</th>\n",
       "      <th>TimeString</th>\n",
       "      <th>VarValue</th>\n",
       "      <th>Validity</th>\n",
       "      <th>Time_ms</th>\n",
       "      <th>DateTime</th>\n",
       "      <th>Diff</th>\n",
       "      <th>incrVsum</th>\n",
       "      <th>lhFlow</th>\n",
       "    </tr>\n",
       "  </thead>\n",
       "  <tbody>\n",
       "    <tr>\n",
       "      <th>402833</th>\n",
       "      <td>FOODWASTE_TANK_B_LEVEL_TREND</td>\n",
       "      <td>01.03.2018 14:19:11</td>\n",
       "      <td>21</td>\n",
       "      <td>1</td>\n",
       "      <td>43160596653,0324</td>\n",
       "      <td>2018-03-01 14:19:11</td>\n",
       "      <td>0.0</td>\n",
       "      <td>83.85</td>\n",
       "      <td>850.0</td>\n",
       "    </tr>\n",
       "    <tr>\n",
       "      <th>402840</th>\n",
       "      <td>FOODWASTE_TANK_B_LEVEL_TREND</td>\n",
       "      <td>01.03.2018 14:19:16</td>\n",
       "      <td>21</td>\n",
       "      <td>1</td>\n",
       "      <td>43160596711,5046</td>\n",
       "      <td>2018-03-01 14:19:16</td>\n",
       "      <td>0.0</td>\n",
       "      <td>83.85</td>\n",
       "      <td>850.0</td>\n",
       "    </tr>\n",
       "    <tr>\n",
       "      <th>402845</th>\n",
       "      <td>FOODWASTE_TANK_B_LEVEL_TREND</td>\n",
       "      <td>01.03.2018 14:19:21</td>\n",
       "      <td>21</td>\n",
       "      <td>1</td>\n",
       "      <td>43160596769,9884</td>\n",
       "      <td>2018-03-01 14:19:21</td>\n",
       "      <td>0.0</td>\n",
       "      <td>83.85</td>\n",
       "      <td>850.0</td>\n",
       "    </tr>\n",
       "    <tr>\n",
       "      <th>402852</th>\n",
       "      <td>FOODWASTE_TANK_B_LEVEL_TREND</td>\n",
       "      <td>01.03.2018 14:19:26</td>\n",
       "      <td>21</td>\n",
       "      <td>1</td>\n",
       "      <td>43160596828,4606</td>\n",
       "      <td>2018-03-01 14:19:26</td>\n",
       "      <td>0.0</td>\n",
       "      <td>83.85</td>\n",
       "      <td>850.0</td>\n",
       "    </tr>\n",
       "    <tr>\n",
       "      <th>402857</th>\n",
       "      <td>FOODWASTE_TANK_B_LEVEL_TREND</td>\n",
       "      <td>01.03.2018 14:19:31</td>\n",
       "      <td>21</td>\n",
       "      <td>1</td>\n",
       "      <td>43160596886,9329</td>\n",
       "      <td>2018-03-01 14:19:31</td>\n",
       "      <td>0.0</td>\n",
       "      <td>83.85</td>\n",
       "      <td>850.0</td>\n",
       "    </tr>\n",
       "  </tbody>\n",
       "</table>\n",
       "</div>"
      ],
      "text/plain": [
       "                             VarName           TimeString  VarValue  Validity  \\\n",
       "402833  FOODWASTE_TANK_B_LEVEL_TREND  01.03.2018 14:19:11        21         1   \n",
       "402840  FOODWASTE_TANK_B_LEVEL_TREND  01.03.2018 14:19:16        21         1   \n",
       "402845  FOODWASTE_TANK_B_LEVEL_TREND  01.03.2018 14:19:21        21         1   \n",
       "402852  FOODWASTE_TANK_B_LEVEL_TREND  01.03.2018 14:19:26        21         1   \n",
       "402857  FOODWASTE_TANK_B_LEVEL_TREND  01.03.2018 14:19:31        21         1   \n",
       "\n",
       "                 Time_ms            DateTime  Diff  incrVsum  lhFlow  \n",
       "402833  43160596653,0324 2018-03-01 14:19:11   0.0     83.85   850.0  \n",
       "402840  43160596711,5046 2018-03-01 14:19:16   0.0     83.85   850.0  \n",
       "402845  43160596769,9884 2018-03-01 14:19:21   0.0     83.85   850.0  \n",
       "402852  43160596828,4606 2018-03-01 14:19:26   0.0     83.85   850.0  \n",
       "402857  43160596886,9329 2018-03-01 14:19:31   0.0     83.85   850.0  "
      ]
     },
     "execution_count": 319,
     "metadata": {},
     "output_type": "execute_result"
    }
   ],
   "source": [
    "FWB.tail()"
   ]
  },
  {
   "cell_type": "code",
   "execution_count": 288,
   "metadata": {},
   "outputs": [
    {
     "data": {
      "text/plain": [
       "[<matplotlib.lines.Line2D at 0x1a5dba74e0>]"
      ]
     },
     "execution_count": 288,
     "metadata": {},
     "output_type": "execute_result"
    },
    {
     "data": {
      "image/png": "[encoded data removed]",
      "text/plain": [
       "<Figure size 432x288 with 1 Axes>"
      ]
     },
     "metadata": {
      "needs_background": "light"
     },
     "output_type": "display_data"
    }
   ],
   "source": [
    "plt.plot(FWB.DateTime, FWB.VarValue)"
   ]
  },
  {
   "cell_type": "code",
   "execution_count": 289,
   "metadata": {},
   "outputs": [
    {
     "name": "stdout",
     "output_type": "stream",
     "text": [
      "sample size m= 200476\n",
      "feature length n= 6\n"
     ]
    }
   ],
   "source": [
    "BW, m, n, = Filtvar(BWsource, 'BIO_SLUDGE_TANK_LEVEL_TREND')"
   ]
  },
  {
   "cell_type": "code",
   "execution_count": 290,
   "metadata": {},
   "outputs": [
    {
     "data": {
      "text/plain": [
       "[<matplotlib.lines.Line2D at 0x1a60961be0>]"
      ]
     },
     "execution_count": 290,
     "metadata": {},
     "output_type": "execute_result"
    },
    {
     "data": {
      "image/png": "[encoded data removed]",
      "text/plain": [
       "<Figure size 432x288 with 1 Axes>"
      ]
     },
     "metadata": {
      "needs_background": "light"
     },
     "output_type": "display_data"
    }
   ],
   "source": [
    "plt.plot(BW.DateTime, BW.VarValue)# Data cannot be used!!!!"
   ]
  },
  {
   "cell_type": "code",
   "execution_count": 291,
   "metadata": {},
   "outputs": [],
   "source": [
    "def Diff(df):\n",
    "    \"\"\"\n",
    "    Calculates difference between subsequent rows and adds the result created to Diff-column.\n",
    "    In addition, removes NaN-values from the created Diff-column.\n",
    "    Also, removes the discharge from level measurement: Removes negative value < -1 \n",
    "    and replaces the the values by zero\n",
    "    \n",
    "\n",
    "    :input: Name of the dataframe.\n",
    "\n",
    "    :return: pandas dataframe with a new Diff-column containing difference between subsequent rows.\n",
    "    \n",
    "    \"\"\"\n",
    "\n",
    "    df['Diff'] = df['VarValue'].diff()\n",
    "    df.dropna(inplace=True)\n",
    "    df.Diff.where(df.Diff > -2, 0, inplace=True)\n",
    "    \n",
    "    return df"
   ]
  },
  {
   "cell_type": "code",
   "execution_count": null,
   "metadata": {},
   "outputs": [],
   "source": [
    "BWtest = Diff(BW)"
   ]
  },
  {
   "cell_type": "code",
   "execution_count": 314,
   "metadata": {},
   "outputs": [
    {
     "data": {
      "text/html": [
       "<div>\n",
       "<style scoped>\n",
       "    .dataframe tbody tr th:only-of-type {\n",
       "        vertical-align: middle;\n",
       "    }\n",
       "\n",
       "    .dataframe tbody tr th {\n",
       "        vertical-align: top;\n",
       "    }\n",
       "\n",
       "    .dataframe thead th {\n",
       "        text-align: right;\n",
       "    }\n",
       "</style>\n",
       "<table border=\"1\" class=\"dataframe\">\n",
       "  <thead>\n",
       "    <tr style=\"text-align: right;\">\n",
       "      <th></th>\n",
       "      <th>VarName</th>\n",
       "      <th>TimeString</th>\n",
       "      <th>VarValue</th>\n",
       "      <th>Validity</th>\n",
       "      <th>Time_ms</th>\n",
       "      <th>DateTime</th>\n",
       "      <th>Diff</th>\n",
       "    </tr>\n",
       "  </thead>\n",
       "  <tbody>\n",
       "    <tr>\n",
       "      <th>3</th>\n",
       "      <td>BIO_SLUDGE_TANK_LEVEL_TREND</td>\n",
       "      <td>17.02.2018 21:03:31</td>\n",
       "      <td>19</td>\n",
       "      <td>1</td>\n",
       "      <td>43148877446,5162</td>\n",
       "      <td>2018-02-17 21:03:31</td>\n",
       "      <td>0.0</td>\n",
       "    </tr>\n",
       "    <tr>\n",
       "      <th>5</th>\n",
       "      <td>BIO_SLUDGE_TANK_LEVEL_TREND</td>\n",
       "      <td>17.02.2018 21:03:36</td>\n",
       "      <td>19</td>\n",
       "      <td>1</td>\n",
       "      <td>43148877505</td>\n",
       "      <td>2018-02-17 21:03:36</td>\n",
       "      <td>0.0</td>\n",
       "    </tr>\n",
       "    <tr>\n",
       "      <th>7</th>\n",
       "      <td>BIO_SLUDGE_TANK_LEVEL_TREND</td>\n",
       "      <td>17.02.2018 21:03:41</td>\n",
       "      <td>19</td>\n",
       "      <td>1</td>\n",
       "      <td>43148877563,4606</td>\n",
       "      <td>2018-02-17 21:03:41</td>\n",
       "      <td>0.0</td>\n",
       "    </tr>\n",
       "    <tr>\n",
       "      <th>9</th>\n",
       "      <td>BIO_SLUDGE_TANK_LEVEL_TREND</td>\n",
       "      <td>17.02.2018 21:03:47</td>\n",
       "      <td>19</td>\n",
       "      <td>1</td>\n",
       "      <td>43148877621,956</td>\n",
       "      <td>2018-02-17 21:03:47</td>\n",
       "      <td>0.0</td>\n",
       "    </tr>\n",
       "    <tr>\n",
       "      <th>11</th>\n",
       "      <td>BIO_SLUDGE_TANK_LEVEL_TREND</td>\n",
       "      <td>17.02.2018 21:03:52</td>\n",
       "      <td>19</td>\n",
       "      <td>1</td>\n",
       "      <td>43148877680,4051</td>\n",
       "      <td>2018-02-17 21:03:52</td>\n",
       "      <td>0.0</td>\n",
       "    </tr>\n",
       "  </tbody>\n",
       "</table>\n",
       "</div>"
      ],
      "text/plain": [
       "                        VarName           TimeString  VarValue  Validity  \\\n",
       "3   BIO_SLUDGE_TANK_LEVEL_TREND  17.02.2018 21:03:31        19         1   \n",
       "5   BIO_SLUDGE_TANK_LEVEL_TREND  17.02.2018 21:03:36        19         1   \n",
       "7   BIO_SLUDGE_TANK_LEVEL_TREND  17.02.2018 21:03:41        19         1   \n",
       "9   BIO_SLUDGE_TANK_LEVEL_TREND  17.02.2018 21:03:47        19         1   \n",
       "11  BIO_SLUDGE_TANK_LEVEL_TREND  17.02.2018 21:03:52        19         1   \n",
       "\n",
       "             Time_ms            DateTime  Diff  \n",
       "3   43148877446,5162 2018-02-17 21:03:31   0.0  \n",
       "5        43148877505 2018-02-17 21:03:36   0.0  \n",
       "7   43148877563,4606 2018-02-17 21:03:41   0.0  \n",
       "9    43148877621,956 2018-02-17 21:03:47   0.0  \n",
       "11  43148877680,4051 2018-02-17 21:03:52   0.0  "
      ]
     },
     "execution_count": 314,
     "metadata": {},
     "output_type": "execute_result"
    }
   ],
   "source": [
    "BWtest.head()"
   ]
  },
  {
   "cell_type": "code",
   "execution_count": 315,
   "metadata": {},
   "outputs": [
    {
     "data": {
      "text/html": [
       "<div>\n",
       "<style scoped>\n",
       "    .dataframe tbody tr th:only-of-type {\n",
       "        vertical-align: middle;\n",
       "    }\n",
       "\n",
       "    .dataframe tbody tr th {\n",
       "        vertical-align: top;\n",
       "    }\n",
       "\n",
       "    .dataframe thead th {\n",
       "        text-align: right;\n",
       "    }\n",
       "</style>\n",
       "<table border=\"1\" class=\"dataframe\">\n",
       "  <thead>\n",
       "    <tr style=\"text-align: right;\">\n",
       "      <th></th>\n",
       "      <th>VarName</th>\n",
       "      <th>TimeString</th>\n",
       "      <th>VarValue</th>\n",
       "      <th>Validity</th>\n",
       "      <th>Time_ms</th>\n",
       "      <th>DateTime</th>\n",
       "      <th>Diff</th>\n",
       "    </tr>\n",
       "  </thead>\n",
       "  <tbody>\n",
       "    <tr>\n",
       "      <th>400943</th>\n",
       "      <td>BIO_SLUDGE_TANK_LEVEL_TREND</td>\n",
       "      <td>01.03.2018 14:19:11</td>\n",
       "      <td>25</td>\n",
       "      <td>1</td>\n",
       "      <td>43160596653,0324</td>\n",
       "      <td>2018-03-01 14:19:11</td>\n",
       "      <td>0.0</td>\n",
       "    </tr>\n",
       "    <tr>\n",
       "      <th>400945</th>\n",
       "      <td>BIO_SLUDGE_TANK_LEVEL_TREND</td>\n",
       "      <td>01.03.2018 14:19:16</td>\n",
       "      <td>26</td>\n",
       "      <td>1</td>\n",
       "      <td>43160596711,5046</td>\n",
       "      <td>2018-03-01 14:19:16</td>\n",
       "      <td>1.0</td>\n",
       "    </tr>\n",
       "    <tr>\n",
       "      <th>400947</th>\n",
       "      <td>BIO_SLUDGE_TANK_LEVEL_TREND</td>\n",
       "      <td>01.03.2018 14:19:21</td>\n",
       "      <td>26</td>\n",
       "      <td>1</td>\n",
       "      <td>43160596769,9884</td>\n",
       "      <td>2018-03-01 14:19:21</td>\n",
       "      <td>0.0</td>\n",
       "    </tr>\n",
       "    <tr>\n",
       "      <th>400949</th>\n",
       "      <td>BIO_SLUDGE_TANK_LEVEL_TREND</td>\n",
       "      <td>01.03.2018 14:19:26</td>\n",
       "      <td>26</td>\n",
       "      <td>1</td>\n",
       "      <td>43160596828,4606</td>\n",
       "      <td>2018-03-01 14:19:26</td>\n",
       "      <td>0.0</td>\n",
       "    </tr>\n",
       "    <tr>\n",
       "      <th>400951</th>\n",
       "      <td>BIO_SLUDGE_TANK_LEVEL_TREND</td>\n",
       "      <td>01.03.2018 14:19:31</td>\n",
       "      <td>26</td>\n",
       "      <td>1</td>\n",
       "      <td>43160596886,9329</td>\n",
       "      <td>2018-03-01 14:19:31</td>\n",
       "      <td>0.0</td>\n",
       "    </tr>\n",
       "  </tbody>\n",
       "</table>\n",
       "</div>"
      ],
      "text/plain": [
       "                            VarName           TimeString  VarValue  Validity  \\\n",
       "400943  BIO_SLUDGE_TANK_LEVEL_TREND  01.03.2018 14:19:11        25         1   \n",
       "400945  BIO_SLUDGE_TANK_LEVEL_TREND  01.03.2018 14:19:16        26         1   \n",
       "400947  BIO_SLUDGE_TANK_LEVEL_TREND  01.03.2018 14:19:21        26         1   \n",
       "400949  BIO_SLUDGE_TANK_LEVEL_TREND  01.03.2018 14:19:26        26         1   \n",
       "400951  BIO_SLUDGE_TANK_LEVEL_TREND  01.03.2018 14:19:31        26         1   \n",
       "\n",
       "                 Time_ms            DateTime  Diff  \n",
       "400943  43160596653,0324 2018-03-01 14:19:11   0.0  \n",
       "400945  43160596711,5046 2018-03-01 14:19:16   1.0  \n",
       "400947  43160596769,9884 2018-03-01 14:19:21   0.0  \n",
       "400949  43160596828,4606 2018-03-01 14:19:26   0.0  \n",
       "400951  43160596886,9329 2018-03-01 14:19:31   0.0  "
      ]
     },
     "execution_count": 315,
     "metadata": {},
     "output_type": "execute_result"
    }
   ],
   "source": [
    "BWtest.tail()"
   ]
  },
  {
   "cell_type": "code",
   "execution_count": null,
   "metadata": {},
   "outputs": [],
   "source": [
    "FW1 = Diff(FWA)"
   ]
  },
  {
   "cell_type": "code",
   "execution_count": null,
   "metadata": {},
   "outputs": [],
   "source": [
    "FW2 = Diff(FWB)"
   ]
  },
  {
   "cell_type": "code",
   "execution_count": 296,
   "metadata": {},
   "outputs": [
    {
     "data": {
      "text/html": [
       "<div>\n",
       "<style scoped>\n",
       "    .dataframe tbody tr th:only-of-type {\n",
       "        vertical-align: middle;\n",
       "    }\n",
       "\n",
       "    .dataframe tbody tr th {\n",
       "        vertical-align: top;\n",
       "    }\n",
       "\n",
       "    .dataframe thead th {\n",
       "        text-align: right;\n",
       "    }\n",
       "</style>\n",
       "<table border=\"1\" class=\"dataframe\">\n",
       "  <thead>\n",
       "    <tr style=\"text-align: right;\">\n",
       "      <th></th>\n",
       "      <th>VarName</th>\n",
       "      <th>TimeString</th>\n",
       "      <th>VarValue</th>\n",
       "      <th>Validity</th>\n",
       "      <th>Time_ms</th>\n",
       "      <th>DateTime</th>\n",
       "      <th>Diff</th>\n",
       "    </tr>\n",
       "  </thead>\n",
       "  <tbody>\n",
       "    <tr>\n",
       "      <th>5</th>\n",
       "      <td>FOODWASTE_TANK_A_LEVEL_TREND</td>\n",
       "      <td>25.02.2018 16:07:28</td>\n",
       "      <td>47</td>\n",
       "      <td>1</td>\n",
       "      <td>43156671846,9907</td>\n",
       "      <td>2018-02-25 16:07:28</td>\n",
       "      <td>0.0</td>\n",
       "    </tr>\n",
       "    <tr>\n",
       "      <th>12</th>\n",
       "      <td>FOODWASTE_TANK_A_LEVEL_TREND</td>\n",
       "      <td>25.02.2018 16:07:33</td>\n",
       "      <td>47</td>\n",
       "      <td>1</td>\n",
       "      <td>43156671905,4745</td>\n",
       "      <td>2018-02-25 16:07:33</td>\n",
       "      <td>0.0</td>\n",
       "    </tr>\n",
       "    <tr>\n",
       "      <th>17</th>\n",
       "      <td>FOODWASTE_TANK_A_LEVEL_TREND</td>\n",
       "      <td>25.02.2018 16:07:38</td>\n",
       "      <td>47</td>\n",
       "      <td>1</td>\n",
       "      <td>43156671963,9583</td>\n",
       "      <td>2018-02-25 16:07:38</td>\n",
       "      <td>0.0</td>\n",
       "    </tr>\n",
       "    <tr>\n",
       "      <th>24</th>\n",
       "      <td>FOODWASTE_TANK_A_LEVEL_TREND</td>\n",
       "      <td>25.02.2018 16:07:43</td>\n",
       "      <td>47</td>\n",
       "      <td>1</td>\n",
       "      <td>43156672022,4421</td>\n",
       "      <td>2018-02-25 16:07:43</td>\n",
       "      <td>0.0</td>\n",
       "    </tr>\n",
       "    <tr>\n",
       "      <th>29</th>\n",
       "      <td>FOODWASTE_TANK_A_LEVEL_TREND</td>\n",
       "      <td>25.02.2018 16:07:48</td>\n",
       "      <td>47</td>\n",
       "      <td>1</td>\n",
       "      <td>43156672080,9028</td>\n",
       "      <td>2018-02-25 16:07:48</td>\n",
       "      <td>0.0</td>\n",
       "    </tr>\n",
       "  </tbody>\n",
       "</table>\n",
       "</div>"
      ],
      "text/plain": [
       "                         VarName           TimeString  VarValue  Validity  \\\n",
       "5   FOODWASTE_TANK_A_LEVEL_TREND  25.02.2018 16:07:28        47         1   \n",
       "12  FOODWASTE_TANK_A_LEVEL_TREND  25.02.2018 16:07:33        47         1   \n",
       "17  FOODWASTE_TANK_A_LEVEL_TREND  25.02.2018 16:07:38        47         1   \n",
       "24  FOODWASTE_TANK_A_LEVEL_TREND  25.02.2018 16:07:43        47         1   \n",
       "29  FOODWASTE_TANK_A_LEVEL_TREND  25.02.2018 16:07:48        47         1   \n",
       "\n",
       "             Time_ms            DateTime  Diff  \n",
       "5   43156671846,9907 2018-02-25 16:07:28   0.0  \n",
       "12  43156671905,4745 2018-02-25 16:07:33   0.0  \n",
       "17  43156671963,9583 2018-02-25 16:07:38   0.0  \n",
       "24  43156672022,4421 2018-02-25 16:07:43   0.0  \n",
       "29  43156672080,9028 2018-02-25 16:07:48   0.0  "
      ]
     },
     "execution_count": 296,
     "metadata": {},
     "output_type": "execute_result"
    }
   ],
   "source": [
    "FW1.head()"
   ]
  },
  {
   "cell_type": "code",
   "execution_count": 297,
   "metadata": {},
   "outputs": [
    {
     "data": {
      "text/html": [
       "<div>\n",
       "<style scoped>\n",
       "    .dataframe tbody tr th:only-of-type {\n",
       "        vertical-align: middle;\n",
       "    }\n",
       "\n",
       "    .dataframe tbody tr th {\n",
       "        vertical-align: top;\n",
       "    }\n",
       "\n",
       "    .dataframe thead th {\n",
       "        text-align: right;\n",
       "    }\n",
       "</style>\n",
       "<table border=\"1\" class=\"dataframe\">\n",
       "  <thead>\n",
       "    <tr style=\"text-align: right;\">\n",
       "      <th></th>\n",
       "      <th>VarName</th>\n",
       "      <th>TimeString</th>\n",
       "      <th>VarValue</th>\n",
       "      <th>Validity</th>\n",
       "      <th>Time_ms</th>\n",
       "      <th>DateTime</th>\n",
       "      <th>Diff</th>\n",
       "    </tr>\n",
       "  </thead>\n",
       "  <tbody>\n",
       "    <tr>\n",
       "      <th>5</th>\n",
       "      <td>FOODWASTE_TANK_B_LEVEL_TREND</td>\n",
       "      <td>25.02.2018 16:07:28</td>\n",
       "      <td>14</td>\n",
       "      <td>1</td>\n",
       "      <td>43156671847,0023</td>\n",
       "      <td>2018-02-25 16:07:28</td>\n",
       "      <td>0.0</td>\n",
       "    </tr>\n",
       "    <tr>\n",
       "      <th>12</th>\n",
       "      <td>FOODWASTE_TANK_B_LEVEL_TREND</td>\n",
       "      <td>25.02.2018 16:07:33</td>\n",
       "      <td>15</td>\n",
       "      <td>1</td>\n",
       "      <td>43156671905,4745</td>\n",
       "      <td>2018-02-25 16:07:33</td>\n",
       "      <td>1.0</td>\n",
       "    </tr>\n",
       "    <tr>\n",
       "      <th>17</th>\n",
       "      <td>FOODWASTE_TANK_B_LEVEL_TREND</td>\n",
       "      <td>25.02.2018 16:07:38</td>\n",
       "      <td>14</td>\n",
       "      <td>1</td>\n",
       "      <td>43156671963,9699</td>\n",
       "      <td>2018-02-25 16:07:38</td>\n",
       "      <td>-1.0</td>\n",
       "    </tr>\n",
       "    <tr>\n",
       "      <th>24</th>\n",
       "      <td>FOODWASTE_TANK_B_LEVEL_TREND</td>\n",
       "      <td>25.02.2018 16:07:43</td>\n",
       "      <td>15</td>\n",
       "      <td>1</td>\n",
       "      <td>43156672022,4421</td>\n",
       "      <td>2018-02-25 16:07:43</td>\n",
       "      <td>1.0</td>\n",
       "    </tr>\n",
       "    <tr>\n",
       "      <th>29</th>\n",
       "      <td>FOODWASTE_TANK_B_LEVEL_TREND</td>\n",
       "      <td>25.02.2018 16:07:48</td>\n",
       "      <td>14</td>\n",
       "      <td>1</td>\n",
       "      <td>43156672080,9144</td>\n",
       "      <td>2018-02-25 16:07:48</td>\n",
       "      <td>-1.0</td>\n",
       "    </tr>\n",
       "  </tbody>\n",
       "</table>\n",
       "</div>"
      ],
      "text/plain": [
       "                         VarName           TimeString  VarValue  Validity  \\\n",
       "5   FOODWASTE_TANK_B_LEVEL_TREND  25.02.2018 16:07:28        14         1   \n",
       "12  FOODWASTE_TANK_B_LEVEL_TREND  25.02.2018 16:07:33        15         1   \n",
       "17  FOODWASTE_TANK_B_LEVEL_TREND  25.02.2018 16:07:38        14         1   \n",
       "24  FOODWASTE_TANK_B_LEVEL_TREND  25.02.2018 16:07:43        15         1   \n",
       "29  FOODWASTE_TANK_B_LEVEL_TREND  25.02.2018 16:07:48        14         1   \n",
       "\n",
       "             Time_ms            DateTime  Diff  \n",
       "5   43156671847,0023 2018-02-25 16:07:28   0.0  \n",
       "12  43156671905,4745 2018-02-25 16:07:33   1.0  \n",
       "17  43156671963,9699 2018-02-25 16:07:38  -1.0  \n",
       "24  43156672022,4421 2018-02-25 16:07:43   1.0  \n",
       "29  43156672080,9144 2018-02-25 16:07:48  -1.0  "
      ]
     },
     "execution_count": 297,
     "metadata": {},
     "output_type": "execute_result"
    }
   ],
   "source": [
    "FW2.head()"
   ]
  },
  {
   "cell_type": "code",
   "execution_count": 298,
   "metadata": {},
   "outputs": [],
   "source": [
    "def cumV(df):\n",
    "    \"\"\"\n",
    "    Calculates cumulative sum of differences V-% (Diff-column) and calculates cumulative sum\n",
    "    of the waste flow by multiplying it with an effective tank volume.\n",
    "\n",
    "    :input: Name of the dataframe.\n",
    "\n",
    "    :return: pandas dataframe with incrVsum-column containing cumulative waste flow as m3.\n",
    "    \"\"\"\n",
    "\n",
    "    # Cumulative sum of level increase as percent value\n",
    "    # df['incrSum'] = df.Diff.cumsum()\n",
    "    # Cumulative sum of level increase as m3\n",
    "    df['incrVsum'] = df.Diff.cumsum() * 5 / 100\n",
    "\n",
    "    return df"
   ]
  },
  {
   "cell_type": "code",
   "execution_count": null,
   "metadata": {},
   "outputs": [],
   "source": [
    "cumV(FW1)"
   ]
  },
  {
   "cell_type": "code",
   "execution_count": null,
   "metadata": {},
   "outputs": [],
   "source": [
    "cumV(FW2)"
   ]
  },
  {
   "cell_type": "code",
   "execution_count": 301,
   "metadata": {},
   "outputs": [
    {
     "data": {
      "text/plain": [
       "[<matplotlib.lines.Line2D at 0x1a479d0748>]"
      ]
     },
     "execution_count": 301,
     "metadata": {},
     "output_type": "execute_result"
    },
    {
     "data": {
      "image/png": "[encoded data removed]",
      "text/plain": [
       "<Figure size 432x288 with 1 Axes>"
      ]
     },
     "metadata": {
      "needs_background": "light"
     },
     "output_type": "display_data"
    }
   ],
   "source": [
    "plt.plot(FW1.DateTime, FW1.incrVsum)"
   ]
  },
  {
   "cell_type": "code",
   "execution_count": 302,
   "metadata": {},
   "outputs": [
    {
     "data": {
      "text/plain": [
       "[<matplotlib.lines.Line2D at 0x1a62cd2208>]"
      ]
     },
     "execution_count": 302,
     "metadata": {},
     "output_type": "execute_result"
    },
    {
     "data": {
      "image/png": "[encoded data removed]",
      "text/plain": [
       "<Figure size 432x288 with 1 Axes>"
      ]
     },
     "metadata": {
      "needs_background": "light"
     },
     "output_type": "display_data"
    }
   ],
   "source": [
    "plt.plot(FW2.DateTime, FW2.incrVsum)"
   ]
  },
  {
   "cell_type": "code",
   "execution_count": null,
   "metadata": {},
   "outputs": [],
   "source": []
  },
  {
   "cell_type": "code",
   "execution_count": 303,
   "metadata": {},
   "outputs": [],
   "source": [
    "def rate(df):\n",
    "    \"\"\"\n",
    "    Calculates flow rate of the waste stream as l/h and adds it to a new rate column.\n",
    "\n",
    "    :input: Name of the dataframe.\n",
    "\n",
    "    :return: pandas dataframe with new .\n",
    "    \"\"\"\n",
    "    # Flow rate l/h from 1 h earlier to that moment\n",
    "    df['lhFlow'] = df.incrVsum.diff(periods=720)*1000\n",
    "    df.dropna(inplace=True)\n",
    "    df.lhFlow.where(df.lhFlow > -2, 0, inplace=True)\n",
    "\n",
    "    return df"
   ]
  },
  {
   "cell_type": "code",
   "execution_count": null,
   "metadata": {},
   "outputs": [],
   "source": [
    "rate(FW1)"
   ]
  },
  {
   "cell_type": "code",
   "execution_count": null,
   "metadata": {},
   "outputs": [],
   "source": [
    "rate(FW2)"
   ]
  },
  {
   "cell_type": "code",
   "execution_count": 306,
   "metadata": {},
   "outputs": [
    {
     "data": {
      "text/plain": [
       "[<matplotlib.lines.Line2D at 0x1a5d107828>]"
      ]
     },
     "execution_count": 306,
     "metadata": {},
     "output_type": "execute_result"
    },
    {
     "data": {
      "image/png": "[encoded data removed]",
      "text/plain": [
       "<Figure size 432x288 with 1 Axes>"
      ]
     },
     "metadata": {
      "needs_background": "light"
     },
     "output_type": "display_data"
    }
   ],
   "source": [
    "plt.plot(FW1.DateTime, FW1.lhFlow)"
   ]
  },
  {
   "cell_type": "code",
   "execution_count": 307,
   "metadata": {},
   "outputs": [
    {
     "data": {
      "text/plain": [
       "[<matplotlib.lines.Line2D at 0x1a6b6e4b38>]"
      ]
     },
     "execution_count": 307,
     "metadata": {},
     "output_type": "execute_result"
    },
    {
     "data": {
      "image/png": "[encoded data removed]",
      "text/plain": [
       "<Figure size 432x288 with 1 Axes>"
      ]
     },
     "metadata": {
      "needs_background": "light"
     },
     "output_type": "display_data"
    }
   ],
   "source": [
    "plt.plot(FW2.DateTime, FW2.lhFlow)"
   ]
  },
  {
   "cell_type": "code",
   "execution_count": 308,
   "metadata": {},
   "outputs": [],
   "source": [
    "from sklearn.linear_model import LinearRegression\n",
    "\n",
    "lm = LinearRegression(fit_intercept=True)"
   ]
  },
  {
   "cell_type": "code",
   "execution_count": 309,
   "metadata": {},
   "outputs": [
    {
     "data": {
      "text/plain": [
       "pandas.core.series.Series"
      ]
     },
     "execution_count": 309,
     "metadata": {},
     "output_type": "execute_result"
    }
   ],
   "source": [
    "# Type check: 1-dimensional that needs to convert to 2-dim. for fitting the model on data.\n",
    "type(FW1.DateTime)"
   ]
  },
  {
   "cell_type": "code",
   "execution_count": 310,
   "metadata": {},
   "outputs": [
    {
     "data": {
      "text/plain": [
       "LinearRegression(copy_X=True, fit_intercept=True, n_jobs=None,\n",
       "         normalize=False)"
      ]
     },
     "execution_count": 310,
     "metadata": {},
     "output_type": "execute_result"
    }
   ],
   "source": [
    "lm.fit(pd.DataFrame(FW1.DateTime),pd.DataFrame(FW1.lhFlow))"
   ]
  },
  {
   "cell_type": "code",
   "execution_count": 311,
   "metadata": {},
   "outputs": [
    {
     "data": {
      "text/plain": [
       "array([[2.83199017e-12]])"
      ]
     },
     "execution_count": 311,
     "metadata": {},
     "output_type": "execute_result"
    }
   ],
   "source": [
    "# Slope of of the linear fit\n",
    "lm.coef_"
   ]
  },
  {
   "cell_type": "code",
   "execution_count": 312,
   "metadata": {},
   "outputs": [
    {
     "data": {
      "text/plain": [
       "array([-4303166.82451648])"
      ]
     },
     "execution_count": 312,
     "metadata": {},
     "output_type": "execute_result"
    }
   ],
   "source": [
    "# Intercept of the linear fit\n",
    "lm.intercept_"
   ]
  },
  {
   "cell_type": "code",
   "execution_count": 370,
   "metadata": {},
   "outputs": [],
   "source": [
    "def inPort(df, arrival, departure):\n",
    "    \"\"\"\n",
    "    Slices from the DataFrame the time period when the ship is in the port.\n",
    "\n",
    "    :input: Name of the dataframe. Port arrival and departure as DateTime parameters in quotes ('').\n",
    "\n",
    "    :return: pandas dataframe containing the data from the staying in port.\n",
    "    \"\"\"\n",
    "    df1 = df.loc[df['DateTime'] > arrival]\n",
    "    portTime = df1.loc[df1['DateTime'] < departure]\n",
    "    \n",
    "    return portTime"
   ]
  },
  {
   "cell_type": "code",
   "execution_count": 383,
   "metadata": {},
   "outputs": [],
   "source": [
    "FW1Port = inPort(FW1, '2018-02-26 07:00:00', '2018-02-26 17:00:00')"
   ]
  },
  {
   "cell_type": "code",
   "execution_count": 384,
   "metadata": {},
   "outputs": [
    {
     "data": {
      "text/html": [
       "<div>\n",
       "<style scoped>\n",
       "    .dataframe tbody tr th:only-of-type {\n",
       "        vertical-align: middle;\n",
       "    }\n",
       "\n",
       "    .dataframe tbody tr th {\n",
       "        vertical-align: top;\n",
       "    }\n",
       "\n",
       "    .dataframe thead th {\n",
       "        text-align: right;\n",
       "    }\n",
       "</style>\n",
       "<table border=\"1\" class=\"dataframe\">\n",
       "  <thead>\n",
       "    <tr style=\"text-align: right;\">\n",
       "      <th></th>\n",
       "      <th>VarName</th>\n",
       "      <th>TimeString</th>\n",
       "      <th>VarValue</th>\n",
       "      <th>Validity</th>\n",
       "      <th>Time_ms</th>\n",
       "      <th>DateTime</th>\n",
       "      <th>Diff</th>\n",
       "      <th>incrVsum</th>\n",
       "      <th>lhFlow</th>\n",
       "    </tr>\n",
       "  </thead>\n",
       "  <tbody>\n",
       "    <tr>\n",
       "      <th>63624</th>\n",
       "      <td>FOODWASTE_TANK_A_LEVEL_TREND</td>\n",
       "      <td>26.02.2018 07:00:01</td>\n",
       "      <td>19</td>\n",
       "      <td>1</td>\n",
       "      <td>43157291682,4306</td>\n",
       "      <td>2018-02-26 07:00:01</td>\n",
       "      <td>1.0</td>\n",
       "      <td>4.6</td>\n",
       "      <td>350.0</td>\n",
       "    </tr>\n",
       "    <tr>\n",
       "      <th>63629</th>\n",
       "      <td>FOODWASTE_TANK_A_LEVEL_TREND</td>\n",
       "      <td>26.02.2018 07:00:06</td>\n",
       "      <td>19</td>\n",
       "      <td>1</td>\n",
       "      <td>43157291740,9028</td>\n",
       "      <td>2018-02-26 07:00:06</td>\n",
       "      <td>0.0</td>\n",
       "      <td>4.6</td>\n",
       "      <td>350.0</td>\n",
       "    </tr>\n",
       "    <tr>\n",
       "      <th>63636</th>\n",
       "      <td>FOODWASTE_TANK_A_LEVEL_TREND</td>\n",
       "      <td>26.02.2018 07:00:11</td>\n",
       "      <td>19</td>\n",
       "      <td>1</td>\n",
       "      <td>43157291799,3866</td>\n",
       "      <td>2018-02-26 07:00:11</td>\n",
       "      <td>0.0</td>\n",
       "      <td>4.6</td>\n",
       "      <td>350.0</td>\n",
       "    </tr>\n",
       "    <tr>\n",
       "      <th>63641</th>\n",
       "      <td>FOODWASTE_TANK_A_LEVEL_TREND</td>\n",
       "      <td>26.02.2018 07:00:17</td>\n",
       "      <td>19</td>\n",
       "      <td>1</td>\n",
       "      <td>43157291857,8472</td>\n",
       "      <td>2018-02-26 07:00:17</td>\n",
       "      <td>0.0</td>\n",
       "      <td>4.6</td>\n",
       "      <td>350.0</td>\n",
       "    </tr>\n",
       "    <tr>\n",
       "      <th>63648</th>\n",
       "      <td>FOODWASTE_TANK_A_LEVEL_TREND</td>\n",
       "      <td>26.02.2018 07:00:22</td>\n",
       "      <td>19</td>\n",
       "      <td>1</td>\n",
       "      <td>43157291916,3426</td>\n",
       "      <td>2018-02-26 07:00:22</td>\n",
       "      <td>0.0</td>\n",
       "      <td>4.6</td>\n",
       "      <td>350.0</td>\n",
       "    </tr>\n",
       "  </tbody>\n",
       "</table>\n",
       "</div>"
      ],
      "text/plain": [
       "                            VarName           TimeString  VarValue  Validity  \\\n",
       "63624  FOODWASTE_TANK_A_LEVEL_TREND  26.02.2018 07:00:01        19         1   \n",
       "63629  FOODWASTE_TANK_A_LEVEL_TREND  26.02.2018 07:00:06        19         1   \n",
       "63636  FOODWASTE_TANK_A_LEVEL_TREND  26.02.2018 07:00:11        19         1   \n",
       "63641  FOODWASTE_TANK_A_LEVEL_TREND  26.02.2018 07:00:17        19         1   \n",
       "63648  FOODWASTE_TANK_A_LEVEL_TREND  26.02.2018 07:00:22        19         1   \n",
       "\n",
       "                Time_ms            DateTime  Diff  incrVsum  lhFlow  \n",
       "63624  43157291682,4306 2018-02-26 07:00:01   1.0       4.6   350.0  \n",
       "63629  43157291740,9028 2018-02-26 07:00:06   0.0       4.6   350.0  \n",
       "63636  43157291799,3866 2018-02-26 07:00:11   0.0       4.6   350.0  \n",
       "63641  43157291857,8472 2018-02-26 07:00:17   0.0       4.6   350.0  \n",
       "63648  43157291916,3426 2018-02-26 07:00:22   0.0       4.6   350.0  "
      ]
     },
     "execution_count": 384,
     "metadata": {},
     "output_type": "execute_result"
    }
   ],
   "source": [
    "FW1Port.head()"
   ]
  },
  {
   "cell_type": "code",
   "execution_count": 385,
   "metadata": {},
   "outputs": [
    {
     "data": {
      "text/html": [
       "<div>\n",
       "<style scoped>\n",
       "    .dataframe tbody tr th:only-of-type {\n",
       "        vertical-align: middle;\n",
       "    }\n",
       "\n",
       "    .dataframe tbody tr th {\n",
       "        vertical-align: top;\n",
       "    }\n",
       "\n",
       "    .dataframe thead th {\n",
       "        text-align: right;\n",
       "    }\n",
       "</style>\n",
       "<table border=\"1\" class=\"dataframe\">\n",
       "  <thead>\n",
       "    <tr style=\"text-align: right;\">\n",
       "      <th></th>\n",
       "      <th>VarName</th>\n",
       "      <th>TimeString</th>\n",
       "      <th>VarValue</th>\n",
       "      <th>Validity</th>\n",
       "      <th>Time_ms</th>\n",
       "      <th>DateTime</th>\n",
       "      <th>Diff</th>\n",
       "      <th>incrVsum</th>\n",
       "      <th>lhFlow</th>\n",
       "    </tr>\n",
       "  </thead>\n",
       "  <tbody>\n",
       "    <tr>\n",
       "      <th>106356</th>\n",
       "      <td>FOODWASTE_TANK_A_LEVEL_TREND</td>\n",
       "      <td>26.02.2018 16:59:35</td>\n",
       "      <td>47</td>\n",
       "      <td>1</td>\n",
       "      <td>43157708040,2315</td>\n",
       "      <td>2018-02-26 16:59:35</td>\n",
       "      <td>0.0</td>\n",
       "      <td>12.5</td>\n",
       "      <td>350.0</td>\n",
       "    </tr>\n",
       "    <tr>\n",
       "      <th>106361</th>\n",
       "      <td>FOODWASTE_TANK_A_LEVEL_TREND</td>\n",
       "      <td>26.02.2018 16:59:40</td>\n",
       "      <td>47</td>\n",
       "      <td>1</td>\n",
       "      <td>43157708098,6921</td>\n",
       "      <td>2018-02-26 16:59:40</td>\n",
       "      <td>0.0</td>\n",
       "      <td>12.5</td>\n",
       "      <td>350.0</td>\n",
       "    </tr>\n",
       "    <tr>\n",
       "      <th>106368</th>\n",
       "      <td>FOODWASTE_TANK_A_LEVEL_TREND</td>\n",
       "      <td>26.02.2018 16:59:45</td>\n",
       "      <td>47</td>\n",
       "      <td>1</td>\n",
       "      <td>43157708157,1644</td>\n",
       "      <td>2018-02-26 16:59:45</td>\n",
       "      <td>0.0</td>\n",
       "      <td>12.5</td>\n",
       "      <td>350.0</td>\n",
       "    </tr>\n",
       "    <tr>\n",
       "      <th>106373</th>\n",
       "      <td>FOODWASTE_TANK_A_LEVEL_TREND</td>\n",
       "      <td>26.02.2018 16:59:50</td>\n",
       "      <td>47</td>\n",
       "      <td>1</td>\n",
       "      <td>43157708215,6134</td>\n",
       "      <td>2018-02-26 16:59:50</td>\n",
       "      <td>0.0</td>\n",
       "      <td>12.5</td>\n",
       "      <td>350.0</td>\n",
       "    </tr>\n",
       "    <tr>\n",
       "      <th>106380</th>\n",
       "      <td>FOODWASTE_TANK_A_LEVEL_TREND</td>\n",
       "      <td>26.02.2018 16:59:55</td>\n",
       "      <td>47</td>\n",
       "      <td>1</td>\n",
       "      <td>43157708274,0856</td>\n",
       "      <td>2018-02-26 16:59:55</td>\n",
       "      <td>0.0</td>\n",
       "      <td>12.5</td>\n",
       "      <td>350.0</td>\n",
       "    </tr>\n",
       "  </tbody>\n",
       "</table>\n",
       "</div>"
      ],
      "text/plain": [
       "                             VarName           TimeString  VarValue  Validity  \\\n",
       "106356  FOODWASTE_TANK_A_LEVEL_TREND  26.02.2018 16:59:35        47         1   \n",
       "106361  FOODWASTE_TANK_A_LEVEL_TREND  26.02.2018 16:59:40        47         1   \n",
       "106368  FOODWASTE_TANK_A_LEVEL_TREND  26.02.2018 16:59:45        47         1   \n",
       "106373  FOODWASTE_TANK_A_LEVEL_TREND  26.02.2018 16:59:50        47         1   \n",
       "106380  FOODWASTE_TANK_A_LEVEL_TREND  26.02.2018 16:59:55        47         1   \n",
       "\n",
       "                 Time_ms            DateTime  Diff  incrVsum  lhFlow  \n",
       "106356  43157708040,2315 2018-02-26 16:59:35   0.0      12.5   350.0  \n",
       "106361  43157708098,6921 2018-02-26 16:59:40   0.0      12.5   350.0  \n",
       "106368  43157708157,1644 2018-02-26 16:59:45   0.0      12.5   350.0  \n",
       "106373  43157708215,6134 2018-02-26 16:59:50   0.0      12.5   350.0  \n",
       "106380  43157708274,0856 2018-02-26 16:59:55   0.0      12.5   350.0  "
      ]
     },
     "execution_count": 385,
     "metadata": {},
     "output_type": "execute_result"
    }
   ],
   "source": [
    "FW1inPort.tail()"
   ]
  },
  {
   "cell_type": "code",
   "execution_count": 386,
   "metadata": {},
   "outputs": [],
   "source": [
    "FW2Port = inPort(FW2, '2018-02-26 07:00:00', '2018-02-26 17:00:00')"
   ]
  },
  {
   "cell_type": "code",
   "execution_count": 388,
   "metadata": {},
   "outputs": [
    {
     "data": {
      "text/html": [
       "<div>\n",
       "<style scoped>\n",
       "    .dataframe tbody tr th:only-of-type {\n",
       "        vertical-align: middle;\n",
       "    }\n",
       "\n",
       "    .dataframe tbody tr th {\n",
       "        vertical-align: top;\n",
       "    }\n",
       "\n",
       "    .dataframe thead th {\n",
       "        text-align: right;\n",
       "    }\n",
       "</style>\n",
       "<table border=\"1\" class=\"dataframe\">\n",
       "  <thead>\n",
       "    <tr style=\"text-align: right;\">\n",
       "      <th></th>\n",
       "      <th>VarName</th>\n",
       "      <th>TimeString</th>\n",
       "      <th>VarValue</th>\n",
       "      <th>Validity</th>\n",
       "      <th>Time_ms</th>\n",
       "      <th>DateTime</th>\n",
       "      <th>Diff</th>\n",
       "      <th>incrVsum</th>\n",
       "      <th>lhFlow</th>\n",
       "    </tr>\n",
       "  </thead>\n",
       "  <tbody>\n",
       "    <tr>\n",
       "      <th>63624</th>\n",
       "      <td>FOODWASTE_TANK_B_LEVEL_TREND</td>\n",
       "      <td>26.02.2018 07:00:01</td>\n",
       "      <td>1</td>\n",
       "      <td>1</td>\n",
       "      <td>43157291682,4306</td>\n",
       "      <td>2018-02-26 07:00:01</td>\n",
       "      <td>0.0</td>\n",
       "      <td>19.75</td>\n",
       "      <td>4050.0</td>\n",
       "    </tr>\n",
       "    <tr>\n",
       "      <th>63629</th>\n",
       "      <td>FOODWASTE_TANK_B_LEVEL_TREND</td>\n",
       "      <td>26.02.2018 07:00:06</td>\n",
       "      <td>1</td>\n",
       "      <td>1</td>\n",
       "      <td>43157291740,9028</td>\n",
       "      <td>2018-02-26 07:00:06</td>\n",
       "      <td>0.0</td>\n",
       "      <td>19.75</td>\n",
       "      <td>4050.0</td>\n",
       "    </tr>\n",
       "    <tr>\n",
       "      <th>63636</th>\n",
       "      <td>FOODWASTE_TANK_B_LEVEL_TREND</td>\n",
       "      <td>26.02.2018 07:00:11</td>\n",
       "      <td>1</td>\n",
       "      <td>1</td>\n",
       "      <td>43157291799,3866</td>\n",
       "      <td>2018-02-26 07:00:11</td>\n",
       "      <td>0.0</td>\n",
       "      <td>19.75</td>\n",
       "      <td>4050.0</td>\n",
       "    </tr>\n",
       "    <tr>\n",
       "      <th>63641</th>\n",
       "      <td>FOODWASTE_TANK_B_LEVEL_TREND</td>\n",
       "      <td>26.02.2018 07:00:17</td>\n",
       "      <td>1</td>\n",
       "      <td>1</td>\n",
       "      <td>43157291857,8472</td>\n",
       "      <td>2018-02-26 07:00:17</td>\n",
       "      <td>0.0</td>\n",
       "      <td>19.75</td>\n",
       "      <td>4050.0</td>\n",
       "    </tr>\n",
       "    <tr>\n",
       "      <th>63648</th>\n",
       "      <td>FOODWASTE_TANK_B_LEVEL_TREND</td>\n",
       "      <td>26.02.2018 07:00:22</td>\n",
       "      <td>1</td>\n",
       "      <td>1</td>\n",
       "      <td>43157291916,3426</td>\n",
       "      <td>2018-02-26 07:00:22</td>\n",
       "      <td>0.0</td>\n",
       "      <td>19.75</td>\n",
       "      <td>4050.0</td>\n",
       "    </tr>\n",
       "  </tbody>\n",
       "</table>\n",
       "</div>"
      ],
      "text/plain": [
       "                            VarName           TimeString  VarValue  Validity  \\\n",
       "63624  FOODWASTE_TANK_B_LEVEL_TREND  26.02.2018 07:00:01         1         1   \n",
       "63629  FOODWASTE_TANK_B_LEVEL_TREND  26.02.2018 07:00:06         1         1   \n",
       "63636  FOODWASTE_TANK_B_LEVEL_TREND  26.02.2018 07:00:11         1         1   \n",
       "63641  FOODWASTE_TANK_B_LEVEL_TREND  26.02.2018 07:00:17         1         1   \n",
       "63648  FOODWASTE_TANK_B_LEVEL_TREND  26.02.2018 07:00:22         1         1   \n",
       "\n",
       "                Time_ms            DateTime  Diff  incrVsum  lhFlow  \n",
       "63624  43157291682,4306 2018-02-26 07:00:01   0.0     19.75  4050.0  \n",
       "63629  43157291740,9028 2018-02-26 07:00:06   0.0     19.75  4050.0  \n",
       "63636  43157291799,3866 2018-02-26 07:00:11   0.0     19.75  4050.0  \n",
       "63641  43157291857,8472 2018-02-26 07:00:17   0.0     19.75  4050.0  \n",
       "63648  43157291916,3426 2018-02-26 07:00:22   0.0     19.75  4050.0  "
      ]
     },
     "execution_count": 388,
     "metadata": {},
     "output_type": "execute_result"
    }
   ],
   "source": [
    "FW2Port.head()"
   ]
  },
  {
   "cell_type": "code",
   "execution_count": 389,
   "metadata": {},
   "outputs": [
    {
     "data": {
      "text/html": [
       "<div>\n",
       "<style scoped>\n",
       "    .dataframe tbody tr th:only-of-type {\n",
       "        vertical-align: middle;\n",
       "    }\n",
       "\n",
       "    .dataframe tbody tr th {\n",
       "        vertical-align: top;\n",
       "    }\n",
       "\n",
       "    .dataframe thead th {\n",
       "        text-align: right;\n",
       "    }\n",
       "</style>\n",
       "<table border=\"1\" class=\"dataframe\">\n",
       "  <thead>\n",
       "    <tr style=\"text-align: right;\">\n",
       "      <th></th>\n",
       "      <th>VarName</th>\n",
       "      <th>TimeString</th>\n",
       "      <th>VarValue</th>\n",
       "      <th>Validity</th>\n",
       "      <th>Time_ms</th>\n",
       "      <th>DateTime</th>\n",
       "      <th>Diff</th>\n",
       "      <th>incrVsum</th>\n",
       "      <th>lhFlow</th>\n",
       "    </tr>\n",
       "  </thead>\n",
       "  <tbody>\n",
       "    <tr>\n",
       "      <th>106356</th>\n",
       "      <td>FOODWASTE_TANK_B_LEVEL_TREND</td>\n",
       "      <td>26.02.2018 16:59:35</td>\n",
       "      <td>5</td>\n",
       "      <td>1</td>\n",
       "      <td>43157708040,2315</td>\n",
       "      <td>2018-02-26 16:59:35</td>\n",
       "      <td>0.0</td>\n",
       "      <td>48.25</td>\n",
       "      <td>650.0</td>\n",
       "    </tr>\n",
       "    <tr>\n",
       "      <th>106361</th>\n",
       "      <td>FOODWASTE_TANK_B_LEVEL_TREND</td>\n",
       "      <td>26.02.2018 16:59:40</td>\n",
       "      <td>5</td>\n",
       "      <td>1</td>\n",
       "      <td>43157708098,6921</td>\n",
       "      <td>2018-02-26 16:59:40</td>\n",
       "      <td>0.0</td>\n",
       "      <td>48.25</td>\n",
       "      <td>650.0</td>\n",
       "    </tr>\n",
       "    <tr>\n",
       "      <th>106368</th>\n",
       "      <td>FOODWASTE_TANK_B_LEVEL_TREND</td>\n",
       "      <td>26.02.2018 16:59:45</td>\n",
       "      <td>5</td>\n",
       "      <td>1</td>\n",
       "      <td>43157708157,1644</td>\n",
       "      <td>2018-02-26 16:59:45</td>\n",
       "      <td>0.0</td>\n",
       "      <td>48.25</td>\n",
       "      <td>650.0</td>\n",
       "    </tr>\n",
       "    <tr>\n",
       "      <th>106373</th>\n",
       "      <td>FOODWASTE_TANK_B_LEVEL_TREND</td>\n",
       "      <td>26.02.2018 16:59:50</td>\n",
       "      <td>5</td>\n",
       "      <td>1</td>\n",
       "      <td>43157708215,6134</td>\n",
       "      <td>2018-02-26 16:59:50</td>\n",
       "      <td>0.0</td>\n",
       "      <td>48.25</td>\n",
       "      <td>650.0</td>\n",
       "    </tr>\n",
       "    <tr>\n",
       "      <th>106380</th>\n",
       "      <td>FOODWASTE_TANK_B_LEVEL_TREND</td>\n",
       "      <td>26.02.2018 16:59:55</td>\n",
       "      <td>5</td>\n",
       "      <td>1</td>\n",
       "      <td>43157708274,0856</td>\n",
       "      <td>2018-02-26 16:59:55</td>\n",
       "      <td>0.0</td>\n",
       "      <td>48.25</td>\n",
       "      <td>650.0</td>\n",
       "    </tr>\n",
       "  </tbody>\n",
       "</table>\n",
       "</div>"
      ],
      "text/plain": [
       "                             VarName           TimeString  VarValue  Validity  \\\n",
       "106356  FOODWASTE_TANK_B_LEVEL_TREND  26.02.2018 16:59:35         5         1   \n",
       "106361  FOODWASTE_TANK_B_LEVEL_TREND  26.02.2018 16:59:40         5         1   \n",
       "106368  FOODWASTE_TANK_B_LEVEL_TREND  26.02.2018 16:59:45         5         1   \n",
       "106373  FOODWASTE_TANK_B_LEVEL_TREND  26.02.2018 16:59:50         5         1   \n",
       "106380  FOODWASTE_TANK_B_LEVEL_TREND  26.02.2018 16:59:55         5         1   \n",
       "\n",
       "                 Time_ms            DateTime  Diff  incrVsum  lhFlow  \n",
       "106356  43157708040,2315 2018-02-26 16:59:35   0.0     48.25   650.0  \n",
       "106361  43157708098,6921 2018-02-26 16:59:40   0.0     48.25   650.0  \n",
       "106368  43157708157,1644 2018-02-26 16:59:45   0.0     48.25   650.0  \n",
       "106373  43157708215,6134 2018-02-26 16:59:50   0.0     48.25   650.0  \n",
       "106380  43157708274,0856 2018-02-26 16:59:55   0.0     48.25   650.0  "
      ]
     },
     "execution_count": 389,
     "metadata": {},
     "output_type": "execute_result"
    }
   ],
   "source": [
    "FW2Port.tail()"
   ]
  },
  {
   "cell_type": "code",
   "execution_count": 378,
   "metadata": {},
   "outputs": [],
   "source": [
    "def inSea(df, toSea, fromSea):\n",
    "    \"\"\"\n",
    "    Slices from the DataFrame the time period when the ship is in sea condition.\n",
    "\n",
    "    :input: Name of the dataframe. Port departure and port arrival as DateTime parameters in quotes ('').\n",
    "\n",
    "    :return: pandas dataframe containing the data from the staying in port.\n",
    "    \"\"\"\n",
    "    df1 = df.loc[df['DateTime'] > toSea]\n",
    "    seaTime = df1.loc[df1['DateTime'] < fromSea]\n",
    "    \n",
    "    return seaTime"
   ]
  },
  {
   "cell_type": "code",
   "execution_count": 379,
   "metadata": {},
   "outputs": [],
   "source": [
    "FW1Sea = inSea(FW1, '2018-02-27 18:00:00', '2018-03-01 08:00:00')"
   ]
  },
  {
   "cell_type": "code",
   "execution_count": 381,
   "metadata": {},
   "outputs": [
    {
     "data": {
      "text/html": [
       "<div>\n",
       "<style scoped>\n",
       "    .dataframe tbody tr th:only-of-type {\n",
       "        vertical-align: middle;\n",
       "    }\n",
       "\n",
       "    .dataframe tbody tr th {\n",
       "        vertical-align: top;\n",
       "    }\n",
       "\n",
       "    .dataframe thead th {\n",
       "        text-align: right;\n",
       "    }\n",
       "</style>\n",
       "<table border=\"1\" class=\"dataframe\">\n",
       "  <thead>\n",
       "    <tr style=\"text-align: right;\">\n",
       "      <th></th>\n",
       "      <th>VarName</th>\n",
       "      <th>TimeString</th>\n",
       "      <th>VarValue</th>\n",
       "      <th>Validity</th>\n",
       "      <th>Time_ms</th>\n",
       "      <th>DateTime</th>\n",
       "      <th>Diff</th>\n",
       "      <th>incrVsum</th>\n",
       "      <th>lhFlow</th>\n",
       "    </tr>\n",
       "  </thead>\n",
       "  <tbody>\n",
       "    <tr>\n",
       "      <th>213305</th>\n",
       "      <td>FOODWASTE_TANK_A_LEVEL_TREND</td>\n",
       "      <td>27.02.2018 18:00:04</td>\n",
       "      <td>75</td>\n",
       "      <td>1</td>\n",
       "      <td>43158750046,7824</td>\n",
       "      <td>2018-02-27 18:00:04</td>\n",
       "      <td>1.0</td>\n",
       "      <td>22.50</td>\n",
       "      <td>1450.0</td>\n",
       "    </tr>\n",
       "    <tr>\n",
       "      <th>213312</th>\n",
       "      <td>FOODWASTE_TANK_A_LEVEL_TREND</td>\n",
       "      <td>27.02.2018 18:00:09</td>\n",
       "      <td>75</td>\n",
       "      <td>1</td>\n",
       "      <td>43158750105,2778</td>\n",
       "      <td>2018-02-27 18:00:09</td>\n",
       "      <td>0.0</td>\n",
       "      <td>22.50</td>\n",
       "      <td>1450.0</td>\n",
       "    </tr>\n",
       "    <tr>\n",
       "      <th>213317</th>\n",
       "      <td>FOODWASTE_TANK_A_LEVEL_TREND</td>\n",
       "      <td>27.02.2018 18:00:14</td>\n",
       "      <td>76</td>\n",
       "      <td>1</td>\n",
       "      <td>43158750163,7384</td>\n",
       "      <td>2018-02-27 18:00:14</td>\n",
       "      <td>1.0</td>\n",
       "      <td>22.55</td>\n",
       "      <td>1500.0</td>\n",
       "    </tr>\n",
       "    <tr>\n",
       "      <th>213324</th>\n",
       "      <td>FOODWASTE_TANK_A_LEVEL_TREND</td>\n",
       "      <td>27.02.2018 18:00:19</td>\n",
       "      <td>76</td>\n",
       "      <td>1</td>\n",
       "      <td>43158750222,2106</td>\n",
       "      <td>2018-02-27 18:00:19</td>\n",
       "      <td>0.0</td>\n",
       "      <td>22.55</td>\n",
       "      <td>1500.0</td>\n",
       "    </tr>\n",
       "    <tr>\n",
       "      <th>213329</th>\n",
       "      <td>FOODWASTE_TANK_A_LEVEL_TREND</td>\n",
       "      <td>27.02.2018 18:00:24</td>\n",
       "      <td>76</td>\n",
       "      <td>1</td>\n",
       "      <td>43158750280,6713</td>\n",
       "      <td>2018-02-27 18:00:24</td>\n",
       "      <td>0.0</td>\n",
       "      <td>22.55</td>\n",
       "      <td>1550.0</td>\n",
       "    </tr>\n",
       "  </tbody>\n",
       "</table>\n",
       "</div>"
      ],
      "text/plain": [
       "                             VarName           TimeString  VarValue  Validity  \\\n",
       "213305  FOODWASTE_TANK_A_LEVEL_TREND  27.02.2018 18:00:04        75         1   \n",
       "213312  FOODWASTE_TANK_A_LEVEL_TREND  27.02.2018 18:00:09        75         1   \n",
       "213317  FOODWASTE_TANK_A_LEVEL_TREND  27.02.2018 18:00:14        76         1   \n",
       "213324  FOODWASTE_TANK_A_LEVEL_TREND  27.02.2018 18:00:19        76         1   \n",
       "213329  FOODWASTE_TANK_A_LEVEL_TREND  27.02.2018 18:00:24        76         1   \n",
       "\n",
       "                 Time_ms            DateTime  Diff  incrVsum  lhFlow  \n",
       "213305  43158750046,7824 2018-02-27 18:00:04   1.0     22.50  1450.0  \n",
       "213312  43158750105,2778 2018-02-27 18:00:09   0.0     22.50  1450.0  \n",
       "213317  43158750163,7384 2018-02-27 18:00:14   1.0     22.55  1500.0  \n",
       "213324  43158750222,2106 2018-02-27 18:00:19   0.0     22.55  1500.0  \n",
       "213329  43158750280,6713 2018-02-27 18:00:24   0.0     22.55  1550.0  "
      ]
     },
     "execution_count": 381,
     "metadata": {},
     "output_type": "execute_result"
    }
   ],
   "source": [
    "FW1Sea.head()"
   ]
  },
  {
   "cell_type": "code",
   "execution_count": 382,
   "metadata": {},
   "outputs": [
    {
     "data": {
      "text/html": [
       "<div>\n",
       "<style scoped>\n",
       "    .dataframe tbody tr th:only-of-type {\n",
       "        vertical-align: middle;\n",
       "    }\n",
       "\n",
       "    .dataframe tbody tr th {\n",
       "        vertical-align: top;\n",
       "    }\n",
       "\n",
       "    .dataframe thead th {\n",
       "        text-align: right;\n",
       "    }\n",
       "</style>\n",
       "<table border=\"1\" class=\"dataframe\">\n",
       "  <thead>\n",
       "    <tr style=\"text-align: right;\">\n",
       "      <th></th>\n",
       "      <th>VarName</th>\n",
       "      <th>TimeString</th>\n",
       "      <th>VarValue</th>\n",
       "      <th>Validity</th>\n",
       "      <th>Time_ms</th>\n",
       "      <th>DateTime</th>\n",
       "      <th>Diff</th>\n",
       "      <th>incrVsum</th>\n",
       "      <th>lhFlow</th>\n",
       "    </tr>\n",
       "  </thead>\n",
       "  <tbody>\n",
       "    <tr>\n",
       "      <th>375780</th>\n",
       "      <td>FOODWASTE_TANK_A_LEVEL_TREND</td>\n",
       "      <td>01.03.2018 07:59:37</td>\n",
       "      <td>31</td>\n",
       "      <td>1</td>\n",
       "      <td>43160333062,9398</td>\n",
       "      <td>2018-03-01 07:59:37</td>\n",
       "      <td>0.0</td>\n",
       "      <td>53.40</td>\n",
       "      <td>1950.0</td>\n",
       "    </tr>\n",
       "    <tr>\n",
       "      <th>375785</th>\n",
       "      <td>FOODWASTE_TANK_A_LEVEL_TREND</td>\n",
       "      <td>01.03.2018 07:59:42</td>\n",
       "      <td>32</td>\n",
       "      <td>1</td>\n",
       "      <td>43160333121,4005</td>\n",
       "      <td>2018-03-01 07:59:42</td>\n",
       "      <td>1.0</td>\n",
       "      <td>53.45</td>\n",
       "      <td>2000.0</td>\n",
       "    </tr>\n",
       "    <tr>\n",
       "      <th>375792</th>\n",
       "      <td>FOODWASTE_TANK_A_LEVEL_TREND</td>\n",
       "      <td>01.03.2018 07:59:47</td>\n",
       "      <td>31</td>\n",
       "      <td>1</td>\n",
       "      <td>43160333179,8727</td>\n",
       "      <td>2018-03-01 07:59:47</td>\n",
       "      <td>-1.0</td>\n",
       "      <td>53.40</td>\n",
       "      <td>1950.0</td>\n",
       "    </tr>\n",
       "    <tr>\n",
       "      <th>375797</th>\n",
       "      <td>FOODWASTE_TANK_A_LEVEL_TREND</td>\n",
       "      <td>01.03.2018 07:59:52</td>\n",
       "      <td>32</td>\n",
       "      <td>1</td>\n",
       "      <td>43160333238,3333</td>\n",
       "      <td>2018-03-01 07:59:52</td>\n",
       "      <td>1.0</td>\n",
       "      <td>53.45</td>\n",
       "      <td>1950.0</td>\n",
       "    </tr>\n",
       "    <tr>\n",
       "      <th>375804</th>\n",
       "      <td>FOODWASTE_TANK_A_LEVEL_TREND</td>\n",
       "      <td>01.03.2018 07:59:57</td>\n",
       "      <td>32</td>\n",
       "      <td>1</td>\n",
       "      <td>43160333296,8056</td>\n",
       "      <td>2018-03-01 07:59:57</td>\n",
       "      <td>0.0</td>\n",
       "      <td>53.45</td>\n",
       "      <td>1950.0</td>\n",
       "    </tr>\n",
       "  </tbody>\n",
       "</table>\n",
       "</div>"
      ],
      "text/plain": [
       "                             VarName           TimeString  VarValue  Validity  \\\n",
       "375780  FOODWASTE_TANK_A_LEVEL_TREND  01.03.2018 07:59:37        31         1   \n",
       "375785  FOODWASTE_TANK_A_LEVEL_TREND  01.03.2018 07:59:42        32         1   \n",
       "375792  FOODWASTE_TANK_A_LEVEL_TREND  01.03.2018 07:59:47        31         1   \n",
       "375797  FOODWASTE_TANK_A_LEVEL_TREND  01.03.2018 07:59:52        32         1   \n",
       "375804  FOODWASTE_TANK_A_LEVEL_TREND  01.03.2018 07:59:57        32         1   \n",
       "\n",
       "                 Time_ms            DateTime  Diff  incrVsum  lhFlow  \n",
       "375780  43160333062,9398 2018-03-01 07:59:37   0.0     53.40  1950.0  \n",
       "375785  43160333121,4005 2018-03-01 07:59:42   1.0     53.45  2000.0  \n",
       "375792  43160333179,8727 2018-03-01 07:59:47  -1.0     53.40  1950.0  \n",
       "375797  43160333238,3333 2018-03-01 07:59:52   1.0     53.45  1950.0  \n",
       "375804  43160333296,8056 2018-03-01 07:59:57   0.0     53.45  1950.0  "
      ]
     },
     "execution_count": 382,
     "metadata": {},
     "output_type": "execute_result"
    }
   ],
   "source": [
    "FW1Sea.tail()"
   ]
  },
  {
   "cell_type": "code",
   "execution_count": 392,
   "metadata": {},
   "outputs": [],
   "source": [
    "FW2Sea = inSea(FW2, '2018-02-27 18:00:00', '2018-03-01 08:00:00')"
   ]
  },
  {
   "cell_type": "code",
   "execution_count": 393,
   "metadata": {},
   "outputs": [
    {
     "data": {
      "text/html": [
       "<div>\n",
       "<style scoped>\n",
       "    .dataframe tbody tr th:only-of-type {\n",
       "        vertical-align: middle;\n",
       "    }\n",
       "\n",
       "    .dataframe tbody tr th {\n",
       "        vertical-align: top;\n",
       "    }\n",
       "\n",
       "    .dataframe thead th {\n",
       "        text-align: right;\n",
       "    }\n",
       "</style>\n",
       "<table border=\"1\" class=\"dataframe\">\n",
       "  <thead>\n",
       "    <tr style=\"text-align: right;\">\n",
       "      <th></th>\n",
       "      <th>VarName</th>\n",
       "      <th>TimeString</th>\n",
       "      <th>VarValue</th>\n",
       "      <th>Validity</th>\n",
       "      <th>Time_ms</th>\n",
       "      <th>DateTime</th>\n",
       "      <th>Diff</th>\n",
       "      <th>incrVsum</th>\n",
       "      <th>lhFlow</th>\n",
       "    </tr>\n",
       "  </thead>\n",
       "  <tbody>\n",
       "    <tr>\n",
       "      <th>213305</th>\n",
       "      <td>FOODWASTE_TANK_B_LEVEL_TREND</td>\n",
       "      <td>27.02.2018 18:00:04</td>\n",
       "      <td>42</td>\n",
       "      <td>1</td>\n",
       "      <td>43158750046,7824</td>\n",
       "      <td>2018-02-27 18:00:04</td>\n",
       "      <td>0.0</td>\n",
       "      <td>62.75</td>\n",
       "      <td>950.0</td>\n",
       "    </tr>\n",
       "    <tr>\n",
       "      <th>213312</th>\n",
       "      <td>FOODWASTE_TANK_B_LEVEL_TREND</td>\n",
       "      <td>27.02.2018 18:00:09</td>\n",
       "      <td>42</td>\n",
       "      <td>1</td>\n",
       "      <td>43158750105,2778</td>\n",
       "      <td>2018-02-27 18:00:09</td>\n",
       "      <td>0.0</td>\n",
       "      <td>62.75</td>\n",
       "      <td>950.0</td>\n",
       "    </tr>\n",
       "    <tr>\n",
       "      <th>213317</th>\n",
       "      <td>FOODWASTE_TANK_B_LEVEL_TREND</td>\n",
       "      <td>27.02.2018 18:00:14</td>\n",
       "      <td>42</td>\n",
       "      <td>1</td>\n",
       "      <td>43158750163,7384</td>\n",
       "      <td>2018-02-27 18:00:14</td>\n",
       "      <td>0.0</td>\n",
       "      <td>62.75</td>\n",
       "      <td>950.0</td>\n",
       "    </tr>\n",
       "    <tr>\n",
       "      <th>213324</th>\n",
       "      <td>FOODWASTE_TANK_B_LEVEL_TREND</td>\n",
       "      <td>27.02.2018 18:00:19</td>\n",
       "      <td>42</td>\n",
       "      <td>1</td>\n",
       "      <td>43158750222,2106</td>\n",
       "      <td>2018-02-27 18:00:19</td>\n",
       "      <td>0.0</td>\n",
       "      <td>62.75</td>\n",
       "      <td>950.0</td>\n",
       "    </tr>\n",
       "    <tr>\n",
       "      <th>213329</th>\n",
       "      <td>FOODWASTE_TANK_B_LEVEL_TREND</td>\n",
       "      <td>27.02.2018 18:00:24</td>\n",
       "      <td>42</td>\n",
       "      <td>1</td>\n",
       "      <td>43158750280,6713</td>\n",
       "      <td>2018-02-27 18:00:24</td>\n",
       "      <td>0.0</td>\n",
       "      <td>62.75</td>\n",
       "      <td>750.0</td>\n",
       "    </tr>\n",
       "  </tbody>\n",
       "</table>\n",
       "</div>"
      ],
      "text/plain": [
       "                             VarName           TimeString  VarValue  Validity  \\\n",
       "213305  FOODWASTE_TANK_B_LEVEL_TREND  27.02.2018 18:00:04        42         1   \n",
       "213312  FOODWASTE_TANK_B_LEVEL_TREND  27.02.2018 18:00:09        42         1   \n",
       "213317  FOODWASTE_TANK_B_LEVEL_TREND  27.02.2018 18:00:14        42         1   \n",
       "213324  FOODWASTE_TANK_B_LEVEL_TREND  27.02.2018 18:00:19        42         1   \n",
       "213329  FOODWASTE_TANK_B_LEVEL_TREND  27.02.2018 18:00:24        42         1   \n",
       "\n",
       "                 Time_ms            DateTime  Diff  incrVsum  lhFlow  \n",
       "213305  43158750046,7824 2018-02-27 18:00:04   0.0     62.75   950.0  \n",
       "213312  43158750105,2778 2018-02-27 18:00:09   0.0     62.75   950.0  \n",
       "213317  43158750163,7384 2018-02-27 18:00:14   0.0     62.75   950.0  \n",
       "213324  43158750222,2106 2018-02-27 18:00:19   0.0     62.75   950.0  \n",
       "213329  43158750280,6713 2018-02-27 18:00:24   0.0     62.75   750.0  "
      ]
     },
     "execution_count": 393,
     "metadata": {},
     "output_type": "execute_result"
    }
   ],
   "source": [
    "FW2Sea.head()"
   ]
  },
  {
   "cell_type": "code",
   "execution_count": 394,
   "metadata": {},
   "outputs": [
    {
     "data": {
      "text/html": [
       "<div>\n",
       "<style scoped>\n",
       "    .dataframe tbody tr th:only-of-type {\n",
       "        vertical-align: middle;\n",
       "    }\n",
       "\n",
       "    .dataframe tbody tr th {\n",
       "        vertical-align: top;\n",
       "    }\n",
       "\n",
       "    .dataframe thead th {\n",
       "        text-align: right;\n",
       "    }\n",
       "</style>\n",
       "<table border=\"1\" class=\"dataframe\">\n",
       "  <thead>\n",
       "    <tr style=\"text-align: right;\">\n",
       "      <th></th>\n",
       "      <th>VarName</th>\n",
       "      <th>TimeString</th>\n",
       "      <th>VarValue</th>\n",
       "      <th>Validity</th>\n",
       "      <th>Time_ms</th>\n",
       "      <th>DateTime</th>\n",
       "      <th>Diff</th>\n",
       "      <th>incrVsum</th>\n",
       "      <th>lhFlow</th>\n",
       "    </tr>\n",
       "  </thead>\n",
       "  <tbody>\n",
       "    <tr>\n",
       "      <th>375780</th>\n",
       "      <td>FOODWASTE_TANK_B_LEVEL_TREND</td>\n",
       "      <td>01.03.2018 07:59:37</td>\n",
       "      <td>20</td>\n",
       "      <td>1</td>\n",
       "      <td>43160333062,9398</td>\n",
       "      <td>2018-03-01 07:59:37</td>\n",
       "      <td>0.0</td>\n",
       "      <td>81.35</td>\n",
       "      <td>500.0</td>\n",
       "    </tr>\n",
       "    <tr>\n",
       "      <th>375785</th>\n",
       "      <td>FOODWASTE_TANK_B_LEVEL_TREND</td>\n",
       "      <td>01.03.2018 07:59:42</td>\n",
       "      <td>20</td>\n",
       "      <td>1</td>\n",
       "      <td>43160333121,4005</td>\n",
       "      <td>2018-03-01 07:59:42</td>\n",
       "      <td>0.0</td>\n",
       "      <td>81.35</td>\n",
       "      <td>450.0</td>\n",
       "    </tr>\n",
       "    <tr>\n",
       "      <th>375792</th>\n",
       "      <td>FOODWASTE_TANK_B_LEVEL_TREND</td>\n",
       "      <td>01.03.2018 07:59:47</td>\n",
       "      <td>20</td>\n",
       "      <td>1</td>\n",
       "      <td>43160333179,8727</td>\n",
       "      <td>2018-03-01 07:59:47</td>\n",
       "      <td>0.0</td>\n",
       "      <td>81.35</td>\n",
       "      <td>450.0</td>\n",
       "    </tr>\n",
       "    <tr>\n",
       "      <th>375797</th>\n",
       "      <td>FOODWASTE_TANK_B_LEVEL_TREND</td>\n",
       "      <td>01.03.2018 07:59:52</td>\n",
       "      <td>21</td>\n",
       "      <td>1</td>\n",
       "      <td>43160333238,3333</td>\n",
       "      <td>2018-03-01 07:59:52</td>\n",
       "      <td>1.0</td>\n",
       "      <td>81.40</td>\n",
       "      <td>450.0</td>\n",
       "    </tr>\n",
       "    <tr>\n",
       "      <th>375804</th>\n",
       "      <td>FOODWASTE_TANK_B_LEVEL_TREND</td>\n",
       "      <td>01.03.2018 07:59:57</td>\n",
       "      <td>21</td>\n",
       "      <td>1</td>\n",
       "      <td>43160333296,8056</td>\n",
       "      <td>2018-03-01 07:59:57</td>\n",
       "      <td>0.0</td>\n",
       "      <td>81.40</td>\n",
       "      <td>450.0</td>\n",
       "    </tr>\n",
       "  </tbody>\n",
       "</table>\n",
       "</div>"
      ],
      "text/plain": [
       "                             VarName           TimeString  VarValue  Validity  \\\n",
       "375780  FOODWASTE_TANK_B_LEVEL_TREND  01.03.2018 07:59:37        20         1   \n",
       "375785  FOODWASTE_TANK_B_LEVEL_TREND  01.03.2018 07:59:42        20         1   \n",
       "375792  FOODWASTE_TANK_B_LEVEL_TREND  01.03.2018 07:59:47        20         1   \n",
       "375797  FOODWASTE_TANK_B_LEVEL_TREND  01.03.2018 07:59:52        21         1   \n",
       "375804  FOODWASTE_TANK_B_LEVEL_TREND  01.03.2018 07:59:57        21         1   \n",
       "\n",
       "                 Time_ms            DateTime  Diff  incrVsum  lhFlow  \n",
       "375780  43160333062,9398 2018-03-01 07:59:37   0.0     81.35   500.0  \n",
       "375785  43160333121,4005 2018-03-01 07:59:42   0.0     81.35   450.0  \n",
       "375792  43160333179,8727 2018-03-01 07:59:47   0.0     81.35   450.0  \n",
       "375797  43160333238,3333 2018-03-01 07:59:52   1.0     81.40   450.0  \n",
       "375804  43160333296,8056 2018-03-01 07:59:57   0.0     81.40   450.0  "
      ]
     },
     "execution_count": 394,
     "metadata": {},
     "output_type": "execute_result"
    }
   ],
   "source": [
    "FW2Sea.tail()"
   ]
  },
  {
   "cell_type": "code",
   "execution_count": null,
   "metadata": {},
   "outputs": [],
   "source": []
  },
  {
   "cell_type": "markdown",
   "metadata": {},
   "source": [
    "## Values for the FW tank \n",
    "\n",
    "- FW tank level as % filling of the full capacity e.g. 47 % \n",
    "- Haarslev FW pump status same as others (20 FWD, 15 BWD, 0 Stop, -5 Fault or overcurrent). 20: pump runs full speed at 60 Hz.\n",
    "- 3-way valve is directing the FW-flow between 2 tanks"
   ]
  },
  {
   "cell_type": "code",
   "execution_count": 313,
   "metadata": {},
   "outputs": [
    {
     "ename": "NameError",
     "evalue": "name 'FWSflow1' is not defined",
     "output_type": "error",
     "traceback": [
      "\u001b[0;31m---------------------------------------------------------------------------\u001b[0m",
      "\u001b[0;31mNameError\u001b[0m                                 Traceback (most recent call last)",
      "\u001b[0;32m<ipython-input-313-33bab9f74c6d>\u001b[0m in \u001b[0;36m<module>\u001b[0;34m\u001b[0m\n\u001b[1;32m      1\u001b[0m \u001b[0;31m# Converts time string values into datetime value\u001b[0m\u001b[0;34m\u001b[0m\u001b[0;34m\u001b[0m\u001b[0;34m\u001b[0m\u001b[0m\n\u001b[0;32m----> 2\u001b[0;31m \u001b[0mFWSflow1\u001b[0m\u001b[0;34m[\u001b[0m\u001b[0;34m'calTime'\u001b[0m\u001b[0;34m]\u001b[0m \u001b[0;34m=\u001b[0m \u001b[0mpd\u001b[0m\u001b[0;34m.\u001b[0m\u001b[0mto_datetime\u001b[0m\u001b[0;34m(\u001b[0m\u001b[0mFWSflow1\u001b[0m\u001b[0;34m.\u001b[0m\u001b[0mTimeString\u001b[0m\u001b[0;34m,\u001b[0m \u001b[0mformat\u001b[0m \u001b[0;34m=\u001b[0m \u001b[0;34m'%d.%m.%Y %H:%M:%S'\u001b[0m\u001b[0;34m)\u001b[0m\u001b[0;34m\u001b[0m\u001b[0;34m\u001b[0m\u001b[0m\n\u001b[0m",
      "\u001b[0;31mNameError\u001b[0m: name 'FWSflow1' is not defined"
     ]
    }
   ],
   "source": [
    "# Converts time string values into datetime value\n",
    "FWSflow1['calTime'] = pd.to_datetime(FWSflow1.TimeString, format = '%d.%m.%Y %H:%M:%S')"
   ]
  },
  {
   "cell_type": "code",
   "execution_count": null,
   "metadata": {},
   "outputs": [],
   "source": [
    "FWSflow1.dtypes"
   ]
  },
  {
   "cell_type": "code",
   "execution_count": null,
   "metadata": {},
   "outputs": [],
   "source": [
    "# Removes fault-status (-5)\n",
    "FWSflow1.VarValue.where(FWSflow1.VarValue > 0, 0, inplace=True)"
   ]
  },
  {
   "cell_type": "code",
   "execution_count": null,
   "metadata": {},
   "outputs": [],
   "source": [
    "FWSflow1.VarValue.value_counts()"
   ]
  },
  {
   "cell_type": "code",
   "execution_count": null,
   "metadata": {},
   "outputs": [],
   "source": [
    "# Code for if VarValue == 20 => flowrate = 0.1666 lmin"
   ]
  },
  {
   "cell_type": "code",
   "execution_count": null,
   "metadata": {},
   "outputs": [],
   "source": [
    "FWSflow1.head()"
   ]
  },
  {
   "cell_type": "code",
   "execution_count": null,
   "metadata": {},
   "outputs": [],
   "source": [
    "FWT2.head()"
   ]
  },
  {
   "cell_type": "code",
   "execution_count": null,
   "metadata": {},
   "outputs": [],
   "source": [
    "FWT2.any(0)"
   ]
  },
  {
   "cell_type": "code",
   "execution_count": null,
   "metadata": {},
   "outputs": [],
   "source": [
    "FWSflow2.head()"
   ]
  },
  {
   "cell_type": "code",
   "execution_count": null,
   "metadata": {},
   "outputs": [],
   "source": [
    "x = FWT1.loc[:, 'TimeString']"
   ]
  },
  {
   "cell_type": "code",
   "execution_count": null,
   "metadata": {},
   "outputs": [],
   "source": [
    "FWSflow1.plot()"
   ]
  },
  {
   "cell_type": "code",
   "execution_count": null,
   "metadata": {},
   "outputs": [],
   "source": [
    "FWSflow2.plot()"
   ]
  },
  {
   "cell_type": "markdown",
   "metadata": {},
   "source": [
    "## Division of the Food Waste flows \n",
    "\n",
    "The produced food waste is separated with a mesh in the tank into:\n",
    "\n",
    "1. Solid food waste (FW)\n",
    "\n",
    "2. Food waste water (FWW)\n",
    "\n",
    "### Food Waste solids (FW)\n",
    "\n",
    "FW is pumped with the Haarslew pump to the screen and further to the drier. As mentioned above, the variable value of 20 tells that the pump is producing with its capacity. The FW flow can be calculated directly from the data as: \n",
    "\n",
    "(flow capacity the pump (e.g. 2 kg / s)) / ( moment of first instance of VarValue 20 and moment of last instance of the VarValue 20)"
   ]
  },
  {
   "cell_type": "markdown",
   "metadata": {},
   "source": [
    "### Food Waste water (FWW)\n",
    "\n",
    "This data describes the flow of load in liquid form out of the waste system.\n",
    "\n",
    "tank water pump \n",
    "\n",
    "- 20 Forward\n",
    "- 15 Backward\n",
    "- 0 Stop\n",
    "- -5 Fault or overcurrent\n",
    "\n",
    "No Hz info presumably 60 Hz\n",
    "\n",
    "The FWW flow can be calculated directly from the data as: \n",
    "\n",
    "(flow capacity the pump (e.g. 20 kg / s)) / ( moment of first instance of VarValue 20 and moment of last instance of the VarValue 20)\n",
    "\n",
    "The carbon can be considered as direct CO2- and nutrient emmision to the environment. All the carbon in the FW water are converted into CO2.\n"
   ]
  },
  {
   "cell_type": "code",
   "execution_count": null,
   "metadata": {},
   "outputs": [],
   "source": [
    "FWW_flow = pd.read_csv('MunVene2/BORGEN_PUMP0.csv', delimiter=';')"
   ]
  },
  {
   "cell_type": "code",
   "execution_count": null,
   "metadata": {},
   "outputs": [],
   "source": [
    "FWW_flow.head(2000)"
   ]
  },
  {
   "cell_type": "code",
   "execution_count": null,
   "metadata": {},
   "outputs": [],
   "source": [
    "FWW_flow.tail()"
   ]
  },
  {
   "cell_type": "markdown",
   "metadata": {},
   "source": [
    "## Values for the Biosludge tank:\n",
    "\n",
    "- Biosludge mixing status: 0 = stop, 20 FWD, -5 Fail) \n",
    "- Biosludge tank level: as % filling of the full capacity e.g. 19 %"
   ]
  },
  {
   "cell_type": "code",
   "execution_count": null,
   "metadata": {},
   "outputs": [],
   "source": [
    "BWTankLevel = pd.read_csv('MunVene2/LEVEL_BIOSLUDGETANK0.csv', delimiter=';')"
   ]
  },
  {
   "cell_type": "code",
   "execution_count": null,
   "metadata": {},
   "outputs": [],
   "source": [
    "BWTankLevel.head()"
   ]
  },
  {
   "cell_type": "code",
   "execution_count": null,
   "metadata": {},
   "outputs": [],
   "source": [
    "BWTankLevel.tail()"
   ]
  },
  {
   "cell_type": "markdown",
   "metadata": {},
   "source": [
    "## Values for the Burners:\n",
    "\n",
    "- All temperatures in the main and sec chambers as Celsius degrees"
   ]
  },
  {
   "cell_type": "code",
   "execution_count": null,
   "metadata": {},
   "outputs": [],
   "source": [
    "Burner1 = pd.read_csv('MunVene2/BURNER_10.csv', delimiter=';')"
   ]
  },
  {
   "cell_type": "code",
   "execution_count": null,
   "metadata": {},
   "outputs": [],
   "source": [
    "Burner1.head()"
   ]
  },
  {
   "cell_type": "code",
   "execution_count": null,
   "metadata": {},
   "outputs": [],
   "source": [
    "Burner2 = pd.read_csv('MunVene2/BURNER_20.csv', delimiter=';')"
   ]
  },
  {
   "cell_type": "code",
   "execution_count": null,
   "metadata": {},
   "outputs": [],
   "source": [
    "Burner2.head()"
   ]
  },
  {
   "cell_type": "code",
   "execution_count": null,
   "metadata": {},
   "outputs": [],
   "source": [
    "Burner2.shape"
   ]
  },
  {
   "cell_type": "code",
   "execution_count": null,
   "metadata": {},
   "outputs": [],
   "source": [
    "Dryer0 = pd.read_csv('MunVene2/DRYER0.csv', delimiter=';')"
   ]
  },
  {
   "cell_type": "markdown",
   "metadata": {},
   "source": [
    "## Values for the Dryer:\n",
    "\n",
    "- Dryer mixer motor current as %, e.g. 50 %\n",
    "- Dryer temperature as Celcius degrees\n",
    "- Dryer pressure as mbar\n",
    "- Dryer filling weight as kgs"
   ]
  },
  {
   "cell_type": "code",
   "execution_count": null,
   "metadata": {},
   "outputs": [],
   "source": [
    "Dryer0.shape"
   ]
  },
  {
   "cell_type": "code",
   "execution_count": null,
   "metadata": {},
   "outputs": [],
   "source": [
    "Dryer0.head(20)"
   ]
  },
  {
   "cell_type": "code",
   "execution_count": null,
   "metadata": {},
   "outputs": [],
   "source": [
    "FluegasTemp0 = pd.read_csv('MunVene2/FLUEGAS0.csv', delimiter=';')"
   ]
  },
  {
   "cell_type": "markdown",
   "metadata": {},
   "source": [
    "## Values for the Flue gas:\n",
    "\n",
    "- Flue gas temperature as Celcius degrees.\n",
    "- Flue gas fan speed as Hz (or 1/10 Hz). Check!\n",
    "- Flue gas opacity as 0 to 100 %\n"
   ]
  },
  {
   "cell_type": "code",
   "execution_count": null,
   "metadata": {},
   "outputs": [],
   "source": [
    "FluegasTemp0.shape"
   ]
  },
  {
   "cell_type": "code",
   "execution_count": null,
   "metadata": {},
   "outputs": [],
   "source": [
    "FluegasTemp0.head()"
   ]
  },
  {
   "cell_type": "code",
   "execution_count": null,
   "metadata": {},
   "outputs": [],
   "source": [
    "FluegasFlow0 = pd.read_csv('MunVene2/ID_FAN0.csv', delimiter=';')"
   ]
  },
  {
   "cell_type": "code",
   "execution_count": null,
   "metadata": {},
   "outputs": [],
   "source": [
    "FluegasFlow0.head()"
   ]
  },
  {
   "cell_type": "code",
   "execution_count": null,
   "metadata": {},
   "outputs": [],
   "source": []
  }
 ],
 "metadata": {
  "kernelspec": {
   "display_name": "Python 3",
   "language": "python",
   "name": "python3"
  },
  "language_info": {
   "codemirror_mode": {
    "name": "ipython",
    "version": 3
   },
   "file_extension": ".py",
   "mimetype": "text/x-python",
   "name": "python",
   "nbconvert_exporter": "python",
   "pygments_lexer": "ipython3",
   "version": "3.7.1"
  }
 },
 "nbformat": 4,
 "nbformat_minor": 2
}
