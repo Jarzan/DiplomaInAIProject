{
 "cells": [
  {
   "cell_type": "markdown",
   "metadata": {},
   "source": [
    "# Aalto Pro/Diploma in Artificial Intelligence: Project work\n",
    "\n"
   ]
  },
  {
   "cell_type": "markdown",
   "metadata": {},
   "source": []
  },
  {
   "cell_type": "markdown",
   "metadata": {},
   "source": [
    "## APPENDIX 1: Code of the project. Status 1st of April 2019"
   ]
  },
  {
   "cell_type": "code",
   "execution_count": 2,
   "metadata": {},
   "outputs": [],
   "source": [
    "import numpy as np\n",
    "import pandas as pd\n",
    "import matplotlib.pyplot as plt\n",
    "import seaborn as sns"
   ]
  },
  {
   "cell_type": "markdown",
   "metadata": {},
   "source": [
    "or:"
   ]
  },
  {
   "cell_type": "code",
   "execution_count": 3,
   "metadata": {},
   "outputs": [],
   "source": [
    "%matplotlib inline"
   ]
  },
  {
   "cell_type": "code",
   "execution_count": 4,
   "metadata": {},
   "outputs": [
    {
     "name": "stdout",
     "output_type": "stream",
     "text": [
      "<class 'pandas.core.frame.DataFrame'>\n",
      "RangeIndex: 402860 entries, 0 to 402859\n",
      "Data columns (total 5 columns):\n",
      "VarName       402860 non-null object\n",
      "TimeString    402860 non-null object\n",
      "VarValue      402860 non-null int64\n",
      "Validity      402860 non-null int64\n",
      "Time_ms       402860 non-null object\n",
      "dtypes: int64(2), object(3)\n",
      "memory usage: 15.4+ MB\n",
      "None\n"
     ]
    }
   ],
   "source": [
    "# PETRI: an example how to read tank information to dataframe with correct datatypes\n",
    "TypeCorrectDF = pd.read_csv('MS6/LEVEL_TANK_A0.csv', delimiter=';')\n",
    "print(TypeCorrectDF.info())"
   ]
  },
  {
   "cell_type": "code",
   "execution_count": 5,
   "metadata": {},
   "outputs": [],
   "source": [
    "# PETRI: convert sring to date time <-- this takes several seconds\n",
    "TypeCorrectDF['DateTime'] = TypeCorrectDF.TimeString.astype('datetime64')"
   ]
  },
  {
   "cell_type": "code",
   "execution_count": 98,
   "metadata": {},
   "outputs": [
    {
     "data": {
      "text/html": [
       "<div>\n",
       "<style scoped>\n",
       "    .dataframe tbody tr th:only-of-type {\n",
       "        vertical-align: middle;\n",
       "    }\n",
       "\n",
       "    .dataframe tbody tr th {\n",
       "        vertical-align: top;\n",
       "    }\n",
       "\n",
       "    .dataframe thead th {\n",
       "        text-align: right;\n",
       "    }\n",
       "</style>\n",
       "<table border=\"1\" class=\"dataframe\">\n",
       "  <thead>\n",
       "    <tr style=\"text-align: right;\">\n",
       "      <th></th>\n",
       "      <th>VarName</th>\n",
       "      <th>VarValue</th>\n",
       "      <th>Validity</th>\n",
       "      <th>ms_fixed</th>\n",
       "    </tr>\n",
       "    <tr>\n",
       "      <th>DateTime</th>\n",
       "      <th></th>\n",
       "      <th></th>\n",
       "      <th></th>\n",
       "      <th></th>\n",
       "    </tr>\n",
       "  </thead>\n",
       "  <tbody>\n",
       "    <tr>\n",
       "      <th>2018-02-25 16:07:23</th>\n",
       "      <td>FOODWASTE_TANK_A_LEVEL_TREND</td>\n",
       "      <td>47</td>\n",
       "      <td>1</td>\n",
       "      <td>4.315667e+10</td>\n",
       "    </tr>\n",
       "    <tr>\n",
       "      <th>2018-02-25 16:07:25</th>\n",
       "      <td>HARSLEV_PUMP_1_1PM_1_STATUS</td>\n",
       "      <td>20</td>\n",
       "      <td>1</td>\n",
       "      <td>4.315667e+10</td>\n",
       "    </tr>\n",
       "    <tr>\n",
       "      <th>2018-02-25 16:07:25</th>\n",
       "      <td>THREEWAY_VALVE_1_1PV4_STATUS</td>\n",
       "      <td>5</td>\n",
       "      <td>1</td>\n",
       "      <td>4.315667e+10</td>\n",
       "    </tr>\n",
       "    <tr>\n",
       "      <th>2018-02-25 16:07:27</th>\n",
       "      <td>HARSLEV_PUMP_1_1PM_1_STATUS</td>\n",
       "      <td>20</td>\n",
       "      <td>1</td>\n",
       "      <td>4.315667e+10</td>\n",
       "    </tr>\n",
       "    <tr>\n",
       "      <th>2018-02-25 16:07:27</th>\n",
       "      <td>THREEWAY_VALVE_1_1PV4_STATUS</td>\n",
       "      <td>5</td>\n",
       "      <td>1</td>\n",
       "      <td>4.315667e+10</td>\n",
       "    </tr>\n",
       "  </tbody>\n",
       "</table>\n",
       "</div>"
      ],
      "text/plain": [
       "                                          VarName  VarValue  Validity  \\\n",
       "DateTime                                                                \n",
       "2018-02-25 16:07:23  FOODWASTE_TANK_A_LEVEL_TREND        47         1   \n",
       "2018-02-25 16:07:25   HARSLEV_PUMP_1_1PM_1_STATUS        20         1   \n",
       "2018-02-25 16:07:25  THREEWAY_VALVE_1_1PV4_STATUS         5         1   \n",
       "2018-02-25 16:07:27   HARSLEV_PUMP_1_1PM_1_STATUS        20         1   \n",
       "2018-02-25 16:07:27  THREEWAY_VALVE_1_1PV4_STATUS         5         1   \n",
       "\n",
       "                         ms_fixed  \n",
       "DateTime                           \n",
       "2018-02-25 16:07:23  4.315667e+10  \n",
       "2018-02-25 16:07:25  4.315667e+10  \n",
       "2018-02-25 16:07:25  4.315667e+10  \n",
       "2018-02-25 16:07:27  4.315667e+10  \n",
       "2018-02-25 16:07:27  4.315667e+10  "
      ]
     },
     "execution_count": 98,
     "metadata": {},
     "output_type": "execute_result"
    }
   ],
   "source": [
    "TypeCorrectDF.head()"
   ]
  },
  {
   "cell_type": "code",
   "execution_count": 7,
   "metadata": {},
   "outputs": [],
   "source": [
    "# PETRI: convert string of Time_ms to actual milliseconds removing the data after comma ','\n",
    "TypeCorrectDF['ms_fixed'] = TypeCorrectDF['Time_ms'].apply(lambda x: x.split(',')[0].strip()).astype(float)"
   ]
  },
  {
   "cell_type": "code",
   "execution_count": 8,
   "metadata": {
    "scrolled": true
   },
   "outputs": [
    {
     "name": "stdout",
     "output_type": "stream",
     "text": [
      "<class 'pandas.core.frame.DataFrame'>\n",
      "RangeIndex: 402860 entries, 0 to 402859\n",
      "Data columns (total 7 columns):\n",
      "VarName       402860 non-null object\n",
      "TimeString    402860 non-null object\n",
      "VarValue      402860 non-null int64\n",
      "Validity      402860 non-null int64\n",
      "Time_ms       402860 non-null object\n",
      "DateTime      402860 non-null datetime64[ns]\n",
      "ms_fixed      402860 non-null float64\n",
      "dtypes: datetime64[ns](1), float64(1), int64(2), object(3)\n",
      "memory usage: 21.5+ MB\n",
      "None\n"
     ]
    }
   ],
   "source": [
    "print(TypeCorrectDF.info())"
   ]
  },
  {
   "cell_type": "code",
   "execution_count": 9,
   "metadata": {},
   "outputs": [
    {
     "name": "stdout",
     "output_type": "stream",
     "text": [
      "<class 'pandas.core.frame.DataFrame'>\n",
      "DatetimeIndex: 402860 entries, 2018-02-25 16:07:23 to 2018-01-03 14:19:32\n",
      "Data columns (total 6 columns):\n",
      "VarName       402860 non-null object\n",
      "TimeString    402860 non-null object\n",
      "VarValue      402860 non-null int64\n",
      "Validity      402860 non-null int64\n",
      "Time_ms       402860 non-null object\n",
      "ms_fixed      402860 non-null float64\n",
      "dtypes: float64(1), int64(2), object(3)\n",
      "memory usage: 21.5+ MB\n",
      "None\n"
     ]
    }
   ],
   "source": [
    "# Changing dataframe as timeseries <-- now plotting benefits directly from timeseries form\n",
    "TypeCorrectDF.set_index('DateTime', inplace=True) \n",
    "print(TypeCorrectDF.info())"
   ]
  },
  {
   "cell_type": "code",
   "execution_count": 10,
   "metadata": {},
   "outputs": [],
   "source": [
    "TypeCorrectDF.drop('TimeString',axis='columns',inplace=True)\n",
    "TypeCorrectDF.drop('Time_ms',axis='columns',inplace=True)"
   ]
  },
  {
   "cell_type": "code",
   "execution_count": 99,
   "metadata": {},
   "outputs": [
    {
     "data": {
      "text/html": [
       "<div>\n",
       "<style scoped>\n",
       "    .dataframe tbody tr th:only-of-type {\n",
       "        vertical-align: middle;\n",
       "    }\n",
       "\n",
       "    .dataframe tbody tr th {\n",
       "        vertical-align: top;\n",
       "    }\n",
       "\n",
       "    .dataframe thead th {\n",
       "        text-align: right;\n",
       "    }\n",
       "</style>\n",
       "<table border=\"1\" class=\"dataframe\">\n",
       "  <thead>\n",
       "    <tr style=\"text-align: right;\">\n",
       "      <th></th>\n",
       "      <th>VarName</th>\n",
       "      <th>VarValue</th>\n",
       "      <th>Validity</th>\n",
       "      <th>ms_fixed</th>\n",
       "    </tr>\n",
       "    <tr>\n",
       "      <th>DateTime</th>\n",
       "      <th></th>\n",
       "      <th></th>\n",
       "      <th></th>\n",
       "      <th></th>\n",
       "    </tr>\n",
       "  </thead>\n",
       "  <tbody>\n",
       "    <tr>\n",
       "      <th>2018-02-25 16:07:23</th>\n",
       "      <td>FOODWASTE_TANK_A_LEVEL_TREND</td>\n",
       "      <td>47</td>\n",
       "      <td>1</td>\n",
       "      <td>4.315667e+10</td>\n",
       "    </tr>\n",
       "    <tr>\n",
       "      <th>2018-02-25 16:07:25</th>\n",
       "      <td>HARSLEV_PUMP_1_1PM_1_STATUS</td>\n",
       "      <td>20</td>\n",
       "      <td>1</td>\n",
       "      <td>4.315667e+10</td>\n",
       "    </tr>\n",
       "    <tr>\n",
       "      <th>2018-02-25 16:07:25</th>\n",
       "      <td>THREEWAY_VALVE_1_1PV4_STATUS</td>\n",
       "      <td>5</td>\n",
       "      <td>1</td>\n",
       "      <td>4.315667e+10</td>\n",
       "    </tr>\n",
       "    <tr>\n",
       "      <th>2018-02-25 16:07:27</th>\n",
       "      <td>HARSLEV_PUMP_1_1PM_1_STATUS</td>\n",
       "      <td>20</td>\n",
       "      <td>1</td>\n",
       "      <td>4.315667e+10</td>\n",
       "    </tr>\n",
       "    <tr>\n",
       "      <th>2018-02-25 16:07:27</th>\n",
       "      <td>THREEWAY_VALVE_1_1PV4_STATUS</td>\n",
       "      <td>5</td>\n",
       "      <td>1</td>\n",
       "      <td>4.315667e+10</td>\n",
       "    </tr>\n",
       "  </tbody>\n",
       "</table>\n",
       "</div>"
      ],
      "text/plain": [
       "                                          VarName  VarValue  Validity  \\\n",
       "DateTime                                                                \n",
       "2018-02-25 16:07:23  FOODWASTE_TANK_A_LEVEL_TREND        47         1   \n",
       "2018-02-25 16:07:25   HARSLEV_PUMP_1_1PM_1_STATUS        20         1   \n",
       "2018-02-25 16:07:25  THREEWAY_VALVE_1_1PV4_STATUS         5         1   \n",
       "2018-02-25 16:07:27   HARSLEV_PUMP_1_1PM_1_STATUS        20         1   \n",
       "2018-02-25 16:07:27  THREEWAY_VALVE_1_1PV4_STATUS         5         1   \n",
       "\n",
       "                         ms_fixed  \n",
       "DateTime                           \n",
       "2018-02-25 16:07:23  4.315667e+10  \n",
       "2018-02-25 16:07:25  4.315667e+10  \n",
       "2018-02-25 16:07:25  4.315667e+10  \n",
       "2018-02-25 16:07:27  4.315667e+10  \n",
       "2018-02-25 16:07:27  4.315667e+10  "
      ]
     },
     "execution_count": 99,
     "metadata": {},
     "output_type": "execute_result"
    }
   ],
   "source": [
    "TypeCorrectDF.head()"
   ]
  },
  {
   "cell_type": "code",
   "execution_count": 11,
   "metadata": {},
   "outputs": [
    {
     "data": {
      "text/plain": [
       "array([[<matplotlib.axes._subplots.AxesSubplot object at 0x1a2229feb8>,\n",
       "        <matplotlib.axes._subplots.AxesSubplot object at 0x1a2251aba8>],\n",
       "       [<matplotlib.axes._subplots.AxesSubplot object at 0x10f4f7048>,\n",
       "        <matplotlib.axes._subplots.AxesSubplot object at 0x10f51f4a8>],\n",
       "       [<matplotlib.axes._subplots.AxesSubplot object at 0x1a223f1a20>,\n",
       "        <matplotlib.axes._subplots.AxesSubplot object at 0x1a2241bda0>]],\n",
       "      dtype=object)"
      ]
     },
     "execution_count": 11,
     "metadata": {},
     "output_type": "execute_result"
    },
    {
     "data": {
      "image/png": "[encoded data removed]",
      "text/plain": [
       "<Figure size 432x288 with 6 Axes>"
      ]
     },
     "metadata": {
      "needs_background": "light"
     },
     "output_type": "display_data"
    }
   ],
   "source": [
    "TypeCorrectDF.plot(subplots=True, layout=(3,2))"
   ]
  },
  {
   "cell_type": "code",
   "execution_count": 12,
   "metadata": {},
   "outputs": [],
   "source": [
    "def LoadData(filename):# FILENAME ON INPUT-PARAMETRINÄ LOADDATA-FUNKTIOLLE. FILENAME ANNETAAN SIIS FUNKTIOTA KÄYTETTÄESSÄ.\n",
    "    \"\"\"\n",
    "    Load the csv reading the file with the filename given as a parameter.\n",
    "    Print the sample size m and the feature length n.\n",
    "\n",
    "    :input: String path to the file\n",
    "\n",
    "    :return: pandas dataframe of shape=(m, n, ty), the sample size m and the feature length n \n",
    "    and the data type ty. In this case no conversion to Numpy array    \n",
    "    \"\"\"\n",
    "\n",
    "    df = pd.read_csv(filename, delimiter=';')\n",
    "    #X = df.values # convert the data frame to numpy array\n",
    "    n = df.shape[1]        # second element of \"dimension\" is the number of cols\n",
    "    m = df.shape[0]        # first element of dimension is the number of rows\n",
    "    ty = type(df)\n",
    "    print('sample size m=',m)\n",
    "    print('feature length n=',n)\n",
    "    print('the data type is', ty)\n",
    "    return df, m, n, ty"
   ]
  },
  {
   "cell_type": "code",
   "execution_count": 13,
   "metadata": {},
   "outputs": [
    {
     "name": "stdout",
     "output_type": "stream",
     "text": [
      "sample size m= 402860\n",
      "feature length n= 5\n",
      "the data type is <class 'pandas.core.frame.DataFrame'>\n"
     ]
    }
   ],
   "source": [
    "FWAsource, m, n, ty, = LoadData('MS6/LEVEL_TANK_A0.csv')"
   ]
  },
  {
   "cell_type": "code",
   "execution_count": 14,
   "metadata": {},
   "outputs": [
    {
     "data": {
      "text/html": [
       "<div>\n",
       "<style scoped>\n",
       "    .dataframe tbody tr th:only-of-type {\n",
       "        vertical-align: middle;\n",
       "    }\n",
       "\n",
       "    .dataframe tbody tr th {\n",
       "        vertical-align: top;\n",
       "    }\n",
       "\n",
       "    .dataframe thead th {\n",
       "        text-align: right;\n",
       "    }\n",
       "</style>\n",
       "<table border=\"1\" class=\"dataframe\">\n",
       "  <thead>\n",
       "    <tr style=\"text-align: right;\">\n",
       "      <th></th>\n",
       "      <th>VarName</th>\n",
       "      <th>TimeString</th>\n",
       "      <th>VarValue</th>\n",
       "      <th>Validity</th>\n",
       "      <th>Time_ms</th>\n",
       "    </tr>\n",
       "  </thead>\n",
       "  <tbody>\n",
       "    <tr>\n",
       "      <th>0</th>\n",
       "      <td>FOODWASTE_TANK_A_LEVEL_TREND</td>\n",
       "      <td>25.02.2018 16:07:23</td>\n",
       "      <td>47</td>\n",
       "      <td>1</td>\n",
       "      <td>43156671788,5185</td>\n",
       "    </tr>\n",
       "    <tr>\n",
       "      <th>1</th>\n",
       "      <td>HARSLEV_PUMP_1_1PM_1_STATUS</td>\n",
       "      <td>25.02.2018 16:07:25</td>\n",
       "      <td>20</td>\n",
       "      <td>1</td>\n",
       "      <td>43156671811,9097</td>\n",
       "    </tr>\n",
       "    <tr>\n",
       "      <th>2</th>\n",
       "      <td>THREEWAY_VALVE_1_1PV4_STATUS</td>\n",
       "      <td>25.02.2018 16:07:25</td>\n",
       "      <td>5</td>\n",
       "      <td>1</td>\n",
       "      <td>43156671811,9097</td>\n",
       "    </tr>\n",
       "    <tr>\n",
       "      <th>3</th>\n",
       "      <td>HARSLEV_PUMP_1_1PM_1_STATUS</td>\n",
       "      <td>25.02.2018 16:07:27</td>\n",
       "      <td>20</td>\n",
       "      <td>1</td>\n",
       "      <td>43156671835,2894</td>\n",
       "    </tr>\n",
       "    <tr>\n",
       "      <th>4</th>\n",
       "      <td>THREEWAY_VALVE_1_1PV4_STATUS</td>\n",
       "      <td>25.02.2018 16:07:27</td>\n",
       "      <td>5</td>\n",
       "      <td>1</td>\n",
       "      <td>43156671835,2894</td>\n",
       "    </tr>\n",
       "  </tbody>\n",
       "</table>\n",
       "</div>"
      ],
      "text/plain": [
       "                        VarName           TimeString  VarValue  Validity  \\\n",
       "0  FOODWASTE_TANK_A_LEVEL_TREND  25.02.2018 16:07:23        47         1   \n",
       "1   HARSLEV_PUMP_1_1PM_1_STATUS  25.02.2018 16:07:25        20         1   \n",
       "2  THREEWAY_VALVE_1_1PV4_STATUS  25.02.2018 16:07:25         5         1   \n",
       "3   HARSLEV_PUMP_1_1PM_1_STATUS  25.02.2018 16:07:27        20         1   \n",
       "4  THREEWAY_VALVE_1_1PV4_STATUS  25.02.2018 16:07:27         5         1   \n",
       "\n",
       "            Time_ms  \n",
       "0  43156671788,5185  \n",
       "1  43156671811,9097  \n",
       "2  43156671811,9097  \n",
       "3  43156671835,2894  \n",
       "4  43156671835,2894  "
      ]
     },
     "execution_count": 14,
     "metadata": {},
     "output_type": "execute_result"
    }
   ],
   "source": [
    "FWAsource.head()"
   ]
  },
  {
   "cell_type": "code",
   "execution_count": 15,
   "metadata": {},
   "outputs": [
    {
     "name": "stdout",
     "output_type": "stream",
     "text": [
      "sample size m= 402860\n",
      "feature length n= 5\n",
      "the data type is <class 'pandas.core.frame.DataFrame'>\n"
     ]
    }
   ],
   "source": [
    "FWBsource, m, n, ty, = LoadData('MS6/LEVEL_TANK_B0.csv')"
   ]
  },
  {
   "cell_type": "code",
   "execution_count": 16,
   "metadata": {},
   "outputs": [
    {
     "data": {
      "text/html": [
       "<div>\n",
       "<style scoped>\n",
       "    .dataframe tbody tr th:only-of-type {\n",
       "        vertical-align: middle;\n",
       "    }\n",
       "\n",
       "    .dataframe tbody tr th {\n",
       "        vertical-align: top;\n",
       "    }\n",
       "\n",
       "    .dataframe thead th {\n",
       "        text-align: right;\n",
       "    }\n",
       "</style>\n",
       "<table border=\"1\" class=\"dataframe\">\n",
       "  <thead>\n",
       "    <tr style=\"text-align: right;\">\n",
       "      <th></th>\n",
       "      <th>VarName</th>\n",
       "      <th>TimeString</th>\n",
       "      <th>VarValue</th>\n",
       "      <th>Validity</th>\n",
       "      <th>Time_ms</th>\n",
       "    </tr>\n",
       "  </thead>\n",
       "  <tbody>\n",
       "    <tr>\n",
       "      <th>402855</th>\n",
       "      <td>HARSLEV_PUMP_1_2PM_1_STATUS</td>\n",
       "      <td>01.03.2018 14:19:30</td>\n",
       "      <td>20</td>\n",
       "      <td>1</td>\n",
       "      <td>43160596875,2315</td>\n",
       "    </tr>\n",
       "    <tr>\n",
       "      <th>402856</th>\n",
       "      <td>THREEWAY_VALVE_1_2PV4_STATUS</td>\n",
       "      <td>01.03.2018 14:19:30</td>\n",
       "      <td>5</td>\n",
       "      <td>1</td>\n",
       "      <td>43160596875,2315</td>\n",
       "    </tr>\n",
       "    <tr>\n",
       "      <th>402857</th>\n",
       "      <td>FOODWASTE_TANK_B_LEVEL_TREND</td>\n",
       "      <td>01.03.2018 14:19:31</td>\n",
       "      <td>21</td>\n",
       "      <td>1</td>\n",
       "      <td>43160596886,9329</td>\n",
       "    </tr>\n",
       "    <tr>\n",
       "      <th>402858</th>\n",
       "      <td>HARSLEV_PUMP_1_2PM_1_STATUS</td>\n",
       "      <td>01.03.2018 14:19:32</td>\n",
       "      <td>20</td>\n",
       "      <td>1</td>\n",
       "      <td>43160596898,6343</td>\n",
       "    </tr>\n",
       "    <tr>\n",
       "      <th>402859</th>\n",
       "      <td>THREEWAY_VALVE_1_2PV4_STATUS</td>\n",
       "      <td>01.03.2018 14:19:32</td>\n",
       "      <td>5</td>\n",
       "      <td>1</td>\n",
       "      <td>43160596898,6343</td>\n",
       "    </tr>\n",
       "  </tbody>\n",
       "</table>\n",
       "</div>"
      ],
      "text/plain": [
       "                             VarName           TimeString  VarValue  Validity  \\\n",
       "402855   HARSLEV_PUMP_1_2PM_1_STATUS  01.03.2018 14:19:30        20         1   \n",
       "402856  THREEWAY_VALVE_1_2PV4_STATUS  01.03.2018 14:19:30         5         1   \n",
       "402857  FOODWASTE_TANK_B_LEVEL_TREND  01.03.2018 14:19:31        21         1   \n",
       "402858   HARSLEV_PUMP_1_2PM_1_STATUS  01.03.2018 14:19:32        20         1   \n",
       "402859  THREEWAY_VALVE_1_2PV4_STATUS  01.03.2018 14:19:32         5         1   \n",
       "\n",
       "                 Time_ms  \n",
       "402855  43160596875,2315  \n",
       "402856  43160596875,2315  \n",
       "402857  43160596886,9329  \n",
       "402858  43160596898,6343  \n",
       "402859  43160596898,6343  "
      ]
     },
     "execution_count": 16,
     "metadata": {},
     "output_type": "execute_result"
    }
   ],
   "source": [
    "FWBsource.tail()"
   ]
  },
  {
   "cell_type": "code",
   "execution_count": 17,
   "metadata": {},
   "outputs": [
    {
     "name": "stdout",
     "output_type": "stream",
     "text": [
      "sample size m= 400952\n",
      "feature length n= 5\n",
      "the data type is <class 'pandas.core.frame.DataFrame'>\n"
     ]
    }
   ],
   "source": [
    "BWsource, m, n, ty, = LoadData('MS6/LEVEL_BIOSLUDGETANK0.csv')"
   ]
  },
  {
   "cell_type": "code",
   "execution_count": 18,
   "metadata": {},
   "outputs": [
    {
     "data": {
      "text/html": [
       "<div>\n",
       "<style scoped>\n",
       "    .dataframe tbody tr th:only-of-type {\n",
       "        vertical-align: middle;\n",
       "    }\n",
       "\n",
       "    .dataframe tbody tr th {\n",
       "        vertical-align: top;\n",
       "    }\n",
       "\n",
       "    .dataframe thead th {\n",
       "        text-align: right;\n",
       "    }\n",
       "</style>\n",
       "<table border=\"1\" class=\"dataframe\">\n",
       "  <thead>\n",
       "    <tr style=\"text-align: right;\">\n",
       "      <th></th>\n",
       "      <th>VarName</th>\n",
       "      <th>TimeString</th>\n",
       "      <th>VarValue</th>\n",
       "      <th>Validity</th>\n",
       "      <th>Time_ms</th>\n",
       "    </tr>\n",
       "  </thead>\n",
       "  <tbody>\n",
       "    <tr>\n",
       "      <th>0</th>\n",
       "      <td>BIO_SLUDGE_MIXING_STATUS</td>\n",
       "      <td>17.02.2018 21:03:26</td>\n",
       "      <td>0</td>\n",
       "      <td>1</td>\n",
       "      <td>43148877388,0556</td>\n",
       "    </tr>\n",
       "    <tr>\n",
       "      <th>1</th>\n",
       "      <td>BIO_SLUDGE_TANK_LEVEL_TREND</td>\n",
       "      <td>17.02.2018 21:03:26</td>\n",
       "      <td>19</td>\n",
       "      <td>1</td>\n",
       "      <td>43148877388,0556</td>\n",
       "    </tr>\n",
       "    <tr>\n",
       "      <th>2</th>\n",
       "      <td>BIO_SLUDGE_MIXING_STATUS</td>\n",
       "      <td>17.02.2018 21:03:31</td>\n",
       "      <td>0</td>\n",
       "      <td>1</td>\n",
       "      <td>43148877446,5162</td>\n",
       "    </tr>\n",
       "    <tr>\n",
       "      <th>3</th>\n",
       "      <td>BIO_SLUDGE_TANK_LEVEL_TREND</td>\n",
       "      <td>17.02.2018 21:03:31</td>\n",
       "      <td>19</td>\n",
       "      <td>1</td>\n",
       "      <td>43148877446,5162</td>\n",
       "    </tr>\n",
       "    <tr>\n",
       "      <th>4</th>\n",
       "      <td>BIO_SLUDGE_MIXING_STATUS</td>\n",
       "      <td>17.02.2018 21:03:36</td>\n",
       "      <td>0</td>\n",
       "      <td>1</td>\n",
       "      <td>43148877505</td>\n",
       "    </tr>\n",
       "  </tbody>\n",
       "</table>\n",
       "</div>"
      ],
      "text/plain": [
       "                       VarName           TimeString  VarValue  Validity  \\\n",
       "0     BIO_SLUDGE_MIXING_STATUS  17.02.2018 21:03:26         0         1   \n",
       "1  BIO_SLUDGE_TANK_LEVEL_TREND  17.02.2018 21:03:26        19         1   \n",
       "2     BIO_SLUDGE_MIXING_STATUS  17.02.2018 21:03:31         0         1   \n",
       "3  BIO_SLUDGE_TANK_LEVEL_TREND  17.02.2018 21:03:31        19         1   \n",
       "4     BIO_SLUDGE_MIXING_STATUS  17.02.2018 21:03:36         0         1   \n",
       "\n",
       "            Time_ms  \n",
       "0  43148877388,0556  \n",
       "1  43148877388,0556  \n",
       "2  43148877446,5162  \n",
       "3  43148877446,5162  \n",
       "4       43148877505  "
      ]
     },
     "execution_count": 18,
     "metadata": {},
     "output_type": "execute_result"
    }
   ],
   "source": [
    "BWsource.head()"
   ]
  },
  {
   "cell_type": "code",
   "execution_count": 19,
   "metadata": {},
   "outputs": [
    {
     "name": "stdout",
     "output_type": "stream",
     "text": [
      "sample size m= 500000\n",
      "feature length n= 5\n",
      "the data type is <class 'pandas.core.frame.DataFrame'>\n"
     ]
    }
   ],
   "source": [
    "DWsource, m, n, ty, = LoadData('MS6/Inc_1_datalog_functions0.csv')"
   ]
  },
  {
   "cell_type": "code",
   "execution_count": 20,
   "metadata": {},
   "outputs": [
    {
     "data": {
      "text/html": [
       "<div>\n",
       "<style scoped>\n",
       "    .dataframe tbody tr th:only-of-type {\n",
       "        vertical-align: middle;\n",
       "    }\n",
       "\n",
       "    .dataframe tbody tr th {\n",
       "        vertical-align: top;\n",
       "    }\n",
       "\n",
       "    .dataframe thead th {\n",
       "        text-align: right;\n",
       "    }\n",
       "</style>\n",
       "<table border=\"1\" class=\"dataframe\">\n",
       "  <thead>\n",
       "    <tr style=\"text-align: right;\">\n",
       "      <th></th>\n",
       "      <th>VarName</th>\n",
       "      <th>TimeString</th>\n",
       "      <th>VarValue</th>\n",
       "      <th>Validity</th>\n",
       "      <th>Time_ms</th>\n",
       "    </tr>\n",
       "  </thead>\n",
       "  <tbody>\n",
       "    <tr>\n",
       "      <th>0</th>\n",
       "      <td>inc_1_primary_burner_status</td>\n",
       "      <td>17.02.2018 21:03:15</td>\n",
       "      <td>0</td>\n",
       "      <td>1</td>\n",
       "      <td>43148877259,4097</td>\n",
       "    </tr>\n",
       "    <tr>\n",
       "      <th>1</th>\n",
       "      <td>inc_1_secondary_burner_status</td>\n",
       "      <td>17.02.2018 21:03:15</td>\n",
       "      <td>-20</td>\n",
       "      <td>1</td>\n",
       "      <td>43148877259,4097</td>\n",
       "    </tr>\n",
       "    <tr>\n",
       "      <th>2</th>\n",
       "      <td>inc_1_lower_feeding_gate_status</td>\n",
       "      <td>17.02.2018 21:03:15</td>\n",
       "      <td>-10</td>\n",
       "      <td>1</td>\n",
       "      <td>43148877259,4097</td>\n",
       "    </tr>\n",
       "    <tr>\n",
       "      <th>3</th>\n",
       "      <td>inc_1_medical_flap_status</td>\n",
       "      <td>17.02.2018 21:03:15</td>\n",
       "      <td>-5</td>\n",
       "      <td>1</td>\n",
       "      <td>43148877259,4097</td>\n",
       "    </tr>\n",
       "    <tr>\n",
       "      <th>4</th>\n",
       "      <td>inc_1_primary_burner_status</td>\n",
       "      <td>17.02.2018 21:03:16</td>\n",
       "      <td>0</td>\n",
       "      <td>1</td>\n",
       "      <td>43148877271,0995</td>\n",
       "    </tr>\n",
       "  </tbody>\n",
       "</table>\n",
       "</div>"
      ],
      "text/plain": [
       "                           VarName           TimeString  VarValue  Validity  \\\n",
       "0      inc_1_primary_burner_status  17.02.2018 21:03:15         0         1   \n",
       "1    inc_1_secondary_burner_status  17.02.2018 21:03:15       -20         1   \n",
       "2  inc_1_lower_feeding_gate_status  17.02.2018 21:03:15       -10         1   \n",
       "3        inc_1_medical_flap_status  17.02.2018 21:03:15        -5         1   \n",
       "4      inc_1_primary_burner_status  17.02.2018 21:03:16         0         1   \n",
       "\n",
       "            Time_ms  \n",
       "0  43148877259,4097  \n",
       "1  43148877259,4097  \n",
       "2  43148877259,4097  \n",
       "3  43148877259,4097  \n",
       "4  43148877271,0995  "
      ]
     },
     "execution_count": 20,
     "metadata": {},
     "output_type": "execute_result"
    }
   ],
   "source": [
    "DWsource.head() # Contains waste burning data. Not useable for waste flow prediction."
   ]
  },
  {
   "cell_type": "code",
   "execution_count": 21,
   "metadata": {},
   "outputs": [
    {
     "name": "stdout",
     "output_type": "stream",
     "text": [
      "sample size m= 500000\n",
      "feature length n= 5\n",
      "the data type is <class 'pandas.core.frame.DataFrame'>\n"
     ]
    }
   ],
   "source": [
    "IncVar, m, n, ty, = LoadData('MS6/Inc_1_datalog_var1.csv')"
   ]
  },
  {
   "cell_type": "code",
   "execution_count": 22,
   "metadata": {},
   "outputs": [
    {
     "data": {
      "text/html": [
       "<div>\n",
       "<style scoped>\n",
       "    .dataframe tbody tr th:only-of-type {\n",
       "        vertical-align: middle;\n",
       "    }\n",
       "\n",
       "    .dataframe tbody tr th {\n",
       "        vertical-align: top;\n",
       "    }\n",
       "\n",
       "    .dataframe thead th {\n",
       "        text-align: right;\n",
       "    }\n",
       "</style>\n",
       "<table border=\"1\" class=\"dataframe\">\n",
       "  <thead>\n",
       "    <tr style=\"text-align: right;\">\n",
       "      <th></th>\n",
       "      <th>VarName</th>\n",
       "      <th>TimeString</th>\n",
       "      <th>VarValue</th>\n",
       "      <th>Validity</th>\n",
       "      <th>Time_ms</th>\n",
       "    </tr>\n",
       "  </thead>\n",
       "  <tbody>\n",
       "    <tr>\n",
       "      <th>0</th>\n",
       "      <td>inc_1_primary_chamber_temperature</td>\n",
       "      <td>07.01.2018 22:57:15</td>\n",
       "      <td>930</td>\n",
       "      <td>1</td>\n",
       "      <td>43107956427,9745</td>\n",
       "    </tr>\n",
       "    <tr>\n",
       "      <th>1</th>\n",
       "      <td>inc_1_secondary_chamber_temperature</td>\n",
       "      <td>07.01.2018 22:57:15</td>\n",
       "      <td>856</td>\n",
       "      <td>1</td>\n",
       "      <td>43107956427,9861</td>\n",
       "    </tr>\n",
       "    <tr>\n",
       "      <th>2</th>\n",
       "      <td>inc_1_fluegas_temperature</td>\n",
       "      <td>07.01.2018 22:57:15</td>\n",
       "      <td>222</td>\n",
       "      <td>1</td>\n",
       "      <td>43107956427,9861</td>\n",
       "    </tr>\n",
       "    <tr>\n",
       "      <th>3</th>\n",
       "      <td>inc_1_underpressure</td>\n",
       "      <td>07.01.2018 22:57:15</td>\n",
       "      <td>20</td>\n",
       "      <td>1</td>\n",
       "      <td>43107956427,9861</td>\n",
       "    </tr>\n",
       "    <tr>\n",
       "      <th>4</th>\n",
       "      <td>inc_1_primary_chamber_temperature</td>\n",
       "      <td>07.01.2018 22:57:20</td>\n",
       "      <td>931</td>\n",
       "      <td>1</td>\n",
       "      <td>43107956486,4583</td>\n",
       "    </tr>\n",
       "  </tbody>\n",
       "</table>\n",
       "</div>"
      ],
      "text/plain": [
       "                               VarName           TimeString  VarValue  \\\n",
       "0    inc_1_primary_chamber_temperature  07.01.2018 22:57:15       930   \n",
       "1  inc_1_secondary_chamber_temperature  07.01.2018 22:57:15       856   \n",
       "2            inc_1_fluegas_temperature  07.01.2018 22:57:15       222   \n",
       "3                  inc_1_underpressure  07.01.2018 22:57:15        20   \n",
       "4    inc_1_primary_chamber_temperature  07.01.2018 22:57:20       931   \n",
       "\n",
       "   Validity           Time_ms  \n",
       "0         1  43107956427,9745  \n",
       "1         1  43107956427,9861  \n",
       "2         1  43107956427,9861  \n",
       "3         1  43107956427,9861  \n",
       "4         1  43107956486,4583  "
      ]
     },
     "execution_count": 22,
     "metadata": {},
     "output_type": "execute_result"
    }
   ],
   "source": [
    "IncVar.head() # Contains waste burning data. Not useable for waste flow prediction."
   ]
  },
  {
   "cell_type": "code",
   "execution_count": 23,
   "metadata": {},
   "outputs": [],
   "source": [
    "def Datetime(df):\n",
    "    \"\"\"\n",
    "    Converts the str-type TimeString into more useful Pandas DateTime form.\n",
    "    \n",
    "    Prints the head of the DataFrame after conversion and the data type of the DateTime column.\n",
    "\n",
    "    :input: Name of the dataframe and the TimeString column of the DF in question.\n",
    "\n",
    "    :return: pandas dataframe with the DateTime and its data type.    \n",
    "    \"\"\"\n",
    "\n",
    "    df['DateTime'] = pd.to_datetime(df.TimeString, format = '%d.%m.%Y %H:%M:%S')\n",
    "    dty = type(df.DateTime)    # Returns datatype\n",
    "    print(df.head())\n",
    "    print('The time data type is now: ',dty)\n",
    "    return df, dty"
   ]
  },
  {
   "cell_type": "code",
   "execution_count": 24,
   "metadata": {},
   "outputs": [
    {
     "name": "stdout",
     "output_type": "stream",
     "text": [
      "Index(['VarName', 'TimeString', 'VarValue', 'Validity', 'Time_ms'], dtype='object')\n",
      "<class 'pandas.core.frame.DataFrame'>\n",
      "RangeIndex: 500000 entries, 0 to 499999\n",
      "Data columns (total 5 columns):\n",
      "VarName       500000 non-null object\n",
      "TimeString    500000 non-null object\n",
      "VarValue      500000 non-null int64\n",
      "Validity      500000 non-null int64\n",
      "Time_ms       500000 non-null object\n",
      "dtypes: int64(2), object(3)\n",
      "memory usage: 19.1+ MB\n",
      "None\n"
     ]
    }
   ],
   "source": [
    "# PETRI testi\n",
    "print(DWsource.columns)\n",
    "print(DWsource.info())"
   ]
  },
  {
   "cell_type": "code",
   "execution_count": null,
   "metadata": {},
   "outputs": [],
   "source": [
    "Datetime(DWsource)"
   ]
  },
  {
   "cell_type": "code",
   "execution_count": 26,
   "metadata": {},
   "outputs": [
    {
     "name": "stdout",
     "output_type": "stream",
     "text": [
      "Index(['VarName', 'TimeString', 'VarValue', 'Validity', 'Time_ms', 'DateTime'], dtype='object')\n",
      "<class 'pandas.core.frame.DataFrame'>\n",
      "RangeIndex: 500000 entries, 0 to 499999\n",
      "Data columns (total 6 columns):\n",
      "VarName       500000 non-null object\n",
      "TimeString    500000 non-null object\n",
      "VarValue      500000 non-null int64\n",
      "Validity      500000 non-null int64\n",
      "Time_ms       500000 non-null object\n",
      "DateTime      500000 non-null datetime64[ns]\n",
      "dtypes: datetime64[ns](1), int64(2), object(3)\n",
      "memory usage: 22.9+ MB\n",
      "None\n"
     ]
    }
   ],
   "source": [
    "# PETRI testi\n",
    "print(DWsource.columns)\n",
    "print(DWsource.info())  # <-- DateTime muuttunut"
   ]
  },
  {
   "cell_type": "code",
   "execution_count": null,
   "metadata": {},
   "outputs": [],
   "source": [
    "Datetime(BWsource)"
   ]
  },
  {
   "cell_type": "code",
   "execution_count": null,
   "metadata": {},
   "outputs": [],
   "source": [
    "Datetime(FWAsource)"
   ]
  },
  {
   "cell_type": "code",
   "execution_count": null,
   "metadata": {},
   "outputs": [],
   "source": [
    "Datetime(FWBsource)"
   ]
  },
  {
   "cell_type": "code",
   "execution_count": 30,
   "metadata": {},
   "outputs": [
    {
     "data": {
      "text/html": [
       "<div>\n",
       "<style scoped>\n",
       "    .dataframe tbody tr th:only-of-type {\n",
       "        vertical-align: middle;\n",
       "    }\n",
       "\n",
       "    .dataframe tbody tr th {\n",
       "        vertical-align: top;\n",
       "    }\n",
       "\n",
       "    .dataframe thead th {\n",
       "        text-align: right;\n",
       "    }\n",
       "</style>\n",
       "<table border=\"1\" class=\"dataframe\">\n",
       "  <thead>\n",
       "    <tr style=\"text-align: right;\">\n",
       "      <th></th>\n",
       "      <th>VarName</th>\n",
       "      <th>TimeString</th>\n",
       "      <th>VarValue</th>\n",
       "      <th>Validity</th>\n",
       "      <th>Time_ms</th>\n",
       "      <th>DateTime</th>\n",
       "    </tr>\n",
       "  </thead>\n",
       "  <tbody>\n",
       "    <tr>\n",
       "      <th>0</th>\n",
       "      <td>inc_1_primary_burner_status</td>\n",
       "      <td>17.02.2018 21:03:15</td>\n",
       "      <td>0</td>\n",
       "      <td>1</td>\n",
       "      <td>43148877259,4097</td>\n",
       "      <td>2018-02-17 21:03:15</td>\n",
       "    </tr>\n",
       "    <tr>\n",
       "      <th>1</th>\n",
       "      <td>inc_1_secondary_burner_status</td>\n",
       "      <td>17.02.2018 21:03:15</td>\n",
       "      <td>-20</td>\n",
       "      <td>1</td>\n",
       "      <td>43148877259,4097</td>\n",
       "      <td>2018-02-17 21:03:15</td>\n",
       "    </tr>\n",
       "    <tr>\n",
       "      <th>2</th>\n",
       "      <td>inc_1_lower_feeding_gate_status</td>\n",
       "      <td>17.02.2018 21:03:15</td>\n",
       "      <td>-10</td>\n",
       "      <td>1</td>\n",
       "      <td>43148877259,4097</td>\n",
       "      <td>2018-02-17 21:03:15</td>\n",
       "    </tr>\n",
       "    <tr>\n",
       "      <th>3</th>\n",
       "      <td>inc_1_medical_flap_status</td>\n",
       "      <td>17.02.2018 21:03:15</td>\n",
       "      <td>-5</td>\n",
       "      <td>1</td>\n",
       "      <td>43148877259,4097</td>\n",
       "      <td>2018-02-17 21:03:15</td>\n",
       "    </tr>\n",
       "    <tr>\n",
       "      <th>4</th>\n",
       "      <td>inc_1_primary_burner_status</td>\n",
       "      <td>17.02.2018 21:03:16</td>\n",
       "      <td>0</td>\n",
       "      <td>1</td>\n",
       "      <td>43148877271,0995</td>\n",
       "      <td>2018-02-17 21:03:16</td>\n",
       "    </tr>\n",
       "  </tbody>\n",
       "</table>\n",
       "</div>"
      ],
      "text/plain": [
       "                           VarName           TimeString  VarValue  Validity  \\\n",
       "0      inc_1_primary_burner_status  17.02.2018 21:03:15         0         1   \n",
       "1    inc_1_secondary_burner_status  17.02.2018 21:03:15       -20         1   \n",
       "2  inc_1_lower_feeding_gate_status  17.02.2018 21:03:15       -10         1   \n",
       "3        inc_1_medical_flap_status  17.02.2018 21:03:15        -5         1   \n",
       "4      inc_1_primary_burner_status  17.02.2018 21:03:16         0         1   \n",
       "\n",
       "            Time_ms            DateTime  \n",
       "0  43148877259,4097 2018-02-17 21:03:15  \n",
       "1  43148877259,4097 2018-02-17 21:03:15  \n",
       "2  43148877259,4097 2018-02-17 21:03:15  \n",
       "3  43148877259,4097 2018-02-17 21:03:15  \n",
       "4  43148877271,0995 2018-02-17 21:03:16  "
      ]
     },
     "execution_count": 30,
     "metadata": {},
     "output_type": "execute_result"
    }
   ],
   "source": [
    "DWsource.head()"
   ]
  },
  {
   "cell_type": "code",
   "execution_count": 31,
   "metadata": {},
   "outputs": [
    {
     "data": {
      "text/html": [
       "<div>\n",
       "<style scoped>\n",
       "    .dataframe tbody tr th:only-of-type {\n",
       "        vertical-align: middle;\n",
       "    }\n",
       "\n",
       "    .dataframe tbody tr th {\n",
       "        vertical-align: top;\n",
       "    }\n",
       "\n",
       "    .dataframe thead th {\n",
       "        text-align: right;\n",
       "    }\n",
       "</style>\n",
       "<table border=\"1\" class=\"dataframe\">\n",
       "  <thead>\n",
       "    <tr style=\"text-align: right;\">\n",
       "      <th></th>\n",
       "      <th>VarName</th>\n",
       "      <th>TimeString</th>\n",
       "      <th>VarValue</th>\n",
       "      <th>Validity</th>\n",
       "      <th>Time_ms</th>\n",
       "      <th>DateTime</th>\n",
       "    </tr>\n",
       "  </thead>\n",
       "  <tbody>\n",
       "    <tr>\n",
       "      <th>0</th>\n",
       "      <td>FOODWASTE_TANK_A_LEVEL_TREND</td>\n",
       "      <td>25.02.2018 16:07:23</td>\n",
       "      <td>47</td>\n",
       "      <td>1</td>\n",
       "      <td>43156671788,5185</td>\n",
       "      <td>2018-02-25 16:07:23</td>\n",
       "    </tr>\n",
       "    <tr>\n",
       "      <th>1</th>\n",
       "      <td>HARSLEV_PUMP_1_1PM_1_STATUS</td>\n",
       "      <td>25.02.2018 16:07:25</td>\n",
       "      <td>20</td>\n",
       "      <td>1</td>\n",
       "      <td>43156671811,9097</td>\n",
       "      <td>2018-02-25 16:07:25</td>\n",
       "    </tr>\n",
       "    <tr>\n",
       "      <th>2</th>\n",
       "      <td>THREEWAY_VALVE_1_1PV4_STATUS</td>\n",
       "      <td>25.02.2018 16:07:25</td>\n",
       "      <td>5</td>\n",
       "      <td>1</td>\n",
       "      <td>43156671811,9097</td>\n",
       "      <td>2018-02-25 16:07:25</td>\n",
       "    </tr>\n",
       "    <tr>\n",
       "      <th>3</th>\n",
       "      <td>HARSLEV_PUMP_1_1PM_1_STATUS</td>\n",
       "      <td>25.02.2018 16:07:27</td>\n",
       "      <td>20</td>\n",
       "      <td>1</td>\n",
       "      <td>43156671835,2894</td>\n",
       "      <td>2018-02-25 16:07:27</td>\n",
       "    </tr>\n",
       "    <tr>\n",
       "      <th>4</th>\n",
       "      <td>THREEWAY_VALVE_1_1PV4_STATUS</td>\n",
       "      <td>25.02.2018 16:07:27</td>\n",
       "      <td>5</td>\n",
       "      <td>1</td>\n",
       "      <td>43156671835,2894</td>\n",
       "      <td>2018-02-25 16:07:27</td>\n",
       "    </tr>\n",
       "  </tbody>\n",
       "</table>\n",
       "</div>"
      ],
      "text/plain": [
       "                        VarName           TimeString  VarValue  Validity  \\\n",
       "0  FOODWASTE_TANK_A_LEVEL_TREND  25.02.2018 16:07:23        47         1   \n",
       "1   HARSLEV_PUMP_1_1PM_1_STATUS  25.02.2018 16:07:25        20         1   \n",
       "2  THREEWAY_VALVE_1_1PV4_STATUS  25.02.2018 16:07:25         5         1   \n",
       "3   HARSLEV_PUMP_1_1PM_1_STATUS  25.02.2018 16:07:27        20         1   \n",
       "4  THREEWAY_VALVE_1_1PV4_STATUS  25.02.2018 16:07:27         5         1   \n",
       "\n",
       "            Time_ms            DateTime  \n",
       "0  43156671788,5185 2018-02-25 16:07:23  \n",
       "1  43156671811,9097 2018-02-25 16:07:25  \n",
       "2  43156671811,9097 2018-02-25 16:07:25  \n",
       "3  43156671835,2894 2018-02-25 16:07:27  \n",
       "4  43156671835,2894 2018-02-25 16:07:27  "
      ]
     },
     "execution_count": 31,
     "metadata": {},
     "output_type": "execute_result"
    }
   ],
   "source": [
    "FWAsource.head()"
   ]
  },
  {
   "cell_type": "code",
   "execution_count": 32,
   "metadata": {},
   "outputs": [
    {
     "data": {
      "text/html": [
       "<div>\n",
       "<style scoped>\n",
       "    .dataframe tbody tr th:only-of-type {\n",
       "        vertical-align: middle;\n",
       "    }\n",
       "\n",
       "    .dataframe tbody tr th {\n",
       "        vertical-align: top;\n",
       "    }\n",
       "\n",
       "    .dataframe thead th {\n",
       "        text-align: right;\n",
       "    }\n",
       "</style>\n",
       "<table border=\"1\" class=\"dataframe\">\n",
       "  <thead>\n",
       "    <tr style=\"text-align: right;\">\n",
       "      <th></th>\n",
       "      <th>VarName</th>\n",
       "      <th>TimeString</th>\n",
       "      <th>VarValue</th>\n",
       "      <th>Validity</th>\n",
       "      <th>Time_ms</th>\n",
       "      <th>DateTime</th>\n",
       "    </tr>\n",
       "  </thead>\n",
       "  <tbody>\n",
       "    <tr>\n",
       "      <th>0</th>\n",
       "      <td>FOODWASTE_TANK_B_LEVEL_TREND</td>\n",
       "      <td>25.02.2018 16:07:23</td>\n",
       "      <td>14</td>\n",
       "      <td>1</td>\n",
       "      <td>43156671788,5185</td>\n",
       "      <td>2018-02-25 16:07:23</td>\n",
       "    </tr>\n",
       "    <tr>\n",
       "      <th>1</th>\n",
       "      <td>HARSLEV_PUMP_1_2PM_1_STATUS</td>\n",
       "      <td>25.02.2018 16:07:25</td>\n",
       "      <td>20</td>\n",
       "      <td>1</td>\n",
       "      <td>43156671811,9097</td>\n",
       "      <td>2018-02-25 16:07:25</td>\n",
       "    </tr>\n",
       "    <tr>\n",
       "      <th>2</th>\n",
       "      <td>THREEWAY_VALVE_1_2PV4_STATUS</td>\n",
       "      <td>25.02.2018 16:07:25</td>\n",
       "      <td>5</td>\n",
       "      <td>1</td>\n",
       "      <td>43156671811,9097</td>\n",
       "      <td>2018-02-25 16:07:25</td>\n",
       "    </tr>\n",
       "    <tr>\n",
       "      <th>3</th>\n",
       "      <td>HARSLEV_PUMP_1_2PM_1_STATUS</td>\n",
       "      <td>25.02.2018 16:07:27</td>\n",
       "      <td>20</td>\n",
       "      <td>1</td>\n",
       "      <td>43156671835,2894</td>\n",
       "      <td>2018-02-25 16:07:27</td>\n",
       "    </tr>\n",
       "    <tr>\n",
       "      <th>4</th>\n",
       "      <td>THREEWAY_VALVE_1_2PV4_STATUS</td>\n",
       "      <td>25.02.2018 16:07:27</td>\n",
       "      <td>5</td>\n",
       "      <td>1</td>\n",
       "      <td>43156671835,3009</td>\n",
       "      <td>2018-02-25 16:07:27</td>\n",
       "    </tr>\n",
       "  </tbody>\n",
       "</table>\n",
       "</div>"
      ],
      "text/plain": [
       "                        VarName           TimeString  VarValue  Validity  \\\n",
       "0  FOODWASTE_TANK_B_LEVEL_TREND  25.02.2018 16:07:23        14         1   \n",
       "1   HARSLEV_PUMP_1_2PM_1_STATUS  25.02.2018 16:07:25        20         1   \n",
       "2  THREEWAY_VALVE_1_2PV4_STATUS  25.02.2018 16:07:25         5         1   \n",
       "3   HARSLEV_PUMP_1_2PM_1_STATUS  25.02.2018 16:07:27        20         1   \n",
       "4  THREEWAY_VALVE_1_2PV4_STATUS  25.02.2018 16:07:27         5         1   \n",
       "\n",
       "            Time_ms            DateTime  \n",
       "0  43156671788,5185 2018-02-25 16:07:23  \n",
       "1  43156671811,9097 2018-02-25 16:07:25  \n",
       "2  43156671811,9097 2018-02-25 16:07:25  \n",
       "3  43156671835,2894 2018-02-25 16:07:27  \n",
       "4  43156671835,3009 2018-02-25 16:07:27  "
      ]
     },
     "execution_count": 32,
     "metadata": {},
     "output_type": "execute_result"
    }
   ],
   "source": [
    "FWBsource.head()"
   ]
  },
  {
   "cell_type": "code",
   "execution_count": 33,
   "metadata": {},
   "outputs": [
    {
     "data": {
      "text/html": [
       "<div>\n",
       "<style scoped>\n",
       "    .dataframe tbody tr th:only-of-type {\n",
       "        vertical-align: middle;\n",
       "    }\n",
       "\n",
       "    .dataframe tbody tr th {\n",
       "        vertical-align: top;\n",
       "    }\n",
       "\n",
       "    .dataframe thead th {\n",
       "        text-align: right;\n",
       "    }\n",
       "</style>\n",
       "<table border=\"1\" class=\"dataframe\">\n",
       "  <thead>\n",
       "    <tr style=\"text-align: right;\">\n",
       "      <th></th>\n",
       "      <th>VarName</th>\n",
       "      <th>TimeString</th>\n",
       "      <th>VarValue</th>\n",
       "      <th>Validity</th>\n",
       "      <th>Time_ms</th>\n",
       "      <th>DateTime</th>\n",
       "    </tr>\n",
       "  </thead>\n",
       "  <tbody>\n",
       "    <tr>\n",
       "      <th>0</th>\n",
       "      <td>BIO_SLUDGE_MIXING_STATUS</td>\n",
       "      <td>17.02.2018 21:03:26</td>\n",
       "      <td>0</td>\n",
       "      <td>1</td>\n",
       "      <td>43148877388,0556</td>\n",
       "      <td>2018-02-17 21:03:26</td>\n",
       "    </tr>\n",
       "    <tr>\n",
       "      <th>1</th>\n",
       "      <td>BIO_SLUDGE_TANK_LEVEL_TREND</td>\n",
       "      <td>17.02.2018 21:03:26</td>\n",
       "      <td>19</td>\n",
       "      <td>1</td>\n",
       "      <td>43148877388,0556</td>\n",
       "      <td>2018-02-17 21:03:26</td>\n",
       "    </tr>\n",
       "    <tr>\n",
       "      <th>2</th>\n",
       "      <td>BIO_SLUDGE_MIXING_STATUS</td>\n",
       "      <td>17.02.2018 21:03:31</td>\n",
       "      <td>0</td>\n",
       "      <td>1</td>\n",
       "      <td>43148877446,5162</td>\n",
       "      <td>2018-02-17 21:03:31</td>\n",
       "    </tr>\n",
       "    <tr>\n",
       "      <th>3</th>\n",
       "      <td>BIO_SLUDGE_TANK_LEVEL_TREND</td>\n",
       "      <td>17.02.2018 21:03:31</td>\n",
       "      <td>19</td>\n",
       "      <td>1</td>\n",
       "      <td>43148877446,5162</td>\n",
       "      <td>2018-02-17 21:03:31</td>\n",
       "    </tr>\n",
       "    <tr>\n",
       "      <th>4</th>\n",
       "      <td>BIO_SLUDGE_MIXING_STATUS</td>\n",
       "      <td>17.02.2018 21:03:36</td>\n",
       "      <td>0</td>\n",
       "      <td>1</td>\n",
       "      <td>43148877505</td>\n",
       "      <td>2018-02-17 21:03:36</td>\n",
       "    </tr>\n",
       "  </tbody>\n",
       "</table>\n",
       "</div>"
      ],
      "text/plain": [
       "                       VarName           TimeString  VarValue  Validity  \\\n",
       "0     BIO_SLUDGE_MIXING_STATUS  17.02.2018 21:03:26         0         1   \n",
       "1  BIO_SLUDGE_TANK_LEVEL_TREND  17.02.2018 21:03:26        19         1   \n",
       "2     BIO_SLUDGE_MIXING_STATUS  17.02.2018 21:03:31         0         1   \n",
       "3  BIO_SLUDGE_TANK_LEVEL_TREND  17.02.2018 21:03:31        19         1   \n",
       "4     BIO_SLUDGE_MIXING_STATUS  17.02.2018 21:03:36         0         1   \n",
       "\n",
       "            Time_ms            DateTime  \n",
       "0  43148877388,0556 2018-02-17 21:03:26  \n",
       "1  43148877388,0556 2018-02-17 21:03:26  \n",
       "2  43148877446,5162 2018-02-17 21:03:31  \n",
       "3  43148877446,5162 2018-02-17 21:03:31  \n",
       "4       43148877505 2018-02-17 21:03:36  "
      ]
     },
     "execution_count": 33,
     "metadata": {},
     "output_type": "execute_result"
    }
   ],
   "source": [
    "BWsource.head()"
   ]
  },
  {
   "cell_type": "code",
   "execution_count": 34,
   "metadata": {},
   "outputs": [],
   "source": [
    "def Filtvar(df, col):\n",
    "    \"\"\"\n",
    "    Picks up the rows with desired variables\n",
    "\n",
    "    :input: Name of the dataframe and the desired variable in quotes ('').\n",
    "\n",
    "    :return: pandas dataframe with only the desired variable in the VarName-column.\n",
    "    In addition, returns the dimensions of the new filtered DataFrame.\n",
    "    \"\"\"\n",
    "\n",
    "    df = df[df.VarName == col]\n",
    "    n = df.shape[1]        # second element of \"dimension\" is the number of cols\n",
    "    m = df.shape[0]        # first element of dimension is the number of rows\n",
    "    \n",
    "    print('sample size m=',m)\n",
    "    print('feature length n=',n)\n",
    "\n",
    "    return df, m, n"
   ]
  },
  {
   "cell_type": "code",
   "execution_count": 35,
   "metadata": {},
   "outputs": [
    {
     "name": "stdout",
     "output_type": "stream",
     "text": [
      "sample size m= 125000\n",
      "feature length n= 6\n"
     ]
    }
   ],
   "source": [
    "DWtest, m, n, = Filtvar(DWsource, 'inc_1_lower_feeding_gate_status')"
   ]
  },
  {
   "cell_type": "code",
   "execution_count": 36,
   "metadata": {},
   "outputs": [
    {
     "data": {
      "text/html": [
       "<div>\n",
       "<style scoped>\n",
       "    .dataframe tbody tr th:only-of-type {\n",
       "        vertical-align: middle;\n",
       "    }\n",
       "\n",
       "    .dataframe tbody tr th {\n",
       "        vertical-align: top;\n",
       "    }\n",
       "\n",
       "    .dataframe thead th {\n",
       "        text-align: right;\n",
       "    }\n",
       "</style>\n",
       "<table border=\"1\" class=\"dataframe\">\n",
       "  <thead>\n",
       "    <tr style=\"text-align: right;\">\n",
       "      <th></th>\n",
       "      <th>VarName</th>\n",
       "      <th>TimeString</th>\n",
       "      <th>VarValue</th>\n",
       "      <th>Validity</th>\n",
       "      <th>Time_ms</th>\n",
       "      <th>DateTime</th>\n",
       "    </tr>\n",
       "  </thead>\n",
       "  <tbody>\n",
       "    <tr>\n",
       "      <th>2</th>\n",
       "      <td>inc_1_lower_feeding_gate_status</td>\n",
       "      <td>17.02.2018 21:03:15</td>\n",
       "      <td>-10</td>\n",
       "      <td>1</td>\n",
       "      <td>43148877259,4097</td>\n",
       "      <td>2018-02-17 21:03:15</td>\n",
       "    </tr>\n",
       "    <tr>\n",
       "      <th>6</th>\n",
       "      <td>inc_1_lower_feeding_gate_status</td>\n",
       "      <td>17.02.2018 21:03:16</td>\n",
       "      <td>-10</td>\n",
       "      <td>1</td>\n",
       "      <td>43148877271,0995</td>\n",
       "      <td>2018-02-17 21:03:16</td>\n",
       "    </tr>\n",
       "    <tr>\n",
       "      <th>10</th>\n",
       "      <td>inc_1_lower_feeding_gate_status</td>\n",
       "      <td>17.02.2018 21:03:17</td>\n",
       "      <td>-10</td>\n",
       "      <td>1</td>\n",
       "      <td>43148877282,8125</td>\n",
       "      <td>2018-02-17 21:03:17</td>\n",
       "    </tr>\n",
       "    <tr>\n",
       "      <th>14</th>\n",
       "      <td>inc_1_lower_feeding_gate_status</td>\n",
       "      <td>17.02.2018 21:03:18</td>\n",
       "      <td>-10</td>\n",
       "      <td>1</td>\n",
       "      <td>43148877294,5023</td>\n",
       "      <td>2018-02-17 21:03:18</td>\n",
       "    </tr>\n",
       "    <tr>\n",
       "      <th>18</th>\n",
       "      <td>inc_1_lower_feeding_gate_status</td>\n",
       "      <td>17.02.2018 21:03:19</td>\n",
       "      <td>-10</td>\n",
       "      <td>1</td>\n",
       "      <td>43148877306,2037</td>\n",
       "      <td>2018-02-17 21:03:19</td>\n",
       "    </tr>\n",
       "  </tbody>\n",
       "</table>\n",
       "</div>"
      ],
      "text/plain": [
       "                            VarName           TimeString  VarValue  Validity  \\\n",
       "2   inc_1_lower_feeding_gate_status  17.02.2018 21:03:15       -10         1   \n",
       "6   inc_1_lower_feeding_gate_status  17.02.2018 21:03:16       -10         1   \n",
       "10  inc_1_lower_feeding_gate_status  17.02.2018 21:03:17       -10         1   \n",
       "14  inc_1_lower_feeding_gate_status  17.02.2018 21:03:18       -10         1   \n",
       "18  inc_1_lower_feeding_gate_status  17.02.2018 21:03:19       -10         1   \n",
       "\n",
       "             Time_ms            DateTime  \n",
       "2   43148877259,4097 2018-02-17 21:03:15  \n",
       "6   43148877271,0995 2018-02-17 21:03:16  \n",
       "10  43148877282,8125 2018-02-17 21:03:17  \n",
       "14  43148877294,5023 2018-02-17 21:03:18  \n",
       "18  43148877306,2037 2018-02-17 21:03:19  "
      ]
     },
     "execution_count": 36,
     "metadata": {},
     "output_type": "execute_result"
    }
   ],
   "source": [
    "DWtest.head()"
   ]
  },
  {
   "cell_type": "code",
   "execution_count": 37,
   "metadata": {},
   "outputs": [
    {
     "data": {
      "text/html": [
       "<div>\n",
       "<style scoped>\n",
       "    .dataframe tbody tr th:only-of-type {\n",
       "        vertical-align: middle;\n",
       "    }\n",
       "\n",
       "    .dataframe tbody tr th {\n",
       "        vertical-align: top;\n",
       "    }\n",
       "\n",
       "    .dataframe thead th {\n",
       "        text-align: right;\n",
       "    }\n",
       "</style>\n",
       "<table border=\"1\" class=\"dataframe\">\n",
       "  <thead>\n",
       "    <tr style=\"text-align: right;\">\n",
       "      <th></th>\n",
       "      <th>VarName</th>\n",
       "      <th>TimeString</th>\n",
       "      <th>VarValue</th>\n",
       "      <th>Validity</th>\n",
       "      <th>Time_ms</th>\n",
       "      <th>DateTime</th>\n",
       "    </tr>\n",
       "  </thead>\n",
       "  <tbody>\n",
       "    <tr>\n",
       "      <th>0</th>\n",
       "      <td>inc_1_primary_burner_status</td>\n",
       "      <td>17.02.2018 21:03:15</td>\n",
       "      <td>0</td>\n",
       "      <td>1</td>\n",
       "      <td>43148877259,4097</td>\n",
       "      <td>2018-02-17 21:03:15</td>\n",
       "    </tr>\n",
       "    <tr>\n",
       "      <th>1</th>\n",
       "      <td>inc_1_secondary_burner_status</td>\n",
       "      <td>17.02.2018 21:03:15</td>\n",
       "      <td>-20</td>\n",
       "      <td>1</td>\n",
       "      <td>43148877259,4097</td>\n",
       "      <td>2018-02-17 21:03:15</td>\n",
       "    </tr>\n",
       "    <tr>\n",
       "      <th>2</th>\n",
       "      <td>inc_1_lower_feeding_gate_status</td>\n",
       "      <td>17.02.2018 21:03:15</td>\n",
       "      <td>-10</td>\n",
       "      <td>1</td>\n",
       "      <td>43148877259,4097</td>\n",
       "      <td>2018-02-17 21:03:15</td>\n",
       "    </tr>\n",
       "    <tr>\n",
       "      <th>3</th>\n",
       "      <td>inc_1_medical_flap_status</td>\n",
       "      <td>17.02.2018 21:03:15</td>\n",
       "      <td>-5</td>\n",
       "      <td>1</td>\n",
       "      <td>43148877259,4097</td>\n",
       "      <td>2018-02-17 21:03:15</td>\n",
       "    </tr>\n",
       "    <tr>\n",
       "      <th>4</th>\n",
       "      <td>inc_1_primary_burner_status</td>\n",
       "      <td>17.02.2018 21:03:16</td>\n",
       "      <td>0</td>\n",
       "      <td>1</td>\n",
       "      <td>43148877271,0995</td>\n",
       "      <td>2018-02-17 21:03:16</td>\n",
       "    </tr>\n",
       "  </tbody>\n",
       "</table>\n",
       "</div>"
      ],
      "text/plain": [
       "                           VarName           TimeString  VarValue  Validity  \\\n",
       "0      inc_1_primary_burner_status  17.02.2018 21:03:15         0         1   \n",
       "1    inc_1_secondary_burner_status  17.02.2018 21:03:15       -20         1   \n",
       "2  inc_1_lower_feeding_gate_status  17.02.2018 21:03:15       -10         1   \n",
       "3        inc_1_medical_flap_status  17.02.2018 21:03:15        -5         1   \n",
       "4      inc_1_primary_burner_status  17.02.2018 21:03:16         0         1   \n",
       "\n",
       "            Time_ms            DateTime  \n",
       "0  43148877259,4097 2018-02-17 21:03:15  \n",
       "1  43148877259,4097 2018-02-17 21:03:15  \n",
       "2  43148877259,4097 2018-02-17 21:03:15  \n",
       "3  43148877259,4097 2018-02-17 21:03:15  \n",
       "4  43148877271,0995 2018-02-17 21:03:16  "
      ]
     },
     "execution_count": 37,
     "metadata": {},
     "output_type": "execute_result"
    }
   ],
   "source": [
    "# PETRI: Check if original DF has been changed\n",
    "DWsource.head() # <-- no change as side effect "
   ]
  },
  {
   "cell_type": "code",
   "execution_count": 38,
   "metadata": {},
   "outputs": [
    {
     "data": {
      "text/plain": [
       "-10    119122\n",
       " 0       5384\n",
       " 10       494\n",
       "Name: VarValue, dtype: int64"
      ]
     },
     "execution_count": 38,
     "metadata": {},
     "output_type": "execute_result"
    }
   ],
   "source": [
    "DWtest.VarValue.value_counts()"
   ]
  },
  {
   "cell_type": "markdown",
   "metadata": {},
   "source": [
    "**PETRI: Käänsin luettavuuden parantamiseksi X-akselin tekstejä**  \n",
    "  \n",
    "Saat kaikki nämä solut pois klikkaamalla solun vasemmalle tyhjälle alueelle päästäkseis komento moodiin ja näppiksestä kahdest d-kirjainta eli dd  \n",
    "Jos vahingossa lähtee tärkeä solu niin z palauttaa sen (kun olet komentomoodissa)"
   ]
  },
  {
   "cell_type": "code",
   "execution_count": 39,
   "metadata": {},
   "outputs": [
    {
     "data": {
      "text/plain": [
       "(array([736742.83333333, 736743.        , 736743.16666667, 736743.33333333,\n",
       "        736743.5       , 736743.66666667, 736743.83333333, 736744.        ,\n",
       "        736744.16666667, 736744.33333333]),\n",
       " <a list of 10 Text xticklabel objects>)"
      ]
     },
     "execution_count": 39,
     "metadata": {},
     "output_type": "execute_result"
    },
    {
     "data": {
      "image/png": "[encoded data removed]",
      "text/plain": [
       "<Figure size 432x288 with 1 Axes>"
      ]
     },
     "metadata": {
      "needs_background": "light"
     },
     "output_type": "display_data"
    }
   ],
   "source": [
    "plt.plot(DWtest.DateTime, DWtest.VarValue)# Shows only time for waste burning. Data not applicable for prediction.\n",
    "plt.xticks(rotation=45) # lisätty rivi"
   ]
  },
  {
   "cell_type": "code",
   "execution_count": 40,
   "metadata": {},
   "outputs": [
    {
     "name": "stdout",
     "output_type": "stream",
     "text": [
      "sample size m= 67144\n",
      "feature length n= 6\n"
     ]
    }
   ],
   "source": [
    "FWA, m, n, = Filtvar(FWAsource, 'FOODWASTE_TANK_A_LEVEL_TREND')"
   ]
  },
  {
   "cell_type": "code",
   "execution_count": 41,
   "metadata": {},
   "outputs": [
    {
     "data": {
      "text/html": [
       "<div>\n",
       "<style scoped>\n",
       "    .dataframe tbody tr th:only-of-type {\n",
       "        vertical-align: middle;\n",
       "    }\n",
       "\n",
       "    .dataframe tbody tr th {\n",
       "        vertical-align: top;\n",
       "    }\n",
       "\n",
       "    .dataframe thead th {\n",
       "        text-align: right;\n",
       "    }\n",
       "</style>\n",
       "<table border=\"1\" class=\"dataframe\">\n",
       "  <thead>\n",
       "    <tr style=\"text-align: right;\">\n",
       "      <th></th>\n",
       "      <th>VarName</th>\n",
       "      <th>TimeString</th>\n",
       "      <th>VarValue</th>\n",
       "      <th>Validity</th>\n",
       "      <th>Time_ms</th>\n",
       "      <th>DateTime</th>\n",
       "    </tr>\n",
       "  </thead>\n",
       "  <tbody>\n",
       "    <tr>\n",
       "      <th>0</th>\n",
       "      <td>FOODWASTE_TANK_A_LEVEL_TREND</td>\n",
       "      <td>25.02.2018 16:07:23</td>\n",
       "      <td>47</td>\n",
       "      <td>1</td>\n",
       "      <td>43156671788,5185</td>\n",
       "      <td>2018-02-25 16:07:23</td>\n",
       "    </tr>\n",
       "    <tr>\n",
       "      <th>5</th>\n",
       "      <td>FOODWASTE_TANK_A_LEVEL_TREND</td>\n",
       "      <td>25.02.2018 16:07:28</td>\n",
       "      <td>47</td>\n",
       "      <td>1</td>\n",
       "      <td>43156671846,9907</td>\n",
       "      <td>2018-02-25 16:07:28</td>\n",
       "    </tr>\n",
       "    <tr>\n",
       "      <th>12</th>\n",
       "      <td>FOODWASTE_TANK_A_LEVEL_TREND</td>\n",
       "      <td>25.02.2018 16:07:33</td>\n",
       "      <td>47</td>\n",
       "      <td>1</td>\n",
       "      <td>43156671905,4745</td>\n",
       "      <td>2018-02-25 16:07:33</td>\n",
       "    </tr>\n",
       "    <tr>\n",
       "      <th>17</th>\n",
       "      <td>FOODWASTE_TANK_A_LEVEL_TREND</td>\n",
       "      <td>25.02.2018 16:07:38</td>\n",
       "      <td>47</td>\n",
       "      <td>1</td>\n",
       "      <td>43156671963,9583</td>\n",
       "      <td>2018-02-25 16:07:38</td>\n",
       "    </tr>\n",
       "    <tr>\n",
       "      <th>24</th>\n",
       "      <td>FOODWASTE_TANK_A_LEVEL_TREND</td>\n",
       "      <td>25.02.2018 16:07:43</td>\n",
       "      <td>47</td>\n",
       "      <td>1</td>\n",
       "      <td>43156672022,4421</td>\n",
       "      <td>2018-02-25 16:07:43</td>\n",
       "    </tr>\n",
       "  </tbody>\n",
       "</table>\n",
       "</div>"
      ],
      "text/plain": [
       "                         VarName           TimeString  VarValue  Validity  \\\n",
       "0   FOODWASTE_TANK_A_LEVEL_TREND  25.02.2018 16:07:23        47         1   \n",
       "5   FOODWASTE_TANK_A_LEVEL_TREND  25.02.2018 16:07:28        47         1   \n",
       "12  FOODWASTE_TANK_A_LEVEL_TREND  25.02.2018 16:07:33        47         1   \n",
       "17  FOODWASTE_TANK_A_LEVEL_TREND  25.02.2018 16:07:38        47         1   \n",
       "24  FOODWASTE_TANK_A_LEVEL_TREND  25.02.2018 16:07:43        47         1   \n",
       "\n",
       "             Time_ms            DateTime  \n",
       "0   43156671788,5185 2018-02-25 16:07:23  \n",
       "5   43156671846,9907 2018-02-25 16:07:28  \n",
       "12  43156671905,4745 2018-02-25 16:07:33  \n",
       "17  43156671963,9583 2018-02-25 16:07:38  \n",
       "24  43156672022,4421 2018-02-25 16:07:43  "
      ]
     },
     "execution_count": 41,
     "metadata": {},
     "output_type": "execute_result"
    }
   ],
   "source": [
    "FWA.head()"
   ]
  },
  {
   "cell_type": "code",
   "execution_count": 42,
   "metadata": {
    "scrolled": true
   },
   "outputs": [
    {
     "data": {
      "text/html": [
       "<div>\n",
       "<style scoped>\n",
       "    .dataframe tbody tr th:only-of-type {\n",
       "        vertical-align: middle;\n",
       "    }\n",
       "\n",
       "    .dataframe tbody tr th {\n",
       "        vertical-align: top;\n",
       "    }\n",
       "\n",
       "    .dataframe thead th {\n",
       "        text-align: right;\n",
       "    }\n",
       "</style>\n",
       "<table border=\"1\" class=\"dataframe\">\n",
       "  <thead>\n",
       "    <tr style=\"text-align: right;\">\n",
       "      <th></th>\n",
       "      <th>VarName</th>\n",
       "      <th>TimeString</th>\n",
       "      <th>VarValue</th>\n",
       "      <th>Validity</th>\n",
       "      <th>Time_ms</th>\n",
       "      <th>DateTime</th>\n",
       "    </tr>\n",
       "  </thead>\n",
       "  <tbody>\n",
       "    <tr>\n",
       "      <th>402833</th>\n",
       "      <td>FOODWASTE_TANK_A_LEVEL_TREND</td>\n",
       "      <td>01.03.2018 14:19:11</td>\n",
       "      <td>35</td>\n",
       "      <td>1</td>\n",
       "      <td>43160596653,0324</td>\n",
       "      <td>2018-03-01 14:19:11</td>\n",
       "    </tr>\n",
       "    <tr>\n",
       "      <th>402840</th>\n",
       "      <td>FOODWASTE_TANK_A_LEVEL_TREND</td>\n",
       "      <td>01.03.2018 14:19:16</td>\n",
       "      <td>34</td>\n",
       "      <td>1</td>\n",
       "      <td>43160596711,5046</td>\n",
       "      <td>2018-03-01 14:19:16</td>\n",
       "    </tr>\n",
       "    <tr>\n",
       "      <th>402845</th>\n",
       "      <td>FOODWASTE_TANK_A_LEVEL_TREND</td>\n",
       "      <td>01.03.2018 14:19:21</td>\n",
       "      <td>35</td>\n",
       "      <td>1</td>\n",
       "      <td>43160596769,9884</td>\n",
       "      <td>2018-03-01 14:19:21</td>\n",
       "    </tr>\n",
       "    <tr>\n",
       "      <th>402852</th>\n",
       "      <td>FOODWASTE_TANK_A_LEVEL_TREND</td>\n",
       "      <td>01.03.2018 14:19:26</td>\n",
       "      <td>34</td>\n",
       "      <td>1</td>\n",
       "      <td>43160596828,4606</td>\n",
       "      <td>2018-03-01 14:19:26</td>\n",
       "    </tr>\n",
       "    <tr>\n",
       "      <th>402857</th>\n",
       "      <td>FOODWASTE_TANK_A_LEVEL_TREND</td>\n",
       "      <td>01.03.2018 14:19:31</td>\n",
       "      <td>33</td>\n",
       "      <td>1</td>\n",
       "      <td>43160596886,9329</td>\n",
       "      <td>2018-03-01 14:19:31</td>\n",
       "    </tr>\n",
       "  </tbody>\n",
       "</table>\n",
       "</div>"
      ],
      "text/plain": [
       "                             VarName           TimeString  VarValue  Validity  \\\n",
       "402833  FOODWASTE_TANK_A_LEVEL_TREND  01.03.2018 14:19:11        35         1   \n",
       "402840  FOODWASTE_TANK_A_LEVEL_TREND  01.03.2018 14:19:16        34         1   \n",
       "402845  FOODWASTE_TANK_A_LEVEL_TREND  01.03.2018 14:19:21        35         1   \n",
       "402852  FOODWASTE_TANK_A_LEVEL_TREND  01.03.2018 14:19:26        34         1   \n",
       "402857  FOODWASTE_TANK_A_LEVEL_TREND  01.03.2018 14:19:31        33         1   \n",
       "\n",
       "                 Time_ms            DateTime  \n",
       "402833  43160596653,0324 2018-03-01 14:19:11  \n",
       "402840  43160596711,5046 2018-03-01 14:19:16  \n",
       "402845  43160596769,9884 2018-03-01 14:19:21  \n",
       "402852  43160596828,4606 2018-03-01 14:19:26  \n",
       "402857  43160596886,9329 2018-03-01 14:19:31  "
      ]
     },
     "execution_count": 42,
     "metadata": {},
     "output_type": "execute_result"
    }
   ],
   "source": [
    "FWA.tail()"
   ]
  },
  {
   "cell_type": "markdown",
   "metadata": {},
   "source": [
    "**Petri testaa FWA datatyypit koska näistä on tehty X1P**  \n",
    "Alla olevan esimerkin mukaisesti ongelmatilanteen systemaattinen purku on mahdollista.  \n",
    "Vastaava purku tehdään jokaiselle vaiheelle jotta ymmärretään missä vaiheessa data on muuttunut."
   ]
  },
  {
   "cell_type": "code",
   "execution_count": 43,
   "metadata": {},
   "outputs": [
    {
     "name": "stdout",
     "output_type": "stream",
     "text": [
      "Index(['VarName', 'TimeString', 'VarValue', 'Validity', 'Time_ms', 'DateTime'], dtype='object')\n",
      "<class 'pandas.core.indexes.base.Index'>\n",
      "Int64Index([     0,      5,     12,     17,     24,     29,     36,     41,\n",
      "                48,     53,\n",
      "            ...\n",
      "            402804, 402809, 402816, 402821, 402828, 402833, 402840, 402845,\n",
      "            402852, 402857],\n",
      "           dtype='int64', length=67144)\n",
      "<class 'pandas.core.indexes.numeric.Int64Index'>\n",
      "                         VarName           TimeString  VarValue  Validity  \\\n",
      "0   FOODWASTE_TANK_A_LEVEL_TREND  25.02.2018 16:07:23        47         1   \n",
      "5   FOODWASTE_TANK_A_LEVEL_TREND  25.02.2018 16:07:28        47         1   \n",
      "12  FOODWASTE_TANK_A_LEVEL_TREND  25.02.2018 16:07:33        47         1   \n",
      "\n",
      "             Time_ms            DateTime  \n",
      "0   43156671788,5185 2018-02-25 16:07:23  \n",
      "5   43156671846,9907 2018-02-25 16:07:28  \n",
      "12  43156671905,4745 2018-02-25 16:07:33  \n",
      "<class 'pandas.core.frame.DataFrame'>\n",
      "Int64Index: 67144 entries, 0 to 402857\n",
      "Data columns (total 6 columns):\n",
      "VarName       67144 non-null object\n",
      "TimeString    67144 non-null object\n",
      "VarValue      67144 non-null int64\n",
      "Validity      67144 non-null int64\n",
      "Time_ms       67144 non-null object\n",
      "DateTime      67144 non-null datetime64[ns]\n",
      "dtypes: datetime64[ns](1), int64(2), object(3)\n",
      "memory usage: 3.6+ MB\n",
      "None\n"
     ]
    }
   ],
   "source": [
    "# Petrin testiä\n",
    "print(FWA.columns)           # dataframen sarakkeet\n",
    "print(type(FWA.columns))     # saraketyyppi\n",
    "print(FWA.index)             # dataframen indeksi\n",
    "print(type(FWA.index))       # indeksin tyyppi\n",
    "print(FWA.iloc[:3,:])        # leikkaus ensimmäiset kolme indeksiä, inlcusive\n",
    "print(FWA.info())            # jokaisen sarakkeen sisältämät datatyypit"
   ]
  },
  {
   "cell_type": "markdown",
   "metadata": {},
   "source": [
    "**koska X1P on extraktoitu FWA.DateTime:sta tutkitaan se tarkemmin.**  \n",
    "Jokaisessa vaiheessa jossa FWA:sta derivoidaan seuraava muuttuja mitä käytetään X1P:ssä tutkitaan tyypit ja esimerkkisisältö"
   ]
  },
  {
   "cell_type": "code",
   "execution_count": 44,
   "metadata": {},
   "outputs": [
    {
     "name": "stdout",
     "output_type": "stream",
     "text": [
      "<class 'pandas.core.series.Series'>\n",
      "2018-02-25 16:07:23\n",
      "<class 'pandas._libs.tslibs.timestamps.Timestamp'>\n"
     ]
    }
   ],
   "source": [
    "# Petri testiä\n",
    "FW1DateTimePJ = FWA['DateTime']\n",
    "print(type(FW1DateTimePJ)) # kyseessä series, ei dataframe\n",
    "print(FW1DateTimePJ[0])\n",
    "print(type(FW1DateTimePJ[0])) # kyseessä on Timestamp"
   ]
  },
  {
   "cell_type": "markdown",
   "metadata": {},
   "source": [
    "**PETRI: x-akselin hypistely**"
   ]
  },
  {
   "cell_type": "code",
   "execution_count": 45,
   "metadata": {},
   "outputs": [
    {
     "data": {
      "text/plain": [
       "(array([736750.5, 736751. , 736751.5, 736752. , 736752.5, 736753. ,\n",
       "        736753.5, 736754. , 736754.5]), <a list of 9 Text xticklabel objects>)"
      ]
     },
     "execution_count": 45,
     "metadata": {},
     "output_type": "execute_result"
    },
    {
     "data": {
      "image/png": "[encoded data removed]",
      "text/plain": [
       "<Figure size 432x288 with 1 Axes>"
      ]
     },
     "metadata": {
      "needs_background": "light"
     },
     "output_type": "display_data"
    }
   ],
   "source": [
    "plt.plot(FWA.DateTime, FWA.VarValue) # Discharge pumping can be seen in the plot\n",
    "plt.xticks(rotation=45) # lisätty rivi"
   ]
  },
  {
   "cell_type": "code",
   "execution_count": 46,
   "metadata": {},
   "outputs": [
    {
     "name": "stdout",
     "output_type": "stream",
     "text": [
      "sample size m= 67144\n",
      "feature length n= 6\n"
     ]
    }
   ],
   "source": [
    "FWB, m, n, = Filtvar(FWBsource, 'FOODWASTE_TANK_B_LEVEL_TREND')"
   ]
  },
  {
   "cell_type": "code",
   "execution_count": 47,
   "metadata": {},
   "outputs": [
    {
     "data": {
      "text/html": [
       "<div>\n",
       "<style scoped>\n",
       "    .dataframe tbody tr th:only-of-type {\n",
       "        vertical-align: middle;\n",
       "    }\n",
       "\n",
       "    .dataframe tbody tr th {\n",
       "        vertical-align: top;\n",
       "    }\n",
       "\n",
       "    .dataframe thead th {\n",
       "        text-align: right;\n",
       "    }\n",
       "</style>\n",
       "<table border=\"1\" class=\"dataframe\">\n",
       "  <thead>\n",
       "    <tr style=\"text-align: right;\">\n",
       "      <th></th>\n",
       "      <th>VarName</th>\n",
       "      <th>TimeString</th>\n",
       "      <th>VarValue</th>\n",
       "      <th>Validity</th>\n",
       "      <th>Time_ms</th>\n",
       "      <th>DateTime</th>\n",
       "    </tr>\n",
       "  </thead>\n",
       "  <tbody>\n",
       "    <tr>\n",
       "      <th>0</th>\n",
       "      <td>FOODWASTE_TANK_B_LEVEL_TREND</td>\n",
       "      <td>25.02.2018 16:07:23</td>\n",
       "      <td>14</td>\n",
       "      <td>1</td>\n",
       "      <td>43156671788,5185</td>\n",
       "      <td>2018-02-25 16:07:23</td>\n",
       "    </tr>\n",
       "    <tr>\n",
       "      <th>5</th>\n",
       "      <td>FOODWASTE_TANK_B_LEVEL_TREND</td>\n",
       "      <td>25.02.2018 16:07:28</td>\n",
       "      <td>14</td>\n",
       "      <td>1</td>\n",
       "      <td>43156671847,0023</td>\n",
       "      <td>2018-02-25 16:07:28</td>\n",
       "    </tr>\n",
       "    <tr>\n",
       "      <th>12</th>\n",
       "      <td>FOODWASTE_TANK_B_LEVEL_TREND</td>\n",
       "      <td>25.02.2018 16:07:33</td>\n",
       "      <td>15</td>\n",
       "      <td>1</td>\n",
       "      <td>43156671905,4745</td>\n",
       "      <td>2018-02-25 16:07:33</td>\n",
       "    </tr>\n",
       "    <tr>\n",
       "      <th>17</th>\n",
       "      <td>FOODWASTE_TANK_B_LEVEL_TREND</td>\n",
       "      <td>25.02.2018 16:07:38</td>\n",
       "      <td>14</td>\n",
       "      <td>1</td>\n",
       "      <td>43156671963,9699</td>\n",
       "      <td>2018-02-25 16:07:38</td>\n",
       "    </tr>\n",
       "    <tr>\n",
       "      <th>24</th>\n",
       "      <td>FOODWASTE_TANK_B_LEVEL_TREND</td>\n",
       "      <td>25.02.2018 16:07:43</td>\n",
       "      <td>15</td>\n",
       "      <td>1</td>\n",
       "      <td>43156672022,4421</td>\n",
       "      <td>2018-02-25 16:07:43</td>\n",
       "    </tr>\n",
       "  </tbody>\n",
       "</table>\n",
       "</div>"
      ],
      "text/plain": [
       "                         VarName           TimeString  VarValue  Validity  \\\n",
       "0   FOODWASTE_TANK_B_LEVEL_TREND  25.02.2018 16:07:23        14         1   \n",
       "5   FOODWASTE_TANK_B_LEVEL_TREND  25.02.2018 16:07:28        14         1   \n",
       "12  FOODWASTE_TANK_B_LEVEL_TREND  25.02.2018 16:07:33        15         1   \n",
       "17  FOODWASTE_TANK_B_LEVEL_TREND  25.02.2018 16:07:38        14         1   \n",
       "24  FOODWASTE_TANK_B_LEVEL_TREND  25.02.2018 16:07:43        15         1   \n",
       "\n",
       "             Time_ms            DateTime  \n",
       "0   43156671788,5185 2018-02-25 16:07:23  \n",
       "5   43156671847,0023 2018-02-25 16:07:28  \n",
       "12  43156671905,4745 2018-02-25 16:07:33  \n",
       "17  43156671963,9699 2018-02-25 16:07:38  \n",
       "24  43156672022,4421 2018-02-25 16:07:43  "
      ]
     },
     "execution_count": 47,
     "metadata": {},
     "output_type": "execute_result"
    }
   ],
   "source": [
    "FWB.head()"
   ]
  },
  {
   "cell_type": "code",
   "execution_count": 48,
   "metadata": {},
   "outputs": [
    {
     "data": {
      "text/html": [
       "<div>\n",
       "<style scoped>\n",
       "    .dataframe tbody tr th:only-of-type {\n",
       "        vertical-align: middle;\n",
       "    }\n",
       "\n",
       "    .dataframe tbody tr th {\n",
       "        vertical-align: top;\n",
       "    }\n",
       "\n",
       "    .dataframe thead th {\n",
       "        text-align: right;\n",
       "    }\n",
       "</style>\n",
       "<table border=\"1\" class=\"dataframe\">\n",
       "  <thead>\n",
       "    <tr style=\"text-align: right;\">\n",
       "      <th></th>\n",
       "      <th>VarName</th>\n",
       "      <th>TimeString</th>\n",
       "      <th>VarValue</th>\n",
       "      <th>Validity</th>\n",
       "      <th>Time_ms</th>\n",
       "      <th>DateTime</th>\n",
       "    </tr>\n",
       "  </thead>\n",
       "  <tbody>\n",
       "    <tr>\n",
       "      <th>402833</th>\n",
       "      <td>FOODWASTE_TANK_B_LEVEL_TREND</td>\n",
       "      <td>01.03.2018 14:19:11</td>\n",
       "      <td>21</td>\n",
       "      <td>1</td>\n",
       "      <td>43160596653,0324</td>\n",
       "      <td>2018-03-01 14:19:11</td>\n",
       "    </tr>\n",
       "    <tr>\n",
       "      <th>402840</th>\n",
       "      <td>FOODWASTE_TANK_B_LEVEL_TREND</td>\n",
       "      <td>01.03.2018 14:19:16</td>\n",
       "      <td>21</td>\n",
       "      <td>1</td>\n",
       "      <td>43160596711,5046</td>\n",
       "      <td>2018-03-01 14:19:16</td>\n",
       "    </tr>\n",
       "    <tr>\n",
       "      <th>402845</th>\n",
       "      <td>FOODWASTE_TANK_B_LEVEL_TREND</td>\n",
       "      <td>01.03.2018 14:19:21</td>\n",
       "      <td>21</td>\n",
       "      <td>1</td>\n",
       "      <td>43160596769,9884</td>\n",
       "      <td>2018-03-01 14:19:21</td>\n",
       "    </tr>\n",
       "    <tr>\n",
       "      <th>402852</th>\n",
       "      <td>FOODWASTE_TANK_B_LEVEL_TREND</td>\n",
       "      <td>01.03.2018 14:19:26</td>\n",
       "      <td>21</td>\n",
       "      <td>1</td>\n",
       "      <td>43160596828,4606</td>\n",
       "      <td>2018-03-01 14:19:26</td>\n",
       "    </tr>\n",
       "    <tr>\n",
       "      <th>402857</th>\n",
       "      <td>FOODWASTE_TANK_B_LEVEL_TREND</td>\n",
       "      <td>01.03.2018 14:19:31</td>\n",
       "      <td>21</td>\n",
       "      <td>1</td>\n",
       "      <td>43160596886,9329</td>\n",
       "      <td>2018-03-01 14:19:31</td>\n",
       "    </tr>\n",
       "  </tbody>\n",
       "</table>\n",
       "</div>"
      ],
      "text/plain": [
       "                             VarName           TimeString  VarValue  Validity  \\\n",
       "402833  FOODWASTE_TANK_B_LEVEL_TREND  01.03.2018 14:19:11        21         1   \n",
       "402840  FOODWASTE_TANK_B_LEVEL_TREND  01.03.2018 14:19:16        21         1   \n",
       "402845  FOODWASTE_TANK_B_LEVEL_TREND  01.03.2018 14:19:21        21         1   \n",
       "402852  FOODWASTE_TANK_B_LEVEL_TREND  01.03.2018 14:19:26        21         1   \n",
       "402857  FOODWASTE_TANK_B_LEVEL_TREND  01.03.2018 14:19:31        21         1   \n",
       "\n",
       "                 Time_ms            DateTime  \n",
       "402833  43160596653,0324 2018-03-01 14:19:11  \n",
       "402840  43160596711,5046 2018-03-01 14:19:16  \n",
       "402845  43160596769,9884 2018-03-01 14:19:21  \n",
       "402852  43160596828,4606 2018-03-01 14:19:26  \n",
       "402857  43160596886,9329 2018-03-01 14:19:31  "
      ]
     },
     "execution_count": 48,
     "metadata": {},
     "output_type": "execute_result"
    }
   ],
   "source": [
    "FWB.tail()"
   ]
  },
  {
   "cell_type": "code",
   "execution_count": 49,
   "metadata": {},
   "outputs": [
    {
     "data": {
      "text/plain": [
       "(array([736750.5, 736751. , 736751.5, 736752. , 736752.5, 736753. ,\n",
       "        736753.5, 736754. , 736754.5]), <a list of 9 Text xticklabel objects>)"
      ]
     },
     "execution_count": 49,
     "metadata": {},
     "output_type": "execute_result"
    },
    {
     "data": {
      "image/png": "[encoded data removed]",
      "text/plain": [
       "<Figure size 432x288 with 1 Axes>"
      ]
     },
     "metadata": {
      "needs_background": "light"
     },
     "output_type": "display_data"
    }
   ],
   "source": [
    "plt.plot(FWB.DateTime, FWB.VarValue)\n",
    "plt.xticks(rotation=45) # lisätty rivi"
   ]
  },
  {
   "cell_type": "code",
   "execution_count": 50,
   "metadata": {},
   "outputs": [
    {
     "name": "stdout",
     "output_type": "stream",
     "text": [
      "sample size m= 200476\n",
      "feature length n= 6\n"
     ]
    }
   ],
   "source": [
    "BW, m, n, = Filtvar(BWsource, 'BIO_SLUDGE_TANK_LEVEL_TREND')"
   ]
  },
  {
   "cell_type": "code",
   "execution_count": 51,
   "metadata": {},
   "outputs": [
    {
     "name": "stdout",
     "output_type": "stream",
     "text": [
      "<class 'pandas.core.frame.DataFrame'>\n",
      "Index(['VarName', 'TimeString', 'VarValue', 'Validity', 'Time_ms', 'DateTime'], dtype='object')\n",
      "<class 'pandas.core.frame.DataFrame'>\n",
      "Int64Index: 200476 entries, 1 to 400951\n",
      "Data columns (total 6 columns):\n",
      "VarName       200476 non-null object\n",
      "TimeString    200476 non-null object\n",
      "VarValue      200476 non-null int64\n",
      "Validity      200476 non-null int64\n",
      "Time_ms       200476 non-null object\n",
      "DateTime      200476 non-null datetime64[ns]\n",
      "dtypes: datetime64[ns](1), int64(2), object(3)\n",
      "memory usage: 10.7+ MB\n",
      "None\n"
     ]
    }
   ],
   "source": [
    "# PETRI testi\n",
    "print(type(BW))\n",
    "print(BW.columns)\n",
    "print(BW.info())"
   ]
  },
  {
   "cell_type": "code",
   "execution_count": 52,
   "metadata": {},
   "outputs": [
    {
     "data": {
      "text/plain": [
       "(array([736744., 736746., 736748., 736750., 736752., 736754.]),\n",
       " <a list of 6 Text xticklabel objects>)"
      ]
     },
     "execution_count": 52,
     "metadata": {},
     "output_type": "execute_result"
    },
    {
     "data": {
      "image/png": "[encoded data removed]",
      "text/plain": [
       "<Figure size 432x288 with 1 Axes>"
      ]
     },
     "metadata": {
      "needs_background": "light"
     },
     "output_type": "display_data"
    }
   ],
   "source": [
    "plt.plot(BW.DateTime, BW.VarValue)# Data cannot be used!!!!\n",
    "plt.xticks(rotation=45) # lisätty rivi"
   ]
  },
  {
   "cell_type": "markdown",
   "metadata": {},
   "source": [
    "**Petri: Seuraava Diff funktio antaa minulle varoituksen**\n",
    "  \n",
    "*Tätä funktiota käytetään kaikille datoille joten sen löydetty sivuvaikutus on syytä huomoida.*\n",
    "\n",
    "Varoitusteksti:\n",
    "  \n",
    "\"\n",
    "C:\\Users\\pjehk\\Anaconda3\\lib\\site-packages\\ipykernel_launcher.py:15: SettingWithCopyWarning: \n",
    "A value is trying to be set on a copy of a slice from a DataFrame.\n",
    "Try using .loc[row_indexer,col_indexer] = value instead\n",
    "\n",
    "See the caveats in the documentation: http://pandas.pydata.org/pandas-docs/stable/indexing.html#indexing-view-versus-copy\n",
    "  from ipykernel import kernelapp as app\n",
    "C:\\Users\\pjehk\\Anaconda3\\lib\\site-packages\\ipykernel_launcher.py:16: SettingWithCopyWarning: \n",
    "A value is trying to be set on a copy of a slice from a DataFrame\n",
    "\n",
    "See the caveats in the documentation: http://pandas.pydata.org/pandas-docs/stable/indexing.html#indexing-view-versus-copy\n",
    "  app.launch_new_instance()\n",
    "C:\\Users\\pjehk\\Anaconda3\\lib\\site-packages\\pandas\\core\\generic.py:7626: SettingWithCopyWarning: \n",
    "A value is trying to be set on a copy of a slice from a DataFrame\n",
    "\n",
    "See the caveats in the documentation: http://pandas.pydata.org/pandas-docs/stable/indexing.html#indexing-view-versus-copy\n",
    "  self._update_inplace(new_data)\n",
    "\"\n",
    "\n",
    "*Yllä oleva tarkoittaa sitä, että funktio muuttaa viittauksena annetun olion sisältöä.\n",
    "Koodi ei siis tällä hetkellä luo kopioita annetusta dataframesta ja käsittele sitä vaan muuttaa\n",
    "varsinaisen datafaramen. Paluuarvona on referenssi eli viittaus alkuperäiseen dataframe-olioon.\n",
    "Funktio kuitenkin haluaisi käyttää näkymää (view) olion datasta eikä aitoa kopiota.\n",
    "Kannattaa katsoa onko tästä sivuvaikutuksesta haittaa. Suoritan tarkistuksen myöhemmin, jos asia osoittautuu oleelliseksi.*"
   ]
  },
  {
   "cell_type": "code",
   "execution_count": 103,
   "metadata": {},
   "outputs": [],
   "source": [
    "def Diff(df):\n",
    "    \"\"\"\n",
    "    Calculates difference between subsequent rows and adds the result created to Diff-column.\n",
    "    In addition, removes NaN-values from the created Diff-column.\n",
    "    Also, removes the discharge from level measurement: Removes negative value < -1 \n",
    "    and replaces the the values by zero\n",
    "    \n",
    "\n",
    "    :input: Name of the dataframe.\n",
    "\n",
    "    :return: pandas dataframe with a new Diff-column containing difference between subsequent rows.\n",
    "    \n",
    "    \"\"\"\n",
    "\n",
    "    df['Diff'] = df.VarValue.diff()\n",
    "    df.dropna(inplace=True)\n",
    "    df.Diff.where(df.Diff > -2, 0, inplace=True)\n",
    "    \n",
    "    return df"
   ]
  },
  {
   "cell_type": "code",
   "execution_count": 104,
   "metadata": {
    "scrolled": true
   },
   "outputs": [
    {
     "data": {
      "text/html": [
       "<div>\n",
       "<style scoped>\n",
       "    .dataframe tbody tr th:only-of-type {\n",
       "        vertical-align: middle;\n",
       "    }\n",
       "\n",
       "    .dataframe tbody tr th {\n",
       "        vertical-align: top;\n",
       "    }\n",
       "\n",
       "    .dataframe thead th {\n",
       "        text-align: right;\n",
       "    }\n",
       "</style>\n",
       "<table border=\"1\" class=\"dataframe\">\n",
       "  <thead>\n",
       "    <tr style=\"text-align: right;\">\n",
       "      <th></th>\n",
       "      <th>VarName</th>\n",
       "      <th>TimeString</th>\n",
       "      <th>VarValue</th>\n",
       "      <th>Validity</th>\n",
       "      <th>Time_ms</th>\n",
       "      <th>DateTime</th>\n",
       "      <th>Diff</th>\n",
       "    </tr>\n",
       "  </thead>\n",
       "  <tbody>\n",
       "    <tr>\n",
       "      <th>5</th>\n",
       "      <td>BIO_SLUDGE_TANK_LEVEL_TREND</td>\n",
       "      <td>17.02.2018 21:03:36</td>\n",
       "      <td>19</td>\n",
       "      <td>1</td>\n",
       "      <td>43148877505</td>\n",
       "      <td>2018-02-17 21:03:36</td>\n",
       "      <td>0.0</td>\n",
       "    </tr>\n",
       "    <tr>\n",
       "      <th>7</th>\n",
       "      <td>BIO_SLUDGE_TANK_LEVEL_TREND</td>\n",
       "      <td>17.02.2018 21:03:41</td>\n",
       "      <td>19</td>\n",
       "      <td>1</td>\n",
       "      <td>43148877563,4606</td>\n",
       "      <td>2018-02-17 21:03:41</td>\n",
       "      <td>0.0</td>\n",
       "    </tr>\n",
       "    <tr>\n",
       "      <th>9</th>\n",
       "      <td>BIO_SLUDGE_TANK_LEVEL_TREND</td>\n",
       "      <td>17.02.2018 21:03:47</td>\n",
       "      <td>19</td>\n",
       "      <td>1</td>\n",
       "      <td>43148877621,956</td>\n",
       "      <td>2018-02-17 21:03:47</td>\n",
       "      <td>0.0</td>\n",
       "    </tr>\n",
       "    <tr>\n",
       "      <th>11</th>\n",
       "      <td>BIO_SLUDGE_TANK_LEVEL_TREND</td>\n",
       "      <td>17.02.2018 21:03:52</td>\n",
       "      <td>19</td>\n",
       "      <td>1</td>\n",
       "      <td>43148877680,4051</td>\n",
       "      <td>2018-02-17 21:03:52</td>\n",
       "      <td>0.0</td>\n",
       "    </tr>\n",
       "    <tr>\n",
       "      <th>13</th>\n",
       "      <td>BIO_SLUDGE_TANK_LEVEL_TREND</td>\n",
       "      <td>17.02.2018 21:03:57</td>\n",
       "      <td>19</td>\n",
       "      <td>1</td>\n",
       "      <td>43148877738,8773</td>\n",
       "      <td>2018-02-17 21:03:57</td>\n",
       "      <td>0.0</td>\n",
       "    </tr>\n",
       "  </tbody>\n",
       "</table>\n",
       "</div>"
      ],
      "text/plain": [
       "                        VarName           TimeString  VarValue  Validity  \\\n",
       "5   BIO_SLUDGE_TANK_LEVEL_TREND  17.02.2018 21:03:36        19         1   \n",
       "7   BIO_SLUDGE_TANK_LEVEL_TREND  17.02.2018 21:03:41        19         1   \n",
       "9   BIO_SLUDGE_TANK_LEVEL_TREND  17.02.2018 21:03:47        19         1   \n",
       "11  BIO_SLUDGE_TANK_LEVEL_TREND  17.02.2018 21:03:52        19         1   \n",
       "13  BIO_SLUDGE_TANK_LEVEL_TREND  17.02.2018 21:03:57        19         1   \n",
       "\n",
       "             Time_ms            DateTime  Diff  \n",
       "5        43148877505 2018-02-17 21:03:36   0.0  \n",
       "7   43148877563,4606 2018-02-17 21:03:41   0.0  \n",
       "9    43148877621,956 2018-02-17 21:03:47   0.0  \n",
       "11  43148877680,4051 2018-02-17 21:03:52   0.0  \n",
       "13  43148877738,8773 2018-02-17 21:03:57   0.0  "
      ]
     },
     "execution_count": 104,
     "metadata": {},
     "output_type": "execute_result"
    }
   ],
   "source": [
    "# Petri testiä\n",
    "BW.head() # <-- Huomaa tässä vaiheessa BW:llä ei ole Diff saraketta"
   ]
  },
  {
   "cell_type": "code",
   "execution_count": null,
   "metadata": {
    "scrolled": true
   },
   "outputs": [],
   "source": [
    "BWtest = Diff(BW)"
   ]
  },
  {
   "cell_type": "code",
   "execution_count": 102,
   "metadata": {},
   "outputs": [
    {
     "data": {
      "text/html": [
       "<div>\n",
       "<style scoped>\n",
       "    .dataframe tbody tr th:only-of-type {\n",
       "        vertical-align: middle;\n",
       "    }\n",
       "\n",
       "    .dataframe tbody tr th {\n",
       "        vertical-align: top;\n",
       "    }\n",
       "\n",
       "    .dataframe thead th {\n",
       "        text-align: right;\n",
       "    }\n",
       "</style>\n",
       "<table border=\"1\" class=\"dataframe\">\n",
       "  <thead>\n",
       "    <tr style=\"text-align: right;\">\n",
       "      <th></th>\n",
       "      <th>VarName</th>\n",
       "      <th>TimeString</th>\n",
       "      <th>VarValue</th>\n",
       "      <th>Validity</th>\n",
       "      <th>Time_ms</th>\n",
       "      <th>DateTime</th>\n",
       "      <th>Diff</th>\n",
       "    </tr>\n",
       "  </thead>\n",
       "  <tbody>\n",
       "    <tr>\n",
       "      <th>5</th>\n",
       "      <td>BIO_SLUDGE_TANK_LEVEL_TREND</td>\n",
       "      <td>17.02.2018 21:03:36</td>\n",
       "      <td>19</td>\n",
       "      <td>1</td>\n",
       "      <td>43148877505</td>\n",
       "      <td>2018-02-17 21:03:36</td>\n",
       "      <td>0.0</td>\n",
       "    </tr>\n",
       "    <tr>\n",
       "      <th>7</th>\n",
       "      <td>BIO_SLUDGE_TANK_LEVEL_TREND</td>\n",
       "      <td>17.02.2018 21:03:41</td>\n",
       "      <td>19</td>\n",
       "      <td>1</td>\n",
       "      <td>43148877563,4606</td>\n",
       "      <td>2018-02-17 21:03:41</td>\n",
       "      <td>0.0</td>\n",
       "    </tr>\n",
       "    <tr>\n",
       "      <th>9</th>\n",
       "      <td>BIO_SLUDGE_TANK_LEVEL_TREND</td>\n",
       "      <td>17.02.2018 21:03:47</td>\n",
       "      <td>19</td>\n",
       "      <td>1</td>\n",
       "      <td>43148877621,956</td>\n",
       "      <td>2018-02-17 21:03:47</td>\n",
       "      <td>0.0</td>\n",
       "    </tr>\n",
       "    <tr>\n",
       "      <th>11</th>\n",
       "      <td>BIO_SLUDGE_TANK_LEVEL_TREND</td>\n",
       "      <td>17.02.2018 21:03:52</td>\n",
       "      <td>19</td>\n",
       "      <td>1</td>\n",
       "      <td>43148877680,4051</td>\n",
       "      <td>2018-02-17 21:03:52</td>\n",
       "      <td>0.0</td>\n",
       "    </tr>\n",
       "    <tr>\n",
       "      <th>13</th>\n",
       "      <td>BIO_SLUDGE_TANK_LEVEL_TREND</td>\n",
       "      <td>17.02.2018 21:03:57</td>\n",
       "      <td>19</td>\n",
       "      <td>1</td>\n",
       "      <td>43148877738,8773</td>\n",
       "      <td>2018-02-17 21:03:57</td>\n",
       "      <td>0.0</td>\n",
       "    </tr>\n",
       "  </tbody>\n",
       "</table>\n",
       "</div>"
      ],
      "text/plain": [
       "                        VarName           TimeString  VarValue  Validity  \\\n",
       "5   BIO_SLUDGE_TANK_LEVEL_TREND  17.02.2018 21:03:36        19         1   \n",
       "7   BIO_SLUDGE_TANK_LEVEL_TREND  17.02.2018 21:03:41        19         1   \n",
       "9   BIO_SLUDGE_TANK_LEVEL_TREND  17.02.2018 21:03:47        19         1   \n",
       "11  BIO_SLUDGE_TANK_LEVEL_TREND  17.02.2018 21:03:52        19         1   \n",
       "13  BIO_SLUDGE_TANK_LEVEL_TREND  17.02.2018 21:03:57        19         1   \n",
       "\n",
       "             Time_ms            DateTime  Diff  \n",
       "5        43148877505 2018-02-17 21:03:36   0.0  \n",
       "7   43148877563,4606 2018-02-17 21:03:41   0.0  \n",
       "9    43148877621,956 2018-02-17 21:03:47   0.0  \n",
       "11  43148877680,4051 2018-02-17 21:03:52   0.0  \n",
       "13  43148877738,8773 2018-02-17 21:03:57   0.0  "
      ]
     },
     "execution_count": 102,
     "metadata": {},
     "output_type": "execute_result"
    }
   ],
   "source": [
    "BWtest.head()"
   ]
  },
  {
   "cell_type": "code",
   "execution_count": 57,
   "metadata": {},
   "outputs": [
    {
     "data": {
      "text/html": [
       "<div>\n",
       "<style scoped>\n",
       "    .dataframe tbody tr th:only-of-type {\n",
       "        vertical-align: middle;\n",
       "    }\n",
       "\n",
       "    .dataframe tbody tr th {\n",
       "        vertical-align: top;\n",
       "    }\n",
       "\n",
       "    .dataframe thead th {\n",
       "        text-align: right;\n",
       "    }\n",
       "</style>\n",
       "<table border=\"1\" class=\"dataframe\">\n",
       "  <thead>\n",
       "    <tr style=\"text-align: right;\">\n",
       "      <th></th>\n",
       "      <th>VarName</th>\n",
       "      <th>TimeString</th>\n",
       "      <th>VarValue</th>\n",
       "      <th>Validity</th>\n",
       "      <th>Time_ms</th>\n",
       "      <th>DateTime</th>\n",
       "      <th>Diff</th>\n",
       "    </tr>\n",
       "  </thead>\n",
       "  <tbody>\n",
       "    <tr>\n",
       "      <th>3</th>\n",
       "      <td>BIO_SLUDGE_TANK_LEVEL_TREND</td>\n",
       "      <td>17.02.2018 21:03:31</td>\n",
       "      <td>19</td>\n",
       "      <td>1</td>\n",
       "      <td>43148877446,5162</td>\n",
       "      <td>2018-02-17 21:03:31</td>\n",
       "      <td>0.0</td>\n",
       "    </tr>\n",
       "    <tr>\n",
       "      <th>5</th>\n",
       "      <td>BIO_SLUDGE_TANK_LEVEL_TREND</td>\n",
       "      <td>17.02.2018 21:03:36</td>\n",
       "      <td>19</td>\n",
       "      <td>1</td>\n",
       "      <td>43148877505</td>\n",
       "      <td>2018-02-17 21:03:36</td>\n",
       "      <td>0.0</td>\n",
       "    </tr>\n",
       "  </tbody>\n",
       "</table>\n",
       "</div>"
      ],
      "text/plain": [
       "                       VarName           TimeString  VarValue  Validity  \\\n",
       "3  BIO_SLUDGE_TANK_LEVEL_TREND  17.02.2018 21:03:31        19         1   \n",
       "5  BIO_SLUDGE_TANK_LEVEL_TREND  17.02.2018 21:03:36        19         1   \n",
       "\n",
       "            Time_ms            DateTime  Diff  \n",
       "3  43148877446,5162 2018-02-17 21:03:31   0.0  \n",
       "5       43148877505 2018-02-17 21:03:36   0.0  "
      ]
     },
     "execution_count": 57,
     "metadata": {},
     "output_type": "execute_result"
    }
   ],
   "source": [
    "# PETRIN testiä\n",
    "BW.head(2) # <-- huomaa että BW on nyt muuttunut ja sisältää Diff sarakeen!!!"
   ]
  },
  {
   "cell_type": "code",
   "execution_count": 58,
   "metadata": {},
   "outputs": [
    {
     "data": {
      "text/html": [
       "<div>\n",
       "<style scoped>\n",
       "    .dataframe tbody tr th:only-of-type {\n",
       "        vertical-align: middle;\n",
       "    }\n",
       "\n",
       "    .dataframe tbody tr th {\n",
       "        vertical-align: top;\n",
       "    }\n",
       "\n",
       "    .dataframe thead th {\n",
       "        text-align: right;\n",
       "    }\n",
       "</style>\n",
       "<table border=\"1\" class=\"dataframe\">\n",
       "  <thead>\n",
       "    <tr style=\"text-align: right;\">\n",
       "      <th></th>\n",
       "      <th>VarName</th>\n",
       "      <th>TimeString</th>\n",
       "      <th>VarValue</th>\n",
       "      <th>Validity</th>\n",
       "      <th>Time_ms</th>\n",
       "      <th>DateTime</th>\n",
       "      <th>Diff</th>\n",
       "    </tr>\n",
       "  </thead>\n",
       "  <tbody>\n",
       "    <tr>\n",
       "      <th>400943</th>\n",
       "      <td>BIO_SLUDGE_TANK_LEVEL_TREND</td>\n",
       "      <td>01.03.2018 14:19:11</td>\n",
       "      <td>25</td>\n",
       "      <td>1</td>\n",
       "      <td>43160596653,0324</td>\n",
       "      <td>2018-03-01 14:19:11</td>\n",
       "      <td>0.0</td>\n",
       "    </tr>\n",
       "    <tr>\n",
       "      <th>400945</th>\n",
       "      <td>BIO_SLUDGE_TANK_LEVEL_TREND</td>\n",
       "      <td>01.03.2018 14:19:16</td>\n",
       "      <td>26</td>\n",
       "      <td>1</td>\n",
       "      <td>43160596711,5046</td>\n",
       "      <td>2018-03-01 14:19:16</td>\n",
       "      <td>1.0</td>\n",
       "    </tr>\n",
       "    <tr>\n",
       "      <th>400947</th>\n",
       "      <td>BIO_SLUDGE_TANK_LEVEL_TREND</td>\n",
       "      <td>01.03.2018 14:19:21</td>\n",
       "      <td>26</td>\n",
       "      <td>1</td>\n",
       "      <td>43160596769,9884</td>\n",
       "      <td>2018-03-01 14:19:21</td>\n",
       "      <td>0.0</td>\n",
       "    </tr>\n",
       "    <tr>\n",
       "      <th>400949</th>\n",
       "      <td>BIO_SLUDGE_TANK_LEVEL_TREND</td>\n",
       "      <td>01.03.2018 14:19:26</td>\n",
       "      <td>26</td>\n",
       "      <td>1</td>\n",
       "      <td>43160596828,4606</td>\n",
       "      <td>2018-03-01 14:19:26</td>\n",
       "      <td>0.0</td>\n",
       "    </tr>\n",
       "    <tr>\n",
       "      <th>400951</th>\n",
       "      <td>BIO_SLUDGE_TANK_LEVEL_TREND</td>\n",
       "      <td>01.03.2018 14:19:31</td>\n",
       "      <td>26</td>\n",
       "      <td>1</td>\n",
       "      <td>43160596886,9329</td>\n",
       "      <td>2018-03-01 14:19:31</td>\n",
       "      <td>0.0</td>\n",
       "    </tr>\n",
       "  </tbody>\n",
       "</table>\n",
       "</div>"
      ],
      "text/plain": [
       "                            VarName           TimeString  VarValue  Validity  \\\n",
       "400943  BIO_SLUDGE_TANK_LEVEL_TREND  01.03.2018 14:19:11        25         1   \n",
       "400945  BIO_SLUDGE_TANK_LEVEL_TREND  01.03.2018 14:19:16        26         1   \n",
       "400947  BIO_SLUDGE_TANK_LEVEL_TREND  01.03.2018 14:19:21        26         1   \n",
       "400949  BIO_SLUDGE_TANK_LEVEL_TREND  01.03.2018 14:19:26        26         1   \n",
       "400951  BIO_SLUDGE_TANK_LEVEL_TREND  01.03.2018 14:19:31        26         1   \n",
       "\n",
       "                 Time_ms            DateTime  Diff  \n",
       "400943  43160596653,0324 2018-03-01 14:19:11   0.0  \n",
       "400945  43160596711,5046 2018-03-01 14:19:16   1.0  \n",
       "400947  43160596769,9884 2018-03-01 14:19:21   0.0  \n",
       "400949  43160596828,4606 2018-03-01 14:19:26   0.0  \n",
       "400951  43160596886,9329 2018-03-01 14:19:31   0.0  "
      ]
     },
     "execution_count": 58,
     "metadata": {},
     "output_type": "execute_result"
    }
   ],
   "source": [
    "BWtest.tail()"
   ]
  },
  {
   "cell_type": "code",
   "execution_count": null,
   "metadata": {},
   "outputs": [],
   "source": [
    "FW1 = Diff(FWA)"
   ]
  },
  {
   "cell_type": "code",
   "execution_count": null,
   "metadata": {},
   "outputs": [],
   "source": [
    "FW2 = Diff(FWB)"
   ]
  },
  {
   "cell_type": "code",
   "execution_count": 61,
   "metadata": {},
   "outputs": [
    {
     "data": {
      "text/html": [
       "<div>\n",
       "<style scoped>\n",
       "    .dataframe tbody tr th:only-of-type {\n",
       "        vertical-align: middle;\n",
       "    }\n",
       "\n",
       "    .dataframe tbody tr th {\n",
       "        vertical-align: top;\n",
       "    }\n",
       "\n",
       "    .dataframe thead th {\n",
       "        text-align: right;\n",
       "    }\n",
       "</style>\n",
       "<table border=\"1\" class=\"dataframe\">\n",
       "  <thead>\n",
       "    <tr style=\"text-align: right;\">\n",
       "      <th></th>\n",
       "      <th>VarName</th>\n",
       "      <th>TimeString</th>\n",
       "      <th>VarValue</th>\n",
       "      <th>Validity</th>\n",
       "      <th>Time_ms</th>\n",
       "      <th>DateTime</th>\n",
       "      <th>Diff</th>\n",
       "    </tr>\n",
       "  </thead>\n",
       "  <tbody>\n",
       "    <tr>\n",
       "      <th>5</th>\n",
       "      <td>FOODWASTE_TANK_A_LEVEL_TREND</td>\n",
       "      <td>25.02.2018 16:07:28</td>\n",
       "      <td>47</td>\n",
       "      <td>1</td>\n",
       "      <td>43156671846,9907</td>\n",
       "      <td>2018-02-25 16:07:28</td>\n",
       "      <td>0.0</td>\n",
       "    </tr>\n",
       "    <tr>\n",
       "      <th>12</th>\n",
       "      <td>FOODWASTE_TANK_A_LEVEL_TREND</td>\n",
       "      <td>25.02.2018 16:07:33</td>\n",
       "      <td>47</td>\n",
       "      <td>1</td>\n",
       "      <td>43156671905,4745</td>\n",
       "      <td>2018-02-25 16:07:33</td>\n",
       "      <td>0.0</td>\n",
       "    </tr>\n",
       "    <tr>\n",
       "      <th>17</th>\n",
       "      <td>FOODWASTE_TANK_A_LEVEL_TREND</td>\n",
       "      <td>25.02.2018 16:07:38</td>\n",
       "      <td>47</td>\n",
       "      <td>1</td>\n",
       "      <td>43156671963,9583</td>\n",
       "      <td>2018-02-25 16:07:38</td>\n",
       "      <td>0.0</td>\n",
       "    </tr>\n",
       "    <tr>\n",
       "      <th>24</th>\n",
       "      <td>FOODWASTE_TANK_A_LEVEL_TREND</td>\n",
       "      <td>25.02.2018 16:07:43</td>\n",
       "      <td>47</td>\n",
       "      <td>1</td>\n",
       "      <td>43156672022,4421</td>\n",
       "      <td>2018-02-25 16:07:43</td>\n",
       "      <td>0.0</td>\n",
       "    </tr>\n",
       "    <tr>\n",
       "      <th>29</th>\n",
       "      <td>FOODWASTE_TANK_A_LEVEL_TREND</td>\n",
       "      <td>25.02.2018 16:07:48</td>\n",
       "      <td>47</td>\n",
       "      <td>1</td>\n",
       "      <td>43156672080,9028</td>\n",
       "      <td>2018-02-25 16:07:48</td>\n",
       "      <td>0.0</td>\n",
       "    </tr>\n",
       "  </tbody>\n",
       "</table>\n",
       "</div>"
      ],
      "text/plain": [
       "                         VarName           TimeString  VarValue  Validity  \\\n",
       "5   FOODWASTE_TANK_A_LEVEL_TREND  25.02.2018 16:07:28        47         1   \n",
       "12  FOODWASTE_TANK_A_LEVEL_TREND  25.02.2018 16:07:33        47         1   \n",
       "17  FOODWASTE_TANK_A_LEVEL_TREND  25.02.2018 16:07:38        47         1   \n",
       "24  FOODWASTE_TANK_A_LEVEL_TREND  25.02.2018 16:07:43        47         1   \n",
       "29  FOODWASTE_TANK_A_LEVEL_TREND  25.02.2018 16:07:48        47         1   \n",
       "\n",
       "             Time_ms            DateTime  Diff  \n",
       "5   43156671846,9907 2018-02-25 16:07:28   0.0  \n",
       "12  43156671905,4745 2018-02-25 16:07:33   0.0  \n",
       "17  43156671963,9583 2018-02-25 16:07:38   0.0  \n",
       "24  43156672022,4421 2018-02-25 16:07:43   0.0  \n",
       "29  43156672080,9028 2018-02-25 16:07:48   0.0  "
      ]
     },
     "execution_count": 61,
     "metadata": {},
     "output_type": "execute_result"
    }
   ],
   "source": [
    "FW1.head()"
   ]
  },
  {
   "cell_type": "code",
   "execution_count": 62,
   "metadata": {},
   "outputs": [
    {
     "data": {
      "text/html": [
       "<div>\n",
       "<style scoped>\n",
       "    .dataframe tbody tr th:only-of-type {\n",
       "        vertical-align: middle;\n",
       "    }\n",
       "\n",
       "    .dataframe tbody tr th {\n",
       "        vertical-align: top;\n",
       "    }\n",
       "\n",
       "    .dataframe thead th {\n",
       "        text-align: right;\n",
       "    }\n",
       "</style>\n",
       "<table border=\"1\" class=\"dataframe\">\n",
       "  <thead>\n",
       "    <tr style=\"text-align: right;\">\n",
       "      <th></th>\n",
       "      <th>VarName</th>\n",
       "      <th>TimeString</th>\n",
       "      <th>VarValue</th>\n",
       "      <th>Validity</th>\n",
       "      <th>Time_ms</th>\n",
       "      <th>DateTime</th>\n",
       "      <th>Diff</th>\n",
       "    </tr>\n",
       "  </thead>\n",
       "  <tbody>\n",
       "    <tr>\n",
       "      <th>5</th>\n",
       "      <td>FOODWASTE_TANK_B_LEVEL_TREND</td>\n",
       "      <td>25.02.2018 16:07:28</td>\n",
       "      <td>14</td>\n",
       "      <td>1</td>\n",
       "      <td>43156671847,0023</td>\n",
       "      <td>2018-02-25 16:07:28</td>\n",
       "      <td>0.0</td>\n",
       "    </tr>\n",
       "    <tr>\n",
       "      <th>12</th>\n",
       "      <td>FOODWASTE_TANK_B_LEVEL_TREND</td>\n",
       "      <td>25.02.2018 16:07:33</td>\n",
       "      <td>15</td>\n",
       "      <td>1</td>\n",
       "      <td>43156671905,4745</td>\n",
       "      <td>2018-02-25 16:07:33</td>\n",
       "      <td>1.0</td>\n",
       "    </tr>\n",
       "    <tr>\n",
       "      <th>17</th>\n",
       "      <td>FOODWASTE_TANK_B_LEVEL_TREND</td>\n",
       "      <td>25.02.2018 16:07:38</td>\n",
       "      <td>14</td>\n",
       "      <td>1</td>\n",
       "      <td>43156671963,9699</td>\n",
       "      <td>2018-02-25 16:07:38</td>\n",
       "      <td>-1.0</td>\n",
       "    </tr>\n",
       "    <tr>\n",
       "      <th>24</th>\n",
       "      <td>FOODWASTE_TANK_B_LEVEL_TREND</td>\n",
       "      <td>25.02.2018 16:07:43</td>\n",
       "      <td>15</td>\n",
       "      <td>1</td>\n",
       "      <td>43156672022,4421</td>\n",
       "      <td>2018-02-25 16:07:43</td>\n",
       "      <td>1.0</td>\n",
       "    </tr>\n",
       "    <tr>\n",
       "      <th>29</th>\n",
       "      <td>FOODWASTE_TANK_B_LEVEL_TREND</td>\n",
       "      <td>25.02.2018 16:07:48</td>\n",
       "      <td>14</td>\n",
       "      <td>1</td>\n",
       "      <td>43156672080,9144</td>\n",
       "      <td>2018-02-25 16:07:48</td>\n",
       "      <td>-1.0</td>\n",
       "    </tr>\n",
       "  </tbody>\n",
       "</table>\n",
       "</div>"
      ],
      "text/plain": [
       "                         VarName           TimeString  VarValue  Validity  \\\n",
       "5   FOODWASTE_TANK_B_LEVEL_TREND  25.02.2018 16:07:28        14         1   \n",
       "12  FOODWASTE_TANK_B_LEVEL_TREND  25.02.2018 16:07:33        15         1   \n",
       "17  FOODWASTE_TANK_B_LEVEL_TREND  25.02.2018 16:07:38        14         1   \n",
       "24  FOODWASTE_TANK_B_LEVEL_TREND  25.02.2018 16:07:43        15         1   \n",
       "29  FOODWASTE_TANK_B_LEVEL_TREND  25.02.2018 16:07:48        14         1   \n",
       "\n",
       "             Time_ms            DateTime  Diff  \n",
       "5   43156671847,0023 2018-02-25 16:07:28   0.0  \n",
       "12  43156671905,4745 2018-02-25 16:07:33   1.0  \n",
       "17  43156671963,9699 2018-02-25 16:07:38  -1.0  \n",
       "24  43156672022,4421 2018-02-25 16:07:43   1.0  \n",
       "29  43156672080,9144 2018-02-25 16:07:48  -1.0  "
      ]
     },
     "execution_count": 62,
     "metadata": {},
     "output_type": "execute_result"
    }
   ],
   "source": [
    "FW2.head()"
   ]
  },
  {
   "cell_type": "markdown",
   "metadata": {},
   "source": [
    "**Alla oleva funktio antaa myös varoituksen**\n",
    "  \n",
    "\"\n",
    "C:\\Users\\pjehk\\Anaconda3\\lib\\site-packages\\ipykernel_launcher.py:14: SettingWithCopyWarning: \n",
    "A value is trying to be set on a copy of a slice from a DataFrame.\n",
    "Try using .loc[row_indexer,col_indexer] = value instead\n",
    "\n",
    "See the caveats in the documentation: http://pandas.pydata.org/pandas-docs/stable/indexing.html#indexing-view-versus-copy\n",
    "\""
   ]
  },
  {
   "cell_type": "code",
   "execution_count": 63,
   "metadata": {},
   "outputs": [],
   "source": [
    "def cumV(df):\n",
    "    \"\"\"\n",
    "    Calculates cumulative sum of differences V-% (Diff-column) and calculates cumulative sum\n",
    "    of the waste flow by multiplying it with an effective tank volume.\n",
    "\n",
    "    :input: Name of the dataframe.\n",
    "\n",
    "    :return: pandas dataframe with incrVsum-column containing cumulative waste flow as m3.\n",
    "    \"\"\"\n",
    "\n",
    "    # Cumulative sum of level increase as percent value\n",
    "    # df['incrSum'] = df.Diff.cumsum()\n",
    "    # Cumulative sum of level increase as m3\n",
    "    df['incrVsum'] = df.Diff.cumsum() * 5 / 100\n",
    "\n",
    "    return df"
   ]
  },
  {
   "cell_type": "code",
   "execution_count": 64,
   "metadata": {},
   "outputs": [
    {
     "name": "stdout",
     "output_type": "stream",
     "text": [
      "Index(['VarName', 'TimeString', 'VarValue', 'Validity', 'Time_ms', 'DateTime',\n",
      "       'Diff'],\n",
      "      dtype='object')\n",
      "<class 'pandas.core.frame.DataFrame'>\n",
      "Int64Index: 67143 entries, 5 to 402857\n",
      "Data columns (total 7 columns):\n",
      "VarName       67143 non-null object\n",
      "TimeString    67143 non-null object\n",
      "VarValue      67143 non-null int64\n",
      "Validity      67143 non-null int64\n",
      "Time_ms       67143 non-null object\n",
      "DateTime      67143 non-null datetime64[ns]\n",
      "Diff          67143 non-null float64\n",
      "dtypes: datetime64[ns](1), float64(1), int64(2), object(3)\n",
      "memory usage: 4.1+ MB\n",
      "None\n",
      "                         VarName           TimeString  VarValue  Validity  \\\n",
      "5   FOODWASTE_TANK_A_LEVEL_TREND  25.02.2018 16:07:28        47         1   \n",
      "12  FOODWASTE_TANK_A_LEVEL_TREND  25.02.2018 16:07:33        47         1   \n",
      "17  FOODWASTE_TANK_A_LEVEL_TREND  25.02.2018 16:07:38        47         1   \n",
      "\n",
      "             Time_ms            DateTime  Diff  \n",
      "5   43156671846,9907 2018-02-25 16:07:28   0.0  \n",
      "12  43156671905,4745 2018-02-25 16:07:33   0.0  \n",
      "17  43156671963,9583 2018-02-25 16:07:38   0.0  \n"
     ]
    }
   ],
   "source": [
    "# PETRI testaa\n",
    "print(FW1.columns)\n",
    "print(FW1.info())\n",
    "print(FW1.head(3))"
   ]
  },
  {
   "cell_type": "code",
   "execution_count": null,
   "metadata": {
    "scrolled": true
   },
   "outputs": [],
   "source": [
    "cumV(FW1)"
   ]
  },
  {
   "cell_type": "code",
   "execution_count": 66,
   "metadata": {},
   "outputs": [
    {
     "name": "stdout",
     "output_type": "stream",
     "text": [
      "Index(['VarName', 'TimeString', 'VarValue', 'Validity', 'Time_ms', 'DateTime',\n",
      "       'Diff', 'incrVsum'],\n",
      "      dtype='object')\n",
      "<class 'pandas.core.frame.DataFrame'>\n",
      "Int64Index: 67143 entries, 5 to 402857\n",
      "Data columns (total 8 columns):\n",
      "VarName       67143 non-null object\n",
      "TimeString    67143 non-null object\n",
      "VarValue      67143 non-null int64\n",
      "Validity      67143 non-null int64\n",
      "Time_ms       67143 non-null object\n",
      "DateTime      67143 non-null datetime64[ns]\n",
      "Diff          67143 non-null float64\n",
      "incrVsum      67143 non-null float64\n",
      "dtypes: datetime64[ns](1), float64(2), int64(2), object(3)\n",
      "memory usage: 4.6+ MB\n",
      "None\n",
      "                         VarName           TimeString  VarValue  Validity  \\\n",
      "5   FOODWASTE_TANK_A_LEVEL_TREND  25.02.2018 16:07:28        47         1   \n",
      "12  FOODWASTE_TANK_A_LEVEL_TREND  25.02.2018 16:07:33        47         1   \n",
      "17  FOODWASTE_TANK_A_LEVEL_TREND  25.02.2018 16:07:38        47         1   \n",
      "\n",
      "             Time_ms            DateTime  Diff  incrVsum  \n",
      "5   43156671846,9907 2018-02-25 16:07:28   0.0       0.0  \n",
      "12  43156671905,4745 2018-02-25 16:07:33   0.0       0.0  \n",
      "17  43156671963,9583 2018-02-25 16:07:38   0.0       0.0  \n"
     ]
    }
   ],
   "source": [
    "# PETRI testaa\n",
    "print(FW1.columns)\n",
    "print(FW1.info())\n",
    "print(FW1.head(3))"
   ]
  },
  {
   "cell_type": "code",
   "execution_count": null,
   "metadata": {
    "scrolled": true
   },
   "outputs": [],
   "source": [
    "cumV(FW2)"
   ]
  },
  {
   "cell_type": "code",
   "execution_count": 68,
   "metadata": {
    "scrolled": true
   },
   "outputs": [
    {
     "data": {
      "text/plain": [
       "(array([736750.5, 736751. , 736751.5, 736752. , 736752.5, 736753. ,\n",
       "        736753.5, 736754. , 736754.5]), <a list of 9 Text xticklabel objects>)"
      ]
     },
     "execution_count": 68,
     "metadata": {},
     "output_type": "execute_result"
    },
    {
     "data": {
      "image/png": "[encoded data removed]",
      "text/plain": [
       "<Figure size 432x288 with 1 Axes>"
      ]
     },
     "metadata": {
      "needs_background": "light"
     },
     "output_type": "display_data"
    }
   ],
   "source": [
    "plt.plot(FW1.DateTime, FW1.incrVsum)\n",
    "plt.xticks(rotation=45) # x-akselin tekstit taas"
   ]
  },
  {
   "cell_type": "code",
   "execution_count": 69,
   "metadata": {},
   "outputs": [
    {
     "data": {
      "text/plain": [
       "(array([736750.5, 736751. , 736751.5, 736752. , 736752.5, 736753. ,\n",
       "        736753.5, 736754. , 736754.5]), <a list of 9 Text xticklabel objects>)"
      ]
     },
     "execution_count": 69,
     "metadata": {},
     "output_type": "execute_result"
    },
    {
     "data": {
      "image/png": "[encoded data removed]",
      "text/plain": [
       "<Figure size 432x288 with 1 Axes>"
      ]
     },
     "metadata": {
      "needs_background": "light"
     },
     "output_type": "display_data"
    }
   ],
   "source": [
    "plt.plot(FW2.DateTime, FW2.incrVsum)\n",
    "plt.xticks(rotation=45) # x-akselin tekstit taas"
   ]
  },
  {
   "cell_type": "markdown",
   "metadata": {},
   "source": [
    "**Petri: Tässä rate-funktiossa taas view vs copy varoitukset, en kopioi niitä tähän**"
   ]
  },
  {
   "cell_type": "code",
   "execution_count": 70,
   "metadata": {},
   "outputs": [],
   "source": [
    "def rate(df):\n",
    "    \"\"\"\n",
    "    Calculates flow rate of the waste stream as l/h and adds it to a new rate column.\n",
    "\n",
    "    :input: Name of the dataframe.\n",
    "\n",
    "    :return: pandas dataframe with new .\n",
    "    \"\"\"\n",
    "    # Flow rate l/h from 1 h earlier to that moment\n",
    "    df['lhFlow'] = df.incrVsum.diff(periods=720)*1000\n",
    "    df.dropna(inplace=True)\n",
    "    df.lhFlow.where(df.lhFlow > -2, 0, inplace=True)\n",
    "\n",
    "    return df"
   ]
  },
  {
   "cell_type": "code",
   "execution_count": 71,
   "metadata": {},
   "outputs": [
    {
     "name": "stdout",
     "output_type": "stream",
     "text": [
      "Index(['VarName', 'TimeString', 'VarValue', 'Validity', 'Time_ms', 'DateTime',\n",
      "       'Diff', 'incrVsum'],\n",
      "      dtype='object')\n",
      "<class 'pandas.core.frame.DataFrame'>\n",
      "Int64Index: 67143 entries, 5 to 402857\n",
      "Data columns (total 8 columns):\n",
      "VarName       67143 non-null object\n",
      "TimeString    67143 non-null object\n",
      "VarValue      67143 non-null int64\n",
      "Validity      67143 non-null int64\n",
      "Time_ms       67143 non-null object\n",
      "DateTime      67143 non-null datetime64[ns]\n",
      "Diff          67143 non-null float64\n",
      "incrVsum      67143 non-null float64\n",
      "dtypes: datetime64[ns](1), float64(2), int64(2), object(3)\n",
      "memory usage: 4.6+ MB\n",
      "None\n",
      "                         VarName           TimeString  VarValue  Validity  \\\n",
      "5   FOODWASTE_TANK_A_LEVEL_TREND  25.02.2018 16:07:28        47         1   \n",
      "12  FOODWASTE_TANK_A_LEVEL_TREND  25.02.2018 16:07:33        47         1   \n",
      "17  FOODWASTE_TANK_A_LEVEL_TREND  25.02.2018 16:07:38        47         1   \n",
      "\n",
      "             Time_ms            DateTime  Diff  incrVsum  \n",
      "5   43156671846,9907 2018-02-25 16:07:28   0.0       0.0  \n",
      "12  43156671905,4745 2018-02-25 16:07:33   0.0       0.0  \n",
      "17  43156671963,9583 2018-02-25 16:07:38   0.0       0.0  \n"
     ]
    }
   ],
   "source": [
    "print(FW1.columns)\n",
    "print(FW1.info())\n",
    "print(FW1.head(3))"
   ]
  },
  {
   "cell_type": "code",
   "execution_count": null,
   "metadata": {
    "scrolled": true
   },
   "outputs": [],
   "source": [
    "rate(FW1)"
   ]
  },
  {
   "cell_type": "code",
   "execution_count": 73,
   "metadata": {
    "scrolled": true
   },
   "outputs": [
    {
     "name": "stdout",
     "output_type": "stream",
     "text": [
      "Index(['VarName', 'TimeString', 'VarValue', 'Validity', 'Time_ms', 'DateTime',\n",
      "       'Diff', 'incrVsum', 'lhFlow'],\n",
      "      dtype='object')\n",
      "<class 'pandas.core.frame.DataFrame'>\n",
      "Int64Index: 66423 entries, 4325 to 402857\n",
      "Data columns (total 9 columns):\n",
      "VarName       66423 non-null object\n",
      "TimeString    66423 non-null object\n",
      "VarValue      66423 non-null int64\n",
      "Validity      66423 non-null int64\n",
      "Time_ms       66423 non-null object\n",
      "DateTime      66423 non-null datetime64[ns]\n",
      "Diff          66423 non-null float64\n",
      "incrVsum      66423 non-null float64\n",
      "lhFlow        66423 non-null float64\n",
      "dtypes: datetime64[ns](1), float64(3), int64(2), object(3)\n",
      "memory usage: 5.1+ MB\n",
      "None\n",
      "                           VarName           TimeString  VarValue  Validity  \\\n",
      "4325  FOODWASTE_TANK_A_LEVEL_TREND  25.02.2018 17:08:04        50         1   \n",
      "4332  FOODWASTE_TANK_A_LEVEL_TREND  25.02.2018 17:08:09        50         1   \n",
      "4337  FOODWASTE_TANK_A_LEVEL_TREND  25.02.2018 17:08:14        50         1   \n",
      "\n",
      "               Time_ms            DateTime  Diff  incrVsum  lhFlow  \n",
      "4325  43156713934,7454 2018-02-25 17:08:04   0.0       0.3   300.0  \n",
      "4332  43156713993,2176 2018-02-25 17:08:09   0.0       0.3   300.0  \n",
      "4337  43156714051,6782 2018-02-25 17:08:14   0.0       0.3   300.0  \n"
     ]
    }
   ],
   "source": [
    "print(FW1.columns)\n",
    "print(FW1.info())\n",
    "print(FW1.head(3))"
   ]
  },
  {
   "cell_type": "code",
   "execution_count": null,
   "metadata": {
    "scrolled": true
   },
   "outputs": [],
   "source": [
    "rate(FW2)"
   ]
  },
  {
   "cell_type": "code",
   "execution_count": 75,
   "metadata": {},
   "outputs": [
    {
     "data": {
      "text/plain": [
       "(array([736751. , 736751.5, 736752. , 736752.5, 736753. , 736753.5,\n",
       "        736754. , 736754.5]), <a list of 8 Text xticklabel objects>)"
      ]
     },
     "execution_count": 75,
     "metadata": {},
     "output_type": "execute_result"
    },
    {
     "data": {
      "image/png": "[encoded data removed]",
      "text/plain": [
       "<Figure size 432x288 with 1 Axes>"
      ]
     },
     "metadata": {
      "needs_background": "light"
     },
     "output_type": "display_data"
    }
   ],
   "source": [
    "plt.plot(FW1.DateTime, FW1.lhFlow)\n",
    "plt.xticks(rotation=45) # x-akselin tekstit taas"
   ]
  },
  {
   "cell_type": "code",
   "execution_count": 76,
   "metadata": {},
   "outputs": [
    {
     "data": {
      "text/plain": [
       "(array([736751. , 736751.5, 736752. , 736752.5, 736753. , 736753.5,\n",
       "        736754. , 736754.5]), <a list of 8 Text xticklabel objects>)"
      ]
     },
     "execution_count": 76,
     "metadata": {},
     "output_type": "execute_result"
    },
    {
     "data": {
      "image/png": "[encoded data removed]",
      "text/plain": [
       "<Figure size 432x288 with 1 Axes>"
      ]
     },
     "metadata": {
      "needs_background": "light"
     },
     "output_type": "display_data"
    }
   ],
   "source": [
    "plt.plot(FW2.DateTime, FW2.lhFlow)\n",
    "plt.xticks(rotation=45) # x-akselin tekstit taas"
   ]
  },
  {
   "cell_type": "code",
   "execution_count": 77,
   "metadata": {},
   "outputs": [],
   "source": [
    "from sklearn.linear_model import LinearRegression\n",
    "\n",
    "lm = LinearRegression(fit_intercept=False)"
   ]
  },
  {
   "cell_type": "code",
   "execution_count": 78,
   "metadata": {},
   "outputs": [
    {
     "data": {
      "text/plain": [
       "pandas.core.series.Series"
      ]
     },
     "execution_count": 78,
     "metadata": {},
     "output_type": "execute_result"
    }
   ],
   "source": [
    "# Type check: 1-dimensional that needs to convert to 2-dim. for fitting the model on data.\n",
    "type(FW1.DateTime)"
   ]
  },
  {
   "cell_type": "markdown",
   "metadata": {},
   "source": [
    "**PETRI: tässäkohti pythonin olisi pitänyt valittaa, mutta se ei näin tehnyt**  \n",
    "  \n",
    "lm.fit funktio toimii juuri niin huonosti kuin mahdollista. Sen pitäisi tarkistaa\n",
    "että datatyypit pystyy yksikäsitteisesti tulkitsemaan vertailukelpoisiksi arvoiksi, \n",
    "siis että yksi toinen ajanhetki on toista tietyn verran SUUREMPI.\n",
    "\n",
    "lm.fit ilmeisesti voisi ottaa vaikka valokuvia ja tekstiä argumentiksi.\n",
    "\n",
    "Onglema on että DateTime tyyppi vaatii ulkopuolisen tyyppimuunnoksen floatiksi.  \n",
    "Voiko time_ms käyttää prediktontiin ja fittaukseen?"
   ]
  },
  {
   "cell_type": "code",
   "execution_count": 79,
   "metadata": {},
   "outputs": [
    {
     "name": "stderr",
     "output_type": "stream",
     "text": [
      "/Users/jarijokela/anaconda3/lib/python3.7/site-packages/ipykernel_launcher.py:2: SettingWithCopyWarning: \n",
      "A value is trying to be set on a copy of a slice from a DataFrame.\n",
      "Try using .loc[row_indexer,col_indexer] = value instead\n",
      "\n",
      "See the caveats in the documentation: http://pandas.pydata.org/pandas-docs/stable/indexing.html#indexing-view-versus-copy\n",
      "  \n"
     ]
    }
   ],
   "source": [
    "# PETRI: tranfer DateTime to float\n",
    "FW1['FloatingDateTime'] =FW1['DateTime'].apply(lambda x: x.timestamp())"
   ]
  },
  {
   "cell_type": "code",
   "execution_count": 80,
   "metadata": {
    "scrolled": false
   },
   "outputs": [
    {
     "data": {
      "text/html": [
       "<div>\n",
       "<style scoped>\n",
       "    .dataframe tbody tr th:only-of-type {\n",
       "        vertical-align: middle;\n",
       "    }\n",
       "\n",
       "    .dataframe tbody tr th {\n",
       "        vertical-align: top;\n",
       "    }\n",
       "\n",
       "    .dataframe thead th {\n",
       "        text-align: right;\n",
       "    }\n",
       "</style>\n",
       "<table border=\"1\" class=\"dataframe\">\n",
       "  <thead>\n",
       "    <tr style=\"text-align: right;\">\n",
       "      <th></th>\n",
       "      <th>VarName</th>\n",
       "      <th>TimeString</th>\n",
       "      <th>VarValue</th>\n",
       "      <th>Validity</th>\n",
       "      <th>Time_ms</th>\n",
       "      <th>DateTime</th>\n",
       "      <th>Diff</th>\n",
       "      <th>incrVsum</th>\n",
       "      <th>lhFlow</th>\n",
       "      <th>FloatingDateTime</th>\n",
       "    </tr>\n",
       "  </thead>\n",
       "  <tbody>\n",
       "    <tr>\n",
       "      <th>4325</th>\n",
       "      <td>FOODWASTE_TANK_A_LEVEL_TREND</td>\n",
       "      <td>25.02.2018 17:08:04</td>\n",
       "      <td>50</td>\n",
       "      <td>1</td>\n",
       "      <td>43156713934,7454</td>\n",
       "      <td>2018-02-25 17:08:04</td>\n",
       "      <td>0.0</td>\n",
       "      <td>0.3</td>\n",
       "      <td>300.0</td>\n",
       "      <td>1.519578e+09</td>\n",
       "    </tr>\n",
       "    <tr>\n",
       "      <th>4332</th>\n",
       "      <td>FOODWASTE_TANK_A_LEVEL_TREND</td>\n",
       "      <td>25.02.2018 17:08:09</td>\n",
       "      <td>50</td>\n",
       "      <td>1</td>\n",
       "      <td>43156713993,2176</td>\n",
       "      <td>2018-02-25 17:08:09</td>\n",
       "      <td>0.0</td>\n",
       "      <td>0.3</td>\n",
       "      <td>300.0</td>\n",
       "      <td>1.519578e+09</td>\n",
       "    </tr>\n",
       "    <tr>\n",
       "      <th>4337</th>\n",
       "      <td>FOODWASTE_TANK_A_LEVEL_TREND</td>\n",
       "      <td>25.02.2018 17:08:14</td>\n",
       "      <td>50</td>\n",
       "      <td>1</td>\n",
       "      <td>43156714051,6782</td>\n",
       "      <td>2018-02-25 17:08:14</td>\n",
       "      <td>0.0</td>\n",
       "      <td>0.3</td>\n",
       "      <td>300.0</td>\n",
       "      <td>1.519578e+09</td>\n",
       "    </tr>\n",
       "    <tr>\n",
       "      <th>4344</th>\n",
       "      <td>FOODWASTE_TANK_A_LEVEL_TREND</td>\n",
       "      <td>25.02.2018 17:08:19</td>\n",
       "      <td>50</td>\n",
       "      <td>1</td>\n",
       "      <td>43156714110,1505</td>\n",
       "      <td>2018-02-25 17:08:19</td>\n",
       "      <td>0.0</td>\n",
       "      <td>0.3</td>\n",
       "      <td>300.0</td>\n",
       "      <td>1.519578e+09</td>\n",
       "    </tr>\n",
       "    <tr>\n",
       "      <th>4349</th>\n",
       "      <td>FOODWASTE_TANK_A_LEVEL_TREND</td>\n",
       "      <td>25.02.2018 17:08:24</td>\n",
       "      <td>50</td>\n",
       "      <td>1</td>\n",
       "      <td>43156714168,6227</td>\n",
       "      <td>2018-02-25 17:08:24</td>\n",
       "      <td>0.0</td>\n",
       "      <td>0.3</td>\n",
       "      <td>300.0</td>\n",
       "      <td>1.519579e+09</td>\n",
       "    </tr>\n",
       "  </tbody>\n",
       "</table>\n",
       "</div>"
      ],
      "text/plain": [
       "                           VarName           TimeString  VarValue  Validity  \\\n",
       "4325  FOODWASTE_TANK_A_LEVEL_TREND  25.02.2018 17:08:04        50         1   \n",
       "4332  FOODWASTE_TANK_A_LEVEL_TREND  25.02.2018 17:08:09        50         1   \n",
       "4337  FOODWASTE_TANK_A_LEVEL_TREND  25.02.2018 17:08:14        50         1   \n",
       "4344  FOODWASTE_TANK_A_LEVEL_TREND  25.02.2018 17:08:19        50         1   \n",
       "4349  FOODWASTE_TANK_A_LEVEL_TREND  25.02.2018 17:08:24        50         1   \n",
       "\n",
       "               Time_ms            DateTime  Diff  incrVsum  lhFlow  \\\n",
       "4325  43156713934,7454 2018-02-25 17:08:04   0.0       0.3   300.0   \n",
       "4332  43156713993,2176 2018-02-25 17:08:09   0.0       0.3   300.0   \n",
       "4337  43156714051,6782 2018-02-25 17:08:14   0.0       0.3   300.0   \n",
       "4344  43156714110,1505 2018-02-25 17:08:19   0.0       0.3   300.0   \n",
       "4349  43156714168,6227 2018-02-25 17:08:24   0.0       0.3   300.0   \n",
       "\n",
       "      FloatingDateTime  \n",
       "4325      1.519578e+09  \n",
       "4332      1.519578e+09  \n",
       "4337      1.519578e+09  \n",
       "4344      1.519578e+09  \n",
       "4349      1.519579e+09  "
      ]
     },
     "execution_count": 80,
     "metadata": {},
     "output_type": "execute_result"
    }
   ],
   "source": [
    "# PETRI\n",
    "FW1.head()"
   ]
  },
  {
   "cell_type": "code",
   "execution_count": null,
   "metadata": {},
   "outputs": [],
   "source": []
  },
  {
   "cell_type": "code",
   "execution_count": 81,
   "metadata": {},
   "outputs": [
    {
     "data": {
      "text/plain": [
       "LinearRegression(copy_X=True, fit_intercept=False, n_jobs=None,\n",
       "         normalize=False)"
      ]
     },
     "execution_count": 81,
     "metadata": {},
     "output_type": "execute_result"
    }
   ],
   "source": [
    "lm.fit(pd.DataFrame(FW1.DateTime),pd.DataFrame(FW1.lhFlow))"
   ]
  },
  {
   "cell_type": "code",
   "execution_count": 82,
   "metadata": {},
   "outputs": [
    {
     "data": {
      "text/plain": [
       "array([[4.86644942e-16]])"
      ]
     },
     "execution_count": 82,
     "metadata": {},
     "output_type": "execute_result"
    }
   ],
   "source": [
    "# Slope of of the linear fit\n",
    "lm.coef_"
   ]
  },
  {
   "cell_type": "code",
   "execution_count": 83,
   "metadata": {},
   "outputs": [
    {
     "data": {
      "text/plain": [
       "0.0"
      ]
     },
     "execution_count": 83,
     "metadata": {},
     "output_type": "execute_result"
    }
   ],
   "source": [
    "# Intercept of the linear fit\n",
    "lm.intercept_"
   ]
  },
  {
   "cell_type": "markdown",
   "metadata": {},
   "source": [
    "## It seems that the linear regression model does not represent the pattern of flow rates. The data is split into Sea and port times:"
   ]
  },
  {
   "cell_type": "code",
   "execution_count": 84,
   "metadata": {},
   "outputs": [],
   "source": [
    "def inPort(df, arrival, departure):\n",
    "    \"\"\"\n",
    "    Slices from the DataFrame the time period when the ship is in the port.\n",
    "\n",
    "    :input: Name of the dataframe. Port arrival and departure as DateTime parameters in quotes ('').\n",
    "\n",
    "    :return: pandas dataframe containing the data from the staying in port.\n",
    "    \"\"\"\n",
    "    df1 = df.loc[df['DateTime'] > arrival]\n",
    "    portTime = df1.loc[df1['DateTime'] < departure]\n",
    "    \n",
    "    return portTime"
   ]
  },
  {
   "cell_type": "code",
   "execution_count": 85,
   "metadata": {},
   "outputs": [],
   "source": [
    "FW1Port = inPort(FW1, '2018-02-26 07:00:00', '2018-02-26 17:00:00')"
   ]
  },
  {
   "cell_type": "code",
   "execution_count": 86,
   "metadata": {},
   "outputs": [
    {
     "data": {
      "text/html": [
       "<div>\n",
       "<style scoped>\n",
       "    .dataframe tbody tr th:only-of-type {\n",
       "        vertical-align: middle;\n",
       "    }\n",
       "\n",
       "    .dataframe tbody tr th {\n",
       "        vertical-align: top;\n",
       "    }\n",
       "\n",
       "    .dataframe thead th {\n",
       "        text-align: right;\n",
       "    }\n",
       "</style>\n",
       "<table border=\"1\" class=\"dataframe\">\n",
       "  <thead>\n",
       "    <tr style=\"text-align: right;\">\n",
       "      <th></th>\n",
       "      <th>VarName</th>\n",
       "      <th>TimeString</th>\n",
       "      <th>VarValue</th>\n",
       "      <th>Validity</th>\n",
       "      <th>Time_ms</th>\n",
       "      <th>DateTime</th>\n",
       "      <th>Diff</th>\n",
       "      <th>incrVsum</th>\n",
       "      <th>lhFlow</th>\n",
       "      <th>FloatingDateTime</th>\n",
       "    </tr>\n",
       "  </thead>\n",
       "  <tbody>\n",
       "    <tr>\n",
       "      <th>63624</th>\n",
       "      <td>FOODWASTE_TANK_A_LEVEL_TREND</td>\n",
       "      <td>26.02.2018 07:00:01</td>\n",
       "      <td>19</td>\n",
       "      <td>1</td>\n",
       "      <td>43157291682,4306</td>\n",
       "      <td>2018-02-26 07:00:01</td>\n",
       "      <td>1.0</td>\n",
       "      <td>4.6</td>\n",
       "      <td>350.0</td>\n",
       "      <td>1.519628e+09</td>\n",
       "    </tr>\n",
       "    <tr>\n",
       "      <th>63629</th>\n",
       "      <td>FOODWASTE_TANK_A_LEVEL_TREND</td>\n",
       "      <td>26.02.2018 07:00:06</td>\n",
       "      <td>19</td>\n",
       "      <td>1</td>\n",
       "      <td>43157291740,9028</td>\n",
       "      <td>2018-02-26 07:00:06</td>\n",
       "      <td>0.0</td>\n",
       "      <td>4.6</td>\n",
       "      <td>350.0</td>\n",
       "      <td>1.519628e+09</td>\n",
       "    </tr>\n",
       "    <tr>\n",
       "      <th>63636</th>\n",
       "      <td>FOODWASTE_TANK_A_LEVEL_TREND</td>\n",
       "      <td>26.02.2018 07:00:11</td>\n",
       "      <td>19</td>\n",
       "      <td>1</td>\n",
       "      <td>43157291799,3866</td>\n",
       "      <td>2018-02-26 07:00:11</td>\n",
       "      <td>0.0</td>\n",
       "      <td>4.6</td>\n",
       "      <td>350.0</td>\n",
       "      <td>1.519628e+09</td>\n",
       "    </tr>\n",
       "    <tr>\n",
       "      <th>63641</th>\n",
       "      <td>FOODWASTE_TANK_A_LEVEL_TREND</td>\n",
       "      <td>26.02.2018 07:00:17</td>\n",
       "      <td>19</td>\n",
       "      <td>1</td>\n",
       "      <td>43157291857,8472</td>\n",
       "      <td>2018-02-26 07:00:17</td>\n",
       "      <td>0.0</td>\n",
       "      <td>4.6</td>\n",
       "      <td>350.0</td>\n",
       "      <td>1.519628e+09</td>\n",
       "    </tr>\n",
       "    <tr>\n",
       "      <th>63648</th>\n",
       "      <td>FOODWASTE_TANK_A_LEVEL_TREND</td>\n",
       "      <td>26.02.2018 07:00:22</td>\n",
       "      <td>19</td>\n",
       "      <td>1</td>\n",
       "      <td>43157291916,3426</td>\n",
       "      <td>2018-02-26 07:00:22</td>\n",
       "      <td>0.0</td>\n",
       "      <td>4.6</td>\n",
       "      <td>350.0</td>\n",
       "      <td>1.519628e+09</td>\n",
       "    </tr>\n",
       "  </tbody>\n",
       "</table>\n",
       "</div>"
      ],
      "text/plain": [
       "                            VarName           TimeString  VarValue  Validity  \\\n",
       "63624  FOODWASTE_TANK_A_LEVEL_TREND  26.02.2018 07:00:01        19         1   \n",
       "63629  FOODWASTE_TANK_A_LEVEL_TREND  26.02.2018 07:00:06        19         1   \n",
       "63636  FOODWASTE_TANK_A_LEVEL_TREND  26.02.2018 07:00:11        19         1   \n",
       "63641  FOODWASTE_TANK_A_LEVEL_TREND  26.02.2018 07:00:17        19         1   \n",
       "63648  FOODWASTE_TANK_A_LEVEL_TREND  26.02.2018 07:00:22        19         1   \n",
       "\n",
       "                Time_ms            DateTime  Diff  incrVsum  lhFlow  \\\n",
       "63624  43157291682,4306 2018-02-26 07:00:01   1.0       4.6   350.0   \n",
       "63629  43157291740,9028 2018-02-26 07:00:06   0.0       4.6   350.0   \n",
       "63636  43157291799,3866 2018-02-26 07:00:11   0.0       4.6   350.0   \n",
       "63641  43157291857,8472 2018-02-26 07:00:17   0.0       4.6   350.0   \n",
       "63648  43157291916,3426 2018-02-26 07:00:22   0.0       4.6   350.0   \n",
       "\n",
       "       FloatingDateTime  \n",
       "63624      1.519628e+09  \n",
       "63629      1.519628e+09  \n",
       "63636      1.519628e+09  \n",
       "63641      1.519628e+09  \n",
       "63648      1.519628e+09  "
      ]
     },
     "execution_count": 86,
     "metadata": {},
     "output_type": "execute_result"
    }
   ],
   "source": [
    "FW1Port.head()"
   ]
  },
  {
   "cell_type": "code",
   "execution_count": 87,
   "metadata": {},
   "outputs": [
    {
     "data": {
      "text/html": [
       "<div>\n",
       "<style scoped>\n",
       "    .dataframe tbody tr th:only-of-type {\n",
       "        vertical-align: middle;\n",
       "    }\n",
       "\n",
       "    .dataframe tbody tr th {\n",
       "        vertical-align: top;\n",
       "    }\n",
       "\n",
       "    .dataframe thead th {\n",
       "        text-align: right;\n",
       "    }\n",
       "</style>\n",
       "<table border=\"1\" class=\"dataframe\">\n",
       "  <thead>\n",
       "    <tr style=\"text-align: right;\">\n",
       "      <th></th>\n",
       "      <th>VarName</th>\n",
       "      <th>TimeString</th>\n",
       "      <th>VarValue</th>\n",
       "      <th>Validity</th>\n",
       "      <th>Time_ms</th>\n",
       "      <th>DateTime</th>\n",
       "      <th>Diff</th>\n",
       "      <th>incrVsum</th>\n",
       "      <th>lhFlow</th>\n",
       "      <th>FloatingDateTime</th>\n",
       "    </tr>\n",
       "  </thead>\n",
       "  <tbody>\n",
       "    <tr>\n",
       "      <th>106356</th>\n",
       "      <td>FOODWASTE_TANK_A_LEVEL_TREND</td>\n",
       "      <td>26.02.2018 16:59:35</td>\n",
       "      <td>47</td>\n",
       "      <td>1</td>\n",
       "      <td>43157708040,2315</td>\n",
       "      <td>2018-02-26 16:59:35</td>\n",
       "      <td>0.0</td>\n",
       "      <td>12.5</td>\n",
       "      <td>350.0</td>\n",
       "      <td>1.519664e+09</td>\n",
       "    </tr>\n",
       "    <tr>\n",
       "      <th>106361</th>\n",
       "      <td>FOODWASTE_TANK_A_LEVEL_TREND</td>\n",
       "      <td>26.02.2018 16:59:40</td>\n",
       "      <td>47</td>\n",
       "      <td>1</td>\n",
       "      <td>43157708098,6921</td>\n",
       "      <td>2018-02-26 16:59:40</td>\n",
       "      <td>0.0</td>\n",
       "      <td>12.5</td>\n",
       "      <td>350.0</td>\n",
       "      <td>1.519664e+09</td>\n",
       "    </tr>\n",
       "    <tr>\n",
       "      <th>106368</th>\n",
       "      <td>FOODWASTE_TANK_A_LEVEL_TREND</td>\n",
       "      <td>26.02.2018 16:59:45</td>\n",
       "      <td>47</td>\n",
       "      <td>1</td>\n",
       "      <td>43157708157,1644</td>\n",
       "      <td>2018-02-26 16:59:45</td>\n",
       "      <td>0.0</td>\n",
       "      <td>12.5</td>\n",
       "      <td>350.0</td>\n",
       "      <td>1.519664e+09</td>\n",
       "    </tr>\n",
       "    <tr>\n",
       "      <th>106373</th>\n",
       "      <td>FOODWASTE_TANK_A_LEVEL_TREND</td>\n",
       "      <td>26.02.2018 16:59:50</td>\n",
       "      <td>47</td>\n",
       "      <td>1</td>\n",
       "      <td>43157708215,6134</td>\n",
       "      <td>2018-02-26 16:59:50</td>\n",
       "      <td>0.0</td>\n",
       "      <td>12.5</td>\n",
       "      <td>350.0</td>\n",
       "      <td>1.519664e+09</td>\n",
       "    </tr>\n",
       "    <tr>\n",
       "      <th>106380</th>\n",
       "      <td>FOODWASTE_TANK_A_LEVEL_TREND</td>\n",
       "      <td>26.02.2018 16:59:55</td>\n",
       "      <td>47</td>\n",
       "      <td>1</td>\n",
       "      <td>43157708274,0856</td>\n",
       "      <td>2018-02-26 16:59:55</td>\n",
       "      <td>0.0</td>\n",
       "      <td>12.5</td>\n",
       "      <td>350.0</td>\n",
       "      <td>1.519664e+09</td>\n",
       "    </tr>\n",
       "  </tbody>\n",
       "</table>\n",
       "</div>"
      ],
      "text/plain": [
       "                             VarName           TimeString  VarValue  Validity  \\\n",
       "106356  FOODWASTE_TANK_A_LEVEL_TREND  26.02.2018 16:59:35        47         1   \n",
       "106361  FOODWASTE_TANK_A_LEVEL_TREND  26.02.2018 16:59:40        47         1   \n",
       "106368  FOODWASTE_TANK_A_LEVEL_TREND  26.02.2018 16:59:45        47         1   \n",
       "106373  FOODWASTE_TANK_A_LEVEL_TREND  26.02.2018 16:59:50        47         1   \n",
       "106380  FOODWASTE_TANK_A_LEVEL_TREND  26.02.2018 16:59:55        47         1   \n",
       "\n",
       "                 Time_ms            DateTime  Diff  incrVsum  lhFlow  \\\n",
       "106356  43157708040,2315 2018-02-26 16:59:35   0.0      12.5   350.0   \n",
       "106361  43157708098,6921 2018-02-26 16:59:40   0.0      12.5   350.0   \n",
       "106368  43157708157,1644 2018-02-26 16:59:45   0.0      12.5   350.0   \n",
       "106373  43157708215,6134 2018-02-26 16:59:50   0.0      12.5   350.0   \n",
       "106380  43157708274,0856 2018-02-26 16:59:55   0.0      12.5   350.0   \n",
       "\n",
       "        FloatingDateTime  \n",
       "106356      1.519664e+09  \n",
       "106361      1.519664e+09  \n",
       "106368      1.519664e+09  \n",
       "106373      1.519664e+09  \n",
       "106380      1.519664e+09  "
      ]
     },
     "execution_count": 87,
     "metadata": {},
     "output_type": "execute_result"
    }
   ],
   "source": [
    "FW1Port.tail()"
   ]
  },
  {
   "cell_type": "code",
   "execution_count": 88,
   "metadata": {},
   "outputs": [
    {
     "data": {
      "text/plain": [
       "(array([736751.29166667, 736751.33333333, 736751.375     , 736751.41666667,\n",
       "        736751.45833333, 736751.5       , 736751.54166667, 736751.58333333,\n",
       "        736751.625     , 736751.66666667, 736751.70833333]),\n",
       " <a list of 11 Text xticklabel objects>)"
      ]
     },
     "execution_count": 88,
     "metadata": {},
     "output_type": "execute_result"
    },
    {
     "data": {
      "image/png": "[encoded data removed]",
      "text/plain": [
       "<Figure size 432x288 with 1 Axes>"
      ]
     },
     "metadata": {
      "needs_background": "light"
     },
     "output_type": "display_data"
    }
   ],
   "source": [
    "plt.plot(FW1Port.DateTime, FW1Port.lhFlow)\n",
    "plt.xticks(rotation=45) # x-akselin tekstit taas"
   ]
  },
  {
   "cell_type": "code",
   "execution_count": 89,
   "metadata": {},
   "outputs": [],
   "source": [
    "X1P = pd.DataFrame(FW1Port.DateTime)"
   ]
  },
  {
   "cell_type": "code",
   "execution_count": null,
   "metadata": {},
   "outputs": [],
   "source": []
  },
  {
   "cell_type": "code",
   "execution_count": 90,
   "metadata": {},
   "outputs": [],
   "source": [
    "y1P = pd.DataFrame(FW1Port.lhFlow)"
   ]
  },
  {
   "cell_type": "markdown",
   "metadata": {},
   "source": [
    "**PETRI:Tässä pääpaino analyysilla**  \n",
    "\n",
    "Alta näkyy että toisessa dataframessa datatyyppi on päivämäärää kuvaava datetime64, kun taas toisessa on liukuluku float64. Lineaariprediktori ei siis osannut tulkita näitä oikein."
   ]
  },
  {
   "cell_type": "code",
   "execution_count": 91,
   "metadata": {},
   "outputs": [
    {
     "name": "stdout",
     "output_type": "stream",
     "text": [
      "<class 'pandas.core.frame.DataFrame'>\n",
      "\n",
      "Index(['DateTime'], dtype='object')\n",
      "\n",
      "                 DateTime\n",
      "63624 2018-02-26 07:00:01\n",
      "63629 2018-02-26 07:00:06\n",
      "63636 2018-02-26 07:00:11\n",
      "\n",
      "<class 'pandas.core.frame.DataFrame'>\n",
      "Int64Index: 7127 entries, 63624 to 106380\n",
      "Data columns (total 1 columns):\n",
      "DateTime    7127 non-null datetime64[ns]\n",
      "dtypes: datetime64[ns](1)\n",
      "memory usage: 111.4 KB\n",
      "None\n",
      "\n",
      "2018-02-26 07:00:01\n",
      "\n",
      "<class 'pandas._libs.tslibs.timestamps.Timestamp'>\n"
     ]
    }
   ],
   "source": [
    "# X1P datatyyppien analyysi\n",
    "print(type(X1P))      # <-- dataframe\n",
    "print()\n",
    "print(X1P.columns)    # <-- Yksi sarake 'DateTime' joka on 'object'\n",
    "print()\n",
    "print(X1P.head(3))\n",
    "print()\n",
    "print(X1P.info())     # <-- info osoittaa että data type on datetime64\n",
    "print()\n",
    "print(X1P['DateTime'].iloc[0])\n",
    "print()\n",
    "print(type(X1P['DateTime'].iloc[0]))"
   ]
  },
  {
   "cell_type": "code",
   "execution_count": 92,
   "metadata": {},
   "outputs": [
    {
     "name": "stdout",
     "output_type": "stream",
     "text": [
      "<class 'pandas.core.frame.DataFrame'>\n",
      "\n",
      "Index(['lhFlow'], dtype='object')\n",
      "\n",
      "       lhFlow\n",
      "63624   350.0\n",
      "63629   350.0\n",
      "63636   350.0\n",
      "\n",
      "<class 'pandas.core.frame.DataFrame'>\n",
      "Int64Index: 7127 entries, 63624 to 106380\n",
      "Data columns (total 1 columns):\n",
      "lhFlow    7127 non-null float64\n",
      "dtypes: float64(1)\n",
      "memory usage: 111.4 KB\n",
      "None\n",
      "\n",
      "349.99999999999966\n",
      "\n",
      "<class 'numpy.float64'>\n"
     ]
    }
   ],
   "source": [
    "# X1P datatyyppien analyysi\n",
    "print(type(y1P))      # <-- dataframe\n",
    "print()\n",
    "print(y1P.columns)    # <-- Yksi sarake 'lhFlow' joka on 'object'\n",
    "print()\n",
    "print(y1P.head(3))\n",
    "print()\n",
    "print(y1P.info())     # <-- info osoittaa että data type on float64\n",
    "print()\n",
    "print(y1P['lhFlow'].iloc[0])\n",
    "print()\n",
    "print(type(y1P['lhFlow'].iloc[0]))"
   ]
  },
  {
   "cell_type": "code",
   "execution_count": 93,
   "metadata": {},
   "outputs": [
    {
     "data": {
      "text/html": [
       "<div>\n",
       "<style scoped>\n",
       "    .dataframe tbody tr th:only-of-type {\n",
       "        vertical-align: middle;\n",
       "    }\n",
       "\n",
       "    .dataframe tbody tr th {\n",
       "        vertical-align: top;\n",
       "    }\n",
       "\n",
       "    .dataframe thead th {\n",
       "        text-align: right;\n",
       "    }\n",
       "</style>\n",
       "<table border=\"1\" class=\"dataframe\">\n",
       "  <thead>\n",
       "    <tr style=\"text-align: right;\">\n",
       "      <th></th>\n",
       "      <th>VarName</th>\n",
       "      <th>TimeString</th>\n",
       "      <th>VarValue</th>\n",
       "      <th>Validity</th>\n",
       "      <th>Time_ms</th>\n",
       "      <th>DateTime</th>\n",
       "      <th>Diff</th>\n",
       "      <th>incrVsum</th>\n",
       "      <th>lhFlow</th>\n",
       "      <th>FloatingDateTime</th>\n",
       "    </tr>\n",
       "  </thead>\n",
       "  <tbody>\n",
       "    <tr>\n",
       "      <th>63624</th>\n",
       "      <td>FOODWASTE_TANK_A_LEVEL_TREND</td>\n",
       "      <td>26.02.2018 07:00:01</td>\n",
       "      <td>19</td>\n",
       "      <td>1</td>\n",
       "      <td>43157291682,4306</td>\n",
       "      <td>2018-02-26 07:00:01</td>\n",
       "      <td>1.0</td>\n",
       "      <td>4.6</td>\n",
       "      <td>350.0</td>\n",
       "      <td>1.519628e+09</td>\n",
       "    </tr>\n",
       "    <tr>\n",
       "      <th>63629</th>\n",
       "      <td>FOODWASTE_TANK_A_LEVEL_TREND</td>\n",
       "      <td>26.02.2018 07:00:06</td>\n",
       "      <td>19</td>\n",
       "      <td>1</td>\n",
       "      <td>43157291740,9028</td>\n",
       "      <td>2018-02-26 07:00:06</td>\n",
       "      <td>0.0</td>\n",
       "      <td>4.6</td>\n",
       "      <td>350.0</td>\n",
       "      <td>1.519628e+09</td>\n",
       "    </tr>\n",
       "    <tr>\n",
       "      <th>63636</th>\n",
       "      <td>FOODWASTE_TANK_A_LEVEL_TREND</td>\n",
       "      <td>26.02.2018 07:00:11</td>\n",
       "      <td>19</td>\n",
       "      <td>1</td>\n",
       "      <td>43157291799,3866</td>\n",
       "      <td>2018-02-26 07:00:11</td>\n",
       "      <td>0.0</td>\n",
       "      <td>4.6</td>\n",
       "      <td>350.0</td>\n",
       "      <td>1.519628e+09</td>\n",
       "    </tr>\n",
       "    <tr>\n",
       "      <th>63641</th>\n",
       "      <td>FOODWASTE_TANK_A_LEVEL_TREND</td>\n",
       "      <td>26.02.2018 07:00:17</td>\n",
       "      <td>19</td>\n",
       "      <td>1</td>\n",
       "      <td>43157291857,8472</td>\n",
       "      <td>2018-02-26 07:00:17</td>\n",
       "      <td>0.0</td>\n",
       "      <td>4.6</td>\n",
       "      <td>350.0</td>\n",
       "      <td>1.519628e+09</td>\n",
       "    </tr>\n",
       "    <tr>\n",
       "      <th>63648</th>\n",
       "      <td>FOODWASTE_TANK_A_LEVEL_TREND</td>\n",
       "      <td>26.02.2018 07:00:22</td>\n",
       "      <td>19</td>\n",
       "      <td>1</td>\n",
       "      <td>43157291916,3426</td>\n",
       "      <td>2018-02-26 07:00:22</td>\n",
       "      <td>0.0</td>\n",
       "      <td>4.6</td>\n",
       "      <td>350.0</td>\n",
       "      <td>1.519628e+09</td>\n",
       "    </tr>\n",
       "  </tbody>\n",
       "</table>\n",
       "</div>"
      ],
      "text/plain": [
       "                            VarName           TimeString  VarValue  Validity  \\\n",
       "63624  FOODWASTE_TANK_A_LEVEL_TREND  26.02.2018 07:00:01        19         1   \n",
       "63629  FOODWASTE_TANK_A_LEVEL_TREND  26.02.2018 07:00:06        19         1   \n",
       "63636  FOODWASTE_TANK_A_LEVEL_TREND  26.02.2018 07:00:11        19         1   \n",
       "63641  FOODWASTE_TANK_A_LEVEL_TREND  26.02.2018 07:00:17        19         1   \n",
       "63648  FOODWASTE_TANK_A_LEVEL_TREND  26.02.2018 07:00:22        19         1   \n",
       "\n",
       "                Time_ms            DateTime  Diff  incrVsum  lhFlow  \\\n",
       "63624  43157291682,4306 2018-02-26 07:00:01   1.0       4.6   350.0   \n",
       "63629  43157291740,9028 2018-02-26 07:00:06   0.0       4.6   350.0   \n",
       "63636  43157291799,3866 2018-02-26 07:00:11   0.0       4.6   350.0   \n",
       "63641  43157291857,8472 2018-02-26 07:00:17   0.0       4.6   350.0   \n",
       "63648  43157291916,3426 2018-02-26 07:00:22   0.0       4.6   350.0   \n",
       "\n",
       "       FloatingDateTime  \n",
       "63624      1.519628e+09  \n",
       "63629      1.519628e+09  \n",
       "63636      1.519628e+09  \n",
       "63641      1.519628e+09  \n",
       "63648      1.519628e+09  "
      ]
     },
     "execution_count": 93,
     "metadata": {},
     "output_type": "execute_result"
    }
   ],
   "source": [
    "FW1Port.head()"
   ]
  },
  {
   "cell_type": "code",
   "execution_count": 94,
   "metadata": {},
   "outputs": [],
   "source": [
    "# Petrin testi\n",
    "PJ_lm = LinearRegression(fit_intercept=False)\n",
    "PJ_X1P = pd.DataFrame(FW1Port.FloatingDateTime)\n",
    "y1P = pd.DataFrame(FW1Port.lhFlow)\n",
    "PJ_lm.fit(PJ_X1P, y1P)\n",
    "FW1Port['PJ_pred'] = lm.predict(PJ_X1P)"
   ]
  },
  {
   "cell_type": "code",
   "execution_count": 95,
   "metadata": {},
   "outputs": [
    {
     "name": "stdout",
     "output_type": "stream",
     "text": [
      "7.39519475082478e-07\n"
     ]
    }
   ],
   "source": [
    "type(FW1Port.PJ_pred.values)\n",
    "print(FW1Port.PJ_pred.iloc[0]) # <-- nyt tuolla on ensimmäisen asteen prediktoidut arvot"
   ]
  },
  {
   "cell_type": "code",
   "execution_count": 96,
   "metadata": {},
   "outputs": [
    {
     "data": {
      "text/plain": [
       "LinearRegression(copy_X=True, fit_intercept=False, n_jobs=None,\n",
       "         normalize=False)"
      ]
     },
     "execution_count": 96,
     "metadata": {},
     "output_type": "execute_result"
    }
   ],
   "source": [
    "lm.fit(X1P, y1P)"
   ]
  },
  {
   "cell_type": "code",
   "execution_count": null,
   "metadata": {},
   "outputs": [],
   "source": [
    "# Katso tämä printtaus huolella läpi mikä on mikäkin!\n",
    "# plt.plot(np.arange(0,250,10),predictions,'-')\n",
    "# plt.scatter(x,y)"
   ]
  },
  {
   "cell_type": "code",
   "execution_count": 97,
   "metadata": {},
   "outputs": [
    {
     "ename": "TypeError",
     "evalue": "Cannot cast array data from dtype('<M8[ns]') to dtype('float64') according to the rule 'safe'",
     "output_type": "error",
     "traceback": [
      "\u001b[0;31m---------------------------------------------------------------------------\u001b[0m",
      "\u001b[0;31mTypeError\u001b[0m                                 Traceback (most recent call last)",
      "\u001b[0;32m<ipython-input-97-887ab6fc58af>\u001b[0m in \u001b[0;36m<module>\u001b[0;34m\u001b[0m\n\u001b[1;32m      1\u001b[0m \u001b[0;34m\u001b[0m\u001b[0m\n\u001b[0;32m----> 2\u001b[0;31m \u001b[0mFW1Port\u001b[0m\u001b[0;34m[\u001b[0m\u001b[0;34m'Predictedlh'\u001b[0m\u001b[0;34m]\u001b[0m \u001b[0;34m=\u001b[0m \u001b[0mlm\u001b[0m\u001b[0;34m.\u001b[0m\u001b[0mpredict\u001b[0m\u001b[0;34m(\u001b[0m\u001b[0mX1P\u001b[0m\u001b[0;34m)\u001b[0m\u001b[0;34m\u001b[0m\u001b[0;34m\u001b[0m\u001b[0m\n\u001b[0m",
      "\u001b[0;32m~/anaconda3/lib/python3.7/site-packages/sklearn/linear_model/base.py\u001b[0m in \u001b[0;36mpredict\u001b[0;34m(self, X)\u001b[0m\n\u001b[1;32m    211\u001b[0m             \u001b[0mReturns\u001b[0m \u001b[0mpredicted\u001b[0m \u001b[0mvalues\u001b[0m\u001b[0;34m.\u001b[0m\u001b[0;34m\u001b[0m\u001b[0;34m\u001b[0m\u001b[0m\n\u001b[1;32m    212\u001b[0m         \"\"\"\n\u001b[0;32m--> 213\u001b[0;31m         \u001b[0;32mreturn\u001b[0m \u001b[0mself\u001b[0m\u001b[0;34m.\u001b[0m\u001b[0m_decision_function\u001b[0m\u001b[0;34m(\u001b[0m\u001b[0mX\u001b[0m\u001b[0;34m)\u001b[0m\u001b[0;34m\u001b[0m\u001b[0;34m\u001b[0m\u001b[0m\n\u001b[0m\u001b[1;32m    214\u001b[0m \u001b[0;34m\u001b[0m\u001b[0m\n\u001b[1;32m    215\u001b[0m     \u001b[0m_preprocess_data\u001b[0m \u001b[0;34m=\u001b[0m \u001b[0mstaticmethod\u001b[0m\u001b[0;34m(\u001b[0m\u001b[0m_preprocess_data\u001b[0m\u001b[0;34m)\u001b[0m\u001b[0;34m\u001b[0m\u001b[0;34m\u001b[0m\u001b[0m\n",
      "\u001b[0;32m~/anaconda3/lib/python3.7/site-packages/sklearn/linear_model/base.py\u001b[0m in \u001b[0;36m_decision_function\u001b[0;34m(self, X)\u001b[0m\n\u001b[1;32m    196\u001b[0m         \u001b[0mX\u001b[0m \u001b[0;34m=\u001b[0m \u001b[0mcheck_array\u001b[0m\u001b[0;34m(\u001b[0m\u001b[0mX\u001b[0m\u001b[0;34m,\u001b[0m \u001b[0maccept_sparse\u001b[0m\u001b[0;34m=\u001b[0m\u001b[0;34m[\u001b[0m\u001b[0;34m'csr'\u001b[0m\u001b[0;34m,\u001b[0m \u001b[0;34m'csc'\u001b[0m\u001b[0;34m,\u001b[0m \u001b[0;34m'coo'\u001b[0m\u001b[0;34m]\u001b[0m\u001b[0;34m)\u001b[0m\u001b[0;34m\u001b[0m\u001b[0;34m\u001b[0m\u001b[0m\n\u001b[1;32m    197\u001b[0m         return safe_sparse_dot(X, self.coef_.T,\n\u001b[0;32m--> 198\u001b[0;31m                                dense_output=True) + self.intercept_\n\u001b[0m\u001b[1;32m    199\u001b[0m \u001b[0;34m\u001b[0m\u001b[0m\n\u001b[1;32m    200\u001b[0m     \u001b[0;32mdef\u001b[0m \u001b[0mpredict\u001b[0m\u001b[0;34m(\u001b[0m\u001b[0mself\u001b[0m\u001b[0;34m,\u001b[0m \u001b[0mX\u001b[0m\u001b[0;34m)\u001b[0m\u001b[0;34m:\u001b[0m\u001b[0;34m\u001b[0m\u001b[0;34m\u001b[0m\u001b[0m\n",
      "\u001b[0;32m~/anaconda3/lib/python3.7/site-packages/sklearn/utils/extmath.py\u001b[0m in \u001b[0;36msafe_sparse_dot\u001b[0;34m(a, b, dense_output)\u001b[0m\n\u001b[1;32m    171\u001b[0m         \u001b[0;32mreturn\u001b[0m \u001b[0mret\u001b[0m\u001b[0;34m\u001b[0m\u001b[0;34m\u001b[0m\u001b[0m\n\u001b[1;32m    172\u001b[0m     \u001b[0;32melse\u001b[0m\u001b[0;34m:\u001b[0m\u001b[0;34m\u001b[0m\u001b[0;34m\u001b[0m\u001b[0m\n\u001b[0;32m--> 173\u001b[0;31m         \u001b[0;32mreturn\u001b[0m \u001b[0mnp\u001b[0m\u001b[0;34m.\u001b[0m\u001b[0mdot\u001b[0m\u001b[0;34m(\u001b[0m\u001b[0ma\u001b[0m\u001b[0;34m,\u001b[0m \u001b[0mb\u001b[0m\u001b[0;34m)\u001b[0m\u001b[0;34m\u001b[0m\u001b[0;34m\u001b[0m\u001b[0m\n\u001b[0m\u001b[1;32m    174\u001b[0m \u001b[0;34m\u001b[0m\u001b[0m\n\u001b[1;32m    175\u001b[0m \u001b[0;34m\u001b[0m\u001b[0m\n",
      "\u001b[0;31mTypeError\u001b[0m: Cannot cast array data from dtype('<M8[ns]') to dtype('float64') according to the rule 'safe'"
     ]
    }
   ],
   "source": [
    "\n",
    "FW1Port['Predictedlh'] = lm.predict(X1P)"
   ]
  },
  {
   "cell_type": "markdown",
   "metadata": {},
   "source": [
    "# Alex: Why I get this TypeError? What can be done to get forward?"
   ]
  },
  {
   "cell_type": "code",
   "execution_count": null,
   "metadata": {},
   "outputs": [],
   "source": []
  },
  {
   "cell_type": "code",
   "execution_count": null,
   "metadata": {},
   "outputs": [],
   "source": [
    "FW2Port = inPort(FW2, '2018-02-26 07:00:00', '2018-02-26 17:00:00')"
   ]
  },
  {
   "cell_type": "code",
   "execution_count": null,
   "metadata": {},
   "outputs": [],
   "source": [
    "FW2Port.head()"
   ]
  },
  {
   "cell_type": "code",
   "execution_count": null,
   "metadata": {},
   "outputs": [],
   "source": [
    "FW2Port.tail()"
   ]
  },
  {
   "cell_type": "code",
   "execution_count": null,
   "metadata": {},
   "outputs": [],
   "source": [
    "plt.plot(FW2Port.DateTime, FW2Port.lhFlow)"
   ]
  },
  {
   "cell_type": "code",
   "execution_count": null,
   "metadata": {},
   "outputs": [],
   "source": []
  },
  {
   "cell_type": "code",
   "execution_count": null,
   "metadata": {},
   "outputs": [],
   "source": [
    "def inSea(df, toSea, fromSea):\n",
    "    \"\"\"\n",
    "    Slices from the DataFrame the time period when the ship is in sea condition.\n",
    "\n",
    "    :input: Name of the dataframe. Port departure and port arrival as DateTime parameters in quotes ('').\n",
    "\n",
    "    :return: pandas dataframe containing the data from the staying in port.\n",
    "    \"\"\"\n",
    "    df1 = df.loc[df['DateTime'] > toSea]\n",
    "    seaTime = df1.loc[df1['DateTime'] < fromSea]\n",
    "    \n",
    "    return seaTime"
   ]
  },
  {
   "cell_type": "code",
   "execution_count": null,
   "metadata": {},
   "outputs": [],
   "source": [
    "FW1Sea = inSea(FW1, '2018-02-27 18:00:00', '2018-03-01 08:00:00')"
   ]
  },
  {
   "cell_type": "code",
   "execution_count": null,
   "metadata": {},
   "outputs": [],
   "source": [
    "FW1Sea.head()"
   ]
  },
  {
   "cell_type": "code",
   "execution_count": null,
   "metadata": {},
   "outputs": [],
   "source": [
    "FW1Sea.tail()"
   ]
  },
  {
   "cell_type": "code",
   "execution_count": null,
   "metadata": {},
   "outputs": [],
   "source": [
    "plt.plot(FW1Sea.DateTime, FW1Sea.lhFlow)"
   ]
  },
  {
   "cell_type": "code",
   "execution_count": null,
   "metadata": {},
   "outputs": [],
   "source": []
  },
  {
   "cell_type": "code",
   "execution_count": null,
   "metadata": {},
   "outputs": [],
   "source": [
    "FW2Sea = inSea(FW2, '2018-02-27 18:00:00', '2018-03-01 08:00:00')"
   ]
  },
  {
   "cell_type": "code",
   "execution_count": null,
   "metadata": {},
   "outputs": [],
   "source": [
    "FW2Sea.head()"
   ]
  },
  {
   "cell_type": "code",
   "execution_count": null,
   "metadata": {},
   "outputs": [],
   "source": [
    "FW2Sea.tail()"
   ]
  },
  {
   "cell_type": "code",
   "execution_count": null,
   "metadata": {},
   "outputs": [],
   "source": [
    "plt.plot(FW2Sea.DateTime, FW2Sea.lhFlow)"
   ]
  },
  {
   "cell_type": "code",
   "execution_count": null,
   "metadata": {},
   "outputs": [],
   "source": []
  },
  {
   "cell_type": "markdown",
   "metadata": {},
   "source": [
    "## Values for the FW tank \n",
    "\n",
    "- FW tank level as % filling of the full capacity e.g. 47 % \n",
    "- Haarslev FW pump status same as others (20 FWD, 15 BWD, 0 Stop, -5 Fault or overcurrent). 20: pump runs full speed at 60 Hz.\n",
    "- 3-way valve is directing the FW-flow between 2 tanks"
   ]
  },
  {
   "cell_type": "code",
   "execution_count": null,
   "metadata": {},
   "outputs": [],
   "source": [
    "# Converts time string values into datetime value\n",
    "FWSflow1['calTime'] = pd.to_datetime(FWSflow1.TimeString, format = '%d.%m.%Y %H:%M:%S')"
   ]
  },
  {
   "cell_type": "code",
   "execution_count": null,
   "metadata": {},
   "outputs": [],
   "source": [
    "FWSflow1.dtypes"
   ]
  },
  {
   "cell_type": "code",
   "execution_count": null,
   "metadata": {},
   "outputs": [],
   "source": [
    "# Removes fault-status (-5)\n",
    "FWSflow1.VarValue.where(FWSflow1.VarValue > 0, 0, inplace=True)"
   ]
  },
  {
   "cell_type": "code",
   "execution_count": null,
   "metadata": {},
   "outputs": [],
   "source": [
    "FWSflow1.VarValue.value_counts()"
   ]
  },
  {
   "cell_type": "code",
   "execution_count": null,
   "metadata": {},
   "outputs": [],
   "source": [
    "# Code for if VarValue == 20 => flowrate = 0.1666 lmin"
   ]
  },
  {
   "cell_type": "code",
   "execution_count": null,
   "metadata": {},
   "outputs": [],
   "source": [
    "FWSflow1.head()"
   ]
  },
  {
   "cell_type": "code",
   "execution_count": null,
   "metadata": {},
   "outputs": [],
   "source": [
    "FWT2.head()"
   ]
  },
  {
   "cell_type": "code",
   "execution_count": null,
   "metadata": {},
   "outputs": [],
   "source": [
    "FWT2.any(0)"
   ]
  },
  {
   "cell_type": "code",
   "execution_count": null,
   "metadata": {},
   "outputs": [],
   "source": [
    "FWSflow2.head()"
   ]
  },
  {
   "cell_type": "code",
   "execution_count": null,
   "metadata": {},
   "outputs": [],
   "source": [
    "x = FWT1.loc[:, 'TimeString']"
   ]
  },
  {
   "cell_type": "code",
   "execution_count": null,
   "metadata": {},
   "outputs": [],
   "source": [
    "FWSflow1.plot()"
   ]
  },
  {
   "cell_type": "code",
   "execution_count": null,
   "metadata": {},
   "outputs": [],
   "source": [
    "FWSflow2.plot()"
   ]
  },
  {
   "cell_type": "markdown",
   "metadata": {},
   "source": [
    "## Division of the Food Waste flows \n",
    "\n",
    "The produced food waste is separated with a mesh in the tank into:\n",
    "\n",
    "1. Solid food waste (FW)\n",
    "\n",
    "2. Food waste water (FWW)\n",
    "\n",
    "### Food Waste solids (FW)\n",
    "\n",
    "FW is pumped with the Haarslew pump to the screen and further to the drier. As mentioned above, the variable value of 20 tells that the pump is producing with its capacity. The FW flow can be calculated directly from the data as: \n",
    "\n",
    "(flow capacity the pump (e.g. 2 kg / s)) / ( moment of first instance of VarValue 20 and moment of last instance of the VarValue 20)"
   ]
  },
  {
   "cell_type": "markdown",
   "metadata": {},
   "source": [
    "### Food Waste water (FWW)\n",
    "\n",
    "This data describes the flow of load in liquid form out of the waste system.\n",
    "\n",
    "tank water pump \n",
    "\n",
    "- 20 Forward\n",
    "- 15 Backward\n",
    "- 0 Stop\n",
    "- -5 Fault or overcurrent\n",
    "\n",
    "No Hz info presumably 60 Hz\n",
    "\n",
    "The FWW flow can be calculated directly from the data as: \n",
    "\n",
    "(flow capacity the pump (e.g. 20 kg / s)) / ( moment of first instance of VarValue 20 and moment of last instance of the VarValue 20)\n",
    "\n",
    "The carbon can be considered as direct CO2- and nutrient emmision to the environment. All the carbon in the FW water are converted into CO2.\n"
   ]
  },
  {
   "cell_type": "code",
   "execution_count": null,
   "metadata": {},
   "outputs": [],
   "source": [
    "FWW_flow = pd.read_csv('MunVene2/BORGEN_PUMP0.csv', delimiter=';')"
   ]
  },
  {
   "cell_type": "code",
   "execution_count": null,
   "metadata": {},
   "outputs": [],
   "source": [
    "FWW_flow.head(2000)"
   ]
  },
  {
   "cell_type": "code",
   "execution_count": null,
   "metadata": {},
   "outputs": [],
   "source": [
    "FWW_flow.tail()"
   ]
  },
  {
   "cell_type": "markdown",
   "metadata": {},
   "source": [
    "## Values for the Biosludge tank:\n",
    "\n",
    "- Biosludge mixing status: 0 = stop, 20 FWD, -5 Fail) \n",
    "- Biosludge tank level: as % filling of the full capacity e.g. 19 %"
   ]
  },
  {
   "cell_type": "code",
   "execution_count": null,
   "metadata": {},
   "outputs": [],
   "source": [
    "BWTankLevel = pd.read_csv('MunVene2/LEVEL_BIOSLUDGETANK0.csv', delimiter=';')"
   ]
  },
  {
   "cell_type": "code",
   "execution_count": null,
   "metadata": {},
   "outputs": [],
   "source": [
    "BWTankLevel.head()"
   ]
  },
  {
   "cell_type": "code",
   "execution_count": null,
   "metadata": {},
   "outputs": [],
   "source": [
    "BWTankLevel.tail()"
   ]
  },
  {
   "cell_type": "markdown",
   "metadata": {},
   "source": [
    "## Values for the Burners:\n",
    "\n",
    "- All temperatures in the main and sec chambers as Celsius degrees"
   ]
  },
  {
   "cell_type": "code",
   "execution_count": null,
   "metadata": {},
   "outputs": [],
   "source": [
    "Burner1 = pd.read_csv('MunVene2/BURNER_10.csv', delimiter=';')"
   ]
  },
  {
   "cell_type": "code",
   "execution_count": null,
   "metadata": {},
   "outputs": [],
   "source": [
    "Burner1.head()"
   ]
  },
  {
   "cell_type": "code",
   "execution_count": null,
   "metadata": {},
   "outputs": [],
   "source": [
    "Burner2 = pd.read_csv('MunVene2/BURNER_20.csv', delimiter=';')"
   ]
  },
  {
   "cell_type": "code",
   "execution_count": null,
   "metadata": {},
   "outputs": [],
   "source": [
    "Burner2.head()"
   ]
  },
  {
   "cell_type": "code",
   "execution_count": null,
   "metadata": {},
   "outputs": [],
   "source": [
    "Burner2.shape"
   ]
  },
  {
   "cell_type": "code",
   "execution_count": null,
   "metadata": {},
   "outputs": [],
   "source": [
    "Dryer0 = pd.read_csv('MunVene2/DRYER0.csv', delimiter=';')"
   ]
  },
  {
   "cell_type": "markdown",
   "metadata": {},
   "source": [
    "## Values for the Dryer:\n",
    "\n",
    "- Dryer mixer motor current as %, e.g. 50 %\n",
    "- Dryer temperature as Celcius degrees\n",
    "- Dryer pressure as mbar\n",
    "- Dryer filling weight as kgs"
   ]
  },
  {
   "cell_type": "code",
   "execution_count": null,
   "metadata": {},
   "outputs": [],
   "source": [
    "Dryer0.shape"
   ]
  },
  {
   "cell_type": "code",
   "execution_count": null,
   "metadata": {},
   "outputs": [],
   "source": [
    "Dryer0.head(20)"
   ]
  },
  {
   "cell_type": "code",
   "execution_count": null,
   "metadata": {},
   "outputs": [],
   "source": [
    "FluegasTemp0 = pd.read_csv('MunVene2/FLUEGAS0.csv', delimiter=';')"
   ]
  },
  {
   "cell_type": "markdown",
   "metadata": {},
   "source": [
    "## Values for the Flue gas:\n",
    "\n",
    "- Flue gas temperature as Celcius degrees.\n",
    "- Flue gas fan speed as Hz (or 1/10 Hz). Check!\n",
    "- Flue gas opacity as 0 to 100 %\n"
   ]
  },
  {
   "cell_type": "code",
   "execution_count": null,
   "metadata": {},
   "outputs": [],
   "source": [
    "FluegasTemp0.shape"
   ]
  },
  {
   "cell_type": "code",
   "execution_count": null,
   "metadata": {},
   "outputs": [],
   "source": [
    "FluegasTemp0.head()"
   ]
  },
  {
   "cell_type": "code",
   "execution_count": null,
   "metadata": {},
   "outputs": [],
   "source": [
    "FluegasFlow0 = pd.read_csv('MunVene2/ID_FAN0.csv', delimiter=';')"
   ]
  },
  {
   "cell_type": "code",
   "execution_count": null,
   "metadata": {},
   "outputs": [],
   "source": [
    "FluegasFlow0.head()"
   ]
  },
  {
   "cell_type": "code",
   "execution_count": null,
   "metadata": {},
   "outputs": [],
   "source": []
  }
 ],
 "metadata": {
  "kernelspec": {
   "display_name": "Python 3",
   "language": "python",
   "name": "python3"
  },
  "language_info": {
   "codemirror_mode": {
    "name": "ipython",
    "version": 3
   },
   "file_extension": ".py",
   "mimetype": "text/x-python",
   "name": "python",
   "nbconvert_exporter": "python",
   "pygments_lexer": "ipython3",
   "version": "3.7.1"
  }
 },
 "nbformat": 4,
 "nbformat_minor": 2
}
