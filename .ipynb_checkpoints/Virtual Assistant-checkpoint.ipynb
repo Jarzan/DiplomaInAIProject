{
 "cells": [
  {
   "cell_type": "markdown",
   "metadata": {},
   "source": [
    "# Aalto Pro/Diploma in Artificial Intelligence: Project work\n",
    "\n",
    "# Recommendating Virtual Assistant for Sustainable Waste Management Onboard Cruise Ship\n",
    "\n",
    "## Background\n",
    "\n",
    "In this work, a dataproduct will be produced by using data science tools and machine learning (ML) algorithms that would help a cruise ship operator to plan the future waste management operations by a most sustainable and feasible way. The project work is done by constructing the ML-product by using real shipboard operational data and external web sources. The purpose is to create ML-system that would give a decent picture and prediction of the best option for the operations.\n",
    "\n",
    "The main goal is to produce a tool and by no means aiming for a product that would give a comprehensive picture of the whole situation. The work is done with Jupyter Lab and by using Anaconda Python package management system, meaning thatthe coding part will be done on Python language.\n",
    "\n",
    "There are two aspects in this work: Sustainability and feasibility. Evac Oy supplies integrated cleantech solutions, including e.g. waste management systems, to all types of ships. The sustainability is the key value for all major cruise ship owners. Not only because of regulations and guidelines, but because of acceptability of the cruise business as a whole. The sustainability part will be done as a prediction by using mass balance of recyclable materials and carbon balance derived from the balance. In addition to sustainability, the operations should preferably be as economical as possible. This part would be covered by market price data of recyclable materials as well as the carbon price.\n",
    "\n",
    "### Goals and risks\n",
    "\n",
    "The goal is to study how to extract usable data from the existing sources, clean and explore the data so that a usable predictive ML models could be produced and trained with new and fresh data in the future from the IoT-system. If this goal is achieved, it may be worth of considering to apply and further develop the extent of the work to an usable data science product.\n",
    "\n",
    "The IoT-system that would be used for the purpose is installed and connected to our recent new-build cruise ship project. The risk is that the availability of the data may delay. In that case, we need to somehow \"construct\" the data based on our best knowledge. I am planning to parse a part of the data from the web. The other risk is that the data cannot be parsed and cleaned properly due to complexity into a usable form. Third risk here may be that the available relevant data may not be sufficient for training of the constructed ML model.\n",
    "\n",
    "### Data Perspective\n",
    "\n",
    "There are both internal and external data sources here that would be used. The internal data source would be a dry and wet waste production data. That would be derived on a daily basis from the ship IoT-system in form of CSV-files. One CSV file for the dry waste production and one for the wet waste production. The external data would be historical trends of market values of recycled materials and value of carbon in terms of greenhouse gas emission abatement.\n",
    "\n",
    "Concerning the data availability, I have already contacted the ship owner for the waste data. As mentioned, the raw data would be in form of CSV-files. Some data wrangling with Pandas is needed as well as calculations for the deriving the actual values. The challenge for the shipboard data is the timing of the availability. We are working on that matter. In terms of market value information, some data is already gained. However, I would like to automize this activity as a continuous retrieval of the information. That wouldupdate the output signal of the ML-model each time the data would be available. The challenge here may be to find a data source that would produce a single value. For this project work purpose, we may need to use the source that is fairl easily available.\n",
    "\n"
   ]
  },
  {
   "cell_type": "code",
   "execution_count": null,
   "metadata": {},
   "outputs": [],
   "source": []
  }
 ],
 "metadata": {
  "kernelspec": {
   "display_name": "Python 3",
   "language": "python",
   "name": "python3"
  },
  "language_info": {
   "codemirror_mode": {
    "name": "ipython",
    "version": 3
   },
   "file_extension": ".py",
   "mimetype": "text/x-python",
   "name": "python",
   "nbconvert_exporter": "python",
   "pygments_lexer": "ipython3",
   "version": "3.6.6"
  }
 },
 "nbformat": 4,
 "nbformat_minor": 2
}
