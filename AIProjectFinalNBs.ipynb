{
 "cells": [
  {
   "cell_type": "markdown",
   "metadata": {},
   "source": [
    "# Aalto Pro/Diploma in Artificial Intelligence: Project work"
   ]
  },
  {
   "cell_type": "markdown",
   "metadata": {},
   "source": [
    "## APPENDIX 1: Code of the project."
   ]
  },
  {
   "cell_type": "code",
   "execution_count": 105,
   "metadata": {},
   "outputs": [],
   "source": [
    "import numpy as np\n",
    "import pandas as pd\n",
    "import matplotlib.pyplot as plt\n",
    "import seaborn as sns"
   ]
  },
  {
   "cell_type": "markdown",
   "metadata": {},
   "source": [
    "or:"
   ]
  },
  {
   "cell_type": "code",
   "execution_count": 106,
   "metadata": {},
   "outputs": [],
   "source": [
    "%matplotlib inline"
   ]
  },
  {
   "cell_type": "code",
   "execution_count": 107,
   "metadata": {},
   "outputs": [],
   "source": [
    "def LoadData(filename):# FILENAME ON INPUT-PARAMETRINÄ LOADDATA-FUNKTIOLLE. FILENAME ANNETAAN SIIS FUNKTIOTA KÄYTETTÄESSÄ.\n",
    "    \"\"\"\n",
    "    Load the csv reading the file with the filename given as a parameter.\n",
    "    Print the sample size m and the feature length n.\n",
    "\n",
    "    :input: String path to the file\n",
    "\n",
    "    :return: pandas dataframe of shape=(m, n, ty), the sample size m and the feature length n \n",
    "    and the data type ty. In this case no conversion to Numpy array    \n",
    "    \"\"\"\n",
    "\n",
    "    df = pd.read_csv(filename, delimiter=';')\n",
    "    #X = df.values # convert the data frame to numpy array\n",
    "    n = df.shape[1]        # second element of \"dimension\" is the number of cols\n",
    "    m = df.shape[0]        # first element of dimension is the number of rows\n",
    "    ty = type(df)\n",
    "    print('sample size m=',m)\n",
    "    print('feature length n=',n)\n",
    "    print('the data type is', ty)\n",
    "    return df, m, n, ty"
   ]
  },
  {
   "cell_type": "code",
   "execution_count": 108,
   "metadata": {},
   "outputs": [
    {
     "name": "stdout",
     "output_type": "stream",
     "text": [
      "sample size m= 402860\n",
      "feature length n= 5\n",
      "the data type is <class 'pandas.core.frame.DataFrame'>\n"
     ]
    }
   ],
   "source": [
    "FWAsource, m, n, ty, = LoadData('MS6/LEVEL_TANK_A0.csv')"
   ]
  },
  {
   "cell_type": "code",
   "execution_count": 109,
   "metadata": {},
   "outputs": [
    {
     "data": {
      "text/html": [
       "<div>\n",
       "<style scoped>\n",
       "    .dataframe tbody tr th:only-of-type {\n",
       "        vertical-align: middle;\n",
       "    }\n",
       "\n",
       "    .dataframe tbody tr th {\n",
       "        vertical-align: top;\n",
       "    }\n",
       "\n",
       "    .dataframe thead th {\n",
       "        text-align: right;\n",
       "    }\n",
       "</style>\n",
       "<table border=\"1\" class=\"dataframe\">\n",
       "  <thead>\n",
       "    <tr style=\"text-align: right;\">\n",
       "      <th></th>\n",
       "      <th>VarName</th>\n",
       "      <th>TimeString</th>\n",
       "      <th>VarValue</th>\n",
       "      <th>Validity</th>\n",
       "      <th>Time_ms</th>\n",
       "    </tr>\n",
       "  </thead>\n",
       "  <tbody>\n",
       "    <tr>\n",
       "      <th>0</th>\n",
       "      <td>FOODWASTE_TANK_A_LEVEL_TREND</td>\n",
       "      <td>25.02.2018 16:07:23</td>\n",
       "      <td>47</td>\n",
       "      <td>1</td>\n",
       "      <td>43156671788,5185</td>\n",
       "    </tr>\n",
       "    <tr>\n",
       "      <th>1</th>\n",
       "      <td>HARSLEV_PUMP_1_1PM_1_STATUS</td>\n",
       "      <td>25.02.2018 16:07:25</td>\n",
       "      <td>20</td>\n",
       "      <td>1</td>\n",
       "      <td>43156671811,9097</td>\n",
       "    </tr>\n",
       "    <tr>\n",
       "      <th>2</th>\n",
       "      <td>THREEWAY_VALVE_1_1PV4_STATUS</td>\n",
       "      <td>25.02.2018 16:07:25</td>\n",
       "      <td>5</td>\n",
       "      <td>1</td>\n",
       "      <td>43156671811,9097</td>\n",
       "    </tr>\n",
       "    <tr>\n",
       "      <th>3</th>\n",
       "      <td>HARSLEV_PUMP_1_1PM_1_STATUS</td>\n",
       "      <td>25.02.2018 16:07:27</td>\n",
       "      <td>20</td>\n",
       "      <td>1</td>\n",
       "      <td>43156671835,2894</td>\n",
       "    </tr>\n",
       "    <tr>\n",
       "      <th>4</th>\n",
       "      <td>THREEWAY_VALVE_1_1PV4_STATUS</td>\n",
       "      <td>25.02.2018 16:07:27</td>\n",
       "      <td>5</td>\n",
       "      <td>1</td>\n",
       "      <td>43156671835,2894</td>\n",
       "    </tr>\n",
       "  </tbody>\n",
       "</table>\n",
       "</div>"
      ],
      "text/plain": [
       "                        VarName           TimeString  VarValue  Validity  \\\n",
       "0  FOODWASTE_TANK_A_LEVEL_TREND  25.02.2018 16:07:23        47         1   \n",
       "1   HARSLEV_PUMP_1_1PM_1_STATUS  25.02.2018 16:07:25        20         1   \n",
       "2  THREEWAY_VALVE_1_1PV4_STATUS  25.02.2018 16:07:25         5         1   \n",
       "3   HARSLEV_PUMP_1_1PM_1_STATUS  25.02.2018 16:07:27        20         1   \n",
       "4  THREEWAY_VALVE_1_1PV4_STATUS  25.02.2018 16:07:27         5         1   \n",
       "\n",
       "            Time_ms  \n",
       "0  43156671788,5185  \n",
       "1  43156671811,9097  \n",
       "2  43156671811,9097  \n",
       "3  43156671835,2894  \n",
       "4  43156671835,2894  "
      ]
     },
     "execution_count": 109,
     "metadata": {},
     "output_type": "execute_result"
    }
   ],
   "source": [
    "FWAsource.head()"
   ]
  },
  {
   "cell_type": "code",
   "execution_count": 110,
   "metadata": {},
   "outputs": [
    {
     "name": "stdout",
     "output_type": "stream",
     "text": [
      "sample size m= 402860\n",
      "feature length n= 5\n",
      "the data type is <class 'pandas.core.frame.DataFrame'>\n"
     ]
    }
   ],
   "source": [
    "FWBsource, m, n, ty, = LoadData('MS6/LEVEL_TANK_B0.csv')"
   ]
  },
  {
   "cell_type": "code",
   "execution_count": 111,
   "metadata": {},
   "outputs": [
    {
     "data": {
      "text/html": [
       "<div>\n",
       "<style scoped>\n",
       "    .dataframe tbody tr th:only-of-type {\n",
       "        vertical-align: middle;\n",
       "    }\n",
       "\n",
       "    .dataframe tbody tr th {\n",
       "        vertical-align: top;\n",
       "    }\n",
       "\n",
       "    .dataframe thead th {\n",
       "        text-align: right;\n",
       "    }\n",
       "</style>\n",
       "<table border=\"1\" class=\"dataframe\">\n",
       "  <thead>\n",
       "    <tr style=\"text-align: right;\">\n",
       "      <th></th>\n",
       "      <th>VarName</th>\n",
       "      <th>TimeString</th>\n",
       "      <th>VarValue</th>\n",
       "      <th>Validity</th>\n",
       "      <th>Time_ms</th>\n",
       "    </tr>\n",
       "  </thead>\n",
       "  <tbody>\n",
       "    <tr>\n",
       "      <th>402855</th>\n",
       "      <td>HARSLEV_PUMP_1_2PM_1_STATUS</td>\n",
       "      <td>01.03.2018 14:19:30</td>\n",
       "      <td>20</td>\n",
       "      <td>1</td>\n",
       "      <td>43160596875,2315</td>\n",
       "    </tr>\n",
       "    <tr>\n",
       "      <th>402856</th>\n",
       "      <td>THREEWAY_VALVE_1_2PV4_STATUS</td>\n",
       "      <td>01.03.2018 14:19:30</td>\n",
       "      <td>5</td>\n",
       "      <td>1</td>\n",
       "      <td>43160596875,2315</td>\n",
       "    </tr>\n",
       "    <tr>\n",
       "      <th>402857</th>\n",
       "      <td>FOODWASTE_TANK_B_LEVEL_TREND</td>\n",
       "      <td>01.03.2018 14:19:31</td>\n",
       "      <td>21</td>\n",
       "      <td>1</td>\n",
       "      <td>43160596886,9329</td>\n",
       "    </tr>\n",
       "    <tr>\n",
       "      <th>402858</th>\n",
       "      <td>HARSLEV_PUMP_1_2PM_1_STATUS</td>\n",
       "      <td>01.03.2018 14:19:32</td>\n",
       "      <td>20</td>\n",
       "      <td>1</td>\n",
       "      <td>43160596898,6343</td>\n",
       "    </tr>\n",
       "    <tr>\n",
       "      <th>402859</th>\n",
       "      <td>THREEWAY_VALVE_1_2PV4_STATUS</td>\n",
       "      <td>01.03.2018 14:19:32</td>\n",
       "      <td>5</td>\n",
       "      <td>1</td>\n",
       "      <td>43160596898,6343</td>\n",
       "    </tr>\n",
       "  </tbody>\n",
       "</table>\n",
       "</div>"
      ],
      "text/plain": [
       "                             VarName           TimeString  VarValue  Validity  \\\n",
       "402855   HARSLEV_PUMP_1_2PM_1_STATUS  01.03.2018 14:19:30        20         1   \n",
       "402856  THREEWAY_VALVE_1_2PV4_STATUS  01.03.2018 14:19:30         5         1   \n",
       "402857  FOODWASTE_TANK_B_LEVEL_TREND  01.03.2018 14:19:31        21         1   \n",
       "402858   HARSLEV_PUMP_1_2PM_1_STATUS  01.03.2018 14:19:32        20         1   \n",
       "402859  THREEWAY_VALVE_1_2PV4_STATUS  01.03.2018 14:19:32         5         1   \n",
       "\n",
       "                 Time_ms  \n",
       "402855  43160596875,2315  \n",
       "402856  43160596875,2315  \n",
       "402857  43160596886,9329  \n",
       "402858  43160596898,6343  \n",
       "402859  43160596898,6343  "
      ]
     },
     "execution_count": 111,
     "metadata": {},
     "output_type": "execute_result"
    }
   ],
   "source": [
    "FWBsource.tail()"
   ]
  },
  {
   "cell_type": "code",
   "execution_count": 112,
   "metadata": {},
   "outputs": [
    {
     "name": "stdout",
     "output_type": "stream",
     "text": [
      "sample size m= 400952\n",
      "feature length n= 5\n",
      "the data type is <class 'pandas.core.frame.DataFrame'>\n"
     ]
    }
   ],
   "source": [
    "BWsource, m, n, ty, = LoadData('MS6/LEVEL_BIOSLUDGETANK0.csv')"
   ]
  },
  {
   "cell_type": "code",
   "execution_count": 113,
   "metadata": {},
   "outputs": [
    {
     "data": {
      "text/html": [
       "<div>\n",
       "<style scoped>\n",
       "    .dataframe tbody tr th:only-of-type {\n",
       "        vertical-align: middle;\n",
       "    }\n",
       "\n",
       "    .dataframe tbody tr th {\n",
       "        vertical-align: top;\n",
       "    }\n",
       "\n",
       "    .dataframe thead th {\n",
       "        text-align: right;\n",
       "    }\n",
       "</style>\n",
       "<table border=\"1\" class=\"dataframe\">\n",
       "  <thead>\n",
       "    <tr style=\"text-align: right;\">\n",
       "      <th></th>\n",
       "      <th>VarName</th>\n",
       "      <th>TimeString</th>\n",
       "      <th>VarValue</th>\n",
       "      <th>Validity</th>\n",
       "      <th>Time_ms</th>\n",
       "    </tr>\n",
       "  </thead>\n",
       "  <tbody>\n",
       "    <tr>\n",
       "      <th>0</th>\n",
       "      <td>BIO_SLUDGE_MIXING_STATUS</td>\n",
       "      <td>17.02.2018 21:03:26</td>\n",
       "      <td>0</td>\n",
       "      <td>1</td>\n",
       "      <td>43148877388,0556</td>\n",
       "    </tr>\n",
       "    <tr>\n",
       "      <th>1</th>\n",
       "      <td>BIO_SLUDGE_TANK_LEVEL_TREND</td>\n",
       "      <td>17.02.2018 21:03:26</td>\n",
       "      <td>19</td>\n",
       "      <td>1</td>\n",
       "      <td>43148877388,0556</td>\n",
       "    </tr>\n",
       "    <tr>\n",
       "      <th>2</th>\n",
       "      <td>BIO_SLUDGE_MIXING_STATUS</td>\n",
       "      <td>17.02.2018 21:03:31</td>\n",
       "      <td>0</td>\n",
       "      <td>1</td>\n",
       "      <td>43148877446,5162</td>\n",
       "    </tr>\n",
       "    <tr>\n",
       "      <th>3</th>\n",
       "      <td>BIO_SLUDGE_TANK_LEVEL_TREND</td>\n",
       "      <td>17.02.2018 21:03:31</td>\n",
       "      <td>19</td>\n",
       "      <td>1</td>\n",
       "      <td>43148877446,5162</td>\n",
       "    </tr>\n",
       "    <tr>\n",
       "      <th>4</th>\n",
       "      <td>BIO_SLUDGE_MIXING_STATUS</td>\n",
       "      <td>17.02.2018 21:03:36</td>\n",
       "      <td>0</td>\n",
       "      <td>1</td>\n",
       "      <td>43148877505</td>\n",
       "    </tr>\n",
       "  </tbody>\n",
       "</table>\n",
       "</div>"
      ],
      "text/plain": [
       "                       VarName           TimeString  VarValue  Validity  \\\n",
       "0     BIO_SLUDGE_MIXING_STATUS  17.02.2018 21:03:26         0         1   \n",
       "1  BIO_SLUDGE_TANK_LEVEL_TREND  17.02.2018 21:03:26        19         1   \n",
       "2     BIO_SLUDGE_MIXING_STATUS  17.02.2018 21:03:31         0         1   \n",
       "3  BIO_SLUDGE_TANK_LEVEL_TREND  17.02.2018 21:03:31        19         1   \n",
       "4     BIO_SLUDGE_MIXING_STATUS  17.02.2018 21:03:36         0         1   \n",
       "\n",
       "            Time_ms  \n",
       "0  43148877388,0556  \n",
       "1  43148877388,0556  \n",
       "2  43148877446,5162  \n",
       "3  43148877446,5162  \n",
       "4       43148877505  "
      ]
     },
     "execution_count": 113,
     "metadata": {},
     "output_type": "execute_result"
    }
   ],
   "source": [
    "BWsource.head()"
   ]
  },
  {
   "cell_type": "code",
   "execution_count": 114,
   "metadata": {},
   "outputs": [
    {
     "name": "stdout",
     "output_type": "stream",
     "text": [
      "sample size m= 500000\n",
      "feature length n= 5\n",
      "the data type is <class 'pandas.core.frame.DataFrame'>\n"
     ]
    }
   ],
   "source": [
    "DWsource, m, n, ty, = LoadData('MS6/Inc_1_datalog_functions0.csv')"
   ]
  },
  {
   "cell_type": "code",
   "execution_count": 115,
   "metadata": {},
   "outputs": [
    {
     "data": {
      "text/html": [
       "<div>\n",
       "<style scoped>\n",
       "    .dataframe tbody tr th:only-of-type {\n",
       "        vertical-align: middle;\n",
       "    }\n",
       "\n",
       "    .dataframe tbody tr th {\n",
       "        vertical-align: top;\n",
       "    }\n",
       "\n",
       "    .dataframe thead th {\n",
       "        text-align: right;\n",
       "    }\n",
       "</style>\n",
       "<table border=\"1\" class=\"dataframe\">\n",
       "  <thead>\n",
       "    <tr style=\"text-align: right;\">\n",
       "      <th></th>\n",
       "      <th>VarName</th>\n",
       "      <th>TimeString</th>\n",
       "      <th>VarValue</th>\n",
       "      <th>Validity</th>\n",
       "      <th>Time_ms</th>\n",
       "    </tr>\n",
       "  </thead>\n",
       "  <tbody>\n",
       "    <tr>\n",
       "      <th>0</th>\n",
       "      <td>inc_1_primary_burner_status</td>\n",
       "      <td>17.02.2018 21:03:15</td>\n",
       "      <td>0</td>\n",
       "      <td>1</td>\n",
       "      <td>43148877259,4097</td>\n",
       "    </tr>\n",
       "    <tr>\n",
       "      <th>1</th>\n",
       "      <td>inc_1_secondary_burner_status</td>\n",
       "      <td>17.02.2018 21:03:15</td>\n",
       "      <td>-20</td>\n",
       "      <td>1</td>\n",
       "      <td>43148877259,4097</td>\n",
       "    </tr>\n",
       "    <tr>\n",
       "      <th>2</th>\n",
       "      <td>inc_1_lower_feeding_gate_status</td>\n",
       "      <td>17.02.2018 21:03:15</td>\n",
       "      <td>-10</td>\n",
       "      <td>1</td>\n",
       "      <td>43148877259,4097</td>\n",
       "    </tr>\n",
       "    <tr>\n",
       "      <th>3</th>\n",
       "      <td>inc_1_medical_flap_status</td>\n",
       "      <td>17.02.2018 21:03:15</td>\n",
       "      <td>-5</td>\n",
       "      <td>1</td>\n",
       "      <td>43148877259,4097</td>\n",
       "    </tr>\n",
       "    <tr>\n",
       "      <th>4</th>\n",
       "      <td>inc_1_primary_burner_status</td>\n",
       "      <td>17.02.2018 21:03:16</td>\n",
       "      <td>0</td>\n",
       "      <td>1</td>\n",
       "      <td>43148877271,0995</td>\n",
       "    </tr>\n",
       "  </tbody>\n",
       "</table>\n",
       "</div>"
      ],
      "text/plain": [
       "                           VarName           TimeString  VarValue  Validity  \\\n",
       "0      inc_1_primary_burner_status  17.02.2018 21:03:15         0         1   \n",
       "1    inc_1_secondary_burner_status  17.02.2018 21:03:15       -20         1   \n",
       "2  inc_1_lower_feeding_gate_status  17.02.2018 21:03:15       -10         1   \n",
       "3        inc_1_medical_flap_status  17.02.2018 21:03:15        -5         1   \n",
       "4      inc_1_primary_burner_status  17.02.2018 21:03:16         0         1   \n",
       "\n",
       "            Time_ms  \n",
       "0  43148877259,4097  \n",
       "1  43148877259,4097  \n",
       "2  43148877259,4097  \n",
       "3  43148877259,4097  \n",
       "4  43148877271,0995  "
      ]
     },
     "execution_count": 115,
     "metadata": {},
     "output_type": "execute_result"
    }
   ],
   "source": [
    "DWsource.head() # Contains waste burning data. Not useable for waste flow prediction."
   ]
  },
  {
   "cell_type": "code",
   "execution_count": 120,
   "metadata": {},
   "outputs": [
    {
     "name": "stdout",
     "output_type": "stream",
     "text": [
      "Index(['VarName', 'TimeString', 'VarValue', 'Validity', 'Time_ms'], dtype='object')\n",
      "<class 'pandas.core.frame.DataFrame'>\n",
      "RangeIndex: 500000 entries, 0 to 499999\n",
      "Data columns (total 5 columns):\n",
      "VarName       500000 non-null object\n",
      "TimeString    500000 non-null object\n",
      "VarValue      500000 non-null int64\n",
      "Validity      500000 non-null int64\n",
      "Time_ms       500000 non-null object\n",
      "dtypes: int64(2), object(3)\n",
      "memory usage: 19.1+ MB\n",
      "None\n"
     ]
    }
   ],
   "source": [
    "# A test print of data types\n",
    "print(DWsource.columns)\n",
    "print(DWsource.info())"
   ]
  },
  {
   "cell_type": "code",
   "execution_count": 116,
   "metadata": {},
   "outputs": [
    {
     "name": "stdout",
     "output_type": "stream",
     "text": [
      "sample size m= 500000\n",
      "feature length n= 5\n",
      "the data type is <class 'pandas.core.frame.DataFrame'>\n"
     ]
    }
   ],
   "source": [
    "IncVar, m, n, ty, = LoadData('MS6/Inc_1_datalog_var1.csv')"
   ]
  },
  {
   "cell_type": "code",
   "execution_count": 117,
   "metadata": {},
   "outputs": [
    {
     "data": {
      "text/html": [
       "<div>\n",
       "<style scoped>\n",
       "    .dataframe tbody tr th:only-of-type {\n",
       "        vertical-align: middle;\n",
       "    }\n",
       "\n",
       "    .dataframe tbody tr th {\n",
       "        vertical-align: top;\n",
       "    }\n",
       "\n",
       "    .dataframe thead th {\n",
       "        text-align: right;\n",
       "    }\n",
       "</style>\n",
       "<table border=\"1\" class=\"dataframe\">\n",
       "  <thead>\n",
       "    <tr style=\"text-align: right;\">\n",
       "      <th></th>\n",
       "      <th>VarName</th>\n",
       "      <th>TimeString</th>\n",
       "      <th>VarValue</th>\n",
       "      <th>Validity</th>\n",
       "      <th>Time_ms</th>\n",
       "    </tr>\n",
       "  </thead>\n",
       "  <tbody>\n",
       "    <tr>\n",
       "      <th>0</th>\n",
       "      <td>inc_1_primary_chamber_temperature</td>\n",
       "      <td>07.01.2018 22:57:15</td>\n",
       "      <td>930</td>\n",
       "      <td>1</td>\n",
       "      <td>43107956427,9745</td>\n",
       "    </tr>\n",
       "    <tr>\n",
       "      <th>1</th>\n",
       "      <td>inc_1_secondary_chamber_temperature</td>\n",
       "      <td>07.01.2018 22:57:15</td>\n",
       "      <td>856</td>\n",
       "      <td>1</td>\n",
       "      <td>43107956427,9861</td>\n",
       "    </tr>\n",
       "    <tr>\n",
       "      <th>2</th>\n",
       "      <td>inc_1_fluegas_temperature</td>\n",
       "      <td>07.01.2018 22:57:15</td>\n",
       "      <td>222</td>\n",
       "      <td>1</td>\n",
       "      <td>43107956427,9861</td>\n",
       "    </tr>\n",
       "    <tr>\n",
       "      <th>3</th>\n",
       "      <td>inc_1_underpressure</td>\n",
       "      <td>07.01.2018 22:57:15</td>\n",
       "      <td>20</td>\n",
       "      <td>1</td>\n",
       "      <td>43107956427,9861</td>\n",
       "    </tr>\n",
       "    <tr>\n",
       "      <th>4</th>\n",
       "      <td>inc_1_primary_chamber_temperature</td>\n",
       "      <td>07.01.2018 22:57:20</td>\n",
       "      <td>931</td>\n",
       "      <td>1</td>\n",
       "      <td>43107956486,4583</td>\n",
       "    </tr>\n",
       "  </tbody>\n",
       "</table>\n",
       "</div>"
      ],
      "text/plain": [
       "                               VarName           TimeString  VarValue  \\\n",
       "0    inc_1_primary_chamber_temperature  07.01.2018 22:57:15       930   \n",
       "1  inc_1_secondary_chamber_temperature  07.01.2018 22:57:15       856   \n",
       "2            inc_1_fluegas_temperature  07.01.2018 22:57:15       222   \n",
       "3                  inc_1_underpressure  07.01.2018 22:57:15        20   \n",
       "4    inc_1_primary_chamber_temperature  07.01.2018 22:57:20       931   \n",
       "\n",
       "   Validity           Time_ms  \n",
       "0         1  43107956427,9745  \n",
       "1         1  43107956427,9861  \n",
       "2         1  43107956427,9861  \n",
       "3         1  43107956427,9861  \n",
       "4         1  43107956486,4583  "
      ]
     },
     "execution_count": 117,
     "metadata": {},
     "output_type": "execute_result"
    }
   ],
   "source": [
    "IncVar.head() # Contains waste burning data. Not useable for waste flow prediction."
   ]
  },
  {
   "cell_type": "code",
   "execution_count": 121,
   "metadata": {},
   "outputs": [],
   "source": [
    "def Datetime(df):\n",
    "    \"\"\"\n",
    "    Converts the str-type TimeString into more useful Pandas DateTime form.\n",
    "    \n",
    "    Prints the head of the DataFrame after conversion and the data type of the DateTime column.\n",
    "\n",
    "    :input: Name of the dataframe and the TimeString column of the DF in question.\n",
    "\n",
    "    :return: pandas dataframe with the DateTime and its data type.    \n",
    "    \"\"\"\n",
    "\n",
    "    df['DateTime'] = pd.to_datetime(df.TimeString, format = '%d.%m.%Y %H:%M:%S')\n",
    "    dty = type(df.DateTime)    # Returns datatype\n",
    "    print(df.head())\n",
    "    print('The time data type is now: ',dty)\n",
    "    return df, dty"
   ]
  },
  {
   "cell_type": "code",
   "execution_count": null,
   "metadata": {},
   "outputs": [],
   "source": [
    "Datetime(DWsource)"
   ]
  },
  {
   "cell_type": "code",
   "execution_count": null,
   "metadata": {},
   "outputs": [],
   "source": [
    "Datetime(BWsource)"
   ]
  },
  {
   "cell_type": "code",
   "execution_count": null,
   "metadata": {},
   "outputs": [],
   "source": [
    "Datetime(FWAsource)"
   ]
  },
  {
   "cell_type": "code",
   "execution_count": null,
   "metadata": {},
   "outputs": [],
   "source": [
    "Datetime(FWBsource)"
   ]
  },
  {
   "cell_type": "markdown",
   "metadata": {},
   "source": [
    "### Check that the DateTime-column is produced by the function:"
   ]
  },
  {
   "cell_type": "code",
   "execution_count": 130,
   "metadata": {},
   "outputs": [
    {
     "data": {
      "text/html": [
       "<div>\n",
       "<style scoped>\n",
       "    .dataframe tbody tr th:only-of-type {\n",
       "        vertical-align: middle;\n",
       "    }\n",
       "\n",
       "    .dataframe tbody tr th {\n",
       "        vertical-align: top;\n",
       "    }\n",
       "\n",
       "    .dataframe thead th {\n",
       "        text-align: right;\n",
       "    }\n",
       "</style>\n",
       "<table border=\"1\" class=\"dataframe\">\n",
       "  <thead>\n",
       "    <tr style=\"text-align: right;\">\n",
       "      <th></th>\n",
       "      <th>VarName</th>\n",
       "      <th>TimeString</th>\n",
       "      <th>VarValue</th>\n",
       "      <th>Validity</th>\n",
       "      <th>Time_ms</th>\n",
       "      <th>DateTime</th>\n",
       "    </tr>\n",
       "  </thead>\n",
       "  <tbody>\n",
       "    <tr>\n",
       "      <th>0</th>\n",
       "      <td>inc_1_primary_burner_status</td>\n",
       "      <td>17.02.2018 21:03:15</td>\n",
       "      <td>0</td>\n",
       "      <td>1</td>\n",
       "      <td>43148877259,4097</td>\n",
       "      <td>2018-02-17 21:03:15</td>\n",
       "    </tr>\n",
       "    <tr>\n",
       "      <th>1</th>\n",
       "      <td>inc_1_secondary_burner_status</td>\n",
       "      <td>17.02.2018 21:03:15</td>\n",
       "      <td>-20</td>\n",
       "      <td>1</td>\n",
       "      <td>43148877259,4097</td>\n",
       "      <td>2018-02-17 21:03:15</td>\n",
       "    </tr>\n",
       "    <tr>\n",
       "      <th>2</th>\n",
       "      <td>inc_1_lower_feeding_gate_status</td>\n",
       "      <td>17.02.2018 21:03:15</td>\n",
       "      <td>-10</td>\n",
       "      <td>1</td>\n",
       "      <td>43148877259,4097</td>\n",
       "      <td>2018-02-17 21:03:15</td>\n",
       "    </tr>\n",
       "    <tr>\n",
       "      <th>3</th>\n",
       "      <td>inc_1_medical_flap_status</td>\n",
       "      <td>17.02.2018 21:03:15</td>\n",
       "      <td>-5</td>\n",
       "      <td>1</td>\n",
       "      <td>43148877259,4097</td>\n",
       "      <td>2018-02-17 21:03:15</td>\n",
       "    </tr>\n",
       "    <tr>\n",
       "      <th>4</th>\n",
       "      <td>inc_1_primary_burner_status</td>\n",
       "      <td>17.02.2018 21:03:16</td>\n",
       "      <td>0</td>\n",
       "      <td>1</td>\n",
       "      <td>43148877271,0995</td>\n",
       "      <td>2018-02-17 21:03:16</td>\n",
       "    </tr>\n",
       "  </tbody>\n",
       "</table>\n",
       "</div>"
      ],
      "text/plain": [
       "                           VarName           TimeString  VarValue  Validity  \\\n",
       "0      inc_1_primary_burner_status  17.02.2018 21:03:15         0         1   \n",
       "1    inc_1_secondary_burner_status  17.02.2018 21:03:15       -20         1   \n",
       "2  inc_1_lower_feeding_gate_status  17.02.2018 21:03:15       -10         1   \n",
       "3        inc_1_medical_flap_status  17.02.2018 21:03:15        -5         1   \n",
       "4      inc_1_primary_burner_status  17.02.2018 21:03:16         0         1   \n",
       "\n",
       "            Time_ms            DateTime  \n",
       "0  43148877259,4097 2018-02-17 21:03:15  \n",
       "1  43148877259,4097 2018-02-17 21:03:15  \n",
       "2  43148877259,4097 2018-02-17 21:03:15  \n",
       "3  43148877259,4097 2018-02-17 21:03:15  \n",
       "4  43148877271,0995 2018-02-17 21:03:16  "
      ]
     },
     "execution_count": 130,
     "metadata": {},
     "output_type": "execute_result"
    }
   ],
   "source": [
    "DWsource.head()"
   ]
  },
  {
   "cell_type": "code",
   "execution_count": 133,
   "metadata": {},
   "outputs": [
    {
     "data": {
      "text/html": [
       "<div>\n",
       "<style scoped>\n",
       "    .dataframe tbody tr th:only-of-type {\n",
       "        vertical-align: middle;\n",
       "    }\n",
       "\n",
       "    .dataframe tbody tr th {\n",
       "        vertical-align: top;\n",
       "    }\n",
       "\n",
       "    .dataframe thead th {\n",
       "        text-align: right;\n",
       "    }\n",
       "</style>\n",
       "<table border=\"1\" class=\"dataframe\">\n",
       "  <thead>\n",
       "    <tr style=\"text-align: right;\">\n",
       "      <th></th>\n",
       "      <th>VarName</th>\n",
       "      <th>TimeString</th>\n",
       "      <th>VarValue</th>\n",
       "      <th>Validity</th>\n",
       "      <th>Time_ms</th>\n",
       "      <th>DateTime</th>\n",
       "    </tr>\n",
       "  </thead>\n",
       "  <tbody>\n",
       "    <tr>\n",
       "      <th>0</th>\n",
       "      <td>FOODWASTE_TANK_A_LEVEL_TREND</td>\n",
       "      <td>25.02.2018 16:07:23</td>\n",
       "      <td>47</td>\n",
       "      <td>1</td>\n",
       "      <td>43156671788,5185</td>\n",
       "      <td>2018-02-25 16:07:23</td>\n",
       "    </tr>\n",
       "    <tr>\n",
       "      <th>1</th>\n",
       "      <td>HARSLEV_PUMP_1_1PM_1_STATUS</td>\n",
       "      <td>25.02.2018 16:07:25</td>\n",
       "      <td>20</td>\n",
       "      <td>1</td>\n",
       "      <td>43156671811,9097</td>\n",
       "      <td>2018-02-25 16:07:25</td>\n",
       "    </tr>\n",
       "    <tr>\n",
       "      <th>2</th>\n",
       "      <td>THREEWAY_VALVE_1_1PV4_STATUS</td>\n",
       "      <td>25.02.2018 16:07:25</td>\n",
       "      <td>5</td>\n",
       "      <td>1</td>\n",
       "      <td>43156671811,9097</td>\n",
       "      <td>2018-02-25 16:07:25</td>\n",
       "    </tr>\n",
       "    <tr>\n",
       "      <th>3</th>\n",
       "      <td>HARSLEV_PUMP_1_1PM_1_STATUS</td>\n",
       "      <td>25.02.2018 16:07:27</td>\n",
       "      <td>20</td>\n",
       "      <td>1</td>\n",
       "      <td>43156671835,2894</td>\n",
       "      <td>2018-02-25 16:07:27</td>\n",
       "    </tr>\n",
       "    <tr>\n",
       "      <th>4</th>\n",
       "      <td>THREEWAY_VALVE_1_1PV4_STATUS</td>\n",
       "      <td>25.02.2018 16:07:27</td>\n",
       "      <td>5</td>\n",
       "      <td>1</td>\n",
       "      <td>43156671835,2894</td>\n",
       "      <td>2018-02-25 16:07:27</td>\n",
       "    </tr>\n",
       "  </tbody>\n",
       "</table>\n",
       "</div>"
      ],
      "text/plain": [
       "                        VarName           TimeString  VarValue  Validity  \\\n",
       "0  FOODWASTE_TANK_A_LEVEL_TREND  25.02.2018 16:07:23        47         1   \n",
       "1   HARSLEV_PUMP_1_1PM_1_STATUS  25.02.2018 16:07:25        20         1   \n",
       "2  THREEWAY_VALVE_1_1PV4_STATUS  25.02.2018 16:07:25         5         1   \n",
       "3   HARSLEV_PUMP_1_1PM_1_STATUS  25.02.2018 16:07:27        20         1   \n",
       "4  THREEWAY_VALVE_1_1PV4_STATUS  25.02.2018 16:07:27         5         1   \n",
       "\n",
       "            Time_ms            DateTime  \n",
       "0  43156671788,5185 2018-02-25 16:07:23  \n",
       "1  43156671811,9097 2018-02-25 16:07:25  \n",
       "2  43156671811,9097 2018-02-25 16:07:25  \n",
       "3  43156671835,2894 2018-02-25 16:07:27  \n",
       "4  43156671835,2894 2018-02-25 16:07:27  "
      ]
     },
     "execution_count": 133,
     "metadata": {},
     "output_type": "execute_result"
    }
   ],
   "source": [
    "FWAsource.head()"
   ]
  },
  {
   "cell_type": "code",
   "execution_count": 135,
   "metadata": {},
   "outputs": [
    {
     "data": {
      "text/html": [
       "<div>\n",
       "<style scoped>\n",
       "    .dataframe tbody tr th:only-of-type {\n",
       "        vertical-align: middle;\n",
       "    }\n",
       "\n",
       "    .dataframe tbody tr th {\n",
       "        vertical-align: top;\n",
       "    }\n",
       "\n",
       "    .dataframe thead th {\n",
       "        text-align: right;\n",
       "    }\n",
       "</style>\n",
       "<table border=\"1\" class=\"dataframe\">\n",
       "  <thead>\n",
       "    <tr style=\"text-align: right;\">\n",
       "      <th></th>\n",
       "      <th>VarName</th>\n",
       "      <th>TimeString</th>\n",
       "      <th>VarValue</th>\n",
       "      <th>Validity</th>\n",
       "      <th>Time_ms</th>\n",
       "      <th>DateTime</th>\n",
       "    </tr>\n",
       "  </thead>\n",
       "  <tbody>\n",
       "    <tr>\n",
       "      <th>0</th>\n",
       "      <td>FOODWASTE_TANK_B_LEVEL_TREND</td>\n",
       "      <td>25.02.2018 16:07:23</td>\n",
       "      <td>14</td>\n",
       "      <td>1</td>\n",
       "      <td>43156671788,5185</td>\n",
       "      <td>2018-02-25 16:07:23</td>\n",
       "    </tr>\n",
       "    <tr>\n",
       "      <th>1</th>\n",
       "      <td>HARSLEV_PUMP_1_2PM_1_STATUS</td>\n",
       "      <td>25.02.2018 16:07:25</td>\n",
       "      <td>20</td>\n",
       "      <td>1</td>\n",
       "      <td>43156671811,9097</td>\n",
       "      <td>2018-02-25 16:07:25</td>\n",
       "    </tr>\n",
       "    <tr>\n",
       "      <th>2</th>\n",
       "      <td>THREEWAY_VALVE_1_2PV4_STATUS</td>\n",
       "      <td>25.02.2018 16:07:25</td>\n",
       "      <td>5</td>\n",
       "      <td>1</td>\n",
       "      <td>43156671811,9097</td>\n",
       "      <td>2018-02-25 16:07:25</td>\n",
       "    </tr>\n",
       "    <tr>\n",
       "      <th>3</th>\n",
       "      <td>HARSLEV_PUMP_1_2PM_1_STATUS</td>\n",
       "      <td>25.02.2018 16:07:27</td>\n",
       "      <td>20</td>\n",
       "      <td>1</td>\n",
       "      <td>43156671835,2894</td>\n",
       "      <td>2018-02-25 16:07:27</td>\n",
       "    </tr>\n",
       "    <tr>\n",
       "      <th>4</th>\n",
       "      <td>THREEWAY_VALVE_1_2PV4_STATUS</td>\n",
       "      <td>25.02.2018 16:07:27</td>\n",
       "      <td>5</td>\n",
       "      <td>1</td>\n",
       "      <td>43156671835,3009</td>\n",
       "      <td>2018-02-25 16:07:27</td>\n",
       "    </tr>\n",
       "  </tbody>\n",
       "</table>\n",
       "</div>"
      ],
      "text/plain": [
       "                        VarName           TimeString  VarValue  Validity  \\\n",
       "0  FOODWASTE_TANK_B_LEVEL_TREND  25.02.2018 16:07:23        14         1   \n",
       "1   HARSLEV_PUMP_1_2PM_1_STATUS  25.02.2018 16:07:25        20         1   \n",
       "2  THREEWAY_VALVE_1_2PV4_STATUS  25.02.2018 16:07:25         5         1   \n",
       "3   HARSLEV_PUMP_1_2PM_1_STATUS  25.02.2018 16:07:27        20         1   \n",
       "4  THREEWAY_VALVE_1_2PV4_STATUS  25.02.2018 16:07:27         5         1   \n",
       "\n",
       "            Time_ms            DateTime  \n",
       "0  43156671788,5185 2018-02-25 16:07:23  \n",
       "1  43156671811,9097 2018-02-25 16:07:25  \n",
       "2  43156671811,9097 2018-02-25 16:07:25  \n",
       "3  43156671835,2894 2018-02-25 16:07:27  \n",
       "4  43156671835,3009 2018-02-25 16:07:27  "
      ]
     },
     "execution_count": 135,
     "metadata": {},
     "output_type": "execute_result"
    }
   ],
   "source": [
    "FWBsource.head()"
   ]
  },
  {
   "cell_type": "code",
   "execution_count": 137,
   "metadata": {},
   "outputs": [
    {
     "data": {
      "text/html": [
       "<div>\n",
       "<style scoped>\n",
       "    .dataframe tbody tr th:only-of-type {\n",
       "        vertical-align: middle;\n",
       "    }\n",
       "\n",
       "    .dataframe tbody tr th {\n",
       "        vertical-align: top;\n",
       "    }\n",
       "\n",
       "    .dataframe thead th {\n",
       "        text-align: right;\n",
       "    }\n",
       "</style>\n",
       "<table border=\"1\" class=\"dataframe\">\n",
       "  <thead>\n",
       "    <tr style=\"text-align: right;\">\n",
       "      <th></th>\n",
       "      <th>VarName</th>\n",
       "      <th>TimeString</th>\n",
       "      <th>VarValue</th>\n",
       "      <th>Validity</th>\n",
       "      <th>Time_ms</th>\n",
       "      <th>DateTime</th>\n",
       "    </tr>\n",
       "  </thead>\n",
       "  <tbody>\n",
       "    <tr>\n",
       "      <th>0</th>\n",
       "      <td>BIO_SLUDGE_MIXING_STATUS</td>\n",
       "      <td>17.02.2018 21:03:26</td>\n",
       "      <td>0</td>\n",
       "      <td>1</td>\n",
       "      <td>43148877388,0556</td>\n",
       "      <td>2018-02-17 21:03:26</td>\n",
       "    </tr>\n",
       "    <tr>\n",
       "      <th>1</th>\n",
       "      <td>BIO_SLUDGE_TANK_LEVEL_TREND</td>\n",
       "      <td>17.02.2018 21:03:26</td>\n",
       "      <td>19</td>\n",
       "      <td>1</td>\n",
       "      <td>43148877388,0556</td>\n",
       "      <td>2018-02-17 21:03:26</td>\n",
       "    </tr>\n",
       "    <tr>\n",
       "      <th>2</th>\n",
       "      <td>BIO_SLUDGE_MIXING_STATUS</td>\n",
       "      <td>17.02.2018 21:03:31</td>\n",
       "      <td>0</td>\n",
       "      <td>1</td>\n",
       "      <td>43148877446,5162</td>\n",
       "      <td>2018-02-17 21:03:31</td>\n",
       "    </tr>\n",
       "    <tr>\n",
       "      <th>3</th>\n",
       "      <td>BIO_SLUDGE_TANK_LEVEL_TREND</td>\n",
       "      <td>17.02.2018 21:03:31</td>\n",
       "      <td>19</td>\n",
       "      <td>1</td>\n",
       "      <td>43148877446,5162</td>\n",
       "      <td>2018-02-17 21:03:31</td>\n",
       "    </tr>\n",
       "    <tr>\n",
       "      <th>4</th>\n",
       "      <td>BIO_SLUDGE_MIXING_STATUS</td>\n",
       "      <td>17.02.2018 21:03:36</td>\n",
       "      <td>0</td>\n",
       "      <td>1</td>\n",
       "      <td>43148877505</td>\n",
       "      <td>2018-02-17 21:03:36</td>\n",
       "    </tr>\n",
       "  </tbody>\n",
       "</table>\n",
       "</div>"
      ],
      "text/plain": [
       "                       VarName           TimeString  VarValue  Validity  \\\n",
       "0     BIO_SLUDGE_MIXING_STATUS  17.02.2018 21:03:26         0         1   \n",
       "1  BIO_SLUDGE_TANK_LEVEL_TREND  17.02.2018 21:03:26        19         1   \n",
       "2     BIO_SLUDGE_MIXING_STATUS  17.02.2018 21:03:31         0         1   \n",
       "3  BIO_SLUDGE_TANK_LEVEL_TREND  17.02.2018 21:03:31        19         1   \n",
       "4     BIO_SLUDGE_MIXING_STATUS  17.02.2018 21:03:36         0         1   \n",
       "\n",
       "            Time_ms            DateTime  \n",
       "0  43148877388,0556 2018-02-17 21:03:26  \n",
       "1  43148877388,0556 2018-02-17 21:03:26  \n",
       "2  43148877446,5162 2018-02-17 21:03:31  \n",
       "3  43148877446,5162 2018-02-17 21:03:31  \n",
       "4       43148877505 2018-02-17 21:03:36  "
      ]
     },
     "execution_count": 137,
     "metadata": {},
     "output_type": "execute_result"
    }
   ],
   "source": [
    "BWsource.head()"
   ]
  },
  {
   "cell_type": "code",
   "execution_count": 138,
   "metadata": {},
   "outputs": [],
   "source": [
    "def Filtvar(df, col):\n",
    "    \"\"\"\n",
    "    Picks up the rows with desired variables\n",
    "\n",
    "    :input: Name of the dataframe and the desired variable in quotes ('').\n",
    "\n",
    "    :return: pandas dataframe with only the desired variable in the VarName-column.\n",
    "    In addition, returns the dimensions of the new filtered DataFrame.\n",
    "    \"\"\"\n",
    "\n",
    "    df = df[df.VarName == col]\n",
    "    n = df.shape[1]        # second element of \"dimension\" is the number of cols\n",
    "    m = df.shape[0]        # first element of dimension is the number of rows\n",
    "    \n",
    "    print('sample size m=',m)\n",
    "    print('feature length n=',n)\n",
    "\n",
    "    return df, m, n"
   ]
  },
  {
   "cell_type": "markdown",
   "metadata": {},
   "source": [
    "### Apply Filtvar():"
   ]
  },
  {
   "cell_type": "code",
   "execution_count": 139,
   "metadata": {},
   "outputs": [
    {
     "name": "stdout",
     "output_type": "stream",
     "text": [
      "sample size m= 125000\n",
      "feature length n= 6\n"
     ]
    }
   ],
   "source": [
    "DW, m, n, = Filtvar(DWsource, 'inc_1_lower_feeding_gate_status')"
   ]
  },
  {
   "cell_type": "code",
   "execution_count": 141,
   "metadata": {},
   "outputs": [
    {
     "data": {
      "text/html": [
       "<div>\n",
       "<style scoped>\n",
       "    .dataframe tbody tr th:only-of-type {\n",
       "        vertical-align: middle;\n",
       "    }\n",
       "\n",
       "    .dataframe tbody tr th {\n",
       "        vertical-align: top;\n",
       "    }\n",
       "\n",
       "    .dataframe thead th {\n",
       "        text-align: right;\n",
       "    }\n",
       "</style>\n",
       "<table border=\"1\" class=\"dataframe\">\n",
       "  <thead>\n",
       "    <tr style=\"text-align: right;\">\n",
       "      <th></th>\n",
       "      <th>VarName</th>\n",
       "      <th>TimeString</th>\n",
       "      <th>VarValue</th>\n",
       "      <th>Validity</th>\n",
       "      <th>Time_ms</th>\n",
       "      <th>DateTime</th>\n",
       "    </tr>\n",
       "  </thead>\n",
       "  <tbody>\n",
       "    <tr>\n",
       "      <th>2</th>\n",
       "      <td>inc_1_lower_feeding_gate_status</td>\n",
       "      <td>17.02.2018 21:03:15</td>\n",
       "      <td>-10</td>\n",
       "      <td>1</td>\n",
       "      <td>43148877259,4097</td>\n",
       "      <td>2018-02-17 21:03:15</td>\n",
       "    </tr>\n",
       "    <tr>\n",
       "      <th>6</th>\n",
       "      <td>inc_1_lower_feeding_gate_status</td>\n",
       "      <td>17.02.2018 21:03:16</td>\n",
       "      <td>-10</td>\n",
       "      <td>1</td>\n",
       "      <td>43148877271,0995</td>\n",
       "      <td>2018-02-17 21:03:16</td>\n",
       "    </tr>\n",
       "    <tr>\n",
       "      <th>10</th>\n",
       "      <td>inc_1_lower_feeding_gate_status</td>\n",
       "      <td>17.02.2018 21:03:17</td>\n",
       "      <td>-10</td>\n",
       "      <td>1</td>\n",
       "      <td>43148877282,8125</td>\n",
       "      <td>2018-02-17 21:03:17</td>\n",
       "    </tr>\n",
       "    <tr>\n",
       "      <th>14</th>\n",
       "      <td>inc_1_lower_feeding_gate_status</td>\n",
       "      <td>17.02.2018 21:03:18</td>\n",
       "      <td>-10</td>\n",
       "      <td>1</td>\n",
       "      <td>43148877294,5023</td>\n",
       "      <td>2018-02-17 21:03:18</td>\n",
       "    </tr>\n",
       "    <tr>\n",
       "      <th>18</th>\n",
       "      <td>inc_1_lower_feeding_gate_status</td>\n",
       "      <td>17.02.2018 21:03:19</td>\n",
       "      <td>-10</td>\n",
       "      <td>1</td>\n",
       "      <td>43148877306,2037</td>\n",
       "      <td>2018-02-17 21:03:19</td>\n",
       "    </tr>\n",
       "  </tbody>\n",
       "</table>\n",
       "</div>"
      ],
      "text/plain": [
       "                            VarName           TimeString  VarValue  Validity  \\\n",
       "2   inc_1_lower_feeding_gate_status  17.02.2018 21:03:15       -10         1   \n",
       "6   inc_1_lower_feeding_gate_status  17.02.2018 21:03:16       -10         1   \n",
       "10  inc_1_lower_feeding_gate_status  17.02.2018 21:03:17       -10         1   \n",
       "14  inc_1_lower_feeding_gate_status  17.02.2018 21:03:18       -10         1   \n",
       "18  inc_1_lower_feeding_gate_status  17.02.2018 21:03:19       -10         1   \n",
       "\n",
       "             Time_ms            DateTime  \n",
       "2   43148877259,4097 2018-02-17 21:03:15  \n",
       "6   43148877271,0995 2018-02-17 21:03:16  \n",
       "10  43148877282,8125 2018-02-17 21:03:17  \n",
       "14  43148877294,5023 2018-02-17 21:03:18  \n",
       "18  43148877306,2037 2018-02-17 21:03:19  "
      ]
     },
     "execution_count": 141,
     "metadata": {},
     "output_type": "execute_result"
    }
   ],
   "source": [
    "DW.head()"
   ]
  },
  {
   "cell_type": "code",
   "execution_count": 142,
   "metadata": {},
   "outputs": [
    {
     "data": {
      "text/plain": [
       "-10    119122\n",
       " 0       5384\n",
       " 10       494\n",
       "Name: VarValue, dtype: int64"
      ]
     },
     "execution_count": 142,
     "metadata": {},
     "output_type": "execute_result"
    }
   ],
   "source": [
    "DW.VarValue.value_counts()"
   ]
  },
  {
   "cell_type": "markdown",
   "metadata": {},
   "source": [
    "**Rotated the text is x-axis for better readibility**  "
   ]
  },
  {
   "cell_type": "code",
   "execution_count": 143,
   "metadata": {},
   "outputs": [
    {
     "data": {
      "text/plain": [
       "(array([736742.83333333, 736743.        , 736743.16666667, 736743.33333333,\n",
       "        736743.5       , 736743.66666667, 736743.83333333, 736744.        ,\n",
       "        736744.16666667, 736744.33333333]),\n",
       " <a list of 10 Text xticklabel objects>)"
      ]
     },
     "execution_count": 143,
     "metadata": {},
     "output_type": "execute_result"
    },
    {
     "data": {
      "image/png": "[encoded data removed]",
      "text/plain": [
       "<Figure size 432x288 with 1 Axes>"
      ]
     },
     "metadata": {
      "needs_background": "light"
     },
     "output_type": "display_data"
    }
   ],
   "source": [
    "plt.plot(DW.DateTime, DW.VarValue)# Shows only time for waste burning. Data not applicable for prediction.\n",
    "plt.xticks(rotation=45) # this added"
   ]
  },
  {
   "cell_type": "code",
   "execution_count": 144,
   "metadata": {},
   "outputs": [
    {
     "name": "stdout",
     "output_type": "stream",
     "text": [
      "sample size m= 67144\n",
      "feature length n= 6\n"
     ]
    }
   ],
   "source": [
    "FWA, m, n, = Filtvar(FWAsource, 'FOODWASTE_TANK_A_LEVEL_TREND')"
   ]
  },
  {
   "cell_type": "code",
   "execution_count": 148,
   "metadata": {},
   "outputs": [
    {
     "name": "stdout",
     "output_type": "stream",
     "text": [
      "sample size m= 67144\n",
      "feature length n= 6\n"
     ]
    }
   ],
   "source": [
    "FWB, m, n, = Filtvar(FWBsource, 'FOODWASTE_TANK_B_LEVEL_TREND')"
   ]
  },
  {
   "cell_type": "code",
   "execution_count": 145,
   "metadata": {},
   "outputs": [
    {
     "data": {
      "text/html": [
       "<div>\n",
       "<style scoped>\n",
       "    .dataframe tbody tr th:only-of-type {\n",
       "        vertical-align: middle;\n",
       "    }\n",
       "\n",
       "    .dataframe tbody tr th {\n",
       "        vertical-align: top;\n",
       "    }\n",
       "\n",
       "    .dataframe thead th {\n",
       "        text-align: right;\n",
       "    }\n",
       "</style>\n",
       "<table border=\"1\" class=\"dataframe\">\n",
       "  <thead>\n",
       "    <tr style=\"text-align: right;\">\n",
       "      <th></th>\n",
       "      <th>VarName</th>\n",
       "      <th>TimeString</th>\n",
       "      <th>VarValue</th>\n",
       "      <th>Validity</th>\n",
       "      <th>Time_ms</th>\n",
       "      <th>DateTime</th>\n",
       "    </tr>\n",
       "  </thead>\n",
       "  <tbody>\n",
       "    <tr>\n",
       "      <th>0</th>\n",
       "      <td>FOODWASTE_TANK_A_LEVEL_TREND</td>\n",
       "      <td>25.02.2018 16:07:23</td>\n",
       "      <td>47</td>\n",
       "      <td>1</td>\n",
       "      <td>43156671788,5185</td>\n",
       "      <td>2018-02-25 16:07:23</td>\n",
       "    </tr>\n",
       "    <tr>\n",
       "      <th>5</th>\n",
       "      <td>FOODWASTE_TANK_A_LEVEL_TREND</td>\n",
       "      <td>25.02.2018 16:07:28</td>\n",
       "      <td>47</td>\n",
       "      <td>1</td>\n",
       "      <td>43156671846,9907</td>\n",
       "      <td>2018-02-25 16:07:28</td>\n",
       "    </tr>\n",
       "    <tr>\n",
       "      <th>12</th>\n",
       "      <td>FOODWASTE_TANK_A_LEVEL_TREND</td>\n",
       "      <td>25.02.2018 16:07:33</td>\n",
       "      <td>47</td>\n",
       "      <td>1</td>\n",
       "      <td>43156671905,4745</td>\n",
       "      <td>2018-02-25 16:07:33</td>\n",
       "    </tr>\n",
       "    <tr>\n",
       "      <th>17</th>\n",
       "      <td>FOODWASTE_TANK_A_LEVEL_TREND</td>\n",
       "      <td>25.02.2018 16:07:38</td>\n",
       "      <td>47</td>\n",
       "      <td>1</td>\n",
       "      <td>43156671963,9583</td>\n",
       "      <td>2018-02-25 16:07:38</td>\n",
       "    </tr>\n",
       "    <tr>\n",
       "      <th>24</th>\n",
       "      <td>FOODWASTE_TANK_A_LEVEL_TREND</td>\n",
       "      <td>25.02.2018 16:07:43</td>\n",
       "      <td>47</td>\n",
       "      <td>1</td>\n",
       "      <td>43156672022,4421</td>\n",
       "      <td>2018-02-25 16:07:43</td>\n",
       "    </tr>\n",
       "  </tbody>\n",
       "</table>\n",
       "</div>"
      ],
      "text/plain": [
       "                         VarName           TimeString  VarValue  Validity  \\\n",
       "0   FOODWASTE_TANK_A_LEVEL_TREND  25.02.2018 16:07:23        47         1   \n",
       "5   FOODWASTE_TANK_A_LEVEL_TREND  25.02.2018 16:07:28        47         1   \n",
       "12  FOODWASTE_TANK_A_LEVEL_TREND  25.02.2018 16:07:33        47         1   \n",
       "17  FOODWASTE_TANK_A_LEVEL_TREND  25.02.2018 16:07:38        47         1   \n",
       "24  FOODWASTE_TANK_A_LEVEL_TREND  25.02.2018 16:07:43        47         1   \n",
       "\n",
       "             Time_ms            DateTime  \n",
       "0   43156671788,5185 2018-02-25 16:07:23  \n",
       "5   43156671846,9907 2018-02-25 16:07:28  \n",
       "12  43156671905,4745 2018-02-25 16:07:33  \n",
       "17  43156671963,9583 2018-02-25 16:07:38  \n",
       "24  43156672022,4421 2018-02-25 16:07:43  "
      ]
     },
     "execution_count": 145,
     "metadata": {},
     "output_type": "execute_result"
    }
   ],
   "source": [
    "FWA.head()"
   ]
  },
  {
   "cell_type": "code",
   "execution_count": 146,
   "metadata": {
    "scrolled": true
   },
   "outputs": [
    {
     "data": {
      "text/html": [
       "<div>\n",
       "<style scoped>\n",
       "    .dataframe tbody tr th:only-of-type {\n",
       "        vertical-align: middle;\n",
       "    }\n",
       "\n",
       "    .dataframe tbody tr th {\n",
       "        vertical-align: top;\n",
       "    }\n",
       "\n",
       "    .dataframe thead th {\n",
       "        text-align: right;\n",
       "    }\n",
       "</style>\n",
       "<table border=\"1\" class=\"dataframe\">\n",
       "  <thead>\n",
       "    <tr style=\"text-align: right;\">\n",
       "      <th></th>\n",
       "      <th>VarName</th>\n",
       "      <th>TimeString</th>\n",
       "      <th>VarValue</th>\n",
       "      <th>Validity</th>\n",
       "      <th>Time_ms</th>\n",
       "      <th>DateTime</th>\n",
       "    </tr>\n",
       "  </thead>\n",
       "  <tbody>\n",
       "    <tr>\n",
       "      <th>402833</th>\n",
       "      <td>FOODWASTE_TANK_A_LEVEL_TREND</td>\n",
       "      <td>01.03.2018 14:19:11</td>\n",
       "      <td>35</td>\n",
       "      <td>1</td>\n",
       "      <td>43160596653,0324</td>\n",
       "      <td>2018-03-01 14:19:11</td>\n",
       "    </tr>\n",
       "    <tr>\n",
       "      <th>402840</th>\n",
       "      <td>FOODWASTE_TANK_A_LEVEL_TREND</td>\n",
       "      <td>01.03.2018 14:19:16</td>\n",
       "      <td>34</td>\n",
       "      <td>1</td>\n",
       "      <td>43160596711,5046</td>\n",
       "      <td>2018-03-01 14:19:16</td>\n",
       "    </tr>\n",
       "    <tr>\n",
       "      <th>402845</th>\n",
       "      <td>FOODWASTE_TANK_A_LEVEL_TREND</td>\n",
       "      <td>01.03.2018 14:19:21</td>\n",
       "      <td>35</td>\n",
       "      <td>1</td>\n",
       "      <td>43160596769,9884</td>\n",
       "      <td>2018-03-01 14:19:21</td>\n",
       "    </tr>\n",
       "    <tr>\n",
       "      <th>402852</th>\n",
       "      <td>FOODWASTE_TANK_A_LEVEL_TREND</td>\n",
       "      <td>01.03.2018 14:19:26</td>\n",
       "      <td>34</td>\n",
       "      <td>1</td>\n",
       "      <td>43160596828,4606</td>\n",
       "      <td>2018-03-01 14:19:26</td>\n",
       "    </tr>\n",
       "    <tr>\n",
       "      <th>402857</th>\n",
       "      <td>FOODWASTE_TANK_A_LEVEL_TREND</td>\n",
       "      <td>01.03.2018 14:19:31</td>\n",
       "      <td>33</td>\n",
       "      <td>1</td>\n",
       "      <td>43160596886,9329</td>\n",
       "      <td>2018-03-01 14:19:31</td>\n",
       "    </tr>\n",
       "  </tbody>\n",
       "</table>\n",
       "</div>"
      ],
      "text/plain": [
       "                             VarName           TimeString  VarValue  Validity  \\\n",
       "402833  FOODWASTE_TANK_A_LEVEL_TREND  01.03.2018 14:19:11        35         1   \n",
       "402840  FOODWASTE_TANK_A_LEVEL_TREND  01.03.2018 14:19:16        34         1   \n",
       "402845  FOODWASTE_TANK_A_LEVEL_TREND  01.03.2018 14:19:21        35         1   \n",
       "402852  FOODWASTE_TANK_A_LEVEL_TREND  01.03.2018 14:19:26        34         1   \n",
       "402857  FOODWASTE_TANK_A_LEVEL_TREND  01.03.2018 14:19:31        33         1   \n",
       "\n",
       "                 Time_ms            DateTime  \n",
       "402833  43160596653,0324 2018-03-01 14:19:11  \n",
       "402840  43160596711,5046 2018-03-01 14:19:16  \n",
       "402845  43160596769,9884 2018-03-01 14:19:21  \n",
       "402852  43160596828,4606 2018-03-01 14:19:26  \n",
       "402857  43160596886,9329 2018-03-01 14:19:31  "
      ]
     },
     "execution_count": 146,
     "metadata": {},
     "output_type": "execute_result"
    }
   ],
   "source": [
    "FWA.tail()"
   ]
  },
  {
   "cell_type": "code",
   "execution_count": 149,
   "metadata": {},
   "outputs": [
    {
     "name": "stdout",
     "output_type": "stream",
     "text": [
      "Index(['VarName', 'TimeString', 'VarValue', 'Validity', 'Time_ms', 'DateTime'], dtype='object')\n",
      "<class 'pandas.core.indexes.base.Index'>\n",
      "Int64Index([     0,      5,     12,     17,     24,     29,     36,     41,\n",
      "                48,     53,\n",
      "            ...\n",
      "            402804, 402809, 402816, 402821, 402828, 402833, 402840, 402845,\n",
      "            402852, 402857],\n",
      "           dtype='int64', length=67144)\n",
      "<class 'pandas.core.indexes.numeric.Int64Index'>\n",
      "                         VarName           TimeString  VarValue  Validity  \\\n",
      "0   FOODWASTE_TANK_A_LEVEL_TREND  25.02.2018 16:07:23        47         1   \n",
      "5   FOODWASTE_TANK_A_LEVEL_TREND  25.02.2018 16:07:28        47         1   \n",
      "12  FOODWASTE_TANK_A_LEVEL_TREND  25.02.2018 16:07:33        47         1   \n",
      "\n",
      "             Time_ms            DateTime  \n",
      "0   43156671788,5185 2018-02-25 16:07:23  \n",
      "5   43156671846,9907 2018-02-25 16:07:28  \n",
      "12  43156671905,4745 2018-02-25 16:07:33  \n",
      "<class 'pandas.core.frame.DataFrame'>\n",
      "Int64Index: 67144 entries, 0 to 402857\n",
      "Data columns (total 6 columns):\n",
      "VarName       67144 non-null object\n",
      "TimeString    67144 non-null object\n",
      "VarValue      67144 non-null int64\n",
      "Validity      67144 non-null int64\n",
      "Time_ms       67144 non-null object\n",
      "DateTime      67144 non-null datetime64[ns]\n",
      "dtypes: datetime64[ns](1), int64(2), object(3)\n",
      "memory usage: 3.6+ MB\n",
      "None\n"
     ]
    }
   ],
   "source": [
    "# Analysis of FWA-data\n",
    "print(FWA.columns)           # Columns for dataframe\n",
    "print(type(FWA.columns))     # Column type\n",
    "print(FWA.index)             # Index for the dataframe\n",
    "print(type(FWA.index))       # Type of index of DF\n",
    "print(FWA.iloc[:3,:])        # Splitting of 3 first index, inclusive\n",
    "print(FWA.info())            # Datatype of each column"
   ]
  },
  {
   "cell_type": "code",
   "execution_count": 150,
   "metadata": {},
   "outputs": [
    {
     "name": "stdout",
     "output_type": "stream",
     "text": [
      "Index(['VarName', 'TimeString', 'VarValue', 'Validity', 'Time_ms', 'DateTime'], dtype='object')\n",
      "<class 'pandas.core.indexes.base.Index'>\n",
      "Int64Index([     0,      5,     12,     17,     24,     29,     36,     41,\n",
      "                48,     53,\n",
      "            ...\n",
      "            402804, 402809, 402816, 402821, 402828, 402833, 402840, 402845,\n",
      "            402852, 402857],\n",
      "           dtype='int64', length=67144)\n",
      "<class 'pandas.core.indexes.numeric.Int64Index'>\n",
      "                         VarName           TimeString  VarValue  Validity  \\\n",
      "0   FOODWASTE_TANK_B_LEVEL_TREND  25.02.2018 16:07:23        14         1   \n",
      "5   FOODWASTE_TANK_B_LEVEL_TREND  25.02.2018 16:07:28        14         1   \n",
      "12  FOODWASTE_TANK_B_LEVEL_TREND  25.02.2018 16:07:33        15         1   \n",
      "\n",
      "             Time_ms            DateTime  \n",
      "0   43156671788,5185 2018-02-25 16:07:23  \n",
      "5   43156671847,0023 2018-02-25 16:07:28  \n",
      "12  43156671905,4745 2018-02-25 16:07:33  \n",
      "<class 'pandas.core.frame.DataFrame'>\n",
      "Int64Index: 67144 entries, 0 to 402857\n",
      "Data columns (total 6 columns):\n",
      "VarName       67144 non-null object\n",
      "TimeString    67144 non-null object\n",
      "VarValue      67144 non-null int64\n",
      "Validity      67144 non-null int64\n",
      "Time_ms       67144 non-null object\n",
      "DateTime      67144 non-null datetime64[ns]\n",
      "dtypes: datetime64[ns](1), int64(2), object(3)\n",
      "memory usage: 3.6+ MB\n",
      "None\n"
     ]
    }
   ],
   "source": [
    "# Analysis of FWB-data\n",
    "print(FWB.columns)           # Columns for dataframe\n",
    "print(type(FWB.columns))     # Column type\n",
    "print(FWB.index)             # Index for the dataframe\n",
    "print(type(FWB.index))       # Type of index of DF\n",
    "print(FWB.iloc[:3,:])        # Splitting of 3 first index, inclusive\n",
    "print(FWB.info())            # Datatype of each column"
   ]
  },
  {
   "cell_type": "markdown",
   "metadata": {},
   "source": [
    "**PETRI: x-akselin hypistely**"
   ]
  },
  {
   "cell_type": "code",
   "execution_count": 151,
   "metadata": {},
   "outputs": [
    {
     "data": {
      "text/plain": [
       "(array([736750.5, 736751. , 736751.5, 736752. , 736752.5, 736753. ,\n",
       "        736753.5, 736754. , 736754.5]), <a list of 9 Text xticklabel objects>)"
      ]
     },
     "execution_count": 151,
     "metadata": {},
     "output_type": "execute_result"
    },
    {
     "data": {
      "image/png": "[encoded data removed]",
      "text/plain": [
       "<Figure size 432x288 with 1 Axes>"
      ]
     },
     "metadata": {
      "needs_background": "light"
     },
     "output_type": "display_data"
    }
   ],
   "source": [
    "plt.plot(FWA.DateTime, FWA.VarValue) # Discharge pumping can be seen in the plot\n",
    "plt.xticks(rotation=45) # added"
   ]
  },
  {
   "cell_type": "code",
   "execution_count": 152,
   "metadata": {},
   "outputs": [
    {
     "data": {
      "text/html": [
       "<div>\n",
       "<style scoped>\n",
       "    .dataframe tbody tr th:only-of-type {\n",
       "        vertical-align: middle;\n",
       "    }\n",
       "\n",
       "    .dataframe tbody tr th {\n",
       "        vertical-align: top;\n",
       "    }\n",
       "\n",
       "    .dataframe thead th {\n",
       "        text-align: right;\n",
       "    }\n",
       "</style>\n",
       "<table border=\"1\" class=\"dataframe\">\n",
       "  <thead>\n",
       "    <tr style=\"text-align: right;\">\n",
       "      <th></th>\n",
       "      <th>VarName</th>\n",
       "      <th>TimeString</th>\n",
       "      <th>VarValue</th>\n",
       "      <th>Validity</th>\n",
       "      <th>Time_ms</th>\n",
       "      <th>DateTime</th>\n",
       "    </tr>\n",
       "  </thead>\n",
       "  <tbody>\n",
       "    <tr>\n",
       "      <th>0</th>\n",
       "      <td>FOODWASTE_TANK_B_LEVEL_TREND</td>\n",
       "      <td>25.02.2018 16:07:23</td>\n",
       "      <td>14</td>\n",
       "      <td>1</td>\n",
       "      <td>43156671788,5185</td>\n",
       "      <td>2018-02-25 16:07:23</td>\n",
       "    </tr>\n",
       "    <tr>\n",
       "      <th>5</th>\n",
       "      <td>FOODWASTE_TANK_B_LEVEL_TREND</td>\n",
       "      <td>25.02.2018 16:07:28</td>\n",
       "      <td>14</td>\n",
       "      <td>1</td>\n",
       "      <td>43156671847,0023</td>\n",
       "      <td>2018-02-25 16:07:28</td>\n",
       "    </tr>\n",
       "    <tr>\n",
       "      <th>12</th>\n",
       "      <td>FOODWASTE_TANK_B_LEVEL_TREND</td>\n",
       "      <td>25.02.2018 16:07:33</td>\n",
       "      <td>15</td>\n",
       "      <td>1</td>\n",
       "      <td>43156671905,4745</td>\n",
       "      <td>2018-02-25 16:07:33</td>\n",
       "    </tr>\n",
       "    <tr>\n",
       "      <th>17</th>\n",
       "      <td>FOODWASTE_TANK_B_LEVEL_TREND</td>\n",
       "      <td>25.02.2018 16:07:38</td>\n",
       "      <td>14</td>\n",
       "      <td>1</td>\n",
       "      <td>43156671963,9699</td>\n",
       "      <td>2018-02-25 16:07:38</td>\n",
       "    </tr>\n",
       "    <tr>\n",
       "      <th>24</th>\n",
       "      <td>FOODWASTE_TANK_B_LEVEL_TREND</td>\n",
       "      <td>25.02.2018 16:07:43</td>\n",
       "      <td>15</td>\n",
       "      <td>1</td>\n",
       "      <td>43156672022,4421</td>\n",
       "      <td>2018-02-25 16:07:43</td>\n",
       "    </tr>\n",
       "  </tbody>\n",
       "</table>\n",
       "</div>"
      ],
      "text/plain": [
       "                         VarName           TimeString  VarValue  Validity  \\\n",
       "0   FOODWASTE_TANK_B_LEVEL_TREND  25.02.2018 16:07:23        14         1   \n",
       "5   FOODWASTE_TANK_B_LEVEL_TREND  25.02.2018 16:07:28        14         1   \n",
       "12  FOODWASTE_TANK_B_LEVEL_TREND  25.02.2018 16:07:33        15         1   \n",
       "17  FOODWASTE_TANK_B_LEVEL_TREND  25.02.2018 16:07:38        14         1   \n",
       "24  FOODWASTE_TANK_B_LEVEL_TREND  25.02.2018 16:07:43        15         1   \n",
       "\n",
       "             Time_ms            DateTime  \n",
       "0   43156671788,5185 2018-02-25 16:07:23  \n",
       "5   43156671847,0023 2018-02-25 16:07:28  \n",
       "12  43156671905,4745 2018-02-25 16:07:33  \n",
       "17  43156671963,9699 2018-02-25 16:07:38  \n",
       "24  43156672022,4421 2018-02-25 16:07:43  "
      ]
     },
     "execution_count": 152,
     "metadata": {},
     "output_type": "execute_result"
    }
   ],
   "source": [
    "FWB.head()"
   ]
  },
  {
   "cell_type": "code",
   "execution_count": 153,
   "metadata": {},
   "outputs": [
    {
     "data": {
      "text/html": [
       "<div>\n",
       "<style scoped>\n",
       "    .dataframe tbody tr th:only-of-type {\n",
       "        vertical-align: middle;\n",
       "    }\n",
       "\n",
       "    .dataframe tbody tr th {\n",
       "        vertical-align: top;\n",
       "    }\n",
       "\n",
       "    .dataframe thead th {\n",
       "        text-align: right;\n",
       "    }\n",
       "</style>\n",
       "<table border=\"1\" class=\"dataframe\">\n",
       "  <thead>\n",
       "    <tr style=\"text-align: right;\">\n",
       "      <th></th>\n",
       "      <th>VarName</th>\n",
       "      <th>TimeString</th>\n",
       "      <th>VarValue</th>\n",
       "      <th>Validity</th>\n",
       "      <th>Time_ms</th>\n",
       "      <th>DateTime</th>\n",
       "    </tr>\n",
       "  </thead>\n",
       "  <tbody>\n",
       "    <tr>\n",
       "      <th>402833</th>\n",
       "      <td>FOODWASTE_TANK_B_LEVEL_TREND</td>\n",
       "      <td>01.03.2018 14:19:11</td>\n",
       "      <td>21</td>\n",
       "      <td>1</td>\n",
       "      <td>43160596653,0324</td>\n",
       "      <td>2018-03-01 14:19:11</td>\n",
       "    </tr>\n",
       "    <tr>\n",
       "      <th>402840</th>\n",
       "      <td>FOODWASTE_TANK_B_LEVEL_TREND</td>\n",
       "      <td>01.03.2018 14:19:16</td>\n",
       "      <td>21</td>\n",
       "      <td>1</td>\n",
       "      <td>43160596711,5046</td>\n",
       "      <td>2018-03-01 14:19:16</td>\n",
       "    </tr>\n",
       "    <tr>\n",
       "      <th>402845</th>\n",
       "      <td>FOODWASTE_TANK_B_LEVEL_TREND</td>\n",
       "      <td>01.03.2018 14:19:21</td>\n",
       "      <td>21</td>\n",
       "      <td>1</td>\n",
       "      <td>43160596769,9884</td>\n",
       "      <td>2018-03-01 14:19:21</td>\n",
       "    </tr>\n",
       "    <tr>\n",
       "      <th>402852</th>\n",
       "      <td>FOODWASTE_TANK_B_LEVEL_TREND</td>\n",
       "      <td>01.03.2018 14:19:26</td>\n",
       "      <td>21</td>\n",
       "      <td>1</td>\n",
       "      <td>43160596828,4606</td>\n",
       "      <td>2018-03-01 14:19:26</td>\n",
       "    </tr>\n",
       "    <tr>\n",
       "      <th>402857</th>\n",
       "      <td>FOODWASTE_TANK_B_LEVEL_TREND</td>\n",
       "      <td>01.03.2018 14:19:31</td>\n",
       "      <td>21</td>\n",
       "      <td>1</td>\n",
       "      <td>43160596886,9329</td>\n",
       "      <td>2018-03-01 14:19:31</td>\n",
       "    </tr>\n",
       "  </tbody>\n",
       "</table>\n",
       "</div>"
      ],
      "text/plain": [
       "                             VarName           TimeString  VarValue  Validity  \\\n",
       "402833  FOODWASTE_TANK_B_LEVEL_TREND  01.03.2018 14:19:11        21         1   \n",
       "402840  FOODWASTE_TANK_B_LEVEL_TREND  01.03.2018 14:19:16        21         1   \n",
       "402845  FOODWASTE_TANK_B_LEVEL_TREND  01.03.2018 14:19:21        21         1   \n",
       "402852  FOODWASTE_TANK_B_LEVEL_TREND  01.03.2018 14:19:26        21         1   \n",
       "402857  FOODWASTE_TANK_B_LEVEL_TREND  01.03.2018 14:19:31        21         1   \n",
       "\n",
       "                 Time_ms            DateTime  \n",
       "402833  43160596653,0324 2018-03-01 14:19:11  \n",
       "402840  43160596711,5046 2018-03-01 14:19:16  \n",
       "402845  43160596769,9884 2018-03-01 14:19:21  \n",
       "402852  43160596828,4606 2018-03-01 14:19:26  \n",
       "402857  43160596886,9329 2018-03-01 14:19:31  "
      ]
     },
     "execution_count": 153,
     "metadata": {},
     "output_type": "execute_result"
    }
   ],
   "source": [
    "FWB.tail()"
   ]
  },
  {
   "cell_type": "code",
   "execution_count": 155,
   "metadata": {},
   "outputs": [
    {
     "data": {
      "text/plain": [
       "(array([736750.5, 736751. , 736751.5, 736752. , 736752.5, 736753. ,\n",
       "        736753.5, 736754. , 736754.5]), <a list of 9 Text xticklabel objects>)"
      ]
     },
     "execution_count": 155,
     "metadata": {},
     "output_type": "execute_result"
    },
    {
     "data": {
      "image/png": "[encoded data removed]",
      "text/plain": [
       "<Figure size 432x288 with 1 Axes>"
      ]
     },
     "metadata": {
      "needs_background": "light"
     },
     "output_type": "display_data"
    }
   ],
   "source": [
    "plt.plot(FWB.DateTime, FWB.VarValue)\n",
    "plt.xticks(rotation=45) # added"
   ]
  },
  {
   "cell_type": "code",
   "execution_count": 156,
   "metadata": {},
   "outputs": [
    {
     "name": "stdout",
     "output_type": "stream",
     "text": [
      "sample size m= 200476\n",
      "feature length n= 6\n"
     ]
    }
   ],
   "source": [
    "BW, m, n, = Filtvar(BWsource, 'BIO_SLUDGE_TANK_LEVEL_TREND')"
   ]
  },
  {
   "cell_type": "code",
   "execution_count": 157,
   "metadata": {},
   "outputs": [
    {
     "name": "stdout",
     "output_type": "stream",
     "text": [
      "<class 'pandas.core.frame.DataFrame'>\n",
      "Index(['VarName', 'TimeString', 'VarValue', 'Validity', 'Time_ms', 'DateTime'], dtype='object')\n",
      "<class 'pandas.core.frame.DataFrame'>\n",
      "Int64Index: 200476 entries, 1 to 400951\n",
      "Data columns (total 6 columns):\n",
      "VarName       200476 non-null object\n",
      "TimeString    200476 non-null object\n",
      "VarValue      200476 non-null int64\n",
      "Validity      200476 non-null int64\n",
      "Time_ms       200476 non-null object\n",
      "DateTime      200476 non-null datetime64[ns]\n",
      "dtypes: datetime64[ns](1), int64(2), object(3)\n",
      "memory usage: 10.7+ MB\n",
      "None\n"
     ]
    }
   ],
   "source": [
    "# Analysis of BW data\n",
    "print(type(BW))\n",
    "print(BW.columns)\n",
    "print(BW.info())"
   ]
  },
  {
   "cell_type": "code",
   "execution_count": 159,
   "metadata": {},
   "outputs": [
    {
     "data": {
      "text/plain": [
       "(array([736744., 736746., 736748., 736750., 736752., 736754.]),\n",
       " <a list of 6 Text xticklabel objects>)"
      ]
     },
     "execution_count": 159,
     "metadata": {},
     "output_type": "execute_result"
    },
    {
     "data": {
      "image/png": "[encoded data removed]",
      "text/plain": [
       "<Figure size 432x288 with 1 Axes>"
      ]
     },
     "metadata": {
      "needs_background": "light"
     },
     "output_type": "display_data"
    }
   ],
   "source": [
    "plt.plot(BW.DateTime, BW.VarValue)# Data cannot be used!!!!\n",
    "plt.xticks(rotation=45) # added"
   ]
  },
  {
   "cell_type": "code",
   "execution_count": 160,
   "metadata": {},
   "outputs": [],
   "source": [
    "def Diff(df):\n",
    "    \"\"\"\n",
    "    Calculates difference between subsequent rows and adds the result created to Diff-column.\n",
    "    In addition, removes NaN-values from the created Diff-column.\n",
    "    Also, removes the discharge from level measurement: Removes negative value < -1 \n",
    "    and replaces the the values by zero\n",
    "    \n",
    "\n",
    "    :input: Name of the dataframe.\n",
    "\n",
    "    :return: pandas dataframe with a new Diff-column containing difference between subsequent rows.\n",
    "    \n",
    "    \"\"\"\n",
    "\n",
    "    df['Diff'] = df.VarValue.diff()\n",
    "    df.dropna(inplace=True)\n",
    "    df.Diff.where(df.Diff > -2, 0, inplace=True)\n",
    "    \n",
    "    return df"
   ]
  },
  {
   "cell_type": "code",
   "execution_count": null,
   "metadata": {},
   "outputs": [],
   "source": [
    "FW1 = Diff(FWA)"
   ]
  },
  {
   "cell_type": "code",
   "execution_count": null,
   "metadata": {},
   "outputs": [],
   "source": [
    "FW2 = Diff(FWB)"
   ]
  },
  {
   "cell_type": "code",
   "execution_count": 164,
   "metadata": {},
   "outputs": [
    {
     "data": {
      "text/html": [
       "<div>\n",
       "<style scoped>\n",
       "    .dataframe tbody tr th:only-of-type {\n",
       "        vertical-align: middle;\n",
       "    }\n",
       "\n",
       "    .dataframe tbody tr th {\n",
       "        vertical-align: top;\n",
       "    }\n",
       "\n",
       "    .dataframe thead th {\n",
       "        text-align: right;\n",
       "    }\n",
       "</style>\n",
       "<table border=\"1\" class=\"dataframe\">\n",
       "  <thead>\n",
       "    <tr style=\"text-align: right;\">\n",
       "      <th></th>\n",
       "      <th>VarName</th>\n",
       "      <th>TimeString</th>\n",
       "      <th>VarValue</th>\n",
       "      <th>Validity</th>\n",
       "      <th>Time_ms</th>\n",
       "      <th>DateTime</th>\n",
       "      <th>Diff</th>\n",
       "    </tr>\n",
       "  </thead>\n",
       "  <tbody>\n",
       "    <tr>\n",
       "      <th>5</th>\n",
       "      <td>FOODWASTE_TANK_A_LEVEL_TREND</td>\n",
       "      <td>25.02.2018 16:07:28</td>\n",
       "      <td>47</td>\n",
       "      <td>1</td>\n",
       "      <td>43156671846,9907</td>\n",
       "      <td>2018-02-25 16:07:28</td>\n",
       "      <td>0.0</td>\n",
       "    </tr>\n",
       "    <tr>\n",
       "      <th>12</th>\n",
       "      <td>FOODWASTE_TANK_A_LEVEL_TREND</td>\n",
       "      <td>25.02.2018 16:07:33</td>\n",
       "      <td>47</td>\n",
       "      <td>1</td>\n",
       "      <td>43156671905,4745</td>\n",
       "      <td>2018-02-25 16:07:33</td>\n",
       "      <td>0.0</td>\n",
       "    </tr>\n",
       "    <tr>\n",
       "      <th>17</th>\n",
       "      <td>FOODWASTE_TANK_A_LEVEL_TREND</td>\n",
       "      <td>25.02.2018 16:07:38</td>\n",
       "      <td>47</td>\n",
       "      <td>1</td>\n",
       "      <td>43156671963,9583</td>\n",
       "      <td>2018-02-25 16:07:38</td>\n",
       "      <td>0.0</td>\n",
       "    </tr>\n",
       "    <tr>\n",
       "      <th>24</th>\n",
       "      <td>FOODWASTE_TANK_A_LEVEL_TREND</td>\n",
       "      <td>25.02.2018 16:07:43</td>\n",
       "      <td>47</td>\n",
       "      <td>1</td>\n",
       "      <td>43156672022,4421</td>\n",
       "      <td>2018-02-25 16:07:43</td>\n",
       "      <td>0.0</td>\n",
       "    </tr>\n",
       "    <tr>\n",
       "      <th>29</th>\n",
       "      <td>FOODWASTE_TANK_A_LEVEL_TREND</td>\n",
       "      <td>25.02.2018 16:07:48</td>\n",
       "      <td>47</td>\n",
       "      <td>1</td>\n",
       "      <td>43156672080,9028</td>\n",
       "      <td>2018-02-25 16:07:48</td>\n",
       "      <td>0.0</td>\n",
       "    </tr>\n",
       "  </tbody>\n",
       "</table>\n",
       "</div>"
      ],
      "text/plain": [
       "                         VarName           TimeString  VarValue  Validity  \\\n",
       "5   FOODWASTE_TANK_A_LEVEL_TREND  25.02.2018 16:07:28        47         1   \n",
       "12  FOODWASTE_TANK_A_LEVEL_TREND  25.02.2018 16:07:33        47         1   \n",
       "17  FOODWASTE_TANK_A_LEVEL_TREND  25.02.2018 16:07:38        47         1   \n",
       "24  FOODWASTE_TANK_A_LEVEL_TREND  25.02.2018 16:07:43        47         1   \n",
       "29  FOODWASTE_TANK_A_LEVEL_TREND  25.02.2018 16:07:48        47         1   \n",
       "\n",
       "             Time_ms            DateTime  Diff  \n",
       "5   43156671846,9907 2018-02-25 16:07:28   0.0  \n",
       "12  43156671905,4745 2018-02-25 16:07:33   0.0  \n",
       "17  43156671963,9583 2018-02-25 16:07:38   0.0  \n",
       "24  43156672022,4421 2018-02-25 16:07:43   0.0  \n",
       "29  43156672080,9028 2018-02-25 16:07:48   0.0  "
      ]
     },
     "execution_count": 164,
     "metadata": {},
     "output_type": "execute_result"
    }
   ],
   "source": [
    "FW1.head()"
   ]
  },
  {
   "cell_type": "code",
   "execution_count": 165,
   "metadata": {},
   "outputs": [
    {
     "data": {
      "text/html": [
       "<div>\n",
       "<style scoped>\n",
       "    .dataframe tbody tr th:only-of-type {\n",
       "        vertical-align: middle;\n",
       "    }\n",
       "\n",
       "    .dataframe tbody tr th {\n",
       "        vertical-align: top;\n",
       "    }\n",
       "\n",
       "    .dataframe thead th {\n",
       "        text-align: right;\n",
       "    }\n",
       "</style>\n",
       "<table border=\"1\" class=\"dataframe\">\n",
       "  <thead>\n",
       "    <tr style=\"text-align: right;\">\n",
       "      <th></th>\n",
       "      <th>VarName</th>\n",
       "      <th>TimeString</th>\n",
       "      <th>VarValue</th>\n",
       "      <th>Validity</th>\n",
       "      <th>Time_ms</th>\n",
       "      <th>DateTime</th>\n",
       "      <th>Diff</th>\n",
       "    </tr>\n",
       "  </thead>\n",
       "  <tbody>\n",
       "    <tr>\n",
       "      <th>5</th>\n",
       "      <td>FOODWASTE_TANK_B_LEVEL_TREND</td>\n",
       "      <td>25.02.2018 16:07:28</td>\n",
       "      <td>14</td>\n",
       "      <td>1</td>\n",
       "      <td>43156671847,0023</td>\n",
       "      <td>2018-02-25 16:07:28</td>\n",
       "      <td>0.0</td>\n",
       "    </tr>\n",
       "    <tr>\n",
       "      <th>12</th>\n",
       "      <td>FOODWASTE_TANK_B_LEVEL_TREND</td>\n",
       "      <td>25.02.2018 16:07:33</td>\n",
       "      <td>15</td>\n",
       "      <td>1</td>\n",
       "      <td>43156671905,4745</td>\n",
       "      <td>2018-02-25 16:07:33</td>\n",
       "      <td>1.0</td>\n",
       "    </tr>\n",
       "    <tr>\n",
       "      <th>17</th>\n",
       "      <td>FOODWASTE_TANK_B_LEVEL_TREND</td>\n",
       "      <td>25.02.2018 16:07:38</td>\n",
       "      <td>14</td>\n",
       "      <td>1</td>\n",
       "      <td>43156671963,9699</td>\n",
       "      <td>2018-02-25 16:07:38</td>\n",
       "      <td>-1.0</td>\n",
       "    </tr>\n",
       "    <tr>\n",
       "      <th>24</th>\n",
       "      <td>FOODWASTE_TANK_B_LEVEL_TREND</td>\n",
       "      <td>25.02.2018 16:07:43</td>\n",
       "      <td>15</td>\n",
       "      <td>1</td>\n",
       "      <td>43156672022,4421</td>\n",
       "      <td>2018-02-25 16:07:43</td>\n",
       "      <td>1.0</td>\n",
       "    </tr>\n",
       "    <tr>\n",
       "      <th>29</th>\n",
       "      <td>FOODWASTE_TANK_B_LEVEL_TREND</td>\n",
       "      <td>25.02.2018 16:07:48</td>\n",
       "      <td>14</td>\n",
       "      <td>1</td>\n",
       "      <td>43156672080,9144</td>\n",
       "      <td>2018-02-25 16:07:48</td>\n",
       "      <td>-1.0</td>\n",
       "    </tr>\n",
       "  </tbody>\n",
       "</table>\n",
       "</div>"
      ],
      "text/plain": [
       "                         VarName           TimeString  VarValue  Validity  \\\n",
       "5   FOODWASTE_TANK_B_LEVEL_TREND  25.02.2018 16:07:28        14         1   \n",
       "12  FOODWASTE_TANK_B_LEVEL_TREND  25.02.2018 16:07:33        15         1   \n",
       "17  FOODWASTE_TANK_B_LEVEL_TREND  25.02.2018 16:07:38        14         1   \n",
       "24  FOODWASTE_TANK_B_LEVEL_TREND  25.02.2018 16:07:43        15         1   \n",
       "29  FOODWASTE_TANK_B_LEVEL_TREND  25.02.2018 16:07:48        14         1   \n",
       "\n",
       "             Time_ms            DateTime  Diff  \n",
       "5   43156671847,0023 2018-02-25 16:07:28   0.0  \n",
       "12  43156671905,4745 2018-02-25 16:07:33   1.0  \n",
       "17  43156671963,9699 2018-02-25 16:07:38  -1.0  \n",
       "24  43156672022,4421 2018-02-25 16:07:43   1.0  \n",
       "29  43156672080,9144 2018-02-25 16:07:48  -1.0  "
      ]
     },
     "execution_count": 165,
     "metadata": {},
     "output_type": "execute_result"
    }
   ],
   "source": [
    "FW2.head()"
   ]
  },
  {
   "cell_type": "code",
   "execution_count": 166,
   "metadata": {},
   "outputs": [],
   "source": [
    "def cumV(df):\n",
    "    \"\"\"\n",
    "    Calculates cumulative sum of differences V-% (Diff-column) and calculates cumulative sum\n",
    "    of the waste flow by multiplying it with an effective tank volume.\n",
    "\n",
    "    :input: Name of the dataframe.\n",
    "\n",
    "    :return: pandas dataframe with incrVsum-column containing cumulative waste flow as m3.\n",
    "    \"\"\"\n",
    "\n",
    "    # Cumulative sum of level increase as percent value\n",
    "    # df['incrSum'] = df.Diff.cumsum()\n",
    "    # Cumulative sum of level increase as m3\n",
    "    df['incrVsum'] = df.Diff.cumsum() * 5 / 100\n",
    "\n",
    "    return df"
   ]
  },
  {
   "cell_type": "code",
   "execution_count": null,
   "metadata": {
    "scrolled": true
   },
   "outputs": [],
   "source": [
    "cumV(FW1)"
   ]
  },
  {
   "cell_type": "code",
   "execution_count": null,
   "metadata": {},
   "outputs": [],
   "source": [
    "cumV(FW2)"
   ]
  },
  {
   "cell_type": "code",
   "execution_count": 170,
   "metadata": {
    "scrolled": true
   },
   "outputs": [
    {
     "data": {
      "text/plain": [
       "(array([736750.5, 736751. , 736751.5, 736752. , 736752.5, 736753. ,\n",
       "        736753.5, 736754. , 736754.5]), <a list of 9 Text xticklabel objects>)"
      ]
     },
     "execution_count": 170,
     "metadata": {},
     "output_type": "execute_result"
    },
    {
     "data": {
      "image/png": "[encoded data removed]",
      "text/plain": [
       "<Figure size 432x288 with 1 Axes>"
      ]
     },
     "metadata": {
      "needs_background": "light"
     },
     "output_type": "display_data"
    }
   ],
   "source": [
    "plt.plot(FW1.DateTime, FW1.incrVsum)\n",
    "plt.xticks(rotation=45) # added"
   ]
  },
  {
   "cell_type": "code",
   "execution_count": 171,
   "metadata": {},
   "outputs": [
    {
     "data": {
      "text/plain": [
       "(array([736750.5, 736751. , 736751.5, 736752. , 736752.5, 736753. ,\n",
       "        736753.5, 736754. , 736754.5]), <a list of 9 Text xticklabel objects>)"
      ]
     },
     "execution_count": 171,
     "metadata": {},
     "output_type": "execute_result"
    },
    {
     "data": {
      "image/png": "[encoded data removed]",
      "text/plain": [
       "<Figure size 432x288 with 1 Axes>"
      ]
     },
     "metadata": {
      "needs_background": "light"
     },
     "output_type": "display_data"
    }
   ],
   "source": [
    "plt.plot(FW2.DateTime, FW2.incrVsum)\n",
    "plt.xticks(rotation=45) # added"
   ]
  },
  {
   "cell_type": "code",
   "execution_count": 172,
   "metadata": {},
   "outputs": [],
   "source": [
    "def rate(df):\n",
    "    \"\"\"\n",
    "    Calculates flow rate of the waste stream as l/h and adds it to a new rate column.\n",
    "\n",
    "    :input: Name of the dataframe.\n",
    "\n",
    "    :return: pandas dataframe with new .\n",
    "    \"\"\"\n",
    "    # Flow rate l/h from 1 h earlier to that moment\n",
    "    df['lhFlow'] = df.incrVsum.diff(periods=720)*1000\n",
    "    df.dropna(inplace=True)\n",
    "    df.lhFlow.where(df.lhFlow > -2, 0, inplace=True)\n",
    "\n",
    "    return df"
   ]
  },
  {
   "cell_type": "code",
   "execution_count": null,
   "metadata": {
    "scrolled": true
   },
   "outputs": [],
   "source": [
    "rate(FW1)"
   ]
  },
  {
   "cell_type": "code",
   "execution_count": null,
   "metadata": {
    "scrolled": true
   },
   "outputs": [],
   "source": [
    "rate(FW2)"
   ]
  },
  {
   "cell_type": "code",
   "execution_count": 175,
   "metadata": {},
   "outputs": [
    {
     "data": {
      "text/plain": [
       "(array([736751. , 736751.5, 736752. , 736752.5, 736753. , 736753.5,\n",
       "        736754. , 736754.5]), <a list of 8 Text xticklabel objects>)"
      ]
     },
     "execution_count": 175,
     "metadata": {},
     "output_type": "execute_result"
    },
    {
     "data": {
      "image/png": "[encoded data removed]",
      "text/plain": [
       "<Figure size 432x288 with 1 Axes>"
      ]
     },
     "metadata": {
      "needs_background": "light"
     },
     "output_type": "display_data"
    }
   ],
   "source": [
    "plt.plot(FW1.DateTime, FW1.lhFlow)\n",
    "plt.xticks(rotation=45) # added"
   ]
  },
  {
   "cell_type": "code",
   "execution_count": 176,
   "metadata": {},
   "outputs": [
    {
     "data": {
      "text/plain": [
       "(array([736751. , 736751.5, 736752. , 736752.5, 736753. , 736753.5,\n",
       "        736754. , 736754.5]), <a list of 8 Text xticklabel objects>)"
      ]
     },
     "execution_count": 176,
     "metadata": {},
     "output_type": "execute_result"
    },
    {
     "data": {
      "image/png": "[encoded data removed]",
      "text/plain": [
       "<Figure size 432x288 with 1 Axes>"
      ]
     },
     "metadata": {
      "needs_background": "light"
     },
     "output_type": "display_data"
    }
   ],
   "source": [
    "plt.plot(FW2.DateTime, FW2.lhFlow)\n",
    "plt.xticks(rotation=45) # added"
   ]
  },
  {
   "cell_type": "code",
   "execution_count": 177,
   "metadata": {},
   "outputs": [],
   "source": [
    "from sklearn.linear_model import LinearRegression\n",
    "\n",
    "lm = LinearRegression(fit_intercept=False)"
   ]
  },
  {
   "cell_type": "code",
   "execution_count": 178,
   "metadata": {},
   "outputs": [
    {
     "data": {
      "text/plain": [
       "pandas.core.series.Series"
      ]
     },
     "execution_count": 178,
     "metadata": {},
     "output_type": "execute_result"
    }
   ],
   "source": [
    "# Type check: 1-dimensional that needs to convert to 2-dim. for fitting the model on data.\n",
    "type(FW1.DateTime)"
   ]
  },
  {
   "cell_type": "code",
   "execution_count": 179,
   "metadata": {},
   "outputs": [
    {
     "data": {
      "text/plain": [
       "pandas.core.series.Series"
      ]
     },
     "execution_count": 179,
     "metadata": {},
     "output_type": "execute_result"
    }
   ],
   "source": [
    "type(FW2.DateTime)"
   ]
  },
  {
   "cell_type": "markdown",
   "metadata": {},
   "source": [
    "**Solution: DateTime datatype needs to be converted to float-dtype to be able to fit the model:**  "
   ]
  },
  {
   "cell_type": "code",
   "execution_count": null,
   "metadata": {},
   "outputs": [],
   "source": [
    "# Conversion 0f DateTime to float\n",
    "FW1['FloatingDateTime'] =FW1['DateTime'].apply(lambda x: x.timestamp())"
   ]
  },
  {
   "cell_type": "code",
   "execution_count": null,
   "metadata": {},
   "outputs": [],
   "source": [
    "FW2['FloatingDateTime'] =FW2['DateTime'].apply(lambda x: x.timestamp())"
   ]
  },
  {
   "cell_type": "code",
   "execution_count": 182,
   "metadata": {
    "scrolled": false
   },
   "outputs": [
    {
     "data": {
      "text/html": [
       "<div>\n",
       "<style scoped>\n",
       "    .dataframe tbody tr th:only-of-type {\n",
       "        vertical-align: middle;\n",
       "    }\n",
       "\n",
       "    .dataframe tbody tr th {\n",
       "        vertical-align: top;\n",
       "    }\n",
       "\n",
       "    .dataframe thead th {\n",
       "        text-align: right;\n",
       "    }\n",
       "</style>\n",
       "<table border=\"1\" class=\"dataframe\">\n",
       "  <thead>\n",
       "    <tr style=\"text-align: right;\">\n",
       "      <th></th>\n",
       "      <th>VarName</th>\n",
       "      <th>TimeString</th>\n",
       "      <th>VarValue</th>\n",
       "      <th>Validity</th>\n",
       "      <th>Time_ms</th>\n",
       "      <th>DateTime</th>\n",
       "      <th>Diff</th>\n",
       "      <th>incrVsum</th>\n",
       "      <th>lhFlow</th>\n",
       "      <th>FloatingDateTime</th>\n",
       "    </tr>\n",
       "  </thead>\n",
       "  <tbody>\n",
       "    <tr>\n",
       "      <th>4325</th>\n",
       "      <td>FOODWASTE_TANK_A_LEVEL_TREND</td>\n",
       "      <td>25.02.2018 17:08:04</td>\n",
       "      <td>50</td>\n",
       "      <td>1</td>\n",
       "      <td>43156713934,7454</td>\n",
       "      <td>2018-02-25 17:08:04</td>\n",
       "      <td>0.0</td>\n",
       "      <td>0.3</td>\n",
       "      <td>300.0</td>\n",
       "      <td>1.519578e+09</td>\n",
       "    </tr>\n",
       "    <tr>\n",
       "      <th>4332</th>\n",
       "      <td>FOODWASTE_TANK_A_LEVEL_TREND</td>\n",
       "      <td>25.02.2018 17:08:09</td>\n",
       "      <td>50</td>\n",
       "      <td>1</td>\n",
       "      <td>43156713993,2176</td>\n",
       "      <td>2018-02-25 17:08:09</td>\n",
       "      <td>0.0</td>\n",
       "      <td>0.3</td>\n",
       "      <td>300.0</td>\n",
       "      <td>1.519578e+09</td>\n",
       "    </tr>\n",
       "    <tr>\n",
       "      <th>4337</th>\n",
       "      <td>FOODWASTE_TANK_A_LEVEL_TREND</td>\n",
       "      <td>25.02.2018 17:08:14</td>\n",
       "      <td>50</td>\n",
       "      <td>1</td>\n",
       "      <td>43156714051,6782</td>\n",
       "      <td>2018-02-25 17:08:14</td>\n",
       "      <td>0.0</td>\n",
       "      <td>0.3</td>\n",
       "      <td>300.0</td>\n",
       "      <td>1.519578e+09</td>\n",
       "    </tr>\n",
       "    <tr>\n",
       "      <th>4344</th>\n",
       "      <td>FOODWASTE_TANK_A_LEVEL_TREND</td>\n",
       "      <td>25.02.2018 17:08:19</td>\n",
       "      <td>50</td>\n",
       "      <td>1</td>\n",
       "      <td>43156714110,1505</td>\n",
       "      <td>2018-02-25 17:08:19</td>\n",
       "      <td>0.0</td>\n",
       "      <td>0.3</td>\n",
       "      <td>300.0</td>\n",
       "      <td>1.519578e+09</td>\n",
       "    </tr>\n",
       "    <tr>\n",
       "      <th>4349</th>\n",
       "      <td>FOODWASTE_TANK_A_LEVEL_TREND</td>\n",
       "      <td>25.02.2018 17:08:24</td>\n",
       "      <td>50</td>\n",
       "      <td>1</td>\n",
       "      <td>43156714168,6227</td>\n",
       "      <td>2018-02-25 17:08:24</td>\n",
       "      <td>0.0</td>\n",
       "      <td>0.3</td>\n",
       "      <td>300.0</td>\n",
       "      <td>1.519579e+09</td>\n",
       "    </tr>\n",
       "  </tbody>\n",
       "</table>\n",
       "</div>"
      ],
      "text/plain": [
       "                           VarName           TimeString  VarValue  Validity  \\\n",
       "4325  FOODWASTE_TANK_A_LEVEL_TREND  25.02.2018 17:08:04        50         1   \n",
       "4332  FOODWASTE_TANK_A_LEVEL_TREND  25.02.2018 17:08:09        50         1   \n",
       "4337  FOODWASTE_TANK_A_LEVEL_TREND  25.02.2018 17:08:14        50         1   \n",
       "4344  FOODWASTE_TANK_A_LEVEL_TREND  25.02.2018 17:08:19        50         1   \n",
       "4349  FOODWASTE_TANK_A_LEVEL_TREND  25.02.2018 17:08:24        50         1   \n",
       "\n",
       "               Time_ms            DateTime  Diff  incrVsum  lhFlow  \\\n",
       "4325  43156713934,7454 2018-02-25 17:08:04   0.0       0.3   300.0   \n",
       "4332  43156713993,2176 2018-02-25 17:08:09   0.0       0.3   300.0   \n",
       "4337  43156714051,6782 2018-02-25 17:08:14   0.0       0.3   300.0   \n",
       "4344  43156714110,1505 2018-02-25 17:08:19   0.0       0.3   300.0   \n",
       "4349  43156714168,6227 2018-02-25 17:08:24   0.0       0.3   300.0   \n",
       "\n",
       "      FloatingDateTime  \n",
       "4325      1.519578e+09  \n",
       "4332      1.519578e+09  \n",
       "4337      1.519578e+09  \n",
       "4344      1.519578e+09  \n",
       "4349      1.519579e+09  "
      ]
     },
     "execution_count": 182,
     "metadata": {},
     "output_type": "execute_result"
    }
   ],
   "source": [
    "FW1.head()"
   ]
  },
  {
   "cell_type": "code",
   "execution_count": 183,
   "metadata": {},
   "outputs": [
    {
     "data": {
      "text/html": [
       "<div>\n",
       "<style scoped>\n",
       "    .dataframe tbody tr th:only-of-type {\n",
       "        vertical-align: middle;\n",
       "    }\n",
       "\n",
       "    .dataframe tbody tr th {\n",
       "        vertical-align: top;\n",
       "    }\n",
       "\n",
       "    .dataframe thead th {\n",
       "        text-align: right;\n",
       "    }\n",
       "</style>\n",
       "<table border=\"1\" class=\"dataframe\">\n",
       "  <thead>\n",
       "    <tr style=\"text-align: right;\">\n",
       "      <th></th>\n",
       "      <th>VarName</th>\n",
       "      <th>TimeString</th>\n",
       "      <th>VarValue</th>\n",
       "      <th>Validity</th>\n",
       "      <th>Time_ms</th>\n",
       "      <th>DateTime</th>\n",
       "      <th>Diff</th>\n",
       "      <th>incrVsum</th>\n",
       "      <th>lhFlow</th>\n",
       "      <th>FloatingDateTime</th>\n",
       "    </tr>\n",
       "  </thead>\n",
       "  <tbody>\n",
       "    <tr>\n",
       "      <th>4325</th>\n",
       "      <td>FOODWASTE_TANK_B_LEVEL_TREND</td>\n",
       "      <td>25.02.2018 17:08:04</td>\n",
       "      <td>18</td>\n",
       "      <td>1</td>\n",
       "      <td>43156713934,7454</td>\n",
       "      <td>2018-02-25 17:08:04</td>\n",
       "      <td>0.0</td>\n",
       "      <td>0.3</td>\n",
       "      <td>300.0</td>\n",
       "      <td>1.519578e+09</td>\n",
       "    </tr>\n",
       "    <tr>\n",
       "      <th>4332</th>\n",
       "      <td>FOODWASTE_TANK_B_LEVEL_TREND</td>\n",
       "      <td>25.02.2018 17:08:09</td>\n",
       "      <td>18</td>\n",
       "      <td>1</td>\n",
       "      <td>43156713993,2176</td>\n",
       "      <td>2018-02-25 17:08:09</td>\n",
       "      <td>0.0</td>\n",
       "      <td>0.3</td>\n",
       "      <td>250.0</td>\n",
       "      <td>1.519578e+09</td>\n",
       "    </tr>\n",
       "    <tr>\n",
       "      <th>4337</th>\n",
       "      <td>FOODWASTE_TANK_B_LEVEL_TREND</td>\n",
       "      <td>25.02.2018 17:08:14</td>\n",
       "      <td>18</td>\n",
       "      <td>1</td>\n",
       "      <td>43156714051,6782</td>\n",
       "      <td>2018-02-25 17:08:14</td>\n",
       "      <td>0.0</td>\n",
       "      <td>0.3</td>\n",
       "      <td>300.0</td>\n",
       "      <td>1.519578e+09</td>\n",
       "    </tr>\n",
       "    <tr>\n",
       "      <th>4344</th>\n",
       "      <td>FOODWASTE_TANK_B_LEVEL_TREND</td>\n",
       "      <td>25.02.2018 17:08:19</td>\n",
       "      <td>18</td>\n",
       "      <td>1</td>\n",
       "      <td>43156714110,1505</td>\n",
       "      <td>2018-02-25 17:08:19</td>\n",
       "      <td>0.0</td>\n",
       "      <td>0.3</td>\n",
       "      <td>250.0</td>\n",
       "      <td>1.519578e+09</td>\n",
       "    </tr>\n",
       "    <tr>\n",
       "      <th>4349</th>\n",
       "      <td>FOODWASTE_TANK_B_LEVEL_TREND</td>\n",
       "      <td>25.02.2018 17:08:24</td>\n",
       "      <td>18</td>\n",
       "      <td>1</td>\n",
       "      <td>43156714168,6227</td>\n",
       "      <td>2018-02-25 17:08:24</td>\n",
       "      <td>0.0</td>\n",
       "      <td>0.3</td>\n",
       "      <td>300.0</td>\n",
       "      <td>1.519579e+09</td>\n",
       "    </tr>\n",
       "  </tbody>\n",
       "</table>\n",
       "</div>"
      ],
      "text/plain": [
       "                           VarName           TimeString  VarValue  Validity  \\\n",
       "4325  FOODWASTE_TANK_B_LEVEL_TREND  25.02.2018 17:08:04        18         1   \n",
       "4332  FOODWASTE_TANK_B_LEVEL_TREND  25.02.2018 17:08:09        18         1   \n",
       "4337  FOODWASTE_TANK_B_LEVEL_TREND  25.02.2018 17:08:14        18         1   \n",
       "4344  FOODWASTE_TANK_B_LEVEL_TREND  25.02.2018 17:08:19        18         1   \n",
       "4349  FOODWASTE_TANK_B_LEVEL_TREND  25.02.2018 17:08:24        18         1   \n",
       "\n",
       "               Time_ms            DateTime  Diff  incrVsum  lhFlow  \\\n",
       "4325  43156713934,7454 2018-02-25 17:08:04   0.0       0.3   300.0   \n",
       "4332  43156713993,2176 2018-02-25 17:08:09   0.0       0.3   250.0   \n",
       "4337  43156714051,6782 2018-02-25 17:08:14   0.0       0.3   300.0   \n",
       "4344  43156714110,1505 2018-02-25 17:08:19   0.0       0.3   250.0   \n",
       "4349  43156714168,6227 2018-02-25 17:08:24   0.0       0.3   300.0   \n",
       "\n",
       "      FloatingDateTime  \n",
       "4325      1.519578e+09  \n",
       "4332      1.519578e+09  \n",
       "4337      1.519578e+09  \n",
       "4344      1.519578e+09  \n",
       "4349      1.519579e+09  "
      ]
     },
     "execution_count": 183,
     "metadata": {},
     "output_type": "execute_result"
    }
   ],
   "source": [
    "FW2.head()"
   ]
  },
  {
   "cell_type": "markdown",
   "metadata": {},
   "source": [
    "## It seems that the linear regression model does not represent the pattern of flow rates. The data is split into Sea and port times:"
   ]
  },
  {
   "cell_type": "code",
   "execution_count": 184,
   "metadata": {},
   "outputs": [],
   "source": [
    "def inPort(df, arrival, departure):\n",
    "    \"\"\"\n",
    "    Slices from the DataFrame the time period when the ship is in the port.\n",
    "\n",
    "    :input: Name of the dataframe. Port arrival and departure as DateTime parameters in quotes ('').\n",
    "\n",
    "    :return: pandas dataframe containing the data from the staying in port.\n",
    "    \"\"\"\n",
    "    df1 = df.loc[df['DateTime'] > arrival]\n",
    "    portTime = df1.loc[df1['DateTime'] < departure]\n",
    "    \n",
    "    return portTime"
   ]
  },
  {
   "cell_type": "code",
   "execution_count": 185,
   "metadata": {},
   "outputs": [],
   "source": [
    "FW1Port = inPort(FW1, '2018-02-26 07:00:00', '2018-02-26 17:00:00')"
   ]
  },
  {
   "cell_type": "code",
   "execution_count": null,
   "metadata": {},
   "outputs": [],
   "source": [
    "FW1Port.head()"
   ]
  },
  {
   "cell_type": "code",
   "execution_count": null,
   "metadata": {},
   "outputs": [],
   "source": [
    "FW1Port.tail()"
   ]
  },
  {
   "cell_type": "code",
   "execution_count": 188,
   "metadata": {},
   "outputs": [
    {
     "data": {
      "text/plain": [
       "(array([736751.29166667, 736751.33333333, 736751.375     , 736751.41666667,\n",
       "        736751.45833333, 736751.5       , 736751.54166667, 736751.58333333,\n",
       "        736751.625     , 736751.66666667, 736751.70833333]),\n",
       " <a list of 11 Text xticklabel objects>)"
      ]
     },
     "execution_count": 188,
     "metadata": {},
     "output_type": "execute_result"
    },
    {
     "data": {
      "image/png": "[encoded data removed]",
      "text/plain": [
       "<Figure size 432x288 with 1 Axes>"
      ]
     },
     "metadata": {
      "needs_background": "light"
     },
     "output_type": "display_data"
    }
   ],
   "source": [
    "plt.plot(FW1Port.DateTime, FW1Port.lhFlow)\n",
    "plt.xticks(rotation=45) # added"
   ]
  },
  {
   "cell_type": "code",
   "execution_count": 189,
   "metadata": {},
   "outputs": [],
   "source": [
    "FW2Port = inPort(FW2, '2018-02-26 07:00:00', '2018-02-26 17:00:00')"
   ]
  },
  {
   "cell_type": "code",
   "execution_count": 190,
   "metadata": {},
   "outputs": [
    {
     "data": {
      "text/plain": [
       "(array([736751.29166667, 736751.33333333, 736751.375     , 736751.41666667,\n",
       "        736751.45833333, 736751.5       , 736751.54166667, 736751.58333333,\n",
       "        736751.625     , 736751.66666667, 736751.70833333]),\n",
       " <a list of 11 Text xticklabel objects>)"
      ]
     },
     "execution_count": 190,
     "metadata": {},
     "output_type": "execute_result"
    },
    {
     "data": {
      "image/png": "[encoded data removed]",
      "text/plain": [
       "<Figure size 432x288 with 1 Axes>"
      ]
     },
     "metadata": {
      "needs_background": "light"
     },
     "output_type": "display_data"
    }
   ],
   "source": [
    "plt.plot(FW2Port.DateTime, FW2Port.lhFlow)\n",
    "plt.xticks(rotation=45) # added"
   ]
  },
  {
   "cell_type": "code",
   "execution_count": 234,
   "metadata": {},
   "outputs": [],
   "source": [
    "FWPort = pd.merge(FW1Port, FW2Port, on='DateTime')"
   ]
  },
  {
   "cell_type": "code",
   "execution_count": 244,
   "metadata": {},
   "outputs": [
    {
     "name": "stdout",
     "output_type": "stream",
     "text": [
      "Index(['VarName_x', 'TimeString_x', 'VarValue_x', 'Validity_x', 'Time_ms_x',\n",
      "       'DateTime', 'Diff_x', 'incrVsum_x', 'lhFlow_x', 'FloatingDateTime_x',\n",
      "       'PJ_pred', 'P_pred_x', 'VarName_y', 'TimeString_y', 'VarValue_y',\n",
      "       'Validity_y', 'Time_ms_y', 'Diff_y', 'incrVsum_y', 'lhFlow_y',\n",
      "       'FloatingDateTime_y', 'P_pred_y', 'lhTot'],\n",
      "      dtype='object')\n"
     ]
    }
   ],
   "source": [
    "print(FWPort.columns)"
   ]
  },
  {
   "cell_type": "code",
   "execution_count": 239,
   "metadata": {},
   "outputs": [],
   "source": [
    "FWPort['lhTot'] = FWPort.apply(lambda x: x['lhFlow_x'] + x['lhFlow_y'], axis=1)"
   ]
  },
  {
   "cell_type": "markdown",
   "metadata": {},
   "source": [
    "**Combined flow of FW1 an FW2 in the port:**"
   ]
  },
  {
   "cell_type": "code",
   "execution_count": 241,
   "metadata": {},
   "outputs": [
    {
     "data": {
      "text/plain": [
       "(array([736751.29166667, 736751.33333333, 736751.375     , 736751.41666667,\n",
       "        736751.45833333, 736751.5       , 736751.54166667, 736751.58333333,\n",
       "        736751.625     , 736751.66666667, 736751.70833333]),\n",
       " <a list of 11 Text xticklabel objects>)"
      ]
     },
     "execution_count": 241,
     "metadata": {},
     "output_type": "execute_result"
    },
    {
     "data": {
      "image/png": "[encoded data removed]",
      "text/plain": [
       "<Figure size 432x288 with 1 Axes>"
      ]
     },
     "metadata": {
      "needs_background": "light"
     },
     "output_type": "display_data"
    }
   ],
   "source": [
    "plt.plot(FWPort.DateTime, FWPort.lhTot)\n",
    "plt.xticks(rotation=45) # added"
   ]
  },
  {
   "cell_type": "markdown",
   "metadata": {},
   "source": [
    "**Linear regression model for FW1 and FW2 in port condition:**"
   ]
  },
  {
   "cell_type": "code",
   "execution_count": 193,
   "metadata": {},
   "outputs": [],
   "source": [
    "Plm = LinearRegression(fit_intercept=False)\n",
    "X1P = pd.DataFrame(FW1Port.FloatingDateTime)\n",
    "y1P = pd.DataFrame(FW1Port.lhFlow)\n",
    "Plm.fit(X1P, y1P)\n",
    "FW1Port['P_pred'] = Plm.predict(X1P)"
   ]
  },
  {
   "cell_type": "code",
   "execution_count": 199,
   "metadata": {},
   "outputs": [
    {
     "data": {
      "text/plain": [
       "numpy.ndarray"
      ]
     },
     "execution_count": 199,
     "metadata": {},
     "output_type": "execute_result"
    }
   ],
   "source": [
    "type(FW1Port.P_pred.values) # D-type of prediction column"
   ]
  },
  {
   "cell_type": "code",
   "execution_count": 217,
   "metadata": {},
   "outputs": [
    {
     "name": "stdout",
     "output_type": "stream",
     "text": [
      "802.1595957468346\n"
     ]
    }
   ],
   "source": [
    "print(FW1Port.P_pred.iloc[0]) # <-- 1st degree predicted values"
   ]
  },
  {
   "cell_type": "code",
   "execution_count": 228,
   "metadata": {},
   "outputs": [
    {
     "data": {
      "text/plain": [
       "<matplotlib.collections.PathCollection at 0x1a5c9daef0>"
      ]
     },
     "execution_count": 228,
     "metadata": {},
     "output_type": "execute_result"
    },
    {
     "data": {
      "image/png": "[encoded data removed]",
      "text/plain": [
       "<Figure size 432x288 with 1 Axes>"
      ]
     },
     "metadata": {
      "needs_background": "light"
     },
     "output_type": "display_data"
    }
   ],
   "source": [
    "# Plot the model against the data:\n",
    "plt.plot(FW1Port.FloatingDateTime,FW1Port.P_pred,'-')\n",
    "plt.scatter(FW1Port.FloatingDateTime,FW1Port.lhFlow)"
   ]
  },
  {
   "cell_type": "code",
   "execution_count": 196,
   "metadata": {},
   "outputs": [],
   "source": [
    "X2P = pd.DataFrame(FW2Port.FloatingDateTime)\n",
    "y2P = pd.DataFrame(FW2Port.lhFlow)\n",
    "Plm.fit(X2P, y2P)\n",
    "FW2Port['P_pred'] = Plm.predict(X2P)"
   ]
  },
  {
   "cell_type": "code",
   "execution_count": 204,
   "metadata": {},
   "outputs": [
    {
     "data": {
      "text/plain": [
       "numpy.ndarray"
      ]
     },
     "execution_count": 204,
     "metadata": {},
     "output_type": "execute_result"
    }
   ],
   "source": [
    "type(FW2Port.P_pred.values) # D-type of prediction column"
   ]
  },
  {
   "cell_type": "code",
   "execution_count": 203,
   "metadata": {},
   "outputs": [
    {
     "name": "stdout",
     "output_type": "stream",
     "text": [
      "3193.6500664705245\n"
     ]
    }
   ],
   "source": [
    "print(FW2Port.P_pred.iloc[0]) # <-- 1st degree predicted values"
   ]
  },
  {
   "cell_type": "code",
   "execution_count": 229,
   "metadata": {},
   "outputs": [
    {
     "data": {
      "text/plain": [
       "<matplotlib.collections.PathCollection at 0x1a5cda04a8>"
      ]
     },
     "execution_count": 229,
     "metadata": {},
     "output_type": "execute_result"
    },
    {
     "data": {
      "image/png": "[encoded data removed]",
      "text/plain": [
       "<Figure size 432x288 with 1 Axes>"
      ]
     },
     "metadata": {
      "needs_background": "light"
     },
     "output_type": "display_data"
    }
   ],
   "source": [
    "# Plot the model against the data:\n",
    "plt.plot(FW2Port.FloatingDateTime,FW2Port.P_pred,'-')\n",
    "plt.scatter(FW2Port.FloatingDateTime,FW2Port.lhFlow)"
   ]
  },
  {
   "cell_type": "markdown",
   "metadata": {},
   "source": [
    "**Polynomial regression model combined FW flow in port condition:**"
   ]
  },
  {
   "cell_type": "code",
   "execution_count": 242,
   "metadata": {},
   "outputs": [],
   "source": [
    "from sklearn.preprocessing import PolynomialFeatures"
   ]
  },
  {
   "cell_type": "code",
   "execution_count": 264,
   "metadata": {},
   "outputs": [],
   "source": [
    "poly_regP = PolynomialFeatures(degree=4)"
   ]
  },
  {
   "cell_type": "code",
   "execution_count": 265,
   "metadata": {},
   "outputs": [],
   "source": [
    "XP = pd.DataFrame(FWPort.FloatingDateTime_x)\n",
    "yP = pd.DataFrame(FWPort.lhTot)"
   ]
  },
  {
   "cell_type": "code",
   "execution_count": 266,
   "metadata": {},
   "outputs": [],
   "source": [
    "X_polyP = poly_regP.fit_transform(XP)"
   ]
  },
  {
   "cell_type": "code",
   "execution_count": 267,
   "metadata": {},
   "outputs": [],
   "source": [
    "pol_reg = LinearRegression()"
   ]
  },
  {
   "cell_type": "code",
   "execution_count": 268,
   "metadata": {},
   "outputs": [
    {
     "data": {
      "text/plain": [
       "LinearRegression(copy_X=True, fit_intercept=True, n_jobs=None,\n",
       "         normalize=False)"
      ]
     },
     "execution_count": 268,
     "metadata": {},
     "output_type": "execute_result"
    }
   ],
   "source": [
    "pol_reg.fit(X_polyP, yP)"
   ]
  },
  {
   "cell_type": "code",
   "execution_count": 269,
   "metadata": {},
   "outputs": [
    {
     "data": {
      "text/plain": [
       "<matplotlib.collections.PathCollection at 0x1a5f1d2a20>"
      ]
     },
     "execution_count": 269,
     "metadata": {},
     "output_type": "execute_result"
    },
    {
     "data": {
      "image/png": "[encoded data removed]",
      "text/plain": [
       "<Figure size 432x288 with 1 Axes>"
      ]
     },
     "metadata": {
      "needs_background": "light"
     },
     "output_type": "display_data"
    }
   ],
   "source": [
    "# Plot the polynomial model against the data:\n",
    "plt.plot(XP,pol_reg.predict(X_polyP), color='red')\n",
    "plt.scatter(FWPort.FloatingDateTime_x,FWPort.lhTot)"
   ]
  },
  {
   "cell_type": "code",
   "execution_count": 273,
   "metadata": {},
   "outputs": [],
   "source": [
    "from sklearn.pipeline import make_pipeline"
   ]
  },
  {
   "cell_type": "code",
   "execution_count": 319,
   "metadata": {},
   "outputs": [],
   "source": [
    "poly_modelP = make_pipeline(PolynomialFeatures(4), LinearRegression())\n",
    "poly_modelP.fit(X_polyP, yP)\n",
    "yPfit = poly_modelP.predict(X_polyP)"
   ]
  },
  {
   "cell_type": "code",
   "execution_count": 320,
   "metadata": {},
   "outputs": [
    {
     "data": {
      "text/plain": [
       "<matplotlib.collections.PathCollection at 0x1a678ac390>"
      ]
     },
     "execution_count": 320,
     "metadata": {},
     "output_type": "execute_result"
    },
    {
     "data": {
      "image/png": "[encoded data removed]",
      "text/plain": [
       "<Figure size 432x288 with 1 Axes>"
      ]
     },
     "metadata": {
      "needs_background": "light"
     },
     "output_type": "display_data"
    }
   ],
   "source": [
    "# Plot the sklearn.pipeline-based polynomial model against the data:\n",
    "plt.plot(XP,yPfit, color='red')\n",
    "plt.scatter(FWPort.FloatingDateTime_x,FWPort.lhTot)"
   ]
  },
  {
   "cell_type": "markdown",
   "metadata": {},
   "source": [
    "**Conclusion: different method did not change the model that much**"
   ]
  },
  {
   "cell_type": "markdown",
   "metadata": {},
   "source": [
    "## Test data fro MS2 according to the itinerary:\n",
    "\n",
    "\n",
    "- 30 Apr 22:00\tDeparting from Palma de Mallorca, Majorca Island, Spain\n",
    "\n",
    "- 02 May 08:00 - 19:00\tAjaccio, Corsica, France\n",
    "\n",
    "- 03 May 07:00 - 20:00\tCivitavecchia, Rome, Italy\n",
    "\n",
    "- 04 May 07:30 - 19:00\tLa Spezia, Italy\n",
    "\n",
    "- 05 May 07:00 - 19:00\tCannes, France Riviera\n",
    "\n",
    "- 06 May 08:00 - 19:00\tMarseille, France Riviera\n",
    "\n",
    "- 07 May 19:00 - 08 May 18:00\tBarcelona, Spain\n",
    "\n"
   ]
  },
  {
   "cell_type": "code",
   "execution_count": 346,
   "metadata": {},
   "outputs": [],
   "source": [
    "# Civitavecchia, Rome, Italy (3rd May) was selected as test data\n",
    "TestDF = pd.read_excel('TestDataForMLModel/daily 2019-05-05.xlsx')"
   ]
  },
  {
   "cell_type": "code",
   "execution_count": 347,
   "metadata": {},
   "outputs": [
    {
     "data": {
      "text/html": [
       "<div>\n",
       "<style scoped>\n",
       "    .dataframe tbody tr th:only-of-type {\n",
       "        vertical-align: middle;\n",
       "    }\n",
       "\n",
       "    .dataframe tbody tr th {\n",
       "        vertical-align: top;\n",
       "    }\n",
       "\n",
       "    .dataframe thead th {\n",
       "        text-align: right;\n",
       "    }\n",
       "</style>\n",
       "<table border=\"1\" class=\"dataframe\">\n",
       "  <thead>\n",
       "    <tr style=\"text-align: right;\">\n",
       "      <th></th>\n",
       "      <th>Timestamp</th>\n",
       "      <th>motorRuntimeCounters[0]</th>\n",
       "      <th>motorRuntimeCounters[1]</th>\n",
       "      <th>motorRuntimeCounters[2]</th>\n",
       "      <th>motorRuntimeCounters[3]</th>\n",
       "      <th>motorRuntimeCounters[4]</th>\n",
       "      <th>motorRuntimeCounters[5]</th>\n",
       "      <th>motorRuntimeCounters[6]</th>\n",
       "      <th>motorRuntimeCounters[7]</th>\n",
       "      <th>motorRuntimeCounters[8]</th>\n",
       "      <th>...</th>\n",
       "      <th>Valves_counters[67]</th>\n",
       "      <th>Valves_counters[68]</th>\n",
       "      <th>Valves_counters[69]</th>\n",
       "      <th>Valves_counters[70]</th>\n",
       "      <th>Valves_counters[71]</th>\n",
       "      <th>Valves_counters[72]</th>\n",
       "      <th>Valves_counters[73]</th>\n",
       "      <th>Valves_counters[74]</th>\n",
       "      <th>Valves_counters[75]</th>\n",
       "      <th>Valves_counters[76]</th>\n",
       "    </tr>\n",
       "  </thead>\n",
       "  <tbody>\n",
       "    <tr>\n",
       "      <th>0</th>\n",
       "      <td>NaN</td>\n",
       "      <td>Incinerator 1M1. Exhaust gas fan</td>\n",
       "      <td>Incinerator 2M1. Solid waste silo filling screw</td>\n",
       "      <td>Incinerator 3M1. Solid waste silo stoker M2A</td>\n",
       "      <td>Incinerator 4M1. Solid waste silo stoker M2B</td>\n",
       "      <td>Incinerator 5M1. Primary burner fan</td>\n",
       "      <td>Incinerator 6M1. Secondary burner fan</td>\n",
       "      <td>Incinerator 7M1. Dry waste silo outlet fan</td>\n",
       "      <td>Incinerator 8M1. Dried food waste conveyor</td>\n",
       "      <td>Incinerator 9M1. Hydraulic pump unit M10</td>\n",
       "      <td>...</td>\n",
       "      <td>Valves counters 67</td>\n",
       "      <td>Valves counters 68</td>\n",
       "      <td>Valves counters 69</td>\n",
       "      <td>Valves counters 70</td>\n",
       "      <td>Valves counters 71</td>\n",
       "      <td>Valves counters 72</td>\n",
       "      <td>Valves counters 73</td>\n",
       "      <td>Valves counters 74</td>\n",
       "      <td>Valves counters 75</td>\n",
       "      <td>Valves counters 76</td>\n",
       "    </tr>\n",
       "    <tr>\n",
       "      <th>1</th>\n",
       "      <td>2019-05-05T00:00:02.7300000Z</td>\n",
       "      <td>NaN</td>\n",
       "      <td>NaN</td>\n",
       "      <td>NaN</td>\n",
       "      <td>NaN</td>\n",
       "      <td>NaN</td>\n",
       "      <td>NaN</td>\n",
       "      <td>NaN</td>\n",
       "      <td>NaN</td>\n",
       "      <td>NaN</td>\n",
       "      <td>...</td>\n",
       "      <td>NaN</td>\n",
       "      <td>NaN</td>\n",
       "      <td>NaN</td>\n",
       "      <td>NaN</td>\n",
       "      <td>NaN</td>\n",
       "      <td>NaN</td>\n",
       "      <td>NaN</td>\n",
       "      <td>NaN</td>\n",
       "      <td>NaN</td>\n",
       "      <td>NaN</td>\n",
       "    </tr>\n",
       "    <tr>\n",
       "      <th>2</th>\n",
       "      <td>2019-05-05T00:00:03.7300000Z</td>\n",
       "      <td>NaN</td>\n",
       "      <td>NaN</td>\n",
       "      <td>NaN</td>\n",
       "      <td>NaN</td>\n",
       "      <td>NaN</td>\n",
       "      <td>NaN</td>\n",
       "      <td>NaN</td>\n",
       "      <td>NaN</td>\n",
       "      <td>NaN</td>\n",
       "      <td>...</td>\n",
       "      <td>NaN</td>\n",
       "      <td>NaN</td>\n",
       "      <td>NaN</td>\n",
       "      <td>NaN</td>\n",
       "      <td>NaN</td>\n",
       "      <td>NaN</td>\n",
       "      <td>NaN</td>\n",
       "      <td>NaN</td>\n",
       "      <td>NaN</td>\n",
       "      <td>NaN</td>\n",
       "    </tr>\n",
       "    <tr>\n",
       "      <th>3</th>\n",
       "      <td>2019-05-05T00:00:04.7300000Z</td>\n",
       "      <td>NaN</td>\n",
       "      <td>NaN</td>\n",
       "      <td>NaN</td>\n",
       "      <td>NaN</td>\n",
       "      <td>NaN</td>\n",
       "      <td>NaN</td>\n",
       "      <td>NaN</td>\n",
       "      <td>NaN</td>\n",
       "      <td>NaN</td>\n",
       "      <td>...</td>\n",
       "      <td>NaN</td>\n",
       "      <td>NaN</td>\n",
       "      <td>NaN</td>\n",
       "      <td>NaN</td>\n",
       "      <td>NaN</td>\n",
       "      <td>NaN</td>\n",
       "      <td>NaN</td>\n",
       "      <td>NaN</td>\n",
       "      <td>NaN</td>\n",
       "      <td>NaN</td>\n",
       "    </tr>\n",
       "    <tr>\n",
       "      <th>4</th>\n",
       "      <td>2019-05-05T00:00:05.7300000Z</td>\n",
       "      <td>NaN</td>\n",
       "      <td>NaN</td>\n",
       "      <td>NaN</td>\n",
       "      <td>NaN</td>\n",
       "      <td>NaN</td>\n",
       "      <td>NaN</td>\n",
       "      <td>NaN</td>\n",
       "      <td>NaN</td>\n",
       "      <td>NaN</td>\n",
       "      <td>...</td>\n",
       "      <td>NaN</td>\n",
       "      <td>NaN</td>\n",
       "      <td>NaN</td>\n",
       "      <td>NaN</td>\n",
       "      <td>NaN</td>\n",
       "      <td>NaN</td>\n",
       "      <td>NaN</td>\n",
       "      <td>NaN</td>\n",
       "      <td>NaN</td>\n",
       "      <td>NaN</td>\n",
       "    </tr>\n",
       "  </tbody>\n",
       "</table>\n",
       "<p>5 rows × 809 columns</p>\n",
       "</div>"
      ],
      "text/plain": [
       "                      Timestamp           motorRuntimeCounters[0]  \\\n",
       "0                           NaN  Incinerator 1M1. Exhaust gas fan   \n",
       "1  2019-05-05T00:00:02.7300000Z                               NaN   \n",
       "2  2019-05-05T00:00:03.7300000Z                               NaN   \n",
       "3  2019-05-05T00:00:04.7300000Z                               NaN   \n",
       "4  2019-05-05T00:00:05.7300000Z                               NaN   \n",
       "\n",
       "                           motorRuntimeCounters[1]  \\\n",
       "0  Incinerator 2M1. Solid waste silo filling screw   \n",
       "1                                              NaN   \n",
       "2                                              NaN   \n",
       "3                                              NaN   \n",
       "4                                              NaN   \n",
       "\n",
       "                        motorRuntimeCounters[2]  \\\n",
       "0  Incinerator 3M1. Solid waste silo stoker M2A   \n",
       "1                                           NaN   \n",
       "2                                           NaN   \n",
       "3                                           NaN   \n",
       "4                                           NaN   \n",
       "\n",
       "                        motorRuntimeCounters[3]  \\\n",
       "0  Incinerator 4M1. Solid waste silo stoker M2B   \n",
       "1                                           NaN   \n",
       "2                                           NaN   \n",
       "3                                           NaN   \n",
       "4                                           NaN   \n",
       "\n",
       "               motorRuntimeCounters[4]                motorRuntimeCounters[5]  \\\n",
       "0  Incinerator 5M1. Primary burner fan  Incinerator 6M1. Secondary burner fan   \n",
       "1                                  NaN                                    NaN   \n",
       "2                                  NaN                                    NaN   \n",
       "3                                  NaN                                    NaN   \n",
       "4                                  NaN                                    NaN   \n",
       "\n",
       "                      motorRuntimeCounters[6]  \\\n",
       "0  Incinerator 7M1. Dry waste silo outlet fan   \n",
       "1                                         NaN   \n",
       "2                                         NaN   \n",
       "3                                         NaN   \n",
       "4                                         NaN   \n",
       "\n",
       "                      motorRuntimeCounters[7]  \\\n",
       "0  Incinerator 8M1. Dried food waste conveyor   \n",
       "1                                         NaN   \n",
       "2                                         NaN   \n",
       "3                                         NaN   \n",
       "4                                         NaN   \n",
       "\n",
       "                    motorRuntimeCounters[8]         ...          \\\n",
       "0  Incinerator 9M1. Hydraulic pump unit M10         ...           \n",
       "1                                       NaN         ...           \n",
       "2                                       NaN         ...           \n",
       "3                                       NaN         ...           \n",
       "4                                       NaN         ...           \n",
       "\n",
       "  Valves_counters[67] Valves_counters[68] Valves_counters[69]  \\\n",
       "0  Valves counters 67  Valves counters 68  Valves counters 69   \n",
       "1                 NaN                 NaN                 NaN   \n",
       "2                 NaN                 NaN                 NaN   \n",
       "3                 NaN                 NaN                 NaN   \n",
       "4                 NaN                 NaN                 NaN   \n",
       "\n",
       "  Valves_counters[70] Valves_counters[71] Valves_counters[72]  \\\n",
       "0  Valves counters 70  Valves counters 71  Valves counters 72   \n",
       "1                 NaN                 NaN                 NaN   \n",
       "2                 NaN                 NaN                 NaN   \n",
       "3                 NaN                 NaN                 NaN   \n",
       "4                 NaN                 NaN                 NaN   \n",
       "\n",
       "  Valves_counters[73] Valves_counters[74] Valves_counters[75]  \\\n",
       "0  Valves counters 73  Valves counters 74  Valves counters 75   \n",
       "1                 NaN                 NaN                 NaN   \n",
       "2                 NaN                 NaN                 NaN   \n",
       "3                 NaN                 NaN                 NaN   \n",
       "4                 NaN                 NaN                 NaN   \n",
       "\n",
       "  Valves_counters[76]  \n",
       "0  Valves counters 76  \n",
       "1                 NaN  \n",
       "2                 NaN  \n",
       "3                 NaN  \n",
       "4                 NaN  \n",
       "\n",
       "[5 rows x 809 columns]"
      ]
     },
     "execution_count": 347,
     "metadata": {},
     "output_type": "execute_result"
    }
   ],
   "source": [
    "TestDF.head()"
   ]
  },
  {
   "cell_type": "code",
   "execution_count": 348,
   "metadata": {},
   "outputs": [
    {
     "name": "stdout",
     "output_type": "stream",
     "text": [
      "Index(['Timestamp', 'motorRuntimeCounters[0]', 'motorRuntimeCounters[1]',\n",
      "       'motorRuntimeCounters[2]', 'motorRuntimeCounters[3]',\n",
      "       'motorRuntimeCounters[4]', 'motorRuntimeCounters[5]',\n",
      "       'motorRuntimeCounters[6]', 'motorRuntimeCounters[7]',\n",
      "       'motorRuntimeCounters[8]',\n",
      "       ...\n",
      "       'Valves_counters[67]', 'Valves_counters[68]', 'Valves_counters[69]',\n",
      "       'Valves_counters[70]', 'Valves_counters[71]', 'Valves_counters[72]',\n",
      "       'Valves_counters[73]', 'Valves_counters[74]', 'Valves_counters[75]',\n",
      "       'Valves_counters[76]'],\n",
      "      dtype='object', length=809)\n"
     ]
    }
   ],
   "source": [
    "print(TestDF.columns)"
   ]
  },
  {
   "cell_type": "code",
   "execution_count": 351,
   "metadata": {},
   "outputs": [],
   "source": [
    "TestDFP = TestDF.loc[:, ['Timestamp', 'IW304_FW_Tank_A_LVL_Radar', 'IW306_FW_Tank_B_LVL_Radar']]"
   ]
  },
  {
   "cell_type": "code",
   "execution_count": 353,
   "metadata": {},
   "outputs": [
    {
     "data": {
      "text/html": [
       "<div>\n",
       "<style scoped>\n",
       "    .dataframe tbody tr th:only-of-type {\n",
       "        vertical-align: middle;\n",
       "    }\n",
       "\n",
       "    .dataframe tbody tr th {\n",
       "        vertical-align: top;\n",
       "    }\n",
       "\n",
       "    .dataframe thead th {\n",
       "        text-align: right;\n",
       "    }\n",
       "</style>\n",
       "<table border=\"1\" class=\"dataframe\">\n",
       "  <thead>\n",
       "    <tr style=\"text-align: right;\">\n",
       "      <th></th>\n",
       "      <th>Timestamp</th>\n",
       "      <th>IW304_FW_Tank_A_LVL_Radar</th>\n",
       "      <th>IW306_FW_Tank_B_LVL_Radar</th>\n",
       "    </tr>\n",
       "  </thead>\n",
       "  <tbody>\n",
       "    <tr>\n",
       "      <th>0</th>\n",
       "      <td>NaN</td>\n",
       "      <td>NaN</td>\n",
       "      <td>NaN</td>\n",
       "    </tr>\n",
       "    <tr>\n",
       "      <th>1</th>\n",
       "      <td>2019-05-05T00:00:02.7300000Z</td>\n",
       "      <td>NaN</td>\n",
       "      <td>NaN</td>\n",
       "    </tr>\n",
       "    <tr>\n",
       "      <th>2</th>\n",
       "      <td>2019-05-05T00:00:03.7300000Z</td>\n",
       "      <td>NaN</td>\n",
       "      <td>NaN</td>\n",
       "    </tr>\n",
       "    <tr>\n",
       "      <th>3</th>\n",
       "      <td>2019-05-05T00:00:04.7300000Z</td>\n",
       "      <td>NaN</td>\n",
       "      <td>NaN</td>\n",
       "    </tr>\n",
       "    <tr>\n",
       "      <th>4</th>\n",
       "      <td>2019-05-05T00:00:05.7300000Z</td>\n",
       "      <td>NaN</td>\n",
       "      <td>NaN</td>\n",
       "    </tr>\n",
       "  </tbody>\n",
       "</table>\n",
       "</div>"
      ],
      "text/plain": [
       "                      Timestamp  IW304_FW_Tank_A_LVL_Radar  \\\n",
       "0                           NaN                        NaN   \n",
       "1  2019-05-05T00:00:02.7300000Z                        NaN   \n",
       "2  2019-05-05T00:00:03.7300000Z                        NaN   \n",
       "3  2019-05-05T00:00:04.7300000Z                        NaN   \n",
       "4  2019-05-05T00:00:05.7300000Z                        NaN   \n",
       "\n",
       "   IW306_FW_Tank_B_LVL_Radar  \n",
       "0                        NaN  \n",
       "1                        NaN  \n",
       "2                        NaN  \n",
       "3                        NaN  \n",
       "4                        NaN  "
      ]
     },
     "execution_count": 353,
     "metadata": {},
     "output_type": "execute_result"
    }
   ],
   "source": [
    "TestDFP.head()"
   ]
  },
  {
   "cell_type": "code",
   "execution_count": 354,
   "metadata": {},
   "outputs": [
    {
     "data": {
      "text/plain": [
       "Series([], Name: IW304_FW_Tank_A_LVL_Radar, dtype: int64)"
      ]
     },
     "execution_count": 354,
     "metadata": {},
     "output_type": "execute_result"
    }
   ],
   "source": [
    "TestDFP.IW304_FW_Tank_A_LVL_Radar.value_counts()"
   ]
  },
  {
   "cell_type": "markdown",
   "metadata": {},
   "source": [
    "## Only NaNs in the data columns. The test data cannot be derived"
   ]
  },
  {
   "cell_type": "code",
   "execution_count": 205,
   "metadata": {},
   "outputs": [],
   "source": [
    "def inSea(df, toSea, fromSea):\n",
    "    \"\"\"\n",
    "    Slices from the DataFrame the time period when the ship is in sea condition.\n",
    "\n",
    "    :input: Name of the dataframe. Port departure and port arrival as DateTime parameters in quotes ('').\n",
    "\n",
    "    :return: pandas dataframe containing the data from the staying in port.\n",
    "    \"\"\"\n",
    "    df1 = df.loc[df['DateTime'] > toSea]\n",
    "    seaTime = df1.loc[df1['DateTime'] < fromSea]\n",
    "    \n",
    "    return seaTime"
   ]
  },
  {
   "cell_type": "code",
   "execution_count": 206,
   "metadata": {},
   "outputs": [],
   "source": [
    "FW1Sea = inSea(FW1, '2018-02-27 18:00:00', '2018-03-01 08:00:00')"
   ]
  },
  {
   "cell_type": "code",
   "execution_count": 223,
   "metadata": {},
   "outputs": [],
   "source": [
    "FW2Sea = inSea(FW2, '2018-02-27 18:00:00', '2018-03-01 08:00:00')"
   ]
  },
  {
   "cell_type": "code",
   "execution_count": null,
   "metadata": {},
   "outputs": [],
   "source": [
    "FW1Sea.head()"
   ]
  },
  {
   "cell_type": "code",
   "execution_count": null,
   "metadata": {},
   "outputs": [],
   "source": [
    "FW1Sea.tail()"
   ]
  },
  {
   "cell_type": "code",
   "execution_count": 213,
   "metadata": {},
   "outputs": [
    {
     "data": {
      "text/plain": [
       "(array([736752.83333333, 736753.        , 736753.16666667, 736753.33333333,\n",
       "        736753.5       , 736753.66666667, 736753.83333333, 736754.        ,\n",
       "        736754.16666667, 736754.33333333]),\n",
       " <a list of 10 Text xticklabel objects>)"
      ]
     },
     "execution_count": 213,
     "metadata": {},
     "output_type": "execute_result"
    },
    {
     "data": {
      "image/png": "[encoded data removed]",
      "text/plain": [
       "<Figure size 432x288 with 1 Axes>"
      ]
     },
     "metadata": {
      "needs_background": "light"
     },
     "output_type": "display_data"
    }
   ],
   "source": [
    "plt.plot(FW1Sea.DateTime, FW1Sea.lhFlow)\n",
    "plt.xticks(rotation=45) # added"
   ]
  },
  {
   "cell_type": "code",
   "execution_count": null,
   "metadata": {},
   "outputs": [],
   "source": [
    "FW2Sea.head()"
   ]
  },
  {
   "cell_type": "code",
   "execution_count": null,
   "metadata": {},
   "outputs": [],
   "source": [
    "FW2Sea.tail()"
   ]
  },
  {
   "cell_type": "code",
   "execution_count": 224,
   "metadata": {},
   "outputs": [
    {
     "data": {
      "text/plain": [
       "(array([736752.83333333, 736753.        , 736753.16666667, 736753.33333333,\n",
       "        736753.5       , 736753.66666667, 736753.83333333, 736754.        ,\n",
       "        736754.16666667, 736754.33333333]),\n",
       " <a list of 10 Text xticklabel objects>)"
      ]
     },
     "execution_count": 224,
     "metadata": {},
     "output_type": "execute_result"
    },
    {
     "data": {
      "image/png": "[encoded data removed]",
      "text/plain": [
       "<Figure size 432x288 with 1 Axes>"
      ]
     },
     "metadata": {
      "needs_background": "light"
     },
     "output_type": "display_data"
    }
   ],
   "source": [
    "plt.plot(FW2Sea.DateTime, FW2Sea.lhFlow)\n",
    "plt.xticks(rotation=45) # added"
   ]
  },
  {
   "cell_type": "markdown",
   "metadata": {},
   "source": [
    "**Linear regression model for FW1 and FW2 in sea condition:**"
   ]
  },
  {
   "cell_type": "code",
   "execution_count": 286,
   "metadata": {},
   "outputs": [],
   "source": [
    "Slm = LinearRegression(fit_intercept=False)\n",
    "X1S = pd.DataFrame(FW1Sea.FloatingDateTime)\n",
    "y1S = pd.DataFrame(FW1Sea.lhFlow)\n",
    "Slm.fit(X1S, y1S)\n",
    "FW1Sea['P_pred'] = Slm.predict(X1S)"
   ]
  },
  {
   "cell_type": "code",
   "execution_count": 287,
   "metadata": {},
   "outputs": [
    {
     "data": {
      "text/plain": [
       "numpy.ndarray"
      ]
     },
     "execution_count": 287,
     "metadata": {},
     "output_type": "execute_result"
    }
   ],
   "source": [
    "type(FW1Sea.P_pred.values) # D-type of prediction column"
   ]
  },
  {
   "cell_type": "code",
   "execution_count": 288,
   "metadata": {},
   "outputs": [
    {
     "name": "stdout",
     "output_type": "stream",
     "text": [
      "910.0122815033017\n"
     ]
    }
   ],
   "source": [
    "print(FW1Sea.P_pred.iloc[0]) # <-- 1st degree predicted values"
   ]
  },
  {
   "cell_type": "code",
   "execution_count": 289,
   "metadata": {},
   "outputs": [
    {
     "data": {
      "text/plain": [
       "<matplotlib.collections.PathCollection at 0x1a5f7a5390>"
      ]
     },
     "execution_count": 289,
     "metadata": {},
     "output_type": "execute_result"
    },
    {
     "data": {
      "image/png": "[encoded data removed]",
      "text/plain": [
       "<Figure size 432x288 with 1 Axes>"
      ]
     },
     "metadata": {
      "needs_background": "light"
     },
     "output_type": "display_data"
    }
   ],
   "source": [
    "# Plot the model against the data:\n",
    "plt.plot(FW1Sea.FloatingDateTime,FW1Sea.P_pred,'-')\n",
    "plt.scatter(FW1Sea.FloatingDateTime,FW1Sea.lhFlow)"
   ]
  },
  {
   "cell_type": "code",
   "execution_count": 290,
   "metadata": {},
   "outputs": [],
   "source": [
    "X2S = pd.DataFrame(FW2Sea.FloatingDateTime)\n",
    "y2S = pd.DataFrame(FW2Sea.lhFlow)\n",
    "Slm.fit(X2S, y2S)\n",
    "FW2Sea['P_pred'] = Slm.predict(X2S)"
   ]
  },
  {
   "cell_type": "code",
   "execution_count": 291,
   "metadata": {},
   "outputs": [
    {
     "data": {
      "text/plain": [
       "numpy.ndarray"
      ]
     },
     "execution_count": 291,
     "metadata": {},
     "output_type": "execute_result"
    }
   ],
   "source": [
    "type(FW2Sea.P_pred.values) # D-type of prediction column"
   ]
  },
  {
   "cell_type": "code",
   "execution_count": 292,
   "metadata": {},
   "outputs": [
    {
     "name": "stdout",
     "output_type": "stream",
     "text": [
      "529.7585922204703\n"
     ]
    }
   ],
   "source": [
    "print(FW2Sea.P_pred.iloc[0]) # <-- 1st degree predicted values"
   ]
  },
  {
   "cell_type": "code",
   "execution_count": 293,
   "metadata": {},
   "outputs": [
    {
     "data": {
      "text/plain": [
       "<matplotlib.collections.PathCollection at 0x1a5f8f9048>"
      ]
     },
     "execution_count": 293,
     "metadata": {},
     "output_type": "execute_result"
    },
    {
     "data": {
      "image/png": "[encoded data removed]",
      "text/plain": [
       "<Figure size 432x288 with 1 Axes>"
      ]
     },
     "metadata": {
      "needs_background": "light"
     },
     "output_type": "display_data"
    }
   ],
   "source": [
    "# Plot the model against the data:\n",
    "plt.plot(FW2Sea.FloatingDateTime,FW2Sea.P_pred,'-')\n",
    "plt.scatter(FW2Sea.FloatingDateTime,FW2Sea.lhFlow)"
   ]
  },
  {
   "cell_type": "markdown",
   "metadata": {},
   "source": [
    "**Conclusion: Linear models aren't descriptive in any of the cases**"
   ]
  },
  {
   "cell_type": "markdown",
   "metadata": {},
   "source": [
    "**Polynomial regression:**"
   ]
  },
  {
   "cell_type": "code",
   "execution_count": 296,
   "metadata": {},
   "outputs": [],
   "source": [
    "X_poly1S = poly_regP.fit_transform(X1S)"
   ]
  },
  {
   "cell_type": "code",
   "execution_count": 307,
   "metadata": {},
   "outputs": [],
   "source": [
    "poly_model1S = make_pipeline(PolynomialFeatures(4), LinearRegression())\n",
    "poly_model1S.fit(X_poly1S, y1S)\n",
    "y1Sfit = poly_model1S.predict(X_poly1S)"
   ]
  },
  {
   "cell_type": "code",
   "execution_count": 308,
   "metadata": {},
   "outputs": [
    {
     "data": {
      "text/plain": [
       "<matplotlib.collections.PathCollection at 0x1a625e4b00>"
      ]
     },
     "execution_count": 308,
     "metadata": {},
     "output_type": "execute_result"
    },
    {
     "data": {
      "image/png": "[encoded data removed]",
      "text/plain": [
       "<Figure size 432x288 with 1 Axes>"
      ]
     },
     "metadata": {
      "needs_background": "light"
     },
     "output_type": "display_data"
    }
   ],
   "source": [
    "# Plot the sklearn.pipeline-based polynomial model against the data:\n",
    "plt.plot(X1S,y1Sfit, color='red')\n",
    "plt.scatter(FW1Sea.FloatingDateTime,FW1Sea.lhFlow)"
   ]
  },
  {
   "cell_type": "code",
   "execution_count": 312,
   "metadata": {},
   "outputs": [],
   "source": [
    "X_poly2S = poly_regP.fit_transform(X2S)"
   ]
  },
  {
   "cell_type": "code",
   "execution_count": 317,
   "metadata": {},
   "outputs": [],
   "source": [
    "poly_model2S = make_pipeline(PolynomialFeatures(4), LinearRegression())\n",
    "poly_model2S.fit(X_poly2S, y2S)\n",
    "y2Sfit = poly_model2S.predict(X_poly2S)"
   ]
  },
  {
   "cell_type": "code",
   "execution_count": 318,
   "metadata": {},
   "outputs": [
    {
     "data": {
      "text/plain": [
       "<matplotlib.collections.PathCollection at 0x1a60689c50>"
      ]
     },
     "execution_count": 318,
     "metadata": {},
     "output_type": "execute_result"
    },
    {
     "data": {
      "image/png": "[encoded data removed]",
      "text/plain": [
       "<Figure size 432x288 with 1 Axes>"
      ]
     },
     "metadata": {
      "needs_background": "light"
     },
     "output_type": "display_data"
    }
   ],
   "source": [
    "# Plot the sklearn.pipeline-based polynomial model against the data:\n",
    "plt.plot(X2S,y2Sfit, color='red')\n",
    "plt.scatter(FW2Sea.FloatingDateTime,FW2Sea.lhFlow)"
   ]
  },
  {
   "cell_type": "code",
   "execution_count": null,
   "metadata": {},
   "outputs": [],
   "source": []
  }
 ],
 "metadata": {
  "kernelspec": {
   "display_name": "Python 3",
   "language": "python",
   "name": "python3"
  },
  "language_info": {
   "codemirror_mode": {
    "name": "ipython",
    "version": 3
   },
   "file_extension": ".py",
   "mimetype": "text/x-python",
   "name": "python",
   "nbconvert_exporter": "python",
   "pygments_lexer": "ipython3",
   "version": "3.7.1"
  }
 },
 "nbformat": 4,
 "nbformat_minor": 2
}
